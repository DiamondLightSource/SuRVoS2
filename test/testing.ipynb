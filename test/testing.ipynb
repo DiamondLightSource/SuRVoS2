{
 "cells": [
  {
   "cell_type": "markdown",
   "metadata": {},
   "source": [
    "# Generating test data"
   ]
  },
  {
   "cell_type": "code",
   "execution_count": 6,
   "metadata": {},
   "outputs": [],
   "source": [
    "import os\n",
    "os.getcwd()\n",
    "os.chdir(\"..\")\n",
    "#from survos2.frontend.utils import view_volume\n",
    "%load_ext autoreload\n",
    "%autoreload 2"
   ]
  },
  {
   "cell_type": "code",
   "execution_count": 6,
   "metadata": {},
   "outputs": [
    {
     "data": {
      "text/plain": [
       "'/home/xsy37748/SuRVoS2'"
      ]
     },
     "execution_count": 6,
     "metadata": {},
     "output_type": "execute_result"
    }
   ],
   "source": [
    "os.getcwd()"
   ]
  },
  {
   "cell_type": "code",
   "execution_count": 7,
   "metadata": {},
   "outputs": [
    {
     "name": "stderr",
     "output_type": "stream",
     "text": [
      "2020-08-20 09:05:13.067 | INFO     | survos2.model.workspace:<module>:25 - CHROOT is /dls/science/groups/das/SuRVoS/s2/\n",
      "2020-08-20 09:05:17.657 | INFO     | survos2.survos:init_api:69 - Config plugins: ['workspace', 'annotations', 'features', 'regions', 'render']\n",
      "2020-08-20 09:05:17.659 | INFO     | survos2.survos:init_api:72 - Configuring api plugins\n",
      "2020-08-20 09:05:17.660 | DEBUG    | survos2.survos:init_api:74 - Loading plugin workspace\n",
      "2020-08-20 09:05:17.691 | DEBUG    | survos2.survos:init_api:74 - Loading plugin annotations\n",
      "2020-08-20 09:05:17.734 | DEBUG    | survos2.survos:init_api:74 - Loading plugin features\n",
      "2020-08-20 09:05:17.741 | DEBUG    | survos2.survos:init_api:74 - Loading plugin regions\n",
      "2020-08-20 09:05:17.751 | DEBUG    | survos2.survos:init_api:74 - Loading plugin render\n"
     ]
    },
    {
     "name": "stdout",
     "output_type": "stream",
     "text": [
      "API: <hug.api.API object at 0x7f1332ad5cd0>\n",
      "\n"
     ]
    },
    {
     "name": "stderr",
     "output_type": "stream",
     "text": [
      "2020-08-20 09:05:23.489 | DEBUG    | survos2.survos:init_api:91 - Init api returned <hug.api.API object at 0x7f1332ad5cd0>\n",
      "2020-08-20 09:09:19.364 | DEBUG    | survos2.survos:run_command:114 - Using client <hug.use.Local object at 0x7f13088236b0>\n",
      "2020-08-20 09:09:19.369 | DEBUG    | survos2.model.workspace:create:76 - Validated workspace path testing123\n",
      "2020-08-20 09:09:19.373 | DEBUG    | survos2.model.workspace:__init__:36 - INIT workspace at /dls/science/groups/das/SuRVoS/s2/testing123\n",
      "2020-08-20 09:09:19.374 | DEBUG    | survos2.model.workspace:__init__:37 - Validated workspace path /dls/science/groups/das/SuRVoS/s2/testing123\n",
      "2020-08-20 09:09:19.375 | DEBUG    | survos2.model.workspace:__init__:43 - Set workspace path to /dls/science/groups/das/SuRVoS/s2/testing123\n",
      "2020-08-20 09:09:19.376 | DEBUG    | survos2.model.workspace:available_sessions:120 - available sessions: no data\n",
      "2020-08-20 09:09:19.377 | INFO     | survos2.survos:run_command:118 - Local client gave response Response(data={'data': {'path': '/dls/science/groups/das/SuRVoS/s2/testing123', 'data': {}}, 'error': False}, status_code=200, headers={'content-type': 'application/json'})\n",
      "2020-08-20 09:09:19.378 | DEBUG    | survos2.survos:run_command:114 - Using client <hug.use.Local object at 0x7f13087d1830>\n",
      "2020-08-20 09:09:19.383 | DEBUG    | survos2.model.workspace:__init__:36 - INIT workspace at testing123\n",
      "2020-08-20 09:09:19.384 | DEBUG    | survos2.model.workspace:__init__:37 - Validated workspace path testing123\n",
      "2020-08-20 09:09:19.384 | DEBUG    | survos2.model.workspace:__init__:43 - Set workspace path to /dls/science/groups/das/SuRVoS/s2/testing123\n",
      "2020-08-20 09:09:19.385 | DEBUG    | survos2.model.workspace:__init__:36 - INIT workspace at testing123\n",
      "2020-08-20 09:09:19.386 | DEBUG    | survos2.model.workspace:__init__:37 - Validated workspace path testing123\n",
      "2020-08-20 09:09:19.387 | DEBUG    | survos2.model.workspace:__init__:43 - Set workspace path to /dls/science/groups/das/SuRVoS/s2/testing123\n",
      "2020-08-20 09:09:19.464 | DEBUG    | survos2.model.workspace:add_data:203 - Creating dataset at: /dls/science/groups/das/SuRVoS/s2/testing123/__data__\n",
      "2020-08-20 09:09:19.556 | INFO     | survos2.survos:run_command:118 - Local client gave response Response(data={'data': {'chunk_grid': [1, 1, 1], 'chunk_size': [4, 4, 4], 'dtype': 'float64', 'fillvalue': 0, 'shape': [4, 4, 4], 'id': '__data__', 'path': '/dls/science/groups/das/SuRVoS/s2/testing123/__data__', 'name': '__data__'}, 'error': False}, status_code=200, headers={'content-type': 'application/json'})\n",
      "2020-08-20 09:09:19.562 | DEBUG    | survos2.survos:run_command:114 - Using client <hug.use.Local object at 0x7f13087fee90>\n",
      "2020-08-20 09:09:19.569 | INFO     | survos2.improc.utils:map_blocks:454 - Launching (gaussian_blur::float64)\n",
      "2020-08-20 09:09:19.571 | DEBUG    | survos2.improc.utils:map_blocks:455 - \n",
      "---\n",
      "blocks: {chunk: true, chunk_size: 1024, pad: 0}\n",
      "misc: {timeit: false, uses_gpu: false}\n",
      "out: {dtype: float64, fill: 0}\n",
      "params: {sigma: 1}\n",
      "postprocess: {compute: true, relabel: false}\n",
      "preprocess: {scale: false, stretch: false}\n",
      "...\n",
      "2020-08-20 09:09:19.573 | INFO     | survos2.io:survos_from_uri:174 - running survos_from_uri on survos:// uri\n",
      "2020-08-20 09:09:19.574 | DEBUG    | survos2.io:survos_from_uri:185 - Calling Workspace() Init with workspace name: testing123\n",
      "2020-08-20 09:09:19.575 | DEBUG    | survos2.model.workspace:__init__:36 - INIT workspace at testing123\n",
      "2020-08-20 09:09:19.576 | DEBUG    | survos2.model.workspace:__init__:37 - Validated workspace path testing123\n",
      "2020-08-20 09:09:19.577 | DEBUG    | survos2.model.workspace:__init__:43 - Set workspace path to /dls/science/groups/das/SuRVoS/s2/testing123\n",
      "2020-08-20 09:09:19.585 | INFO     | survos2.improc.utils:__init__:504 - DatasetManager setting out to survos://default@testing123:features/001_gaussian_blur\n",
      "2020-08-20 09:09:19.586 | INFO     | survos2.io:survos_from_uri:174 - running survos_from_uri on survos:// uri\n",
      "2020-08-20 09:09:19.587 | DEBUG    | survos2.io:survos_from_uri:185 - Calling Workspace() Init with workspace name: testing123\n",
      "2020-08-20 09:09:19.588 | DEBUG    | survos2.model.workspace:__init__:36 - INIT workspace at testing123\n",
      "2020-08-20 09:09:19.590 | DEBUG    | survos2.model.workspace:__init__:37 - Validated workspace path testing123\n",
      "2020-08-20 09:09:19.591 | DEBUG    | survos2.model.workspace:__init__:43 - Set workspace path to /dls/science/groups/das/SuRVoS/s2/testing123\n",
      "2020-08-20 09:09:19.592 | DEBUG    | survos2.model.workspace:has_dataset:238 - has_dataset features/001_gaussian_blur for session default\n",
      "2020-08-20 09:09:19.597 | DEBUG    | survos2.model.workspace:has_dataset:238 - has_dataset features/001_gaussian_blur for session default\n",
      "2020-08-20 09:09:19.608 | DEBUG    | survos2.model.workspace:add_dataset:224 - Adding dataset in path /dls/science/groups/das/SuRVoS/s2/testing123/default/features/001_gaussian_blur\n",
      "2020-08-20 09:09:19.620 | INFO     | survos2.improc.utils:__enter__:512 - Entered DatasetManager context, sources: 1 Out: <survos2.model.dataset.Dataset object at 0x7f13089f5510>\n",
      "2020-08-20 09:09:19.627 | INFO     | survos2.improc.utils:_apply:315 - Applying <function gaussian_blur at 0x7f13089957a0> to datasets of shape [dask.array<array, shape=(4, 4, 4), dtype=float64, chunksize=(4, 4, 4), chunktype=numpy.ndarray>] with stack: False\n",
      "2020-08-20 09:09:19.628 | DEBUG    | survos2.improc.utils:_apply:320 - Chunking dataset[0]: (4, 4, 4)\n",
      "2020-08-20 09:09:19.629 | DEBUG    | survos2.improc.utils:_apply:323 - pad is None\n",
      "2020-08-20 09:09:19.743 | DEBUG    | survos2.server.filtering:gaussian_blur:324 - Pytorch gblur returns torch.Size([1, 1, 0, 0, 0])\n",
      "2020-08-20 09:09:21.303 | DEBUG    | survos2.improc.utils:_apply:346 - Result of applying map blocks (4, 4, 4)\n",
      "2020-08-20 09:09:21.304 | DEBUG    | survos2.improc.utils:_apply:353 - Storing dask.array<gaussian_blur, shape=(4, 4, 4), dtype=float64, chunksize=(4, 4, 4), chunktype=numpy.ndarray> output in <survos2.model.dataset.Dataset object at 0x7f13089f5510>\n",
      "2020-08-20 09:09:21.314 | DEBUG    | survos2.server.filtering:gaussian_blur:324 - Pytorch gblur returns torch.Size([1, 1, 4, 4, 4])\n",
      "2020-08-20 09:09:21.830 | DEBUG    | survos2.server.filtering:gaussian_blur:333 - Pytorch gblur returns torch.Size([1, 1, 4, 4, 4])\n",
      "2020-08-20 09:09:21.851 | DEBUG    | survos2.improc.utils:_apply:358 - Computed result of (4, 4, 4)\n",
      "2020-08-20 09:09:21.865 | INFO     | survos2.improc.utils:__exit__:518 - Leaving DatasetManager context\n",
      "2020-08-20 09:09:21.866 | INFO     | survos2.improc.utils:__exit__:522 - Closed: <survos2.model.dataset.Dataset object at 0x7f13089d0350>\n",
      "2020-08-20 09:09:21.867 | INFO     | survos2.improc.utils:__exit__:522 - Closed: <survos2.model.dataset.Dataset object at 0x7f13089f5510>\n",
      "2020-08-20 09:09:21.867 | INFO     | survos2.survos:run_command:118 - Local client gave response Response(data={'data': {'done': True}, 'error': False}, status_code=200, headers={'content-type': 'application/json'})\n",
      "2020-08-20 09:10:02.014 | INFO     | survos2.io:survos_from_uri:174 - running survos_from_uri on survos:// uri\n",
      "2020-08-20 09:10:02.016 | DEBUG    | survos2.io:survos_from_uri:185 - Calling Workspace() Init with workspace name: testing123\n",
      "2020-08-20 09:10:02.017 | DEBUG    | survos2.model.workspace:__init__:36 - INIT workspace at testing123\n",
      "2020-08-20 09:10:02.018 | DEBUG    | survos2.model.workspace:__init__:37 - Validated workspace path testing123\n",
      "2020-08-20 09:10:02.020 | DEBUG    | survos2.model.workspace:__init__:43 - Set workspace path to /dls/science/groups/das/SuRVoS/s2/testing123\n",
      "2020-08-20 09:10:02.030 | INFO     | survos2.improc.utils:__init__:504 - DatasetManager setting out to survos://default@testing123:features/001_gaussian_blur\n",
      "2020-08-20 09:10:02.032 | INFO     | survos2.io:survos_from_uri:174 - running survos_from_uri on survos:// uri\n",
      "2020-08-20 09:10:02.033 | DEBUG    | survos2.io:survos_from_uri:185 - Calling Workspace() Init with workspace name: testing123\n",
      "2020-08-20 09:10:02.034 | DEBUG    | survos2.model.workspace:__init__:36 - INIT workspace at testing123\n",
      "2020-08-20 09:10:02.035 | DEBUG    | survos2.model.workspace:__init__:37 - Validated workspace path testing123\n",
      "2020-08-20 09:10:02.036 | DEBUG    | survos2.model.workspace:__init__:43 - Set workspace path to /dls/science/groups/das/SuRVoS/s2/testing123\n",
      "2020-08-20 09:10:02.037 | DEBUG    | survos2.model.workspace:has_dataset:238 - has_dataset features/001_gaussian_blur for session default\n",
      "2020-08-20 09:10:02.048 | DEBUG    | survos2.model.workspace:get_dataset:248 - Getting dataset features/001_gaussian_blur\n",
      "2020-08-20 09:10:02.049 | DEBUG    | survos2.model.workspace:has_dataset:238 - has_dataset features/001_gaussian_blur for session default\n",
      "2020-08-20 09:10:02.062 | DEBUG    | survos2.model.workspace:get_dataset:257 - Got dataset <survos2.model.dataset.Dataset object at 0x7f13088fcb90>\n",
      "2020-08-20 09:10:02.070 | INFO     | survos2.improc.utils:__enter__:512 - Entered DatasetManager context, sources: 1 Out: <survos2.model.dataset.Dataset object at 0x7f13088fcb90>\n",
      "2020-08-20 09:10:02.096 | INFO     | survos2.improc.utils:__exit__:518 - Leaving DatasetManager context\n",
      "2020-08-20 09:10:02.097 | INFO     | survos2.improc.utils:__exit__:522 - Closed: <survos2.model.dataset.Dataset object at 0x7f13088fc390>\n",
      "2020-08-20 09:10:02.098 | INFO     | survos2.improc.utils:__exit__:522 - Closed: <survos2.model.dataset.Dataset object at 0x7f13088fcb90>\n",
      "2020-08-20 09:11:45.495 | DEBUG    | survos2.survos:run_command:114 - Using client <hug.use.Local object at 0x7f13324d73b0>\n",
      "2020-08-20 09:11:45.502 | DEBUG    | survos2.model.workspace:create:76 - Validated workspace path testing123b\n",
      "2020-08-20 09:11:45.505 | DEBUG    | survos2.model.workspace:__init__:36 - INIT workspace at /dls/science/groups/das/SuRVoS/s2/testing123b\n",
      "2020-08-20 09:11:45.506 | DEBUG    | survos2.model.workspace:__init__:37 - Validated workspace path /dls/science/groups/das/SuRVoS/s2/testing123b\n",
      "2020-08-20 09:11:45.508 | DEBUG    | survos2.model.workspace:__init__:43 - Set workspace path to /dls/science/groups/das/SuRVoS/s2/testing123b\n",
      "2020-08-20 09:11:45.511 | DEBUG    | survos2.model.workspace:available_sessions:120 - available sessions: no data\n",
      "2020-08-20 09:11:45.511 | INFO     | survos2.survos:run_command:118 - Local client gave response Response(data={'data': {'path': '/dls/science/groups/das/SuRVoS/s2/testing123b', 'data': {}}, 'error': False}, status_code=200, headers={'content-type': 'application/json'})\n",
      "2020-08-20 09:11:45.512 | DEBUG    | survos2.survos:run_command:114 - Using client <hug.use.Local object at 0x7f13324d73b0>\n",
      "2020-08-20 09:11:45.518 | DEBUG    | survos2.model.workspace:__init__:36 - INIT workspace at testing123b\n",
      "2020-08-20 09:11:45.519 | DEBUG    | survos2.model.workspace:__init__:37 - Validated workspace path testing123b\n",
      "2020-08-20 09:11:45.520 | DEBUG    | survos2.model.workspace:__init__:43 - Set workspace path to /dls/science/groups/das/SuRVoS/s2/testing123b\n",
      "2020-08-20 09:11:45.521 | DEBUG    | survos2.model.workspace:__init__:36 - INIT workspace at testing123b\n",
      "2020-08-20 09:11:45.521 | DEBUG    | survos2.model.workspace:__init__:37 - Validated workspace path testing123b\n",
      "2020-08-20 09:11:45.522 | DEBUG    | survos2.model.workspace:__init__:43 - Set workspace path to /dls/science/groups/das/SuRVoS/s2/testing123b\n",
      "2020-08-20 09:11:45.535 | DEBUG    | survos2.model.workspace:add_data:203 - Creating dataset at: /dls/science/groups/das/SuRVoS/s2/testing123b/__data__\n",
      "2020-08-20 09:11:45.570 | INFO     | survos2.survos:run_command:118 - Local client gave response Response(data={'data': {'chunk_grid': [1, 1, 1], 'chunk_size': [4, 4, 4], 'dtype': 'float64', 'fillvalue': 0, 'shape': [4, 4, 4], 'id': '__data__', 'path': '/dls/science/groups/das/SuRVoS/s2/testing123b/__data__', 'name': '__data__'}, 'error': False}, status_code=200, headers={'content-type': 'application/json'})\n",
      "2020-08-20 09:11:45.571 | DEBUG    | survos2.survos:run_command:114 - Using client <hug.use.Local object at 0x7f130884eb90>\n",
      "2020-08-20 09:11:45.577 | INFO     | survos2.improc.utils:map_blocks:454 - Launching (gaussian_blur::float64)\n",
      "2020-08-20 09:11:45.579 | DEBUG    | survos2.improc.utils:map_blocks:455 - \n",
      "---\n",
      "blocks: {chunk: true, chunk_size: 1024, pad: 0}\n",
      "misc: {timeit: false, uses_gpu: false}\n",
      "out: {dtype: float64, fill: 0}\n",
      "params: {sigma: 1}\n",
      "postprocess: {compute: true, relabel: false}\n",
      "preprocess: {scale: false, stretch: false}\n",
      "...\n",
      "2020-08-20 09:11:45.580 | INFO     | survos2.io:survos_from_uri:174 - running survos_from_uri on survos:// uri\n",
      "2020-08-20 09:11:45.581 | DEBUG    | survos2.io:survos_from_uri:185 - Calling Workspace() Init with workspace name: testing123b\n",
      "2020-08-20 09:11:45.582 | DEBUG    | survos2.model.workspace:__init__:36 - INIT workspace at testing123b\n",
      "2020-08-20 09:11:45.583 | DEBUG    | survos2.model.workspace:__init__:37 - Validated workspace path testing123b\n",
      "2020-08-20 09:11:45.584 | DEBUG    | survos2.model.workspace:__init__:43 - Set workspace path to /dls/science/groups/das/SuRVoS/s2/testing123b\n",
      "2020-08-20 09:11:45.591 | INFO     | survos2.improc.utils:__init__:504 - DatasetManager setting out to survos://default@testing123b:features/001_gaussian_blur\n",
      "2020-08-20 09:11:45.592 | INFO     | survos2.io:survos_from_uri:174 - running survos_from_uri on survos:// uri\n",
      "2020-08-20 09:11:45.592 | DEBUG    | survos2.io:survos_from_uri:185 - Calling Workspace() Init with workspace name: testing123b\n",
      "2020-08-20 09:11:45.593 | DEBUG    | survos2.model.workspace:__init__:36 - INIT workspace at testing123b\n",
      "2020-08-20 09:11:45.594 | DEBUG    | survos2.model.workspace:__init__:37 - Validated workspace path testing123b\n",
      "2020-08-20 09:11:45.595 | DEBUG    | survos2.model.workspace:__init__:43 - Set workspace path to /dls/science/groups/das/SuRVoS/s2/testing123b\n",
      "2020-08-20 09:11:45.595 | DEBUG    | survos2.model.workspace:has_dataset:238 - has_dataset features/001_gaussian_blur for session default\n",
      "2020-08-20 09:11:45.601 | DEBUG    | survos2.model.workspace:has_dataset:238 - has_dataset features/001_gaussian_blur for session default\n",
      "2020-08-20 09:11:45.609 | DEBUG    | survos2.model.workspace:add_dataset:224 - Adding dataset in path /dls/science/groups/das/SuRVoS/s2/testing123b/default/features/001_gaussian_blur\n",
      "2020-08-20 09:11:45.620 | INFO     | survos2.improc.utils:__enter__:512 - Entered DatasetManager context, sources: 1 Out: <survos2.model.dataset.Dataset object at 0x7f133247e450>\n",
      "2020-08-20 09:11:45.626 | INFO     | survos2.improc.utils:_apply:315 - Applying <function gaussian_blur at 0x7f13089957a0> to datasets of shape [dask.array<array, shape=(4, 4, 4), dtype=float64, chunksize=(4, 4, 4), chunktype=numpy.ndarray>] with stack: False\n",
      "2020-08-20 09:11:45.627 | DEBUG    | survos2.improc.utils:_apply:320 - Chunking dataset[0]: (4, 4, 4)\n",
      "2020-08-20 09:11:45.628 | DEBUG    | survos2.improc.utils:_apply:323 - pad is None\n",
      "2020-08-20 09:11:45.629 | DEBUG    | survos2.server.filtering:gaussian_blur:324 - Pytorch gblur returns torch.Size([1, 1, 0, 0, 0])\n",
      "2020-08-20 09:11:45.640 | DEBUG    | survos2.improc.utils:_apply:346 - Result of applying map blocks (4, 4, 4)\n",
      "2020-08-20 09:11:45.641 | DEBUG    | survos2.improc.utils:_apply:353 - Storing dask.array<gaussian_blur, shape=(4, 4, 4), dtype=float64, chunksize=(4, 4, 4), chunktype=numpy.ndarray> output in <survos2.model.dataset.Dataset object at 0x7f133247e450>\n",
      "2020-08-20 09:11:45.649 | DEBUG    | survos2.server.filtering:gaussian_blur:324 - Pytorch gblur returns torch.Size([1, 1, 4, 4, 4])\n",
      "2020-08-20 09:11:45.651 | DEBUG    | survos2.server.filtering:gaussian_blur:333 - Pytorch gblur returns torch.Size([1, 1, 4, 4, 4])\n",
      "2020-08-20 09:11:45.653 | DEBUG    | survos2.improc.utils:_apply:358 - Computed result of (4, 4, 4)\n",
      "2020-08-20 09:11:45.665 | INFO     | survos2.improc.utils:__exit__:518 - Leaving DatasetManager context\n",
      "2020-08-20 09:11:45.666 | INFO     | survos2.improc.utils:__exit__:522 - Closed: <survos2.model.dataset.Dataset object at 0x7f13089da9d0>\n",
      "2020-08-20 09:11:45.667 | INFO     | survos2.improc.utils:__exit__:522 - Closed: <survos2.model.dataset.Dataset object at 0x7f133247e450>\n",
      "2020-08-20 09:11:45.668 | INFO     | survos2.survos:run_command:118 - Local client gave response Response(data={'data': {'done': True}, 'error': False}, status_code=200, headers={'content-type': 'application/json'})\n",
      "2020-08-20 09:12:06.526 | INFO     | survos2.io:survos_from_uri:174 - running survos_from_uri on survos:// uri\n",
      "2020-08-20 09:12:06.527 | DEBUG    | survos2.io:survos_from_uri:185 - Calling Workspace() Init with workspace name: testing123b\n",
      "2020-08-20 09:12:06.528 | DEBUG    | survos2.model.workspace:__init__:36 - INIT workspace at testing123b\n",
      "2020-08-20 09:12:06.529 | DEBUG    | survos2.model.workspace:__init__:37 - Validated workspace path testing123b\n",
      "2020-08-20 09:12:06.530 | DEBUG    | survos2.model.workspace:__init__:43 - Set workspace path to /dls/science/groups/das/SuRVoS/s2/testing123b\n",
      "2020-08-20 09:12:06.538 | INFO     | survos2.improc.utils:__init__:504 - DatasetManager setting out to survos://default@testing123b:features/001_gaussian_blur\n",
      "2020-08-20 09:12:06.539 | INFO     | survos2.io:survos_from_uri:174 - running survos_from_uri on survos:// uri\n",
      "2020-08-20 09:12:06.539 | DEBUG    | survos2.io:survos_from_uri:185 - Calling Workspace() Init with workspace name: testing123b\n",
      "2020-08-20 09:12:06.540 | DEBUG    | survos2.model.workspace:__init__:36 - INIT workspace at testing123b\n",
      "2020-08-20 09:12:06.541 | DEBUG    | survos2.model.workspace:__init__:37 - Validated workspace path testing123b\n",
      "2020-08-20 09:12:06.542 | DEBUG    | survos2.model.workspace:__init__:43 - Set workspace path to /dls/science/groups/das/SuRVoS/s2/testing123b\n",
      "2020-08-20 09:12:06.543 | DEBUG    | survos2.model.workspace:has_dataset:238 - has_dataset features/001_gaussian_blur for session default\n",
      "2020-08-20 09:12:06.551 | DEBUG    | survos2.model.workspace:get_dataset:248 - Getting dataset features/001_gaussian_blur\n",
      "2020-08-20 09:12:06.552 | DEBUG    | survos2.model.workspace:has_dataset:238 - has_dataset features/001_gaussian_blur for session default\n",
      "2020-08-20 09:12:06.561 | DEBUG    | survos2.model.workspace:get_dataset:257 - Got dataset <survos2.model.dataset.Dataset object at 0x7f12e61e6c50>\n",
      "2020-08-20 09:12:06.567 | INFO     | survos2.improc.utils:__enter__:512 - Entered DatasetManager context, sources: 1 Out: <survos2.model.dataset.Dataset object at 0x7f12e61e6c50>\n",
      "2020-08-20 09:12:06.579 | INFO     | survos2.improc.utils:__exit__:518 - Leaving DatasetManager context\n",
      "2020-08-20 09:12:06.580 | INFO     | survos2.improc.utils:__exit__:522 - Closed: <survos2.model.dataset.Dataset object at 0x7f13047c7e90>\n",
      "2020-08-20 09:12:06.581 | INFO     | survos2.improc.utils:__exit__:522 - Closed: <survos2.model.dataset.Dataset object at 0x7f12e61e6c50>\n"
     ]
    }
   ],
   "source": [
    "\n",
    "import numpy as np\n",
    "from survos2 import survos\n",
    "from napari import layers\n",
    "survos.init_api()\n",
    "import survos2.frontend.control\n",
    "from survos2.frontend.control import Launcher\n",
    "from survos2.frontend.control import DataModel\n",
    "from survos2.improc.utils import DatasetManager\n"
   ]
  },
  {
   "cell_type": "code",
   "execution_count": 3,
   "metadata": {},
   "outputs": [],
   "source": []
  },
  {
   "cell_type": "code",
   "execution_count": 4,
   "metadata": {},
   "outputs": [],
   "source": []
  },
  {
   "cell_type": "code",
   "execution_count": 9,
   "metadata": {},
   "outputs": [],
   "source": [
    "testvol = np.random.random((4,4,4))# astype(np.uint8)\n"
   ]
  },
  {
   "cell_type": "code",
   "execution_count": 10,
   "metadata": {},
   "outputs": [
    {
     "data": {
      "text/plain": [
       "array([[[0.1761602 , 0.6701295 , 0.13151232, 0.95726678],\n",
       "        [0.4795476 , 0.48114134, 0.0410548 , 0.29893265],\n",
       "        [0.49127266, 0.70298447, 0.42751211, 0.08101552],\n",
       "        [0.73805652, 0.83111601, 0.36852477, 0.38732476]],\n",
       "\n",
       "       [[0.2847222 , 0.96054574, 0.25430756, 0.35403861],\n",
       "        [0.54439093, 0.65897414, 0.1959487 , 0.90714872],\n",
       "        [0.84462152, 0.90754182, 0.02455657, 0.26180662],\n",
       "        [0.1711208 , 0.40122666, 0.54562598, 0.01419861]],\n",
       "\n",
       "       [[0.59280376, 0.42706895, 0.86637913, 0.87831645],\n",
       "        [0.57991401, 0.31989204, 0.85869799, 0.6333411 ],\n",
       "        [0.21539274, 0.63780214, 0.64204493, 0.74425482],\n",
       "        [0.1903691 , 0.81962537, 0.31774673, 0.34812628]],\n",
       "\n",
       "       [[0.40880077, 0.595773  , 0.28856063, 0.19316746],\n",
       "        [0.03195766, 0.62475541, 0.50762591, 0.34700798],\n",
       "        [0.98913461, 0.07883111, 0.96534233, 0.57697606],\n",
       "        [0.71496714, 0.70764578, 0.92294417, 0.91300531]]])"
      ]
     },
     "execution_count": 10,
     "metadata": {},
     "output_type": "execute_result"
    }
   ],
   "source": [
    "testvol"
   ]
  },
  {
   "cell_type": "code",
   "execution_count": 20,
   "metadata": {},
   "outputs": [],
   "source": [
    "testvol = np.array([[[0.1761602 , 0.6701295 , 0.13151232, 0.95726678],\n",
    "        [0.4795476 , 0.48114134, 0.0410548 , 0.29893265],\n",
    "        [0.49127266, 0.70298447, 0.42751211, 0.08101552],\n",
    "        [0.73805652, 0.83111601, 0.36852477, 0.38732476]],\n",
    "\n",
    "       [[0.2847222 , 0.96054574, 0.25430756, 0.35403861],\n",
    "        [0.54439093, 0.65897414, 0.1959487 , 0.90714872],\n",
    "        [0.84462152, 0.90754182, 0.02455657, 0.26180662],\n",
    "        [0.1711208 , 0.40122666, 0.54562598, 0.01419861]],\n",
    "\n",
    "       [[0.59280376, 0.42706895, 0.86637913, 0.87831645],\n",
    "        [0.57991401, 0.31989204, 0.85869799, 0.6333411 ],\n",
    "        [0.21539274, 0.63780214, 0.64204493, 0.74425482],\n",
    "        [0.1903691 , 0.81962537, 0.31774673, 0.34812628]],\n",
    "\n",
    "       [[0.40880077, 0.595773  , 0.28856063, 0.19316746],\n",
    "        [0.03195766, 0.62475541, 0.50762591, 0.34700798],\n",
    "        [0.98913461, 0.07883111, 0.96534233, 0.57697606],\n",
    "        [0.71496714, 0.70764578, 0.92294417, 0.91300531]]])"
   ]
  },
  {
   "cell_type": "code",
   "execution_count": 21,
   "metadata": {},
   "outputs": [],
   "source": [
    "test_datadir = \"/dls/science/groups/das/SuRVoS/s2/\"\n",
    "\n",
    "# add dataset to workspace from file, so save array to file\n",
    "map_fullpath = os.path.join(test_datadir,\"testvol_4x4x4c.h5\")\n",
    "\n",
    "\n",
    "with h5py.File(map_fullpath,  'w') as hf:\n",
    "    hf.create_dataset(\"data\",  data=testvol)\n"
   ]
  },
  {
   "cell_type": "markdown",
   "metadata": {},
   "source": [
    "# Gaussian blur"
   ]
  },
  {
   "cell_type": "code",
   "execution_count": 22,
   "metadata": {},
   "outputs": [
    {
     "name": "stdout",
     "output_type": "stream",
     "text": [
      "/dls/science/groups/das/SuRVoS/s2/\n",
      "/dls/science/groups/das/SuRVoS/s2/\n",
      "/dls/science/groups/das/SuRVoS/s2/\n",
      "/dls/science/groups/das/SuRVoS/s2/\n",
      "/dls/science/groups/das/SuRVoS/s2/\n",
      "/dls/science/groups/das/SuRVoS/s2/\n"
     ]
    },
    {
     "data": {
      "text/plain": [
       "({'done': True}, False)"
      ]
     },
     "execution_count": 22,
     "metadata": {},
     "output_type": "execute_result"
    }
   ],
   "source": [
    "test_workspace_name = \"testing123b\"\n",
    "# create new workspace\n",
    "survos.run_command(\"workspace\", \"create\", uri=None, workspace=test_workspace_name)\n",
    "    \n",
    "# add data to workspace\n",
    "survos.run_command('workspace', 'add_data', uri=None, workspace=test_workspace_name,\n",
    "                 data_fname=map_fullpath,\n",
    "                  dtype='float32')\n",
    "\n",
    "# run gaussian_blur    \n",
    "DataModel.g.current_workspace = test_workspace_name\n",
    "\n",
    "src = DataModel.g.dataset_uri('__data__', None)\n",
    "dst = DataModel.g.dataset_uri('001_gaussian_blur', group='features')\n",
    "\n",
    "survos.run_command('features', 'gaussian_blur', uri=None, \n",
    "                  src=src,\n",
    "                  dst=dst)\n"
   ]
  },
  {
   "cell_type": "code",
   "execution_count": 16,
   "metadata": {},
   "outputs": [
    {
     "data": {
      "text/plain": [
       "'survos://default@testing123:features/001_gaussian_blur'"
      ]
     },
     "execution_count": 16,
     "metadata": {},
     "output_type": "execute_result"
    }
   ],
   "source": []
  },
  {
   "cell_type": "code",
   "execution_count": 23,
   "metadata": {},
   "outputs": [
    {
     "name": "stdout",
     "output_type": "stream",
     "text": [
      "/dls/science/groups/das/SuRVoS/s2/\n",
      "/dls/science/groups/das/SuRVoS/s2/\n",
      "(4, 4, 4)\n"
     ]
    }
   ],
   "source": [
    "\n",
    "with DatasetManager(src, out=dst, dtype='float32', fillvalue=0) as DM:\n",
    "    print(DM.sources[0].shape)\n",
    "    src_dataset = DM.sources[0]\n",
    "    dst_dataset = DM.out\n",
    "    src_arr = src_dataset[:]\n",
    "    dst_arr = dst_dataset[:]"
   ]
  },
  {
   "cell_type": "code",
   "execution_count": 24,
   "metadata": {},
   "outputs": [
    {
     "data": {
      "text/plain": [
       "array([[[0.16612536, 0.67279379, 0.12032965, 0.9673129 ],\n",
       "        [0.47731235, 0.47894706, 0.02754662, 0.29205408],\n",
       "        [0.48933884, 0.70649341, 0.42393911, 0.06853466],\n",
       "        [0.74246711, 0.837919  , 0.3634353 , 0.38271861]],\n",
       "\n",
       "       [[0.27747831, 0.97067616, 0.24628176, 0.34857673],\n",
       "        [0.54382269, 0.66135165, 0.18642259, 0.91590639],\n",
       "        [0.85177172, 0.91630959, 0.01062425, 0.2539736 ],\n",
       "        [0.1609564 , 0.3969779 , 0.54508949, 0.        ]],\n",
       "\n",
       "       [[0.59348014, 0.42348456, 0.87408868, 0.88633289],\n",
       "        [0.58025901, 0.3135523 , 0.86621007, 0.63505962],\n",
       "        [0.2063665 , 0.63963535, 0.64398722, 0.74882475],\n",
       "        [0.18069954, 0.82613296, 0.31135184, 0.3425124 ]],\n",
       "\n",
       "       [[0.40474673, 0.59652571, 0.28141542, 0.18356984],\n",
       "        [0.01821561, 0.62625321, 0.5061125 , 0.34136535],\n",
       "        [1.        , 0.0662941 , 0.97559606, 0.57724553],\n",
       "        [0.71878414, 0.71127456, 0.93210791, 0.92191354]]])"
      ]
     },
     "execution_count": 24,
     "metadata": {},
     "output_type": "execute_result"
    }
   ],
   "source": [
    "src_arr"
   ]
  },
  {
   "cell_type": "code",
   "execution_count": 25,
   "metadata": {},
   "outputs": [
    {
     "data": {
      "text/plain": [
       "array([[[0.1334253 , 0.18309763, 0.18128583, 0.13541691],\n",
       "        [0.19046707, 0.25114629, 0.2388469 , 0.16883893],\n",
       "        [0.19799377, 0.25374037, 0.23332517, 0.15631635],\n",
       "        [0.14958453, 0.18756688, 0.16748451, 0.10621871]],\n",
       "\n",
       "       [[0.18743832, 0.26002762, 0.26079947, 0.1948524 ],\n",
       "        [0.26292312, 0.35610881, 0.34901825, 0.25268969],\n",
       "        [0.26981699, 0.3587358 , 0.34435031, 0.24155034],\n",
       "        [0.20132653, 0.2641314 , 0.24896044, 0.16910219]],\n",
       "\n",
       "       [[0.1889769 , 0.26528233, 0.26963302, 0.20190974],\n",
       "        [0.26367947, 0.36606592, 0.36840445, 0.27200189],\n",
       "        [0.27032515, 0.3715018 , 0.36991027, 0.26886454],\n",
       "        [0.20220719, 0.27610379, 0.27227667, 0.19469661]],\n",
       "\n",
       "       [[0.13751902, 0.19435027, 0.19884795, 0.14815024],\n",
       "        [0.19330847, 0.2737053 , 0.28118965, 0.21023472],\n",
       "        [0.20052321, 0.28329667, 0.2909368 , 0.21732429],\n",
       "        [0.15249521, 0.21546596, 0.22105172, 0.16474919]]])"
      ]
     },
     "execution_count": 25,
     "metadata": {},
     "output_type": "execute_result"
    }
   ],
   "source": [
    "dst_arr"
   ]
  },
  {
   "cell_type": "code",
   "execution_count": null,
   "metadata": {},
   "outputs": [],
   "source": []
  },
  {
   "cell_type": "code",
   "execution_count": null,
   "metadata": {},
   "outputs": [],
   "source": [
    "%%run_pytest[clean] -qq\n",
    "\n",
    "test_datadir = \"D:\\\\datasets\"\n",
    "test_workspace_name = \"testvol_24\"\n",
    "# make test vol\n",
    "map_fullpath = os.path.join(test_datadir,\"testvol_4x4x4b.h5\")\n",
    "#testvol = np.random.random((4,4,4))# astype(np.uint8)\n",
    "#with h5py.File(map_fullpath,  'w') as hf:\n",
    "#    hf.create_dataset(\"data\",  data=testvol)\n",
    "\n",
    "# create new workspace\n",
    "survos.run_command(\"workspace\", \"create\", uri=None, workspace=test_workspace_name)\n",
    "    \n",
    "# add data to workspace\n",
    "survos.run_command('workspace', 'add_data', uri=None, workspace=test_workspace_name,\n",
    "                 data_fname=map_fullpath,\n",
    "                  dtype='float32')\n",
    "\n",
    "## add dataset to workspace\n",
    "\n",
    "\n",
    "\n",
    "# run gaussian_blur    \n",
    "DataModel.g.current_workspace = test_workspace_name\n",
    "\n",
    "src = DataModel.g.dataset_uri('__data__', None)\n",
    "dst = DataModel.g.dataset_uri('001_gaussian_blur', group='features')\n",
    "\n",
    "survos.run_command('features', 'gaussian_blur', uri=None, \n",
    "                  src=src,\n",
    "                  dst=dst)\n",
    "\n",
    "with DatasetManager(src, out=dst, dtype='float32', fillvalue=0) as DM:\n",
    "    print(DM.sources[0].shape)\n",
    "    src_dataset = DM.sources[0]\n",
    "    dst_dataset = DM.out\n",
    "    src_arr = src_dataset[:]\n",
    "    dst_arr = dst_dataset[:]\n",
    "    \n",
    "def test_feature_shape():\n",
    "    assert dst_arr.shape == (4,4,4)\n",
    "    \n",
    "def test_feature_src():    \n",
    "    assert_allclose(src_arr, np.array([[[0.41955446, 0.65139688, 0.50626089, 0.47356243],\n",
    "                            [0.5397072 , 0.88715651, 0.57358875, 0.17841908],\n",
    "                            [0.84062367, 0.42927081, 1.        , 0.601415  ],\n",
    "                            [0.22624536, 0.61382118, 0.81198787, 0.45563817]],\n",
    "\n",
    "                           [[0.26604622, 0.98411002, 0.9910637 , 0.04614431],\n",
    "                            [0.91235452, 0.50873271, 0.9090851 , 0.55183262],\n",
    "                            [0.69766631, 0.34353716, 0.79863059, 0.81746442],\n",
    "                            [0.69540008, 0.25363482, 0.        , 0.98832664]],\n",
    "\n",
    "                           [[0.41824034, 0.2947538 , 0.823542  , 0.02814557],\n",
    "                            [0.22670235, 0.86729335, 0.28522538, 0.31510756],\n",
    "                            [0.25549214, 0.1451409 , 0.30383666, 0.74032794],\n",
    "                            [0.50077333, 0.51566668, 0.30102867, 0.72429019]],\n",
    "\n",
    "                           [[0.6533611 , 0.66302082, 0.55634748, 0.71185593],\n",
    "                            [0.94052145, 0.61666328, 0.9143069 , 0.12840489],\n",
    "                            [0.12144252, 0.84725333, 0.92758133, 0.49322578],\n",
    "                            [0.54037618, 0.051214  , 0.25104931, 0.87874488]]]))\n",
    "    \n",
    "def test_feature_dst():    \n",
    "    assert_allclose(dst_arr, np.array([[[0.1666268 , 0.2257143 , 0.21892974, 0.14923   ],\n",
    "                                        [0.22236633, 0.30317545, 0.29989442, 0.21237083],\n",
    "                                        [0.21442178, 0.29576921, 0.29921022, 0.22003345],\n",
    "                                        [0.14868982, 0.20833325, 0.21602006, 0.16522714]],\n",
    "\n",
    "                                       [[0.22320336, 0.30302912, 0.29496408, 0.20176643],\n",
    "                                        [0.29272896, 0.40102041, 0.39890146, 0.28483036],\n",
    "                                        [0.27765584, 0.38559583, 0.39318019, 0.2930665 ],\n",
    "                                        [0.18990593, 0.26771539, 0.2803525 , 0.21866953]],\n",
    "\n",
    "                                       [[0.21965253, 0.29812005, 0.29064476, 0.19943923],\n",
    "                                        [0.28396353, 0.39044347, 0.38968769, 0.27962744],\n",
    "                                        [0.26546711, 0.37147775, 0.38107473, 0.28643546],\n",
    "                                        [0.17921498, 0.25512561, 0.26955697, 0.21300924]],\n",
    "\n",
    "                                       [[0.16236468, 0.21962528, 0.21409421, 0.14734329],\n",
    "                                        [0.20654736, 0.28440154, 0.28422096, 0.20433155],\n",
    "                                        [0.18955445, 0.26714209, 0.27526605, 0.20778845],\n",
    "                                        [0.12524115, 0.18044972, 0.19238257, 0.15347627]]]))\n"
   ]
  },
  {
   "cell_type": "code",
   "execution_count": null,
   "metadata": {},
   "outputs": [],
   "source": []
  },
  {
   "cell_type": "code",
   "execution_count": null,
   "metadata": {},
   "outputs": [],
   "source": []
  },
  {
   "cell_type": "code",
   "execution_count": 8,
   "metadata": {},
   "outputs": [
    {
     "data": {
      "text/plain": [
       "array([[[4.89214115e-01, 4.88751237e-02, 3.94843333e-01, 6.14048171e-01],\n",
       "        [3.92100031e-01, 6.81171935e-01, 1.81597195e-01, 8.00303290e-01],\n",
       "        [5.01298600e-01, 5.71608870e-01, 1.22835539e-01, 5.01740551e-01],\n",
       "        [1.12990600e-01, 7.46636931e-01, 5.20574562e-01, 8.55714714e-01]],\n",
       "\n",
       "       [[8.12483800e-03, 3.01362385e-03, 4.38506096e-01, 1.93867574e-02],\n",
       "        [2.56053374e-01, 7.88485971e-01, 3.96912904e-01, 4.79070101e-01],\n",
       "        [7.29253366e-01, 9.78596473e-01, 4.51489531e-01, 6.20425318e-01],\n",
       "        [8.67330197e-01, 1.24240882e-01, 7.99268773e-01, 2.08207312e-01]],\n",
       "\n",
       "       [[9.74542099e-01, 2.74473133e-01, 4.25815244e-01, 1.49041921e-01],\n",
       "        [1.83750375e-01, 8.15605562e-01, 9.85184681e-01, 2.51071510e-01],\n",
       "        [8.75301005e-02, 5.27213367e-01, 2.21638196e-01, 6.06119378e-01],\n",
       "        [5.02913560e-01, 9.94965983e-01, 1.46799760e-01, 3.69431563e-01]],\n",
       "\n",
       "       [[3.38063000e-01, 2.36308478e-01, 7.47581840e-01, 3.89268267e-02],\n",
       "        [6.61555719e-01, 9.67296259e-02, 6.77034416e-01, 3.64751986e-04],\n",
       "        [3.86287172e-01, 2.79072286e-01, 1.10532005e-03, 2.92933098e-01],\n",
       "        [8.73301029e-01, 6.67028273e-01, 7.72942551e-01, 1.89942629e-01]]])"
      ]
     },
     "execution_count": 8,
     "metadata": {},
     "output_type": "execute_result"
    }
   ],
   "source": [
    "import h5py\n",
    "#from survos2.improc.utils import DatasetManager\n",
    "from torch.testing import assert_allclose\n",
    "import numpy as np\n",
    "testvol = np.random.random((4,4,4))# astype(np.uint8)\n",
    "testvol"
   ]
  },
  {
   "cell_type": "code",
   "execution_count": null,
   "metadata": {},
   "outputs": [],
   "source": []
  },
  {
   "cell_type": "markdown",
   "metadata": {},
   "source": [
    "# Test brain"
   ]
  },
  {
   "cell_type": "code",
   "execution_count": null,
   "metadata": {},
   "outputs": [],
   "source": [
    "#brain\n",
    "tmpvol_fullpath = \"/dls/science/users/xsy37748/data/data.h5\"\n",
    "import h5py\n",
    "original_data = h5py.File(tmpvol_fullpath, 'r')\n",
    "    "
   ]
  },
  {
   "cell_type": "code",
   "execution_count": 12,
   "metadata": {},
   "outputs": [
    {
     "name": "stdout",
     "output_type": "stream",
     "text": [
      "/dls/science/groups/das/SuRVoS/s2/\n",
      "/dls/science/groups/das/SuRVoS/s2/\n"
     ]
    },
    {
     "data": {
      "text/plain": [
       "({'path': '/dls/science/groups/das/SuRVoS/s2/test_s1', 'data': {}}, False)"
      ]
     },
     "execution_count": 12,
     "metadata": {},
     "output_type": "execute_result"
    }
   ],
   "source": [
    "survos.run_command(\"workspace\", \"create\", uri=None, workspace='test_s1')"
   ]
  },
  {
   "cell_type": "code",
   "execution_count": 14,
   "metadata": {},
   "outputs": [
    {
     "name": "stdout",
     "output_type": "stream",
     "text": [
      "/dls/science/groups/das/SuRVoS/s2/\n",
      "/dls/science/groups/das/SuRVoS/s2/\n"
     ]
    },
    {
     "data": {
      "text/plain": [
       "({'chunk_grid': [1, 1, 1],\n",
       "  'chunk_size': [99, 256, 256],\n",
       "  'dtype': 'float32',\n",
       "  'fillvalue': 0,\n",
       "  'shape': [99, 256, 256],\n",
       "  'id': '__data__',\n",
       "  'path': '/dls/science/groups/das/SuRVoS/s2/test_s1/__data__',\n",
       "  'name': '__data__'},\n",
       " False)"
      ]
     },
     "execution_count": 14,
     "metadata": {},
     "output_type": "execute_result"
    }
   ],
   "source": [
    "survos.run_command('workspace', 'add_data', uri=None, workspace='test_s1',\n",
    "                 data_fname=tmpvol_fullpath, dtype='float32')"
   ]
  },
  {
   "cell_type": "code",
   "execution_count": null,
   "metadata": {},
   "outputs": [],
   "source": []
  }
 ],
 "metadata": {
  "kernelspec": {
   "display_name": "Python 3",
   "language": "python",
   "name": "python3"
  },
  "language_info": {
   "codemirror_mode": {
    "name": "ipython",
    "version": 3
   },
   "file_extension": ".py",
   "mimetype": "text/x-python",
   "name": "python",
   "nbconvert_exporter": "python",
   "pygments_lexer": "ipython3",
   "version": "3.7.7"
  }
 },
 "nbformat": 4,
 "nbformat_minor": 4
}
