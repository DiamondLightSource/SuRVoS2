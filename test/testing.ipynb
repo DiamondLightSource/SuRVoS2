{
 "cells": [
  {
   "cell_type": "code",
   "execution_count": 5,
   "metadata": {},
   "outputs": [],
   "source": [
    "\n",
    "import os\n",
    "os.getcwd()\n",
    "os.chdir(\"..\")"
   ]
  },
  {
   "cell_type": "code",
   "execution_count": 2,
   "metadata": {},
   "outputs": [],
   "source": [
    "#from survos2.frontend.utils import view_volume\n",
    "%load_ext autoreload\n",
    "%autoreload 2"
   ]
  },
  {
   "cell_type": "code",
   "execution_count": 6,
   "metadata": {},
   "outputs": [
    {
     "name": "stderr",
     "output_type": "stream",
     "text": [
      "2020-08-17 13:40:55.041 | INFO     | survos2.model.workspace:<module>:25 - CHROOT is /tmp/tmp_survos_chroot\n",
      "2020-08-17 13:40:57.418 | INFO     | survos2.survos:init_api:54 - Config plugins: ['workspace', 'annotations', 'features', 'regions', 'render']\n",
      "2020-08-17 13:40:57.419 | INFO     | survos2.survos:init_api:57 - Configuring api plugins\n",
      "2020-08-17 13:40:57.419 | DEBUG    | survos2.survos:init_api:59 - Loading plugin workspace\n",
      "2020-08-17 13:40:57.424 | DEBUG    | survos2.survos:init_api:59 - Loading plugin annotations\n",
      "2020-08-17 13:40:57.428 | DEBUG    | survos2.survos:init_api:59 - Loading plugin features\n",
      "2020-08-17 13:40:57.430 | DEBUG    | survos2.survos:init_api:59 - Loading plugin regions\n",
      "2020-08-17 13:40:57.432 | DEBUG    | survos2.survos:init_api:59 - Loading plugin render\n"
     ]
    },
    {
     "name": "stdout",
     "output_type": "stream",
     "text": [
      "API: <hug.api.API object at 0x2b2b46e03e10>\n",
      "\n"
     ]
    },
    {
     "name": "stderr",
     "output_type": "stream",
     "text": [
      "2020-08-17 13:40:59.193 | DEBUG    | survos2.survos:init_api:76 - Init api returned <hug.api.API object at 0x2b2b46e03e10>\n",
      "2020-08-17 13:43:37.894 | DEBUG    | survos2.survos:run_command:99 - Using client <hug.use.Local object at 0x2b2bf6fd4170>\n",
      "2020-08-17 13:43:37.898 | DEBUG    | survos2.model.workspace:__init__:36 - INIT workspace at test_s1\n",
      "2020-08-17 13:43:37.899 | DEBUG    | survos2.model.workspace:__init__:37 - Validated workspace path test_s1\n",
      "2020-08-17 13:43:37.899 | DEBUG    | survos2.model.workspace:__init__:43 - Set workspace path to /tmp/tmp_survos_chroot/test_s1\n",
      "2020-08-17 13:43:37.900 | DEBUG    | survos2.model.workspace:__init__:36 - INIT workspace at test_s1\n",
      "2020-08-17 13:43:37.900 | DEBUG    | survos2.model.workspace:__init__:37 - Validated workspace path test_s1\n",
      "2020-08-17 13:43:37.900 | DEBUG    | survos2.model.workspace:__init__:43 - Set workspace path to /tmp/tmp_survos_chroot/test_s1\n",
      "2020-08-17 13:49:07.580 | DEBUG    | survos2.survos:run_command:99 - Using client <hug.use.Local object at 0x2b2bf8ebbad0>\n",
      "2020-08-17 13:49:07.586 | DEBUG    | survos2.model.workspace:__init__:36 - INIT workspace at test_s1\n",
      "2020-08-17 13:49:07.586 | DEBUG    | survos2.model.workspace:__init__:37 - Validated workspace path test_s1\n",
      "2020-08-17 13:49:07.587 | DEBUG    | survos2.model.workspace:__init__:43 - Set workspace path to /tmp/tmp_survos_chroot/test_s1\n",
      "2020-08-17 13:49:07.587 | DEBUG    | survos2.model.workspace:__init__:36 - INIT workspace at test_s1\n",
      "2020-08-17 13:49:07.588 | DEBUG    | survos2.model.workspace:__init__:37 - Validated workspace path test_s1\n",
      "2020-08-17 13:49:07.588 | DEBUG    | survos2.model.workspace:__init__:43 - Set workspace path to /tmp/tmp_survos_chroot/test_s1\n",
      "2020-08-17 13:49:07.633 | DEBUG    | survos2.model.workspace:add_data:203 - Creating dataset at: /tmp/tmp_survos_chroot/test_s1/__data__\n",
      "2020-08-17 13:49:08.037 | INFO     | survos2.survos:run_command:103 - Local client gave response Response(data={'data': {'chunk_grid': [1, 1, 1], 'chunk_size': [99, 256, 256], 'dtype': 'float32', 'fillvalue': 0, 'shape': [99, 256, 256], 'id': '__data__', 'path': '/tmp/tmp_survos_chroot/test_s1/__data__', 'name': '__data__'}, 'error': False}, status_code=200, headers={'content-type': 'application/json'})\n"
     ]
    }
   ],
   "source": [
    "\n",
    "import numpy as np\n",
    "from survos2 import survos\n",
    "from napari import layers\n",
    "survos.init_api()\n",
    "import survos2.frontend.control\n",
    "from survos2.frontend.control import Launcher\n",
    "from survos2.frontend.control import DataModel\n",
    "from survos2.improc.utils import DatasetManager\n"
   ]
  },
  {
   "cell_type": "code",
   "execution_count": 29,
   "metadata": {},
   "outputs": [],
   "source": [
    "tmpvol_fullpath = \"/dls/science/users/xsy37748/data/data.h5\"\n"
   ]
  },
  {
   "cell_type": "code",
   "execution_count": 30,
   "metadata": {},
   "outputs": [],
   "source": [
    "import h5py\n",
    "original_data = h5py.File(tmpvol_fullpath, 'r')\n",
    "    "
   ]
  },
  {
   "cell_type": "raw",
   "metadata": {},
   "source": []
  },
  {
   "cell_type": "code",
   "execution_count": null,
   "metadata": {},
   "outputs": [],
   "source": []
  },
  {
   "cell_type": "code",
   "execution_count": null,
   "metadata": {},
   "outputs": [],
   "source": [
    "survos.run_command(\"workspace\", \"create\", uri=None, workspace='test_s1')"
   ]
  },
  {
   "cell_type": "code",
   "execution_count": 31,
   "metadata": {},
   "outputs": [
    {
     "name": "stdout",
     "output_type": "stream",
     "text": [
      "/tmp/tmp_survos_chroot\n",
      "/tmp/tmp_survos_chroot\n"
     ]
    },
    {
     "data": {
      "text/plain": [
       "({'chunk_grid': [1, 1, 1],\n",
       "  'chunk_size': [99, 256, 256],\n",
       "  'dtype': 'float32',\n",
       "  'fillvalue': 0,\n",
       "  'shape': [99, 256, 256],\n",
       "  'id': '__data__',\n",
       "  'path': '/tmp/tmp_survos_chroot/test_s1/__data__',\n",
       "  'name': '__data__'},\n",
       " False)"
      ]
     },
     "execution_count": 31,
     "metadata": {},
     "output_type": "execute_result"
    }
   ],
   "source": [
    "survos.run_command('workspace', 'add_data', uri=None, workspace='test_s1',\n",
    "                 data_fname=tmpvol_fullpath,\n",
    "                  dtype='float32')"
   ]
  },
  {
   "cell_type": "code",
   "execution_count": null,
   "metadata": {},
   "outputs": [],
   "source": []
  }
 ],
 "metadata": {
  "kernelspec": {
   "display_name": "Python 3",
   "language": "python",
   "name": "python3"
  },
  "language_info": {
   "codemirror_mode": {
    "name": "ipython",
    "version": 3
   },
   "file_extension": ".py",
   "mimetype": "text/x-python",
   "name": "python",
   "nbconvert_exporter": "python",
   "pygments_lexer": "ipython3",
   "version": "3.7.4"
  }
 },
 "nbformat": 4,
 "nbformat_minor": 4
}
