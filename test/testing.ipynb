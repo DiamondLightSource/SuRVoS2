{
 "cells": [
  {
   "cell_type": "markdown",
   "metadata": {},
   "source": [
    "# Generating test data"
   ]
  },
  {
   "cell_type": "code",
   "execution_count": 1,
   "metadata": {},
   "outputs": [],
   "source": [
    "import os\n",
    "os.getcwd()\n",
    "os.chdir(\"..\")\n",
    "#from survos2.frontend.utils import view_volume\n",
    "%load_ext autoreload\n",
    "%autoreload 2"
   ]
  },
  {
   "cell_type": "code",
   "execution_count": 2,
   "metadata": {},
   "outputs": [
    {
     "data": {
      "text/plain": [
       "'C:\\\\work\\\\diam\\\\SuRVoS2'"
      ]
     },
     "execution_count": 2,
     "metadata": {},
     "output_type": "execute_result"
    }
   ],
   "source": [
    "os.getcwd()"
   ]
  },
  {
   "cell_type": "code",
   "execution_count": 3,
   "metadata": {},
   "outputs": [
    {
     "name": "stderr",
     "output_type": "stream",
     "text": [
      "2020-08-29 16:01:12.464 | INFO     | survos2.model.workspace:<module>:25 - CHROOT is C:/work/diam/data\n",
      "2020-08-29 16:01:13.589 | DEBUG    | survos2.survos:init_api:50 - API: <hug.api.API object at 0x000001AE20AA9048>\n",
      "\n",
      "2020-08-29 16:01:13.590 | INFO     | survos2.survos:init_api:59 - Config plugins: ['workspace', 'annotations', 'features', 'regions', 'render', 'pipelines']\n",
      "2020-08-29 16:01:13.591 | INFO     | survos2.survos:init_api:62 - Configuring api plugins\n",
      "2020-08-29 16:01:13.592 | DEBUG    | survos2.survos:init_api:64 - Loading plugin workspace\n",
      "2020-08-29 16:01:13.601 | DEBUG    | survos2.survos:init_api:64 - Loading plugin annotations\n",
      "2020-08-29 16:01:13.605 | DEBUG    | survos2.survos:init_api:64 - Loading plugin features\n",
      "2020-08-29 16:01:13.609 | DEBUG    | survos2.survos:init_api:64 - Loading plugin regions\n",
      "2020-08-29 16:01:13.613 | DEBUG    | survos2.survos:init_api:64 - Loading plugin render\n",
      "2020-08-29 16:01:14.347 | DEBUG    | survos2.survos:init_api:64 - Loading plugin pipelines\n",
      "2020-08-29 16:01:17.057 | DEBUG    | survos2.survos:init_api:81 - Init api returned <hug.api.API object at 0x000001AE20AA9048>\n",
      "2020-08-30 11:55:43.340 | INFO     | survos2.model.workspace:<module>:25 - CHROOT is C:/work/diam/data\n",
      "2020-08-30 11:56:18.848 | INFO     | survos2.io:survos_from_uri:174 - running survos_from_uri on survos:// uri\n",
      "2020-08-30 11:56:18.850 | DEBUG    | survos2.io:survos_from_uri:185 - Calling Workspace() Init with workspace name: test_survos_large\n",
      "2020-08-30 11:56:18.850 | DEBUG    | survos2.model.workspace:__init__:36 - INIT workspace at test_survos_large\n",
      "2020-08-30 11:56:18.851 | DEBUG    | survos2.model.workspace:__init__:37 - Validated workspace path test_survos_large\n",
      "2020-08-30 11:56:30.961 | INFO     | survos2.io:survos_from_uri:174 - running survos_from_uri on survos:// uri\n",
      "2020-08-30 11:56:30.962 | DEBUG    | survos2.io:survos_from_uri:185 - Calling Workspace() Init with workspace name: test_s2\n",
      "2020-08-30 11:56:30.963 | DEBUG    | survos2.model.workspace:__init__:36 - INIT workspace at test_s2\n",
      "2020-08-30 11:56:30.964 | DEBUG    | survos2.model.workspace:__init__:37 - Validated workspace path test_s2\n",
      "2020-08-30 11:56:30.965 | DEBUG    | survos2.model.workspace:__init__:43 - Set workspace path to C:\\work\\diam\\data\\test_s2\n",
      "2020-08-30 11:57:10.905 | INFO     | survos2.io:survos_from_uri:174 - running survos_from_uri on survos:// uri\n",
      "2020-08-30 11:57:10.906 | DEBUG    | survos2.io:survos_from_uri:185 - Calling Workspace() Init with workspace name: test_s2\n",
      "2020-08-30 11:57:10.907 | DEBUG    | survos2.model.workspace:__init__:36 - INIT workspace at test_s2\n",
      "2020-08-30 11:57:10.907 | DEBUG    | survos2.model.workspace:__init__:37 - Validated workspace path test_s2\n",
      "2020-08-30 11:57:10.909 | DEBUG    | survos2.model.workspace:__init__:43 - Set workspace path to C:\\work\\diam\\data\\test_s2\n",
      "2020-08-30 11:57:48.183 | INFO     | survos2.io:survos_from_uri:174 - running survos_from_uri on survos:// uri\n",
      "2020-08-30 11:57:48.184 | DEBUG    | survos2.io:survos_from_uri:185 - Calling Workspace() Init with workspace name: test_s2\n",
      "2020-08-30 11:57:48.185 | DEBUG    | survos2.model.workspace:__init__:36 - INIT workspace at test_s2\n",
      "2020-08-30 11:57:48.186 | DEBUG    | survos2.model.workspace:__init__:37 - Validated workspace path test_s2\n",
      "2020-08-30 11:57:48.188 | DEBUG    | survos2.model.workspace:__init__:43 - Set workspace path to C:\\work\\diam\\data\\test_s2\n",
      "2020-08-30 11:58:47.276 | DEBUG    | survos2.survos:run_command:104 - Using client <hug.use.Local object at 0x000001AE3DE13688>\n",
      "2020-08-30 11:58:47.582 | DEBUG    | survos2.model.workspace:__init__:36 - INIT workspace at test_s2\n",
      "2020-08-30 11:58:47.583 | DEBUG    | survos2.model.workspace:__init__:37 - Validated workspace path test_s2\n",
      "2020-08-30 11:58:47.585 | DEBUG    | survos2.model.workspace:__init__:43 - Set workspace path to C:\\work\\diam\\data\\test_s2\n",
      "2020-08-30 11:58:47.586 | DEBUG    | survos2.model.workspace:__init__:36 - INIT workspace at test_s2\n",
      "2020-08-30 11:58:47.587 | DEBUG    | survos2.model.workspace:__init__:37 - Validated workspace path test_s2\n",
      "2020-08-30 11:58:47.588 | DEBUG    | survos2.model.workspace:__init__:43 - Set workspace path to C:\\work\\diam\\data\\test_s2\n",
      "2020-08-30 11:58:47.589 | DEBUG    | survos2.model.workspace:available_datasets:130 - Checking available datasets for Session: default Group: None\n",
      "2020-08-30 11:58:47.593 | DEBUG    | survos2.model.workspace:available_datasets:136 - genpath returned C:\\work\\diam\\data\\test_s2\\default\n",
      "2020-08-30 11:58:47.595 | DEBUG    | survos2.model.workspace:available_datasets:142 - Datasets ['annotations', 'biovol', 'features', 'regions']\n",
      "2020-08-30 11:58:47.610 | INFO     | survos2.survos:run_command:108 - Local client gave response Response(data={'data': ['biovol'], 'error': False}, status_code=200, headers={'content-type': 'application/json'})\n",
      "2020-08-30 11:59:02.695 | DEBUG    | survos2.survos:run_command:104 - Using client <hug.use.Local object at 0x000001AE3DDEAF48>\n",
      "2020-08-30 11:59:02.991 | DEBUG    | survos2.model.workspace:__init__:36 - INIT workspace at test_s2\n",
      "2020-08-30 11:59:02.991 | DEBUG    | survos2.model.workspace:__init__:37 - Validated workspace path test_s2\n",
      "2020-08-30 11:59:02.993 | DEBUG    | survos2.model.workspace:__init__:43 - Set workspace path to C:\\work\\diam\\data\\test_s2\n",
      "2020-08-30 11:59:02.994 | DEBUG    | survos2.model.workspace:__init__:36 - INIT workspace at test_s2\n",
      "2020-08-30 11:59:02.995 | DEBUG    | survos2.model.workspace:__init__:37 - Validated workspace path test_s2\n",
      "2020-08-30 11:59:02.996 | DEBUG    | survos2.model.workspace:__init__:43 - Set workspace path to C:\\work\\diam\\data\\test_s2\n",
      "2020-08-30 11:59:02.996 | DEBUG    | survos2.model.workspace:available_datasets:130 - Checking available datasets for Session: default Group: features\n",
      "2020-08-30 11:59:03.001 | DEBUG    | survos2.model.workspace:available_datasets:136 - genpath returned C:\\work\\diam\\data\\test_s2\\default\\features\n",
      "2020-08-30 11:59:03.003 | DEBUG    | survos2.model.workspace:available_datasets:142 - Datasets ['006_gaussian', '007_gaussian_blur', '008_laplacian']\n",
      "2020-08-30 11:59:03.028 | DEBUG    | survos2.model.workspace:get_dataset:257 - Got dataset <survos2.model.dataset.Dataset object at 0x000001AE222D3AC8>\n",
      "2020-08-30 11:59:03.043 | DEBUG    | survos2.model.workspace:get_dataset:257 - Got dataset <survos2.model.dataset.Dataset object at 0x000001AE2B904EC8>\n",
      "2020-08-30 11:59:03.057 | DEBUG    | survos2.model.workspace:get_dataset:257 - Got dataset <survos2.model.dataset.Dataset object at 0x000001AE20A93148>\n",
      "2020-08-30 11:59:03.063 | INFO     | survos2.survos:run_command:108 - Local client gave response Response(data={'data': {'006_gaussian': {'kind': 'gaussian', 'name': '006 Gaussian', 'sigma': [5.0, 6.0, 7.0], 'source': '__data__', 'id': '006_gaussian'}, '007_gaussian_blur': {'kind': 'gaussian_blur', 'name': '007 Gaussian Blur', 'sigma': [2.0, 3.0, 4.0], 'source': '006_gaussian', 'id': '007_gaussian_blur'}, '008_laplacian': {'kind': 'laplacian', 'name': '008 Laplacian', 'id': '008_laplacian'}}, 'error': False}, status_code=200, headers={'content-type': 'application/json'})\n",
      "2020-08-30 11:59:22.544 | INFO     | survos2.io:survos_from_uri:174 - running survos_from_uri on survos:// uri\n",
      "2020-08-30 11:59:22.546 | DEBUG    | survos2.io:survos_from_uri:185 - Calling Workspace() Init with workspace name: test_s2\n",
      "2020-08-30 11:59:22.546 | DEBUG    | survos2.model.workspace:__init__:36 - INIT workspace at test_s2\n",
      "2020-08-30 11:59:22.547 | DEBUG    | survos2.model.workspace:__init__:37 - Validated workspace path test_s2\n",
      "2020-08-30 11:59:22.548 | DEBUG    | survos2.model.workspace:__init__:43 - Set workspace path to C:\\work\\diam\\data\\test_s2\n",
      "2020-08-30 11:59:22.559 | DEBUG    | survos2.model.workspace:get_dataset:257 - Got dataset <survos2.model.dataset.Dataset object at 0x000001AE2A821088>\n",
      "2020-08-30 11:59:22.565 | INFO     | survos2.improc.utils:__init__:495 - DatasetManager setting out to survos://default@test_s2:features/007_gaussian\n",
      "2020-08-30 11:59:22.566 | INFO     | survos2.io:survos_from_uri:174 - running survos_from_uri on survos:// uri\n",
      "2020-08-30 11:59:22.567 | DEBUG    | survos2.io:survos_from_uri:185 - Calling Workspace() Init with workspace name: test_s2\n",
      "2020-08-30 11:59:22.568 | DEBUG    | survos2.model.workspace:__init__:36 - INIT workspace at test_s2\n",
      "2020-08-30 11:59:22.569 | DEBUG    | survos2.model.workspace:__init__:37 - Validated workspace path test_s2\n",
      "2020-08-30 11:59:22.571 | DEBUG    | survos2.model.workspace:__init__:43 - Set workspace path to C:\\work\\diam\\data\\test_s2\n",
      "2020-08-30 11:59:22.584 | DEBUG    | survos2.model.workspace:add_dataset:224 - Adding dataset in path C:\\work\\diam\\data\\test_s2\\default\\features\\007_gaussian\n",
      "2020-08-30 11:59:22.731 | INFO     | survos2.improc.utils:__exit__:511 - Closed: <survos2.model.dataset.Dataset object at 0x000001AE2A821088>\n",
      "2020-08-30 11:59:22.732 | INFO     | survos2.improc.utils:__exit__:511 - Closed: <survos2.model.dataset.Dataset object at 0x000001AE2B9004C8>\n",
      "2020-08-30 11:59:28.790 | DEBUG    | survos2.survos:run_command:104 - Using client <hug.use.Local object at 0x000001AE4100FEF8>\n",
      "2020-08-30 11:59:29.098 | DEBUG    | survos2.model.workspace:__init__:36 - INIT workspace at test_s2\n",
      "2020-08-30 11:59:29.099 | DEBUG    | survos2.model.workspace:__init__:37 - Validated workspace path test_s2\n",
      "2020-08-30 11:59:29.100 | DEBUG    | survos2.model.workspace:__init__:43 - Set workspace path to C:\\work\\diam\\data\\test_s2\n",
      "2020-08-30 11:59:29.100 | DEBUG    | survos2.model.workspace:__init__:36 - INIT workspace at test_s2\n",
      "2020-08-30 11:59:29.101 | DEBUG    | survos2.model.workspace:__init__:37 - Validated workspace path test_s2\n",
      "2020-08-30 11:59:29.103 | DEBUG    | survos2.model.workspace:__init__:43 - Set workspace path to C:\\work\\diam\\data\\test_s2\n",
      "2020-08-30 11:59:29.104 | DEBUG    | survos2.model.workspace:available_datasets:130 - Checking available datasets for Session: default Group: features\n",
      "2020-08-30 11:59:29.108 | DEBUG    | survos2.model.workspace:available_datasets:136 - genpath returned C:\\work\\diam\\data\\test_s2\\default\\features\n",
      "2020-08-30 11:59:29.109 | DEBUG    | survos2.model.workspace:available_datasets:142 - Datasets ['006_gaussian', '007_gaussian', '007_gaussian_blur', '008_laplacian']\n",
      "2020-08-30 11:59:29.146 | DEBUG    | survos2.model.workspace:get_dataset:257 - Got dataset <survos2.model.dataset.Dataset object at 0x000001AE41166288>\n",
      "2020-08-30 11:59:29.158 | DEBUG    | survos2.model.workspace:get_dataset:257 - Got dataset <survos2.model.dataset.Dataset object at 0x000001AE4115B5C8>\n",
      "2020-08-30 11:59:29.172 | DEBUG    | survos2.model.workspace:get_dataset:257 - Got dataset <survos2.model.dataset.Dataset object at 0x000001AE20AC8FC8>\n",
      "2020-08-30 11:59:29.186 | DEBUG    | survos2.model.workspace:get_dataset:257 - Got dataset <survos2.model.dataset.Dataset object at 0x000001AE4116F7C8>\n",
      "2020-08-30 11:59:29.193 | INFO     | survos2.survos:run_command:108 - Local client gave response Response(data={'data': {'006_gaussian': {'kind': 'gaussian', 'name': '006 Gaussian', 'sigma': [5.0, 6.0, 7.0], 'source': '__data__', 'id': '006_gaussian'}, '007_gaussian_blur': {'kind': 'gaussian_blur', 'name': '007 Gaussian Blur', 'sigma': [2.0, 3.0, 4.0], 'source': '006_gaussian', 'id': '007_gaussian_blur'}, '008_laplacian': {'kind': 'laplacian', 'name': '008 Laplacian', 'id': '008_laplacian'}}, 'error': False}, status_code=200, headers={'content-type': 'application/json'})\n",
      "2020-08-30 12:00:44.556 | DEBUG    | survos2.survos:run_command:104 - Using client <hug.use.Local object at 0x000001AE41019728>\n",
      "2020-08-30 12:00:44.855 | INFO     | survos2.survos:run_command:108 - Local client gave response Response(data={'data': {'errors': {'feature_type': \"Required parameter 'feature_type' not supplied\"}}, 'error': False}, status_code=400, headers={'content-type': 'application/json'})\n",
      "2020-08-30 12:00:50.491 | DEBUG    | survos2.survos:run_command:104 - Using client <hug.use.Local object at 0x000001AE41178B38>\n",
      "2020-08-30 12:00:50.788 | DEBUG    | survos2.model.workspace:__init__:36 - INIT workspace at test_s2\n",
      "2020-08-30 12:00:50.789 | DEBUG    | survos2.model.workspace:__init__:37 - Validated workspace path test_s2\n",
      "2020-08-30 12:00:50.791 | DEBUG    | survos2.model.workspace:__init__:43 - Set workspace path to C:\\work\\diam\\data\\test_s2\n",
      "2020-08-30 12:00:50.791 | DEBUG    | survos2.model.workspace:__init__:36 - INIT workspace at test_s2\n",
      "2020-08-30 12:00:50.792 | DEBUG    | survos2.model.workspace:__init__:37 - Validated workspace path test_s2\n",
      "2020-08-30 12:00:50.794 | DEBUG    | survos2.model.workspace:__init__:43 - Set workspace path to C:\\work\\diam\\data\\test_s2\n",
      "2020-08-30 12:00:50.795 | DEBUG    | survos2.model.workspace:available_datasets:130 - Checking available datasets for Session: default Group: features\n",
      "2020-08-30 12:00:50.801 | DEBUG    | survos2.model.workspace:available_datasets:136 - genpath returned C:\\work\\diam\\data\\test_s2\\default\\features\n",
      "2020-08-30 12:00:50.802 | DEBUG    | survos2.model.workspace:available_datasets:142 - Datasets ['006_gaussian', '007_gaussian', '007_gaussian_blur', '008_laplacian']\n",
      "2020-08-30 12:00:50.833 | DEBUG    | survos2.model.workspace:get_dataset:257 - Got dataset <survos2.model.dataset.Dataset object at 0x000001AE3DE0A408>\n",
      "2020-08-30 12:00:50.846 | DEBUG    | survos2.model.workspace:get_dataset:257 - Got dataset <survos2.model.dataset.Dataset object at 0x000001AE3DE0A1C8>\n",
      "2020-08-30 12:00:50.859 | DEBUG    | survos2.model.workspace:get_dataset:257 - Got dataset <survos2.model.dataset.Dataset object at 0x000001AE222DF788>\n",
      "2020-08-30 12:00:50.873 | DEBUG    | survos2.model.workspace:get_dataset:257 - Got dataset <survos2.model.dataset.Dataset object at 0x000001AE2222FBC8>\n",
      "2020-08-30 12:00:50.879 | DEBUG    | survos2.model.workspace:__init__:36 - INIT workspace at test_s2\n",
      "2020-08-30 12:00:50.880 | DEBUG    | survos2.model.workspace:__init__:37 - Validated workspace path test_s2\n",
      "2020-08-30 12:00:50.881 | DEBUG    | survos2.model.workspace:__init__:43 - Set workspace path to C:\\work\\diam\\data\\test_s2\n",
      "2020-08-30 12:00:50.882 | DEBUG    | survos2.model.workspace:__init__:36 - INIT workspace at test_s2\n",
      "2020-08-30 12:00:50.883 | DEBUG    | survos2.model.workspace:__init__:37 - Validated workspace path test_s2\n",
      "2020-08-30 12:00:50.884 | DEBUG    | survos2.model.workspace:__init__:43 - Set workspace path to C:\\work\\diam\\data\\test_s2\n",
      "2020-08-30 12:00:50.894 | DEBUG    | survos2.model.workspace:add_dataset:224 - Adding dataset in path C:\\work\\diam\\data\\test_s2\\default\\features\\009_gaussian_blur\n",
      "2020-08-30 12:00:50.908 | DEBUG    | survos2.api.features:create:99 - Created (empty) feature of kind gaussian_blur\n",
      "2020-08-30 12:00:50.910 | INFO     | survos2.survos:run_command:108 - Local client gave response Response(data={'data': {'name': '009 Gaussian Blur', 'kind': 'gaussian_blur', 'id': '009_gaussian_blur'}, 'error': False}, status_code=200, headers={'content-type': 'application/json'})\n",
      "2020-08-30 12:00:57.774 | DEBUG    | survos2.survos:run_command:104 - Using client <hug.use.Local object at 0x000001AE222CA318>\n",
      "2020-08-30 12:00:58.080 | DEBUG    | survos2.model.workspace:__init__:36 - INIT workspace at test_s2\n",
      "2020-08-30 12:00:58.081 | DEBUG    | survos2.model.workspace:__init__:37 - Validated workspace path test_s2\n",
      "2020-08-30 12:00:58.082 | DEBUG    | survos2.model.workspace:__init__:43 - Set workspace path to C:\\work\\diam\\data\\test_s2\n",
      "2020-08-30 12:00:58.083 | DEBUG    | survos2.model.workspace:__init__:36 - INIT workspace at test_s2\n",
      "2020-08-30 12:00:58.084 | DEBUG    | survos2.model.workspace:__init__:37 - Validated workspace path test_s2\n",
      "2020-08-30 12:00:58.086 | DEBUG    | survos2.model.workspace:__init__:43 - Set workspace path to C:\\work\\diam\\data\\test_s2\n",
      "2020-08-30 12:00:58.087 | DEBUG    | survos2.model.workspace:available_datasets:130 - Checking available datasets for Session: default Group: features\n",
      "2020-08-30 12:00:58.090 | DEBUG    | survos2.model.workspace:available_datasets:136 - genpath returned C:\\work\\diam\\data\\test_s2\\default\\features\n",
      "2020-08-30 12:00:58.092 | DEBUG    | survos2.model.workspace:available_datasets:142 - Datasets ['006_gaussian', '007_gaussian', '007_gaussian_blur', '008_laplacian', '009_gaussian_blur']\n",
      "2020-08-30 12:00:58.129 | DEBUG    | survos2.model.workspace:get_dataset:257 - Got dataset <survos2.model.dataset.Dataset object at 0x000001AE4115B6C8>\n",
      "2020-08-30 12:00:58.143 | DEBUG    | survos2.model.workspace:get_dataset:257 - Got dataset <survos2.model.dataset.Dataset object at 0x000001AE4116A448>\n",
      "2020-08-30 12:00:58.157 | DEBUG    | survos2.model.workspace:get_dataset:257 - Got dataset <survos2.model.dataset.Dataset object at 0x000001AE4116A088>\n",
      "2020-08-30 12:00:58.170 | DEBUG    | survos2.model.workspace:get_dataset:257 - Got dataset <survos2.model.dataset.Dataset object at 0x000001AE4115BD48>\n",
      "2020-08-30 12:00:58.184 | DEBUG    | survos2.model.workspace:get_dataset:257 - Got dataset <survos2.model.dataset.Dataset object at 0x000001AE41171D88>\n",
      "2020-08-30 12:00:58.190 | DEBUG    | survos2.model.workspace:__init__:36 - INIT workspace at test_s2\n",
      "2020-08-30 12:00:58.191 | DEBUG    | survos2.model.workspace:__init__:37 - Validated workspace path test_s2\n",
      "2020-08-30 12:00:58.192 | DEBUG    | survos2.model.workspace:__init__:43 - Set workspace path to C:\\work\\diam\\data\\test_s2\n",
      "2020-08-30 12:00:58.193 | DEBUG    | survos2.model.workspace:__init__:36 - INIT workspace at test_s2\n",
      "2020-08-30 12:00:58.194 | DEBUG    | survos2.model.workspace:__init__:37 - Validated workspace path test_s2\n",
      "2020-08-30 12:00:58.195 | DEBUG    | survos2.model.workspace:__init__:43 - Set workspace path to C:\\work\\diam\\data\\test_s2\n",
      "2020-08-30 12:00:58.204 | DEBUG    | survos2.model.workspace:add_dataset:224 - Adding dataset in path C:\\work\\diam\\data\\test_s2\\default\\features\\010_gaussian_blur\n",
      "2020-08-30 12:00:58.217 | DEBUG    | survos2.api.features:create:99 - Created (empty) feature of kind gaussian_blur\n",
      "2020-08-30 12:00:58.219 | INFO     | survos2.survos:run_command:108 - Local client gave response Response(data={'data': {'name': '010 Gaussian Blur', 'kind': 'gaussian_blur', 'id': '010_gaussian_blur'}, 'error': False}, status_code=200, headers={'content-type': 'application/json'})\n",
      "2020-08-30 12:01:13.414 | INFO     | survos2.io:survos_from_uri:174 - running survos_from_uri on survos:// uri\n",
      "2020-08-30 12:01:13.415 | DEBUG    | survos2.io:survos_from_uri:185 - Calling Workspace() Init with workspace name: test_s2\n",
      "2020-08-30 12:01:13.416 | DEBUG    | survos2.model.workspace:__init__:36 - INIT workspace at test_s2\n",
      "2020-08-30 12:01:13.417 | DEBUG    | survos2.model.workspace:__init__:37 - Validated workspace path test_s2\n",
      "2020-08-30 12:01:13.419 | DEBUG    | survos2.model.workspace:__init__:43 - Set workspace path to C:\\work\\diam\\data\\test_s2\n",
      "2020-08-30 12:01:13.429 | DEBUG    | survos2.model.workspace:get_dataset:257 - Got dataset <survos2.model.dataset.Dataset object at 0x000001AE4115BDC8>\n",
      "2020-08-30 12:01:13.435 | INFO     | survos2.improc.utils:__init__:495 - DatasetManager setting out to survos://default@test_s2:features/009_gaussian\n",
      "2020-08-30 12:01:13.435 | INFO     | survos2.io:survos_from_uri:174 - running survos_from_uri on survos:// uri\n",
      "2020-08-30 12:01:13.436 | DEBUG    | survos2.io:survos_from_uri:185 - Calling Workspace() Init with workspace name: test_s2\n",
      "2020-08-30 12:01:13.437 | DEBUG    | survos2.model.workspace:__init__:36 - INIT workspace at test_s2\n",
      "2020-08-30 12:01:13.437 | DEBUG    | survos2.model.workspace:__init__:37 - Validated workspace path test_s2\n",
      "2020-08-30 12:01:13.438 | DEBUG    | survos2.model.workspace:__init__:43 - Set workspace path to C:\\work\\diam\\data\\test_s2\n",
      "2020-08-30 12:01:13.450 | DEBUG    | survos2.model.workspace:add_dataset:224 - Adding dataset in path C:\\work\\diam\\data\\test_s2\\default\\features\\009_gaussian\n",
      "2020-08-30 12:01:13.605 | INFO     | survos2.improc.utils:__exit__:511 - Closed: <survos2.model.dataset.Dataset object at 0x000001AE4115BDC8>\n",
      "2020-08-30 12:01:13.606 | INFO     | survos2.improc.utils:__exit__:511 - Closed: <survos2.model.dataset.Dataset object at 0x000001AE3DE0A948>\n",
      "2020-08-30 12:01:23.307 | DEBUG    | survos2.survos:run_command:104 - Using client <hug.use.Local object at 0x000001AE41007408>\n",
      "2020-08-30 12:01:23.602 | DEBUG    | survos2.model.workspace:__init__:36 - INIT workspace at test_s2\n",
      "2020-08-30 12:01:23.602 | DEBUG    | survos2.model.workspace:__init__:37 - Validated workspace path test_s2\n",
      "2020-08-30 12:01:23.604 | DEBUG    | survos2.model.workspace:__init__:43 - Set workspace path to C:\\work\\diam\\data\\test_s2\n",
      "2020-08-30 12:01:23.604 | DEBUG    | survos2.model.workspace:__init__:36 - INIT workspace at test_s2\n",
      "2020-08-30 12:01:23.605 | DEBUG    | survos2.model.workspace:__init__:37 - Validated workspace path test_s2\n",
      "2020-08-30 12:01:23.606 | DEBUG    | survos2.model.workspace:__init__:43 - Set workspace path to C:\\work\\diam\\data\\test_s2\n",
      "2020-08-30 12:01:23.607 | DEBUG    | survos2.model.workspace:available_datasets:130 - Checking available datasets for Session: default Group: features\n",
      "2020-08-30 12:01:23.612 | DEBUG    | survos2.model.workspace:available_datasets:136 - genpath returned C:\\work\\diam\\data\\test_s2\\default\\features\n",
      "2020-08-30 12:01:23.613 | DEBUG    | survos2.model.workspace:available_datasets:142 - Datasets ['006_gaussian', '007_gaussian', '007_gaussian_blur', '008_laplacian', '009_gaussian', '009_gaussian_blur', '010_gaussian_blur']\n",
      "2020-08-30 12:01:23.661 | DEBUG    | survos2.model.workspace:get_dataset:257 - Got dataset <survos2.model.dataset.Dataset object at 0x000001AE41014908>\n",
      "2020-08-30 12:01:23.673 | DEBUG    | survos2.model.workspace:get_dataset:257 - Got dataset <survos2.model.dataset.Dataset object at 0x000001AE222E5AC8>\n",
      "2020-08-30 12:01:23.688 | DEBUG    | survos2.model.workspace:get_dataset:257 - Got dataset <survos2.model.dataset.Dataset object at 0x000001AE222E5888>\n",
      "2020-08-30 12:01:23.701 | DEBUG    | survos2.model.workspace:get_dataset:257 - Got dataset <survos2.model.dataset.Dataset object at 0x000001AE41164208>\n",
      "2020-08-30 12:01:23.713 | DEBUG    | survos2.model.workspace:get_dataset:257 - Got dataset <survos2.model.dataset.Dataset object at 0x000001AE222E2888>\n",
      "2020-08-30 12:01:23.732 | DEBUG    | survos2.model.workspace:get_dataset:257 - Got dataset <survos2.model.dataset.Dataset object at 0x000001AE41196108>\n",
      "2020-08-30 12:01:23.746 | DEBUG    | survos2.model.workspace:get_dataset:257 - Got dataset <survos2.model.dataset.Dataset object at 0x000001AE41196088>\n",
      "2020-08-30 12:01:23.752 | INFO     | survos2.survos:run_command:108 - Local client gave response Response(data={'data': {'006_gaussian': {'kind': 'gaussian', 'name': '006 Gaussian', 'sigma': [5.0, 6.0, 7.0], 'source': '__data__', 'id': '006_gaussian'}, '007_gaussian_blur': {'kind': 'gaussian_blur', 'name': '007 Gaussian Blur', 'sigma': [2.0, 3.0, 4.0], 'source': '006_gaussian', 'id': '007_gaussian_blur'}, '008_laplacian': {'kind': 'laplacian', 'name': '008 Laplacian', 'id': '008_laplacian'}, '009_gaussian_blur': {'kind': 'gaussian_blur', 'name': '009 Gaussian Blur', 'id': '009_gaussian_blur'}, '010_gaussian_blur': {'kind': 'gaussian_blur', 'name': '010 Gaussian Blur', 'id': '010_gaussian_blur'}}, 'error': False}, status_code=200, headers={'content-type': 'application/json'})\n",
      "2020-08-30 12:02:57.696 | INFO     | survos2.io:survos_from_uri:174 - running survos_from_uri on survos:// uri\n",
      "2020-08-30 12:02:57.697 | DEBUG    | survos2.io:survos_from_uri:185 - Calling Workspace() Init with workspace name: test_s2\n",
      "2020-08-30 12:02:57.699 | DEBUG    | survos2.model.workspace:__init__:36 - INIT workspace at test_s2\n",
      "2020-08-30 12:02:57.699 | DEBUG    | survos2.model.workspace:__init__:37 - Validated workspace path test_s2\n",
      "2020-08-30 12:02:57.701 | DEBUG    | survos2.model.workspace:__init__:43 - Set workspace path to C:\\work\\diam\\data\\test_s2\n",
      "2020-08-30 12:02:57.711 | DEBUG    | survos2.model.workspace:get_dataset:257 - Got dataset <survos2.model.dataset.Dataset object at 0x000001AE3DE0EB48>\n",
      "2020-08-30 12:02:57.716 | INFO     | survos2.improc.utils:__init__:495 - DatasetManager setting out to survos://default@test_s2:features/009_gaussian_blur\n",
      "2020-08-30 12:02:57.717 | INFO     | survos2.io:survos_from_uri:174 - running survos_from_uri on survos:// uri\n",
      "2020-08-30 12:02:57.718 | DEBUG    | survos2.io:survos_from_uri:185 - Calling Workspace() Init with workspace name: test_s2\n",
      "2020-08-30 12:02:57.718 | DEBUG    | survos2.model.workspace:__init__:36 - INIT workspace at test_s2\n",
      "2020-08-30 12:02:57.719 | DEBUG    | survos2.model.workspace:__init__:37 - Validated workspace path test_s2\n",
      "2020-08-30 12:02:57.721 | DEBUG    | survos2.model.workspace:__init__:43 - Set workspace path to C:\\work\\diam\\data\\test_s2\n",
      "2020-08-30 12:02:57.734 | DEBUG    | survos2.model.workspace:get_dataset:257 - Got dataset <survos2.model.dataset.Dataset object at 0x000001AE222D96C8>\n",
      "2020-08-30 12:02:57.884 | INFO     | survos2.improc.utils:__exit__:511 - Closed: <survos2.model.dataset.Dataset object at 0x000001AE3DE0EB48>\n",
      "2020-08-30 12:02:57.885 | INFO     | survos2.improc.utils:__exit__:511 - Closed: <survos2.model.dataset.Dataset object at 0x000001AE222D96C8>\n"
     ]
    }
   ],
   "source": [
    "\n",
    "import numpy as np\n",
    "from survos2 import survos\n",
    "from napari import layers\n",
    "survos.init_api()\n",
    "import survos2.frontend.control\n",
    "from survos2.frontend.control import Launcher\n",
    "from survos2.model import DataModel\n",
    "from survos2.improc.utils import DatasetManager\n"
   ]
  },
  {
   "cell_type": "code",
   "execution_count": 4,
   "metadata": {},
   "outputs": [],
   "source": [
    "from survos2.server.config import scfg"
   ]
  },
  {
   "cell_type": "code",
   "execution_count": 5,
   "metadata": {},
   "outputs": [
    {
     "data": {
      "text/plain": [
       "{'proj': 'hunt',\n",
       " 'preprocessing': {},\n",
       " 'random_seed_main': 32,\n",
       " 'marker_size': 10,\n",
       " 'refine_lambda': 1.0,\n",
       " 'resample_amt': 0.5,\n",
       " 'save_output_files': False,\n",
       " 'computing': {'chunks': True, 'chunk_size': 1024},\n",
       " 'mscale': 1.0,\n",
       " 'logging': {'level': 'info'},\n",
       " 'plot_all': False,\n",
       " 'roi_crop': [0, 2500, 0, 2500, 0, 2500],\n",
       " 'torch_models_fullpath': '../experiments',\n",
       " 'filter_cfg': {'superregions1': {'plugin': 'superregions',\n",
       "   'feature': 'slic',\n",
       "   'params': {'slic_feat_idx': -1,\n",
       "    'compactness': 20,\n",
       "    'postprocess': False,\n",
       "    'sp_shape': [18, 18, 18]}},\n",
       "  'filter1': {'plugin': 'features',\n",
       "   'feature': 'gaussian',\n",
       "   'params': {'sigma': 2}},\n",
       "  'filter2': {'plugin': 'features',\n",
       "   'feature': 'gaussian',\n",
       "   'params': {'sigma': 2}},\n",
       "  'filter3': {'plugin': 'features',\n",
       "   'feature': 'tvdenoising3d',\n",
       "   'params': {'lamda': 3.7}},\n",
       "  'filter4': {'plugin': 'features',\n",
       "   'feature': 'simple_laplacian',\n",
       "   'params': {'sigma': 2.1}},\n",
       "  'filter5': {'plugin': 'features',\n",
       "   'feature': 'gradient',\n",
       "   'params': {'sigma': 3}}},\n",
       " 'pipeline': {'calculate_features': True,\n",
       "  'calculate_supervoxels': True,\n",
       "  'load_pretrained_classifier': True,\n",
       "  'load_annotation': False,\n",
       "  'features': ['filter1', 'filter2'],\n",
       "  'predict_params': {'clf': 'ensemble',\n",
       "   'type': 'rf',\n",
       "   'n_estimators': 10,\n",
       "   'proj': False,\n",
       "   'max_depth': 20,\n",
       "   'n_jobs': 1},\n",
       "  'mask_params': {'mask_radius': 10}}}"
      ]
     },
     "execution_count": 5,
     "metadata": {},
     "output_type": "execute_result"
    }
   ],
   "source": [
    "scfg"
   ]
  },
  {
   "cell_type": "code",
   "execution_count": 22,
   "metadata": {},
   "outputs": [],
   "source": [
    "test_workspace_name = 'test_s2'"
   ]
  },
  {
   "cell_type": "code",
   "execution_count": 23,
   "metadata": {},
   "outputs": [],
   "source": [
    "DataModel.g.current_workspace = test_workspace_name"
   ]
  },
  {
   "cell_type": "code",
   "execution_count": null,
   "metadata": {},
   "outputs": [],
   "source": []
  },
  {
   "cell_type": "code",
   "execution_count": 36,
   "metadata": {},
   "outputs": [
    {
     "name": "stdout",
     "output_type": "stream",
     "text": [
      "C:/work/diam/data\n",
      "C:/work/diam/data\n"
     ]
    },
    {
     "data": {
      "text/plain": [
       "({'006_gaussian': {'kind': 'gaussian',\n",
       "   'name': '006 Gaussian',\n",
       "   'sigma': [5.0, 6.0, 7.0],\n",
       "   'source': '__data__',\n",
       "   'id': '006_gaussian'},\n",
       "  '007_gaussian_blur': {'kind': 'gaussian_blur',\n",
       "   'name': '007 Gaussian Blur',\n",
       "   'sigma': [2.0, 3.0, 4.0],\n",
       "   'source': '006_gaussian',\n",
       "   'id': '007_gaussian_blur'},\n",
       "  '008_laplacian': {'kind': 'laplacian',\n",
       "   'name': '008 Laplacian',\n",
       "   'id': '008_laplacian'},\n",
       "  '009_gaussian_blur': {'kind': 'gaussian_blur',\n",
       "   'name': '009 Gaussian Blur',\n",
       "   'id': '009_gaussian_blur'},\n",
       "  '010_gaussian_blur': {'kind': 'gaussian_blur',\n",
       "   'name': '010 Gaussian Blur',\n",
       "   'id': '010_gaussian_blur'}},\n",
       " False)"
      ]
     },
     "execution_count": 36,
     "metadata": {},
     "output_type": "execute_result"
    }
   ],
   "source": [
    "# add data to workspace\n",
    "survos.run_command('features', 'existing', uri=None, workspace=test_workspace_name,\n",
    "                  dtype='float32')\n"
   ]
  },
  {
   "cell_type": "code",
   "execution_count": 33,
   "metadata": {},
   "outputs": [
    {
     "name": "stdout",
     "output_type": "stream",
     "text": [
      "C:/work/diam/data\n",
      "C:/work/diam/data\n",
      "C:/work/diam/data\n",
      "C:/work/diam/data\n"
     ]
    },
    {
     "data": {
      "text/plain": [
       "({'name': '010 Gaussian Blur',\n",
       "  'kind': 'gaussian_blur',\n",
       "  'id': '010_gaussian_blur'},\n",
       " False)"
      ]
     },
     "execution_count": 33,
     "metadata": {},
     "output_type": "execute_result"
    }
   ],
   "source": [
    "# add data to workspace\n",
    "survos.run_command('features', 'create', uri=None, workspace=test_workspace_name,\n",
    "                   \n",
    "                  feature_type='gaussian_blur')\n"
   ]
  },
  {
   "cell_type": "code",
   "execution_count": 27,
   "metadata": {},
   "outputs": [],
   "source": [
    "src = DataModel.g.dataset_uri('006_gaussian', group='features')        "
   ]
  },
  {
   "cell_type": "code",
   "execution_count": 37,
   "metadata": {},
   "outputs": [],
   "source": [
    "dst = DataModel.g.dataset_uri('009_gaussian_blur', group='features')     "
   ]
  },
  {
   "cell_type": "code",
   "execution_count": 38,
   "metadata": {},
   "outputs": [
    {
     "data": {
      "text/plain": [
       "('survos://default@test_s2:features/006_gaussian',\n",
       " 'survos://default@test_s2:features/009_gaussian_blur')"
      ]
     },
     "execution_count": 38,
     "metadata": {},
     "output_type": "execute_result"
    }
   ],
   "source": [
    "src, dst"
   ]
  },
  {
   "cell_type": "code",
   "execution_count": 39,
   "metadata": {},
   "outputs": [
    {
     "name": "stdout",
     "output_type": "stream",
     "text": [
      "C:/work/diam/data\n",
      "C:/work/diam/data\n"
     ]
    }
   ],
   "source": [
    "with DatasetManager(src, out=dst, dtype='float32', fillvalue=0) as DM:\n",
    "    src_dataset = DM.sources[0]\n",
    "    src_arr = src_dataset[:]\n",
    "    DM.out[:] = testvol"
   ]
  },
  {
   "cell_type": "code",
   "execution_count": 2,
   "metadata": {},
   "outputs": [],
   "source": [
    "import numpy as np\n",
    "x = np.array([1,2,3])"
   ]
  },
  {
   "cell_type": "code",
   "execution_count": 7,
   "metadata": {},
   "outputs": [
    {
     "data": {
      "text/plain": [
       "array([1, 2, 3, 4])"
      ]
     },
     "execution_count": 7,
     "metadata": {},
     "output_type": "execute_result"
    }
   ],
   "source": [
    "np.append(x, 4)"
   ]
  },
  {
   "cell_type": "code",
   "execution_count": null,
   "metadata": {},
   "outputs": [],
   "source": []
  },
  {
   "cell_type": "code",
   "execution_count": null,
   "metadata": {},
   "outputs": [],
   "source": [
    "with DatasetManager(src, out=dst, dtype='uint32', fillvalue=0) as DM:\n",
    "    src_dataset = DM.sources[0]\n",
    "    src_arr = src_dataset[:]\n",
    "    DM.out[:] = testvol"
   ]
  },
  {
   "cell_type": "code",
   "execution_count": 22,
   "metadata": {
    "collapsed": true,
    "jupyter": {
     "outputs_hidden": true
    }
   },
   "outputs": [
    {
     "name": "stdout",
     "output_type": "stream",
     "text": [
      "C:/work/diam/data\n"
     ]
    },
    {
     "ename": "WorkspaceException",
     "evalue": "Dataset 'default::regions\\003_supervoxels' does not exist.",
     "output_type": "error",
     "traceback": [
      "\u001b[1;31m---------------------------------------------------------------------------\u001b[0m",
      "\u001b[1;31mWorkspaceException\u001b[0m                        Traceback (most recent call last)",
      "\u001b[1;32m<ipython-input-22-883d868f4c52>\u001b[0m in \u001b[0;36m<module>\u001b[1;34m\u001b[0m\n\u001b[1;32m----> 1\u001b[1;33m \u001b[1;32mwith\u001b[0m \u001b[0mDatasetManager\u001b[0m\u001b[1;33m(\u001b[0m\u001b[0mdst\u001b[0m\u001b[1;33m,\u001b[0m \u001b[0mout\u001b[0m\u001b[1;33m=\u001b[0m\u001b[0mdst\u001b[0m\u001b[1;33m,\u001b[0m \u001b[0mdtype\u001b[0m\u001b[1;33m=\u001b[0m\u001b[1;34m'uint32'\u001b[0m\u001b[1;33m,\u001b[0m \u001b[0mfillvalue\u001b[0m\u001b[1;33m=\u001b[0m\u001b[1;36m0\u001b[0m\u001b[1;33m)\u001b[0m \u001b[1;32mas\u001b[0m \u001b[0mDM\u001b[0m\u001b[1;33m:\u001b[0m\u001b[1;33m\u001b[0m\u001b[1;33m\u001b[0m\u001b[0m\n\u001b[0m\u001b[0;32m      2\u001b[0m     \u001b[0mout_dataset\u001b[0m \u001b[1;33m=\u001b[0m \u001b[0mDM\u001b[0m\u001b[1;33m.\u001b[0m\u001b[0mout\u001b[0m\u001b[1;33m\u001b[0m\u001b[1;33m\u001b[0m\u001b[0m\n\u001b[0;32m      3\u001b[0m     \u001b[0mout_dataset\u001b[0m\u001b[1;33m[\u001b[0m\u001b[1;33m:\u001b[0m\u001b[1;33m]\u001b[0m \u001b[1;33m=\u001b[0m \u001b[0msrc_arr\u001b[0m\u001b[1;33m\u001b[0m\u001b[1;33m\u001b[0m\u001b[0m\n",
      "\u001b[1;32mC:\\work\\diam\\SuRVoS2\\survos2\\improc\\utils.py\u001b[0m in \u001b[0;36m__init__\u001b[1;34m(self, out, dtype, fillvalue, src_mode, *args)\u001b[0m\n\u001b[0;32m    491\u001b[0m         \u001b[1;32mfor\u001b[0m \u001b[0msource\u001b[0m \u001b[1;32min\u001b[0m \u001b[0margs\u001b[0m\u001b[1;33m:\u001b[0m\u001b[1;33m\u001b[0m\u001b[1;33m\u001b[0m\u001b[0m\n\u001b[0;32m    492\u001b[0m             \u001b[1;32mif\u001b[0m \u001b[0mis_dataset_uri\u001b[0m\u001b[1;33m(\u001b[0m\u001b[0msource\u001b[0m\u001b[1;33m)\u001b[0m\u001b[1;33m:\u001b[0m\u001b[1;33m\u001b[0m\u001b[1;33m\u001b[0m\u001b[0m\n\u001b[1;32m--> 493\u001b[1;33m                 \u001b[0msource\u001b[0m \u001b[1;33m=\u001b[0m \u001b[0mdataset_from_uri\u001b[0m\u001b[1;33m(\u001b[0m\u001b[0msource\u001b[0m\u001b[1;33m,\u001b[0m \u001b[0mmode\u001b[0m\u001b[1;33m=\u001b[0m\u001b[0msrc_mode\u001b[0m\u001b[1;33m)\u001b[0m\u001b[1;33m\u001b[0m\u001b[1;33m\u001b[0m\u001b[0m\n\u001b[0m\u001b[0;32m    494\u001b[0m             \u001b[0mself\u001b[0m\u001b[1;33m.\u001b[0m\u001b[0m_sources\u001b[0m\u001b[1;33m.\u001b[0m\u001b[0mappend\u001b[0m\u001b[1;33m(\u001b[0m\u001b[0msource\u001b[0m\u001b[1;33m)\u001b[0m\u001b[1;33m\u001b[0m\u001b[1;33m\u001b[0m\u001b[0m\n\u001b[0;32m    495\u001b[0m \u001b[1;33m\u001b[0m\u001b[0m\n",
      "\u001b[1;32mC:\\work\\diam\\SuRVoS2\\survos2\\io.py\u001b[0m in \u001b[0;36mdataset_from_uri\u001b[1;34m(uri, mode, shape, dtype, fill)\u001b[0m\n\u001b[0;32m     86\u001b[0m     \u001b[0mloader\u001b[0m \u001b[1;33m=\u001b[0m \u001b[0mdataset_loader\u001b[0m\u001b[1;33m(\u001b[0m\u001b[0muri\u001b[0m\u001b[1;33m)\u001b[0m\u001b[1;33m\u001b[0m\u001b[1;33m\u001b[0m\u001b[0m\n\u001b[0;32m     87\u001b[0m     \u001b[1;32mif\u001b[0m \u001b[0mloader\u001b[0m \u001b[1;32mis\u001b[0m \u001b[1;32mnot\u001b[0m \u001b[1;32mNone\u001b[0m\u001b[1;33m:\u001b[0m\u001b[1;33m\u001b[0m\u001b[1;33m\u001b[0m\u001b[0m\n\u001b[1;32m---> 88\u001b[1;33m         \u001b[1;32mreturn\u001b[0m \u001b[0mloader\u001b[0m\u001b[1;33m(\u001b[0m\u001b[0muri\u001b[0m\u001b[1;33m,\u001b[0m \u001b[0mmode\u001b[0m\u001b[1;33m=\u001b[0m\u001b[0mmode\u001b[0m\u001b[1;33m,\u001b[0m \u001b[0mshape\u001b[0m\u001b[1;33m=\u001b[0m\u001b[0mshape\u001b[0m\u001b[1;33m,\u001b[0m \u001b[0mdtype\u001b[0m\u001b[1;33m=\u001b[0m\u001b[0mdtype\u001b[0m\u001b[1;33m,\u001b[0m \u001b[0mfill\u001b[0m\u001b[1;33m=\u001b[0m\u001b[0mfill\u001b[0m\u001b[1;33m)\u001b[0m\u001b[1;33m\u001b[0m\u001b[1;33m\u001b[0m\u001b[0m\n\u001b[0m\u001b[0;32m     89\u001b[0m     \u001b[1;32melse\u001b[0m\u001b[1;33m:\u001b[0m\u001b[1;33m\u001b[0m\u001b[1;33m\u001b[0m\u001b[0m\n\u001b[0;32m     90\u001b[0m         \u001b[1;32mraise\u001b[0m \u001b[0mValueError\u001b[0m\u001b[1;33m(\u001b[0m\u001b[1;34m'Wrong URI. Only hdf5:// and survos:// uris are supported.'\u001b[0m\u001b[1;33m)\u001b[0m\u001b[1;33m\u001b[0m\u001b[1;33m\u001b[0m\u001b[0m\n",
      "\u001b[1;32mC:\\work\\diam\\SuRVoS2\\survos2\\io.py\u001b[0m in \u001b[0;36msurvos_from_uri\u001b[1;34m(uri, mode, shape, dtype, fill)\u001b[0m\n\u001b[0;32m    191\u001b[0m             \u001b[0mds\u001b[0m \u001b[1;33m=\u001b[0m \u001b[0mws\u001b[0m\u001b[1;33m.\u001b[0m\u001b[0mget_data\u001b[0m\u001b[1;33m(\u001b[0m\u001b[0mreadonly\u001b[0m\u001b[1;33m=\u001b[0m\u001b[1;32mTrue\u001b[0m\u001b[1;33m)\u001b[0m\u001b[1;33m\u001b[0m\u001b[1;33m\u001b[0m\u001b[0m\n\u001b[0;32m    192\u001b[0m         \u001b[1;32melif\u001b[0m \u001b[0mmode\u001b[0m \u001b[1;33m==\u001b[0m \u001b[1;34m'r'\u001b[0m\u001b[1;33m:\u001b[0m\u001b[1;33m\u001b[0m\u001b[1;33m\u001b[0m\u001b[0m\n\u001b[1;32m--> 193\u001b[1;33m             \u001b[0mds\u001b[0m \u001b[1;33m=\u001b[0m \u001b[0mws\u001b[0m\u001b[1;33m.\u001b[0m\u001b[0mget_dataset\u001b[0m\u001b[1;33m(\u001b[0m\u001b[0mdataset\u001b[0m\u001b[1;33m,\u001b[0m \u001b[0msession\u001b[0m\u001b[1;33m=\u001b[0m\u001b[0msession\u001b[0m\u001b[1;33m,\u001b[0m \u001b[0mreadonly\u001b[0m\u001b[1;33m=\u001b[0m\u001b[1;32mTrue\u001b[0m\u001b[1;33m)\u001b[0m\u001b[1;33m\u001b[0m\u001b[1;33m\u001b[0m\u001b[0m\n\u001b[0m\u001b[0;32m    194\u001b[0m         \u001b[1;32melse\u001b[0m\u001b[1;33m:\u001b[0m\u001b[1;33m\u001b[0m\u001b[1;33m\u001b[0m\u001b[0m\n\u001b[0;32m    195\u001b[0m             \u001b[1;32mif\u001b[0m \u001b[0mws\u001b[0m\u001b[1;33m.\u001b[0m\u001b[0mhas_dataset\u001b[0m\u001b[1;33m(\u001b[0m\u001b[0mdataset\u001b[0m\u001b[1;33m,\u001b[0m \u001b[0msession\u001b[0m\u001b[1;33m=\u001b[0m\u001b[0msession\u001b[0m\u001b[1;33m)\u001b[0m\u001b[1;33m:\u001b[0m\u001b[1;33m\u001b[0m\u001b[1;33m\u001b[0m\u001b[0m\n",
      "\u001b[1;32mC:\\work\\diam\\SuRVoS2\\survos2\\model\\workspace.py\u001b[0m in \u001b[0;36mget_dataset\u001b[1;34m(self, dataset_name, session, **kwargs)\u001b[0m\n\u001b[0;32m    250\u001b[0m         \u001b[1;32mif\u001b[0m \u001b[1;32mnot\u001b[0m \u001b[0mself\u001b[0m\u001b[1;33m.\u001b[0m\u001b[0mhas_dataset\u001b[0m\u001b[1;33m(\u001b[0m\u001b[0mdataset_name\u001b[0m\u001b[1;33m,\u001b[0m \u001b[0msession\u001b[0m\u001b[1;33m=\u001b[0m\u001b[0msession\u001b[0m\u001b[1;33m)\u001b[0m\u001b[1;33m:\u001b[0m\u001b[1;33m\u001b[0m\u001b[1;33m\u001b[0m\u001b[0m\n\u001b[0;32m    251\u001b[0m             raise WorkspaceException('Dataset \\'{}::{}\\' does not exist.'\n\u001b[1;32m--> 252\u001b[1;33m                                      .format(session, dataset_name))\n\u001b[0m\u001b[0;32m    253\u001b[0m \u001b[1;33m\u001b[0m\u001b[0m\n\u001b[0;32m    254\u001b[0m         \u001b[0mpath\u001b[0m \u001b[1;33m=\u001b[0m \u001b[0mself\u001b[0m\u001b[1;33m.\u001b[0m\u001b[0mgenpath\u001b[0m\u001b[1;33m(\u001b[0m\u001b[0msession\u001b[0m\u001b[1;33m,\u001b[0m \u001b[0mdataset_name\u001b[0m\u001b[1;33m)\u001b[0m\u001b[1;33m\u001b[0m\u001b[1;33m\u001b[0m\u001b[0m\n",
      "\u001b[1;31mWorkspaceException\u001b[0m: Dataset 'default::regions\\003_supervoxels' does not exist."
     ]
    }
   ],
   "source": [
    "with DatasetManager(src, out=dst, dtype='uint32', fillvalue=0) as DM:\n",
    "    out_dataset = DM.out\n",
    "    out_dataset[:] = test"
   ]
  },
  {
   "cell_type": "code",
   "execution_count": null,
   "metadata": {},
   "outputs": [],
   "source": []
  },
  {
   "cell_type": "code",
   "execution_count": 38,
   "metadata": {},
   "outputs": [],
   "source": [
    "import h5py\n",
    "original_data = h5py.File(\"C:\\\\work\\\\diam\\\\data\\\\test_s2\\\\default\\\\features\\\\004_gaussian\\\\chunk_0x0x0.h5\", 'r')\n",
    "    "
   ]
  },
  {
   "cell_type": "code",
   "execution_count": 40,
   "metadata": {},
   "outputs": [
    {
     "data": {
      "text/plain": [
       "<HDF5 dataset \"data\": shape (99, 256, 256), type \"<f4\">"
      ]
     },
     "execution_count": 40,
     "metadata": {},
     "output_type": "execute_result"
    }
   ],
   "source": [
    "original_data['data']"
   ]
  },
  {
   "cell_type": "code",
   "execution_count": 4,
   "metadata": {},
   "outputs": [],
   "source": []
  },
  {
   "cell_type": "code",
   "execution_count": 8,
   "metadata": {},
   "outputs": [],
   "source": [
    "testvol = np.random.random((99,256,256))# astype(np.uint8)\n"
   ]
  },
  {
   "cell_type": "code",
   "execution_count": 5,
   "metadata": {},
   "outputs": [
    {
     "data": {
      "text/plain": [
       "array([[[0.16094051, 0.64477902, 0.11246761, 0.52530521],\n",
       "        [0.41766472, 0.03019242, 0.70697908, 0.9245239 ],\n",
       "        [0.02184907, 0.26442364, 0.63500628, 0.11733015],\n",
       "        [0.51228618, 0.75893648, 0.24428915, 0.98520807]],\n",
       "\n",
       "       [[0.37079193, 0.71295875, 0.69772056, 0.28569361],\n",
       "        [0.17981007, 0.94798046, 0.37772387, 0.2894099 ],\n",
       "        [0.95225508, 0.18255298, 0.3561669 , 0.10146895],\n",
       "        [0.42029368, 0.20069668, 0.36231378, 0.91021364]],\n",
       "\n",
       "       [[0.43671807, 0.0536361 , 0.34264847, 0.97189999],\n",
       "        [0.3850615 , 0.96374945, 0.32718722, 0.09799987],\n",
       "        [0.64538546, 0.08716533, 0.6921055 , 0.79888368],\n",
       "        [0.99858432, 0.51961402, 0.08161125, 0.38879094]],\n",
       "\n",
       "       [[0.52336522, 0.68105443, 0.85959642, 0.73278854],\n",
       "        [0.0261419 , 0.51104359, 0.68292386, 0.91973855],\n",
       "        [0.8655549 , 0.45079558, 0.18377068, 0.59712437],\n",
       "        [0.94848778, 0.14270591, 0.84624618, 0.80223913]]])"
      ]
     },
     "execution_count": 5,
     "metadata": {},
     "output_type": "execute_result"
    }
   ],
   "source": [
    "testvol"
   ]
  },
  {
   "cell_type": "code",
   "execution_count": 6,
   "metadata": {},
   "outputs": [],
   "source": [
    "testvol = np.array([[[0.1761602 , 0.6701295 , 0.13151232, 0.95726678],\n",
    "        [0.4795476 , 0.48114134, 0.0410548 , 0.29893265],\n",
    "        [0.49127266, 0.70298447, 0.42751211, 0.08101552],\n",
    "        [0.73805652, 0.83111601, 0.36852477, 0.38732476]],\n",
    "\n",
    "       [[0.2847222 , 0.96054574, 0.25430756, 0.35403861],\n",
    "        [0.54439093, 0.65897414, 0.1959487 , 0.90714872],\n",
    "        [0.84462152, 0.90754182, 0.02455657, 0.26180662],\n",
    "        [0.1711208 , 0.40122666, 0.54562598, 0.01419861]],\n",
    "\n",
    "       [[0.59280376, 0.42706895, 0.86637913, 0.87831645],\n",
    "        [0.57991401, 0.31989204, 0.85869799, 0.6333411 ],\n",
    "        [0.21539274, 0.63780214, 0.64204493, 0.74425482],\n",
    "        [0.1903691 , 0.81962537, 0.31774673, 0.34812628]],\n",
    "\n",
    "       [[0.40880077, 0.595773  , 0.28856063, 0.19316746],\n",
    "        [0.03195766, 0.62475541, 0.50762591, 0.34700798],\n",
    "        [0.98913461, 0.07883111, 0.96534233, 0.57697606],\n",
    "        [0.71496714, 0.70764578, 0.92294417, 0.91300531]]])"
   ]
  },
  {
   "cell_type": "code",
   "execution_count": 7,
   "metadata": {},
   "outputs": [
    {
     "ename": "NameError",
     "evalue": "name 'h5py' is not defined",
     "output_type": "error",
     "traceback": [
      "\u001b[1;31m---------------------------------------------------------------------------\u001b[0m",
      "\u001b[1;31mNameError\u001b[0m                                 Traceback (most recent call last)",
      "\u001b[1;32m<ipython-input-7-b45617993da0>\u001b[0m in \u001b[0;36m<module>\u001b[1;34m\u001b[0m\n\u001b[0;32m      5\u001b[0m \u001b[1;33m\u001b[0m\u001b[0m\n\u001b[0;32m      6\u001b[0m \u001b[1;33m\u001b[0m\u001b[0m\n\u001b[1;32m----> 7\u001b[1;33m \u001b[1;32mwith\u001b[0m \u001b[0mh5py\u001b[0m\u001b[1;33m.\u001b[0m\u001b[0mFile\u001b[0m\u001b[1;33m(\u001b[0m\u001b[0mmap_fullpath\u001b[0m\u001b[1;33m,\u001b[0m  \u001b[1;34m'w'\u001b[0m\u001b[1;33m)\u001b[0m \u001b[1;32mas\u001b[0m \u001b[0mhf\u001b[0m\u001b[1;33m:\u001b[0m\u001b[1;33m\u001b[0m\u001b[1;33m\u001b[0m\u001b[0m\n\u001b[0m\u001b[0;32m      8\u001b[0m     \u001b[0mhf\u001b[0m\u001b[1;33m.\u001b[0m\u001b[0mcreate_dataset\u001b[0m\u001b[1;33m(\u001b[0m\u001b[1;34m\"data\"\u001b[0m\u001b[1;33m,\u001b[0m  \u001b[0mdata\u001b[0m\u001b[1;33m=\u001b[0m\u001b[0mtestvol\u001b[0m\u001b[1;33m)\u001b[0m\u001b[1;33m\u001b[0m\u001b[1;33m\u001b[0m\u001b[0m\n",
      "\u001b[1;31mNameError\u001b[0m: name 'h5py' is not defined"
     ]
    }
   ],
   "source": [
    "test_datadir = \"/dls/science/groups/das/SuRVoS/s2/\"\n",
    "\n",
    "# add dataset to workspace from file, so save array to file\n",
    "map_fullpath = os.path.join(test_datadir,\"testvol_4x4x4c.h5\")\n",
    "\n",
    "\n",
    "with h5py.File(map_fullpath,  'w') as hf:\n",
    "    hf.create_dataset(\"data\",  data=testvol)\n"
   ]
  },
  {
   "cell_type": "markdown",
   "metadata": {},
   "source": [
    "# Gaussian blur"
   ]
  },
  {
   "cell_type": "code",
   "execution_count": 22,
   "metadata": {},
   "outputs": [
    {
     "name": "stdout",
     "output_type": "stream",
     "text": [
      "/dls/science/groups/das/SuRVoS/s2/\n",
      "/dls/science/groups/das/SuRVoS/s2/\n",
      "/dls/science/groups/das/SuRVoS/s2/\n",
      "/dls/science/groups/das/SuRVoS/s2/\n",
      "/dls/science/groups/das/SuRVoS/s2/\n",
      "/dls/science/groups/das/SuRVoS/s2/\n"
     ]
    },
    {
     "data": {
      "text/plain": [
       "({'done': True}, False)"
      ]
     },
     "execution_count": 22,
     "metadata": {},
     "output_type": "execute_result"
    }
   ],
   "source": [
    "test_workspace_name = \"testing123b\"\n",
    "# create new workspace\n",
    "survos.run_command(\"workspace\", \"create\", uri=None, workspace=test_workspace_name)\n",
    "    \n",
    "# add data to workspace\n",
    "survos.run_command('workspace', 'add_data', uri=None, workspace=test_workspace_name,\n",
    "                 data_fname=map_fullpath,\n",
    "                  dtype='float32')\n",
    "\n",
    "# run gaussian_blur    \n",
    "DataModel.g.current_workspace = test_workspace_name\n",
    "\n",
    "src = DataModel.g.dataset_uri('__data__', None)\n",
    "dst = DataModel.g.dataset_uri('001_gaussian_blur', group='features')\n",
    "\n",
    "survos.run_command('features', 'gaussian_blur', uri=None, \n",
    "                  src=src,\n",
    "                  dst=dst)\n"
   ]
  },
  {
   "cell_type": "code",
   "execution_count": 23,
   "metadata": {},
   "outputs": [
    {
     "name": "stdout",
     "output_type": "stream",
     "text": [
      "/dls/science/groups/das/SuRVoS/s2/\n",
      "/dls/science/groups/das/SuRVoS/s2/\n",
      "(4, 4, 4)\n"
     ]
    }
   ],
   "source": [
    "with DatasetManager(src, out=dst, dtype='float32', fillvalue=0) as DM:\n",
    "    print(DM.sources[0].shape)\n",
    "    src_dataset = DM.sources[0]\n",
    "    dst_dataset = DM.out\n",
    "    src_arr = src_dataset[:]\n",
    "    dst_arr = dst_dataset[:]"
   ]
  },
  {
   "cell_type": "code",
   "execution_count": 24,
   "metadata": {},
   "outputs": [
    {
     "data": {
      "text/plain": [
       "array([[[0.16612536, 0.67279379, 0.12032965, 0.9673129 ],\n",
       "        [0.47731235, 0.47894706, 0.02754662, 0.29205408],\n",
       "        [0.48933884, 0.70649341, 0.42393911, 0.06853466],\n",
       "        [0.74246711, 0.837919  , 0.3634353 , 0.38271861]],\n",
       "\n",
       "       [[0.27747831, 0.97067616, 0.24628176, 0.34857673],\n",
       "        [0.54382269, 0.66135165, 0.18642259, 0.91590639],\n",
       "        [0.85177172, 0.91630959, 0.01062425, 0.2539736 ],\n",
       "        [0.1609564 , 0.3969779 , 0.54508949, 0.        ]],\n",
       "\n",
       "       [[0.59348014, 0.42348456, 0.87408868, 0.88633289],\n",
       "        [0.58025901, 0.3135523 , 0.86621007, 0.63505962],\n",
       "        [0.2063665 , 0.63963535, 0.64398722, 0.74882475],\n",
       "        [0.18069954, 0.82613296, 0.31135184, 0.3425124 ]],\n",
       "\n",
       "       [[0.40474673, 0.59652571, 0.28141542, 0.18356984],\n",
       "        [0.01821561, 0.62625321, 0.5061125 , 0.34136535],\n",
       "        [1.        , 0.0662941 , 0.97559606, 0.57724553],\n",
       "        [0.71878414, 0.71127456, 0.93210791, 0.92191354]]])"
      ]
     },
     "execution_count": 24,
     "metadata": {},
     "output_type": "execute_result"
    }
   ],
   "source": [
    "src_arr"
   ]
  },
  {
   "cell_type": "code",
   "execution_count": 25,
   "metadata": {},
   "outputs": [
    {
     "data": {
      "text/plain": [
       "array([[[0.1334253 , 0.18309763, 0.18128583, 0.13541691],\n",
       "        [0.19046707, 0.25114629, 0.2388469 , 0.16883893],\n",
       "        [0.19799377, 0.25374037, 0.23332517, 0.15631635],\n",
       "        [0.14958453, 0.18756688, 0.16748451, 0.10621871]],\n",
       "\n",
       "       [[0.18743832, 0.26002762, 0.26079947, 0.1948524 ],\n",
       "        [0.26292312, 0.35610881, 0.34901825, 0.25268969],\n",
       "        [0.26981699, 0.3587358 , 0.34435031, 0.24155034],\n",
       "        [0.20132653, 0.2641314 , 0.24896044, 0.16910219]],\n",
       "\n",
       "       [[0.1889769 , 0.26528233, 0.26963302, 0.20190974],\n",
       "        [0.26367947, 0.36606592, 0.36840445, 0.27200189],\n",
       "        [0.27032515, 0.3715018 , 0.36991027, 0.26886454],\n",
       "        [0.20220719, 0.27610379, 0.27227667, 0.19469661]],\n",
       "\n",
       "       [[0.13751902, 0.19435027, 0.19884795, 0.14815024],\n",
       "        [0.19330847, 0.2737053 , 0.28118965, 0.21023472],\n",
       "        [0.20052321, 0.28329667, 0.2909368 , 0.21732429],\n",
       "        [0.15249521, 0.21546596, 0.22105172, 0.16474919]]])"
      ]
     },
     "execution_count": 25,
     "metadata": {},
     "output_type": "execute_result"
    }
   ],
   "source": [
    "dst_arr"
   ]
  },
  {
   "cell_type": "code",
   "execution_count": null,
   "metadata": {},
   "outputs": [],
   "source": []
  },
  {
   "cell_type": "code",
   "execution_count": null,
   "metadata": {},
   "outputs": [],
   "source": [
    "%%run_pytest[clean] -qq\n",
    "\n",
    "test_datadir = \"D:\\\\datasets\"\n",
    "test_workspace_name = \"testvol_24\"\n",
    "# make test vol\n",
    "map_fullpath = os.path.join(test_datadir,\"testvol_4x4x4b.h5\")\n",
    "#testvol = np.random.random((4,4,4))# astype(np.uint8)\n",
    "#with h5py.File(map_fullpath,  'w') as hf:\n",
    "#    hf.create_dataset(\"data\",  data=testvol)\n",
    "\n",
    "# create new workspace\n",
    "survos.run_command(\"workspace\", \"create\", uri=None, workspace=test_workspace_name)\n",
    "    \n",
    "# add data to workspace\n",
    "survos.run_command('workspace', 'add_data', uri=None, workspace=test_workspace_name,\n",
    "                 data_fname=map_fullpath,\n",
    "                  dtype='float32')\n",
    "\n",
    "## add dataset to workspace\n",
    "\n",
    "# run gaussian_blur    \n",
    "DataModel.g.current_workspace = test_workspace_name\n",
    "\n",
    "src = DataModel.g.dataset_uri('__data__', None)\n",
    "dst = DataModel.g.dataset_uri('001_gaussian_blur', group='features')\n",
    "\n",
    "survos.run_command('features', 'gaussian_blur', uri=None, \n",
    "                  src=src,\n",
    "                  dst=dst)\n",
    "\n",
    "with DatasetManager(src, out=dst, dtype='float32', fillvalue=0) as DM:\n",
    "    print(DM.sources[0].shape)\n",
    "    src_dataset = DM.sources[0]\n",
    "    dst_dataset = DM.out\n",
    "    src_arr = src_dataset[:]\n",
    "    dst_arr = dst_dataset[:]\n",
    "    \n",
    "def test_feature_shape():\n",
    "    assert dst_arr.shape == (4,4,4)\n",
    "    \n",
    "def test_feature_src():    \n",
    "    assert_allclose(src_arr, np.array([[[0.41955446, 0.65139688, 0.50626089, 0.47356243],\n",
    "                            [0.5397072 , 0.88715651, 0.57358875, 0.17841908],\n",
    "                            [0.84062367, 0.42927081, 1.        , 0.601415  ],\n",
    "                            [0.22624536, 0.61382118, 0.81198787, 0.45563817]],\n",
    "\n",
    "                           [[0.26604622, 0.98411002, 0.9910637 , 0.04614431],\n",
    "                            [0.91235452, 0.50873271, 0.9090851 , 0.55183262],\n",
    "                            [0.69766631, 0.34353716, 0.79863059, 0.81746442],\n",
    "                            [0.69540008, 0.25363482, 0.        , 0.98832664]],\n",
    "\n",
    "                           [[0.41824034, 0.2947538 , 0.823542  , 0.02814557],\n",
    "                            [0.22670235, 0.86729335, 0.28522538, 0.31510756],\n",
    "                            [0.25549214, 0.1451409 , 0.30383666, 0.74032794],\n",
    "                            [0.50077333, 0.51566668, 0.30102867, 0.72429019]],\n",
    "\n",
    "                           [[0.6533611 , 0.66302082, 0.55634748, 0.71185593],\n",
    "                            [0.94052145, 0.61666328, 0.9143069 , 0.12840489],\n",
    "                            [0.12144252, 0.84725333, 0.92758133, 0.49322578],\n",
    "                            [0.54037618, 0.051214  , 0.25104931, 0.87874488]]]))\n",
    "    \n",
    "def test_feature_dst():    \n",
    "    assert_allclose(dst_arr, np.array([[[0.1666268 , 0.2257143 , 0.21892974, 0.14923   ],\n",
    "                                        [0.22236633, 0.30317545, 0.29989442, 0.21237083],\n",
    "                                        [0.21442178, 0.29576921, 0.29921022, 0.22003345],\n",
    "                                        [0.14868982, 0.20833325, 0.21602006, 0.16522714]],\n",
    "\n",
    "                                       [[0.22320336, 0.30302912, 0.29496408, 0.20176643],\n",
    "                                        [0.29272896, 0.40102041, 0.39890146, 0.28483036],\n",
    "                                        [0.27765584, 0.38559583, 0.39318019, 0.2930665 ],\n",
    "                                        [0.18990593, 0.26771539, 0.2803525 , 0.21866953]],\n",
    "\n",
    "                                       [[0.21965253, 0.29812005, 0.29064476, 0.19943923],\n",
    "                                        [0.28396353, 0.39044347, 0.38968769, 0.27962744],\n",
    "                                        [0.26546711, 0.37147775, 0.38107473, 0.28643546],\n",
    "                                        [0.17921498, 0.25512561, 0.26955697, 0.21300924]],\n",
    "\n",
    "                                       [[0.16236468, 0.21962528, 0.21409421, 0.14734329],\n",
    "                                        [0.20654736, 0.28440154, 0.28422096, 0.20433155],\n",
    "                                        [0.18955445, 0.26714209, 0.27526605, 0.20778845],\n",
    "                                        [0.12524115, 0.18044972, 0.19238257, 0.15347627]]]))\n"
   ]
  },
  {
   "cell_type": "code",
   "execution_count": null,
   "metadata": {},
   "outputs": [],
   "source": []
  },
  {
   "cell_type": "code",
   "execution_count": null,
   "metadata": {},
   "outputs": [],
   "source": []
  },
  {
   "cell_type": "code",
   "execution_count": 8,
   "metadata": {},
   "outputs": [
    {
     "data": {
      "text/plain": [
       "array([[[4.89214115e-01, 4.88751237e-02, 3.94843333e-01, 6.14048171e-01],\n",
       "        [3.92100031e-01, 6.81171935e-01, 1.81597195e-01, 8.00303290e-01],\n",
       "        [5.01298600e-01, 5.71608870e-01, 1.22835539e-01, 5.01740551e-01],\n",
       "        [1.12990600e-01, 7.46636931e-01, 5.20574562e-01, 8.55714714e-01]],\n",
       "\n",
       "       [[8.12483800e-03, 3.01362385e-03, 4.38506096e-01, 1.93867574e-02],\n",
       "        [2.56053374e-01, 7.88485971e-01, 3.96912904e-01, 4.79070101e-01],\n",
       "        [7.29253366e-01, 9.78596473e-01, 4.51489531e-01, 6.20425318e-01],\n",
       "        [8.67330197e-01, 1.24240882e-01, 7.99268773e-01, 2.08207312e-01]],\n",
       "\n",
       "       [[9.74542099e-01, 2.74473133e-01, 4.25815244e-01, 1.49041921e-01],\n",
       "        [1.83750375e-01, 8.15605562e-01, 9.85184681e-01, 2.51071510e-01],\n",
       "        [8.75301005e-02, 5.27213367e-01, 2.21638196e-01, 6.06119378e-01],\n",
       "        [5.02913560e-01, 9.94965983e-01, 1.46799760e-01, 3.69431563e-01]],\n",
       "\n",
       "       [[3.38063000e-01, 2.36308478e-01, 7.47581840e-01, 3.89268267e-02],\n",
       "        [6.61555719e-01, 9.67296259e-02, 6.77034416e-01, 3.64751986e-04],\n",
       "        [3.86287172e-01, 2.79072286e-01, 1.10532005e-03, 2.92933098e-01],\n",
       "        [8.73301029e-01, 6.67028273e-01, 7.72942551e-01, 1.89942629e-01]]])"
      ]
     },
     "execution_count": 8,
     "metadata": {},
     "output_type": "execute_result"
    }
   ],
   "source": [
    "import h5py\n",
    "#from survos2.improc.utils import DatasetManager\n",
    "from torch.testing import assert_allclose\n",
    "import numpy as np\n",
    "testvol = np.random.random((4,4,4))# astype(np.uint8)\n",
    "testvol"
   ]
  },
  {
   "cell_type": "code",
   "execution_count": null,
   "metadata": {},
   "outputs": [],
   "source": []
  },
  {
   "cell_type": "markdown",
   "metadata": {},
   "source": [
    "# Test brain"
   ]
  },
  {
   "cell_type": "code",
   "execution_count": null,
   "metadata": {},
   "outputs": [],
   "source": [
    "#brain\n",
    "tmpvol_fullpath = \"/dls/science/users/xsy37748/data/data.h5\"\n",
    "import h5py\n",
    "original_data = h5py.File(tmpvol_fullpath, 'r')\n",
    "    "
   ]
  },
  {
   "cell_type": "code",
   "execution_count": 12,
   "metadata": {},
   "outputs": [
    {
     "name": "stdout",
     "output_type": "stream",
     "text": [
      "/dls/science/groups/das/SuRVoS/s2/\n",
      "/dls/science/groups/das/SuRVoS/s2/\n"
     ]
    },
    {
     "data": {
      "text/plain": [
       "({'path': '/dls/science/groups/das/SuRVoS/s2/test_s1', 'data': {}}, False)"
      ]
     },
     "execution_count": 12,
     "metadata": {},
     "output_type": "execute_result"
    }
   ],
   "source": [
    "survos.run_command(\"workspace\", \"create\", uri=None, workspace='test_s1')"
   ]
  },
  {
   "cell_type": "code",
   "execution_count": 14,
   "metadata": {},
   "outputs": [
    {
     "name": "stdout",
     "output_type": "stream",
     "text": [
      "/dls/science/groups/das/SuRVoS/s2/\n",
      "/dls/science/groups/das/SuRVoS/s2/\n"
     ]
    },
    {
     "data": {
      "text/plain": [
       "({'chunk_grid': [1, 1, 1],\n",
       "  'chunk_size': [99, 256, 256],\n",
       "  'dtype': 'float32',\n",
       "  'fillvalue': 0,\n",
       "  'shape': [99, 256, 256],\n",
       "  'id': '__data__',\n",
       "  'path': '/dls/science/groups/das/SuRVoS/s2/test_s1/__data__',\n",
       "  'name': '__data__'},\n",
       " False)"
      ]
     },
     "execution_count": 14,
     "metadata": {},
     "output_type": "execute_result"
    }
   ],
   "source": [
    "survos.run_command('workspace', 'add_data', uri=None, workspace='test_s1',\n",
    "                 data_fname=tmpvol_fullpath, dtype='float32')"
   ]
  },
  {
   "cell_type": "code",
   "execution_count": null,
   "metadata": {},
   "outputs": [],
   "source": []
  }
 ],
 "metadata": {
  "kernelspec": {
   "display_name": "Python 3",
   "language": "python",
   "name": "python3"
  },
  "language_info": {
   "codemirror_mode": {
    "name": "ipython",
    "version": 3
   },
   "file_extension": ".py",
   "mimetype": "text/x-python",
   "name": "python",
   "nbconvert_exporter": "python",
   "pygments_lexer": "ipython3",
   "version": "3.7.6"
  }
 },
 "nbformat": 4,
 "nbformat_minor": 4
}
