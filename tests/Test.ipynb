{
 "cells": [
  {
   "cell_type": "markdown",
   "metadata": {},
   "source": []
  },
  {
   "cell_type": "markdown",
   "metadata": {},
   "source": [
    "# Testing Notebook"
   ]
  },
  {
   "cell_type": "code",
   "execution_count": 2,
   "metadata": {},
   "outputs": [],
   "source": [
    "%matplotlib inline\n",
    "%load_ext autoreload\n",
    "%autoreload 2\n"
   ]
  },
  {
   "cell_type": "code",
   "execution_count": 9,
   "metadata": {},
   "outputs": [],
   "source": [
    "import os\n",
    "#os.getcwd()\n",
    "#os.chdir(\"..\")\n",
    "\n",
    "import numpy as np\n",
    "import pandas as pd\n",
    "import json\n",
    "import os\n",
    "import yaml\n",
    "import numpy as np\n",
    "from loguru import logger\n",
    "import numpy as np\n",
    "from itertools import combinations_with_replacement\n",
    "from loguru import logger\n",
    "from matplotlib import pyplot as plt\n",
    "from survos2 import survos\n",
    "\n",
    "from survos2.frontend.control import Launcher\n",
    "from survos2.model import DataModel\n",
    "from survos2.improc.utils import DatasetManager\n",
    "from survos2.server.pipeline import run_workflow\n",
    "from survos2.server.state import cfg\n",
    "from survos2.server.pipeline import view_dataset\n",
    "from survos2.frontend.nb_utils import view_volume\n",
    "\n",
    "workspace_name = 'vf_main2_oct06'\n",
    "workspace_name = 'tbrain3'\n",
    "workspace_name = 'vf_3003_main'\n",
    "\n",
    "DataModel.g.current_workspace = workspace_name\n",
    "DataModel.g.current_session = 'default'"
   ]
  },
  {
   "cell_type": "code",
   "execution_count": 4,
   "metadata": {},
   "outputs": [
    {
     "data": {
      "text/plain": [
       "'/dls/science/users/xsy37748/jul29b/SuRVoS2'"
      ]
     },
     "execution_count": 4,
     "metadata": {},
     "output_type": "execute_result"
    }
   ],
   "source": [
    "os.getcwd()"
   ]
  },
  {
   "cell_type": "code",
   "execution_count": 7,
   "metadata": {},
   "outputs": [],
   "source": []
  },
  {
   "cell_type": "code",
   "execution_count": null,
   "metadata": {},
   "outputs": [],
   "source": []
  },
  {
   "cell_type": "code",
   "execution_count": null,
   "metadata": {},
   "outputs": [],
   "source": []
  },
  {
   "cell_type": "markdown",
   "metadata": {},
   "source": [
    "# Inspect workspace"
   ]
  },
  {
   "cell_type": "code",
   "execution_count": 10,
   "metadata": {},
   "outputs": [
    {
     "name": "stderr",
     "output_type": "stream",
     "text": [
      "\u001b[34m\u001b[1mDEBUG - Using client <hug.use.Local object at 0x2b24b2f39c70> \u001b[0m\u001b[32m - survos2.survos\u001b[0m:\u001b[36mrun_command\u001b[0m:\u001b[36m111\u001b[0m\n",
      "\u001b[34m\u001b[1mDEBUG - get request to client: existing \u001b[0m\u001b[32m - survos2.survos\u001b[0m:\u001b[36mrun_command\u001b[0m:\u001b[36m114\u001b[0m\n",
      "\u001b[34m\u001b[1mDEBUG - Local client gave response Response(data={'data': {'001_raw': {'kind': 'raw', 'name': '001 Raw', 'id': '001_raw'}, '002_gaussian_blur': {'kind': 'gaussian_blur', 'name': '002 Gaussian Blur', 'sigma': [6.0, 6.0, 6.0], 'source': '__data__', 'id': '002_gaussian_blur'}, '003_laplacian': {'kernel_size': 2.0, 'kind': 'laplacian', 'name': '003 Laplacian', 'source': '002_gaussian_blur', 'id': '003_laplacian'}, '004_raw': {'kind': 'raw', 'name': '004 Raw', 'id': '004_raw'}, '005_simple_invert': {'kind': 'simple_invert', 'name': '005 Simple Invert', 'source': '004_raw', 'id': '005_simple_invert'}, '006_raw': {'kind': 'raw', 'name': '006 Raw', 'id': '006_raw'}, '007_raw': {'kind': 'raw', 'name': '007 Raw', 'id': '007_raw'}}, 'error': False}, status_code=200, headers={'content-type': 'application/json'}) \u001b[0m\u001b[32m - survos2.survos\u001b[0m:\u001b[36mrun_command\u001b[0m:\u001b[36m116\u001b[0m\n"
     ]
    },
    {
     "data": {
      "text/plain": [
       "({'001_raw': {'kind': 'raw', 'name': '001 Raw', 'id': '001_raw'},\n",
       "  '002_gaussian_blur': {'kind': 'gaussian_blur',\n",
       "   'name': '002 Gaussian Blur',\n",
       "   'sigma': [6.0, 6.0, 6.0],\n",
       "   'source': '__data__',\n",
       "   'id': '002_gaussian_blur'},\n",
       "  '003_laplacian': {'kernel_size': 2.0,\n",
       "   'kind': 'laplacian',\n",
       "   'name': '003 Laplacian',\n",
       "   'source': '002_gaussian_blur',\n",
       "   'id': '003_laplacian'},\n",
       "  '004_raw': {'kind': 'raw', 'name': '004 Raw', 'id': '004_raw'},\n",
       "  '005_simple_invert': {'kind': 'simple_invert',\n",
       "   'name': '005 Simple Invert',\n",
       "   'source': '004_raw',\n",
       "   'id': '005_simple_invert'},\n",
       "  '006_raw': {'kind': 'raw', 'name': '006 Raw', 'id': '006_raw'},\n",
       "  '007_raw': {'kind': 'raw', 'name': '007 Raw', 'id': '007_raw'}},\n",
       " False)"
      ]
     },
     "execution_count": 10,
     "metadata": {},
     "output_type": "execute_result"
    }
   ],
   "source": [
    "survos.run_command('features', 'existing', uri=None, workspace=workspace_name)"
   ]
  },
  {
   "cell_type": "code",
   "execution_count": 11,
   "metadata": {},
   "outputs": [
    {
     "name": "stderr",
     "output_type": "stream",
     "text": [
      "\u001b[34m\u001b[1mDEBUG - Using client <hug.use.Local object at 0x2b24b2e36ea0> \u001b[0m\u001b[32m - survos2.survos\u001b[0m:\u001b[36mrun_command\u001b[0m:\u001b[36m111\u001b[0m\n",
      "\u001b[34m\u001b[1mDEBUG - get request to client: existing \u001b[0m\u001b[32m - survos2.survos\u001b[0m:\u001b[36mrun_command\u001b[0m:\u001b[36m114\u001b[0m\n",
      "\u001b[34m\u001b[1mDEBUG - path is not a directory \u001b[0m\u001b[32m - survos2.model.workspace\u001b[0m:\u001b[36mavailable_datasets\u001b[0m:\u001b[36m143\u001b[0m\n",
      "\u001b[34m\u001b[1mDEBUG - Local client gave response Response(data={'data': {}, 'error': False}, status_code=200, headers={'content-type': 'application/json'}) \u001b[0m\u001b[32m - survos2.survos\u001b[0m:\u001b[36mrun_command\u001b[0m:\u001b[36m116\u001b[0m\n"
     ]
    },
    {
     "data": {
      "text/plain": [
       "({}, False)"
      ]
     },
     "execution_count": 11,
     "metadata": {},
     "output_type": "execute_result"
    }
   ],
   "source": [
    "survos.run_command('superregions', 'existing', uri=None, workspace=workspace_name)"
   ]
  },
  {
   "cell_type": "code",
   "execution_count": 10,
   "metadata": {},
   "outputs": [
    {
     "name": "stderr",
     "output_type": "stream",
     "text": [
      "\u001b[34m\u001b[1mDEBUG - Using client <hug.use.Local object at 0x000001DE55E4F900> \u001b[0m\u001b[32m - survos2.survos\u001b[0m:\u001b[36mrun_command\u001b[0m:\u001b[36m111\u001b[0m\n",
      "\u001b[34m\u001b[1mDEBUG - get request to client: get_levels \u001b[0m\u001b[32m - survos2.survos\u001b[0m:\u001b[36mrun_command\u001b[0m:\u001b[36m114\u001b[0m\n",
      "\u001b[34m\u001b[1mDEBUG - Local client gave response Response(data={'data': [{'kind': 'level', 'labels': {'2': {'color': '#4339d4', 'idx': 2, 'name': 'Label', 'visible': True}, '3': {'color': '#9d289d', 'idx': 3, 'name': 'Label', 'visible': True}, '4': {'color': '#ee0004', 'idx': 4, 'name': 'Label', 'visible': True}, '5': {'color': '#23c436', 'idx': 5, 'name': 'Label', 'visible': True}}, 'modified': [1], 'name': '001 Level', 'id': '001_level'}, {'kind': 'level', 'labels': {'2': {'color': '#bb3c6f', 'idx': 2, 'name': 'Label', 'visible': True}, '3': {'color': '#af3131', 'idx': 3, 'name': 'Label', 'visible': True}, '4': {'color': '#6f4883', 'idx': 4, 'name': 'Label', 'visible': True}}, 'modified': [1], 'name': '002 Level', 'id': '002_level'}, {'kind': 'level', 'labels': {'2': {'color': '#2f2c99', 'idx': 2, 'name': 'Label', 'visible': True}, '3': {'color': '#98912c', 'idx': 3, 'name': 'Label', 'visible': True}}, 'modified': [1], 'name': '003 Level', 'id': '003_level'}], 'error': False}, status_code=200, headers={'content-type': 'application/json'}) \u001b[0m\u001b[32m - survos2.survos\u001b[0m:\u001b[36mrun_command\u001b[0m:\u001b[36m116\u001b[0m\n"
     ]
    },
    {
     "data": {
      "text/plain": [
       "([{'kind': 'level',\n",
       "   'labels': {'2': {'color': '#4339d4',\n",
       "     'idx': 2,\n",
       "     'name': 'Label',\n",
       "     'visible': True},\n",
       "    '3': {'color': '#9d289d', 'idx': 3, 'name': 'Label', 'visible': True},\n",
       "    '4': {'color': '#ee0004', 'idx': 4, 'name': 'Label', 'visible': True},\n",
       "    '5': {'color': '#23c436', 'idx': 5, 'name': 'Label', 'visible': True}},\n",
       "   'modified': [1],\n",
       "   'name': '001 Level',\n",
       "   'id': '001_level'},\n",
       "  {'kind': 'level',\n",
       "   'labels': {'2': {'color': '#bb3c6f',\n",
       "     'idx': 2,\n",
       "     'name': 'Label',\n",
       "     'visible': True},\n",
       "    '3': {'color': '#af3131', 'idx': 3, 'name': 'Label', 'visible': True},\n",
       "    '4': {'color': '#6f4883', 'idx': 4, 'name': 'Label', 'visible': True}},\n",
       "   'modified': [1],\n",
       "   'name': '002 Level',\n",
       "   'id': '002_level'},\n",
       "  {'kind': 'level',\n",
       "   'labels': {'2': {'color': '#2f2c99',\n",
       "     'idx': 2,\n",
       "     'name': 'Label',\n",
       "     'visible': True},\n",
       "    '3': {'color': '#98912c', 'idx': 3, 'name': 'Label', 'visible': True}},\n",
       "   'modified': [1],\n",
       "   'name': '003 Level',\n",
       "   'id': '003_level'}],\n",
       " False)"
      ]
     },
     "execution_count": 10,
     "metadata": {},
     "output_type": "execute_result"
    }
   ],
   "source": [
    "survos.run_command('annotations', 'get_levels', uri=None, workspace=workspace_name)"
   ]
  },
  {
   "cell_type": "code",
   "execution_count": null,
   "metadata": {},
   "outputs": [],
   "source": []
  },
  {
   "cell_type": "markdown",
   "metadata": {},
   "source": [
    "# 3d Unet"
   ]
  },
  {
   "cell_type": "code",
   "execution_count": 53,
   "metadata": {},
   "outputs": [],
   "source": [
    "train_3d_fcn(\n",
    "    src: DataURI,\n",
    "    dst: DataURI,\n",
    "    workspace: String,\n",
    "    anno_id: DataURI,\n",
    "    feature_id: DataURI,\n",
    "    objects_id: DataURI,\n",
    "    fpn_train_params: dict,\n",
    "    num_samples: Int,\n",
    "    num_epochs : Int,\n",
    "    num_augs : Int,\n",
    "    padding: IntOrVector = 32,\n",
    "    grid_dim: IntOrVector = 4,\n",
    "    patch_size: IntOrVector = 64,\n",
    "    patch_overlap: IntOrVector = 16,\n",
    "    fcn_type: String = 'fpn3d',\n",
    "    threshold: Float = 0.5,\n",
    "\n",
    "):"
   ]
  },
  {
   "cell_type": "code",
   "execution_count": null,
   "metadata": {},
   "outputs": [],
   "source": [
    "src = DataModel.g.dataset_uri(anno_id, group=\"annotations\")"
   ]
  },
  {
   "cell_type": "code",
   "execution_count": 18,
   "metadata": {},
   "outputs": [
    {
     "name": "stderr",
     "output_type": "stream",
     "text": [
      "\u001b[34m\u001b[1mDEBUG - Using client <hug.use.Local object at 0x2abae1f535e0> \u001b[0m\u001b[32m - survos2.survos\u001b[0m:\u001b[36mrun_command\u001b[0m:\u001b[36m111\u001b[0m\n",
      "\u001b[34m\u001b[1mDEBUG - get request to client: train_3d_fcn \u001b[0m\u001b[32m - survos2.survos\u001b[0m:\u001b[36mrun_command\u001b[0m:\u001b[36m114\u001b[0m\n",
      "\u001b[34m\u001b[1mDEBUG - save_metadata wrapper: src survos://default@vf_main2_oct06:annotations/010_train_3d_fcn, dst survos://default@vf_main2_oct06:annotations/010_train_3d_fcn \u001b[0m\u001b[32m - survos2.api.utils\u001b[0m:\u001b[36mwrapper\u001b[0m:\u001b[36m64\u001b[0m\n",
      "\u001b[34m\u001b[1mDEBUG - Train_3d fcn using anno 005_level and feature 001_raw \u001b[0m\u001b[32m - survos2.api.pipelines\u001b[0m:\u001b[36mtrain_3d_fcn\u001b[0m:\u001b[36m658\u001b[0m\n",
      "\u001b[1mINFO - running survos_from_uri on survos:// uri \u001b[0m\u001b[32m - survos2.io\u001b[0m:\u001b[36msurvos_from_uri\u001b[0m:\u001b[36m166\u001b[0m\n",
      "\u001b[34m\u001b[1mDEBUG - Calling Workspace() Init with workspace name: vf_main2_oct06 \u001b[0m\u001b[32m - survos2.io\u001b[0m:\u001b[36msurvos_from_uri\u001b[0m:\u001b[36m177\u001b[0m\n"
     ]
    },
    {
     "name": "stdout",
     "output_type": "stream",
     "text": [
      "()\n",
      "{'anno_id': '005_level',\n",
      " 'fcn_type': 'fpn3d',\n",
      " 'feature_id': '001_raw',\n",
      " 'fpn_train_params': {'context': {}},\n",
      " 'num_augs': 1,\n",
      " 'num_epochs': 10,\n",
      " 'num_samples': 400,\n",
      " 'objects_id': '001_points',\n",
      " 'padding': [32, 32, 32],\n",
      " 'patch_overlap': [32, 32, 32],\n",
      " 'patch_size': [64, 64, 64],\n",
      " 'threshold': 0.5,\n",
      " 'workspace': 'vf_main2_oct06'}\n"
     ]
    },
    {
     "name": "stderr",
     "output_type": "stream",
     "text": [
      "\u001b[1mINFO - Closed: <survos2.model.dataset.Dataset object at 0x2ab76ff317f0> \u001b[0m\u001b[32m - survos2.improc.utils\u001b[0m:\u001b[36m__exit__\u001b[0m:\u001b[36m568\u001b[0m\n",
      "\u001b[1mINFO - running survos_from_uri on survos:// uri \u001b[0m\u001b[32m - survos2.io\u001b[0m:\u001b[36msurvos_from_uri\u001b[0m:\u001b[36m166\u001b[0m\n",
      "\u001b[34m\u001b[1mDEBUG - Calling Workspace() Init with workspace name: vf_main2_oct06 \u001b[0m\u001b[32m - survos2.io\u001b[0m:\u001b[36msurvos_from_uri\u001b[0m:\u001b[36m177\u001b[0m\n",
      "\u001b[34m\u001b[1mDEBUG - Using dataset <survos2.model.dataset.Dataset object at 0x2ab76fff0160> \u001b[0m\u001b[32m - survos2.api.objects\u001b[0m:\u001b[36mget_entities\u001b[0m:\u001b[36m142\u001b[0m\n",
      "\u001b[1mINFO - Closed: <survos2.model.dataset.Dataset object at 0x2ab76fff0160> \u001b[0m\u001b[32m - survos2.improc.utils\u001b[0m:\u001b[36m__exit__\u001b[0m:\u001b[36m568\u001b[0m\n",
      "\u001b[1mINFO - Setting up entities /dls/science/groups/das/SuRVoS/s2/data/vf_main2_oct06/default/objects/001_points/gold_ed_july17.csv \u001b[0m\u001b[32m - survos2.api.objects\u001b[0m:\u001b[36mget_entities\u001b[0m:\u001b[36m150\u001b[0m\n",
      "\u001b[34m\u001b[1mDEBUG - Loaded entities (680, 4) applying scale 1.0 and offset [0.0, 0.0, 0.0] and crop start [0.0, 0.0, 0.0], crop_end [10000.0, 10000.0, 10000.0] \u001b[0m\u001b[32m - survos2.frontend.components.entity\u001b[0m:\u001b[36msetup_entity_table\u001b[0m:\u001b[36m56\u001b[0m\n",
      "\u001b[34m\u001b[1mDEBUG - Loading entities \u001b[0m\u001b[32m - survos2.frontend.components.entity\u001b[0m:\u001b[36msetup_entity_table\u001b[0m:\u001b[36m79\u001b[0m\n"
     ]
    },
    {
     "name": "stdout",
     "output_type": "stream",
     "text": [
      "Reading entity csv: /dls/science/groups/das/SuRVoS/s2/data/vf_main2_oct06/default/objects/001_points/gold_ed_july17.csv\n",
      "     Unnamed: 0    z    x    y  class_code\n",
      "0             0   25  728   23           0\n",
      "1             1   25  525   82           0\n",
      "2             2   30  433  226           0\n",
      "3             3   27  244  435           0\n",
      "4             4   26  357  437           0\n",
      "..          ...  ...  ...  ...         ...\n",
      "675         675   95  546  653           0\n",
      "676         676   95  366  706           0\n",
      "677         677  106  944  683           0\n",
      "678         678  106  866  815           0\n",
      "679         679  108  799  725           0\n",
      "\n",
      "[680 rows x 5 columns]\n",
      "False\n",
      "----------------------------------------------------------------------------------------------------\n"
     ]
    },
    {
     "name": "stderr",
     "output_type": "stream",
     "text": [
      "\u001b[34m\u001b[1mDEBUG - Loaded 680 entities. \u001b[0m\u001b[32m - survos2.frontend.components.entity\u001b[0m:\u001b[36msetup_entity_table\u001b[0m:\u001b[36m101\u001b[0m\n",
      "\u001b[1mINFO - running survos_from_uri on survos:// uri \u001b[0m\u001b[32m - survos2.io\u001b[0m:\u001b[36msurvos_from_uri\u001b[0m:\u001b[36m166\u001b[0m\n",
      "\u001b[34m\u001b[1mDEBUG - Calling Workspace() Init with workspace name: vf_main2_oct06 \u001b[0m\u001b[32m - survos2.io\u001b[0m:\u001b[36msurvos_from_uri\u001b[0m:\u001b[36m177\u001b[0m\n",
      "\u001b[1mINFO - Closed: <survos2.model.dataset.Dataset object at 0x2ab77002dd30> \u001b[0m\u001b[32m - survos2.improc.utils\u001b[0m:\u001b[36m__exit__\u001b[0m:\u001b[36m568\u001b[0m\n",
      "\u001b[34m\u001b[1mDEBUG - Obtained annotation level with labels [0 1] \u001b[0m\u001b[32m - survos2.api.pipelines\u001b[0m:\u001b[36mtrain_3d_fcn\u001b[0m:\u001b[36m705\u001b[0m\n",
      "\u001b[34m\u001b[1mDEBUG - Making patches in path /dls/science/groups/das/SuRVoS/s2/data/vf_main2_oct06/default/annotations/005_level \u001b[0m\u001b[32m - survos2.api.pipelines\u001b[0m:\u001b[36mtrain_3d_fcn\u001b[0m:\u001b[36m706\u001b[0m\n"
     ]
    },
    {
     "name": "stdout",
     "output_type": "stream",
     "text": [
      "Making patches for 680 locations\n"
     ]
    },
    {
     "name": "stderr",
     "output_type": "stream",
     "text": [
      " WARNING | No handles with labels found to put in legend.\n"
     ]
    },
    {
     "name": "stdout",
     "output_type": "stream",
     "text": [
      "Making 680 bvols\n",
      "Plotting at location: 64, 725, 725\n"
     ]
    },
    {
     "name": "stderr",
     "output_type": "stream",
     "text": [
      " WARNING | No handles with labels found to put in legend.\n"
     ]
    },
    {
     "name": "stdout",
     "output_type": "stream",
     "text": [
      "Augmented point locations (680, 4)\n",
      "Plotting at location: 64, 725, 725\n",
      "Generating 680 patch volumes from image of shape (192, 1514, 1514)\n",
      "Generated 680 MarkedPatches of shape (680, 64, 64, 64)\n",
      "Generating 680 patch volumes from image of shape (192, 1514, 1514)\n",
      "Generated 680 MarkedPatches of shape (680, 64, 64, 64)\n",
      "Marked patches, unique label vols [0. 1.], img mean: 0.5195530402297261\n",
      "raw_X_train (1632, 64, 64, 64), raw_X_test (408, 64, 64, 64), raw_y_train(1632, 64, 64, 64), raw_y_test(408, 64, 64, 64)\n",
      "Unique mask values: [0. 1.]\n",
      "Unique mask values: [0. 1.]\n",
      "Unique mask values: [0. 1.]\n",
      "Unique mask values: [0. 1.]\n",
      "Unique mask values: [0. 1.]\n",
      "Unique mask values: [0. 1.]\n",
      "Unique mask values: [0. 1.]\n",
      "Unique mask values: [0. 1.]\n",
      "Unique mask values: [0. 1.]\n",
      "Unique mask values: [0. 1.]\n",
      "Augmented image vols shape (2040, 64, 64, 64), label vols shape (2040, 64, 64, 64)\n",
      "Saving image vols /dls/science/groups/das/SuRVoS/s2/data/vf_main2_oct06/default/annotations/005_level/vf_main2_oct06_patch_vols2040_img_vols_1807_1814.h5\n",
      "Saving image vols /dls/science/groups/das/SuRVoS/s2/data/vf_main2_oct06/default/annotations/005_level/vf_main2_oct06_patch_vols2040_img_labels_1807_1814.h5\n"
     ]
    },
    {
     "name": "stderr",
     "output_type": "stream",
     "text": [
      "\u001b[1mINFO - Saving fcn model to: /dls/science/groups/das/SuRVoS/s2/data/vf_main2_oct06/fcn/18072022_18_14_37_trained_fcn_model \u001b[0m\u001b[32m - survos2.api.pipelines\u001b[0m:\u001b[36mtrain_3d_fcn\u001b[0m:\u001b[36m721\u001b[0m\n"
     ]
    },
    {
     "name": "stdout",
     "output_type": "stream",
     "text": [
      "Saving image vols /dls/science/groups/das/SuRVoS/s2/data/vf_main2_oct06/default/annotations/005_level/vf_main2_oct06_patch_vols_2040_mask_gt_1807_1814.h5\n",
      "<KeysViewHDF5 ['data']>\n",
      "<KeysViewHDF5 ['data']>\n",
      "(2040, 64, 64, 64) (2040, 64, 64, 64)\n",
      "Prepared train X : (1836, 64, 64, 64) and train y: (1836, 64, 64, 64)  and test X: (204, 64, 64, 64) and test y (204, 64, 64, 64)\n",
      "Device cuda:0\n",
      "Dim: 3 2\n",
      "n_input_channels:36 \n",
      "n_output_channels: 2 with number of classes: 2\n"
     ]
    },
    {
     "data": {
      "application/vnd.jupyter.widget-view+json": {
       "model_id": "f62b6ffd0737425883ff0dc653613498",
       "version_major": 2,
       "version_minor": 0
      },
      "text/plain": [
       "Progress:   0%|          | 0/10 [00:00<?, ?it/s]"
      ]
     },
     "metadata": {},
     "output_type": "display_data"
    },
    {
     "data": {
      "application/vnd.jupyter.widget-view+json": {
       "model_id": "",
       "version_major": 2,
       "version_minor": 0
      },
      "text/plain": [
       "Training:   0%|          | 0/1836 [00:00<?, ?it/s]"
      ]
     },
     "metadata": {},
     "output_type": "display_data"
    },
    {
     "name": "stdout",
     "output_type": "stream",
     "text": [
      "Avg training loss: 0.5985191249509783\n"
     ]
    },
    {
     "data": {
      "application/vnd.jupyter.widget-view+json": {
       "model_id": "",
       "version_major": 2,
       "version_minor": 0
      },
      "text/plain": [
       "Validation:   0%|          | 0/204 [00:00<?, ?it/s]"
      ]
     },
     "metadata": {},
     "output_type": "display_data"
    },
    {
     "name": "stdout",
     "output_type": "stream",
     "text": [
      "Avg validation loss: 0.5677410349542019\n"
     ]
    },
    {
     "data": {
      "application/vnd.jupyter.widget-view+json": {
       "model_id": "",
       "version_major": 2,
       "version_minor": 0
      },
      "text/plain": [
       "Training:   0%|          | 0/1836 [00:00<?, ?it/s]"
      ]
     },
     "metadata": {},
     "output_type": "display_data"
    },
    {
     "name": "stdout",
     "output_type": "stream",
     "text": [
      "Avg training loss: 0.5787371510156879\n"
     ]
    },
    {
     "data": {
      "application/vnd.jupyter.widget-view+json": {
       "model_id": "",
       "version_major": 2,
       "version_minor": 0
      },
      "text/plain": [
       "Validation:   0%|          | 0/204 [00:00<?, ?it/s]"
      ]
     },
     "metadata": {},
     "output_type": "display_data"
    },
    {
     "name": "stdout",
     "output_type": "stream",
     "text": [
      "Avg validation loss: 0.5580465249425056\n"
     ]
    },
    {
     "data": {
      "application/vnd.jupyter.widget-view+json": {
       "model_id": "",
       "version_major": 2,
       "version_minor": 0
      },
      "text/plain": [
       "Training:   0%|          | 0/1836 [00:00<?, ?it/s]"
      ]
     },
     "metadata": {},
     "output_type": "display_data"
    },
    {
     "name": "stdout",
     "output_type": "stream",
     "text": [
      "Avg training loss: 0.5665382576555814\n"
     ]
    },
    {
     "data": {
      "application/vnd.jupyter.widget-view+json": {
       "model_id": "",
       "version_major": 2,
       "version_minor": 0
      },
      "text/plain": [
       "Validation:   0%|          | 0/204 [00:00<?, ?it/s]"
      ]
     },
     "metadata": {},
     "output_type": "display_data"
    },
    {
     "name": "stdout",
     "output_type": "stream",
     "text": [
      "Avg validation loss: 0.5508588364019114\n"
     ]
    },
    {
     "data": {
      "application/vnd.jupyter.widget-view+json": {
       "model_id": "",
       "version_major": 2,
       "version_minor": 0
      },
      "text/plain": [
       "Training:   0%|          | 0/1836 [00:00<?, ?it/s]"
      ]
     },
     "metadata": {},
     "output_type": "display_data"
    },
    {
     "name": "stdout",
     "output_type": "stream",
     "text": [
      "Avg training loss: 0.5579222333587073\n"
     ]
    },
    {
     "data": {
      "application/vnd.jupyter.widget-view+json": {
       "model_id": "",
       "version_major": 2,
       "version_minor": 0
      },
      "text/plain": [
       "Validation:   0%|          | 0/204 [00:00<?, ?it/s]"
      ]
     },
     "metadata": {},
     "output_type": "display_data"
    },
    {
     "name": "stdout",
     "output_type": "stream",
     "text": [
      "Avg validation loss: 0.5447638762347838\n"
     ]
    },
    {
     "data": {
      "application/vnd.jupyter.widget-view+json": {
       "model_id": "",
       "version_major": 2,
       "version_minor": 0
      },
      "text/plain": [
       "Training:   0%|          | 0/1836 [00:00<?, ?it/s]"
      ]
     },
     "metadata": {},
     "output_type": "display_data"
    },
    {
     "name": "stdout",
     "output_type": "stream",
     "text": [
      "Avg training loss: 0.5502365002380217\n"
     ]
    },
    {
     "data": {
      "application/vnd.jupyter.widget-view+json": {
       "model_id": "",
       "version_major": 2,
       "version_minor": 0
      },
      "text/plain": [
       "Validation:   0%|          | 0/204 [00:00<?, ?it/s]"
      ]
     },
     "metadata": {},
     "output_type": "display_data"
    },
    {
     "name": "stdout",
     "output_type": "stream",
     "text": [
      "Avg validation loss: 0.5388009831601498\n"
     ]
    },
    {
     "data": {
      "application/vnd.jupyter.widget-view+json": {
       "model_id": "",
       "version_major": 2,
       "version_minor": 0
      },
      "text/plain": [
       "Training:   0%|          | 0/1836 [00:00<?, ?it/s]"
      ]
     },
     "metadata": {},
     "output_type": "display_data"
    },
    {
     "name": "stdout",
     "output_type": "stream",
     "text": [
      "Avg training loss: 0.5437371948721752\n"
     ]
    },
    {
     "data": {
      "application/vnd.jupyter.widget-view+json": {
       "model_id": "",
       "version_major": 2,
       "version_minor": 0
      },
      "text/plain": [
       "Validation:   0%|          | 0/204 [00:00<?, ?it/s]"
      ]
     },
     "metadata": {},
     "output_type": "display_data"
    },
    {
     "name": "stdout",
     "output_type": "stream",
     "text": [
      "Avg validation loss: 0.5341107468638155\n"
     ]
    },
    {
     "data": {
      "application/vnd.jupyter.widget-view+json": {
       "model_id": "",
       "version_major": 2,
       "version_minor": 0
      },
      "text/plain": [
       "Training:   0%|          | 0/1836 [00:00<?, ?it/s]"
      ]
     },
     "metadata": {},
     "output_type": "display_data"
    },
    {
     "name": "stdout",
     "output_type": "stream",
     "text": [
      "Avg training loss: 0.5384746930363985\n"
     ]
    },
    {
     "data": {
      "application/vnd.jupyter.widget-view+json": {
       "model_id": "",
       "version_major": 2,
       "version_minor": 0
      },
      "text/plain": [
       "Validation:   0%|          | 0/204 [00:00<?, ?it/s]"
      ]
     },
     "metadata": {},
     "output_type": "display_data"
    },
    {
     "name": "stdout",
     "output_type": "stream",
     "text": [
      "Avg validation loss: 0.5310409247290855\n"
     ]
    },
    {
     "data": {
      "application/vnd.jupyter.widget-view+json": {
       "model_id": "",
       "version_major": 2,
       "version_minor": 0
      },
      "text/plain": [
       "Training:   0%|          | 0/1836 [00:00<?, ?it/s]"
      ]
     },
     "metadata": {},
     "output_type": "display_data"
    },
    {
     "name": "stdout",
     "output_type": "stream",
     "text": [
      "Avg training loss: 0.5334220497172999\n"
     ]
    },
    {
     "data": {
      "application/vnd.jupyter.widget-view+json": {
       "model_id": "",
       "version_major": 2,
       "version_minor": 0
      },
      "text/plain": [
       "Validation:   0%|          | 0/204 [00:00<?, ?it/s]"
      ]
     },
     "metadata": {},
     "output_type": "display_data"
    },
    {
     "name": "stdout",
     "output_type": "stream",
     "text": [
      "Avg validation loss: 0.5270398301346337\n"
     ]
    },
    {
     "data": {
      "application/vnd.jupyter.widget-view+json": {
       "model_id": "",
       "version_major": 2,
       "version_minor": 0
      },
      "text/plain": [
       "Training:   0%|          | 0/1836 [00:00<?, ?it/s]"
      ]
     },
     "metadata": {},
     "output_type": "display_data"
    },
    {
     "name": "stdout",
     "output_type": "stream",
     "text": [
      "Avg training loss: 0.5290108939217499\n"
     ]
    },
    {
     "data": {
      "application/vnd.jupyter.widget-view+json": {
       "model_id": "",
       "version_major": 2,
       "version_minor": 0
      },
      "text/plain": [
       "Validation:   0%|          | 0/204 [00:00<?, ?it/s]"
      ]
     },
     "metadata": {},
     "output_type": "display_data"
    },
    {
     "name": "stdout",
     "output_type": "stream",
     "text": [
      "Avg validation loss: 0.5243718705762965\n"
     ]
    },
    {
     "data": {
      "application/vnd.jupyter.widget-view+json": {
       "model_id": "",
       "version_major": 2,
       "version_minor": 0
      },
      "text/plain": [
       "Training:   0%|          | 0/1836 [00:00<?, ?it/s]"
      ]
     },
     "metadata": {},
     "output_type": "display_data"
    },
    {
     "name": "stdout",
     "output_type": "stream",
     "text": [
      "Avg training loss: 0.5250054776489994\n"
     ]
    },
    {
     "data": {
      "application/vnd.jupyter.widget-view+json": {
       "model_id": "",
       "version_major": 2,
       "version_minor": 0
      },
      "text/plain": [
       "Validation:   0%|          | 0/204 [00:00<?, ?it/s]"
      ]
     },
     "metadata": {},
     "output_type": "display_data"
    },
    {
     "name": "stdout",
     "output_type": "stream",
     "text": [
      "Avg validation loss: 0.5216085675008156\n"
     ]
    },
    {
     "name": "stderr",
     "output_type": "stream",
     "text": [
      "\u001b[1mINFO - running survos_from_uri on survos:// uri \u001b[0m\u001b[32m - survos2.io\u001b[0m:\u001b[36msurvos_from_uri\u001b[0m:\u001b[36m166\u001b[0m\n",
      "\u001b[34m\u001b[1mDEBUG - Calling Workspace() Init with workspace name: vf_main2_oct06 \u001b[0m\u001b[32m - survos2.io\u001b[0m:\u001b[36msurvos_from_uri\u001b[0m:\u001b[36m177\u001b[0m\n"
     ]
    },
    {
     "name": "stdout",
     "output_type": "stream",
     "text": [
      "Saved model fpn3d_fullblob1807_1851.pt\n"
     ]
    },
    {
     "name": "stderr",
     "output_type": "stream",
     "text": [
      "\u001b[1mINFO - Closed: <survos2.model.dataset.Dataset object at 0x2ab771db4910> \u001b[0m\u001b[32m - survos2.improc.utils\u001b[0m:\u001b[36m__exit__\u001b[0m:\u001b[36m568\u001b[0m\n"
     ]
    },
    {
     "name": "stdout",
     "output_type": "stream",
     "text": [
      "Using fpn3d\n",
      "Device cuda:0\n",
      "Dim: 3 2\n",
      "n_input_channels:36 \n",
      "n_output_channels: 2 with number of classes: 2\n",
      "Predicting segmentation on volume of shape (128, 1450, 1450)\n",
      "Loaded model from /dls/science/groups/das/SuRVoS/s2/data/vf_main2_oct06/fcn/18072022_18_14_37_trained_fcn_model/fpn3d_fullblob1807_1851.pt\n",
      "(128, 1450, 1450)\n",
      "Predict and aggregate on volume of torch.Size([1, 128, 1450, 1450])\n"
     ]
    },
    {
     "data": {
      "application/vnd.jupyter.widget-view+json": {
       "model_id": "deeb8f8ce35b4b569142407073d0ca33",
       "version_major": 2,
       "version_minor": 0
      },
      "text/plain": [
       "  0%|          | 0/6075 [00:00<?, ?it/s]"
      ]
     },
     "metadata": {},
     "output_type": "display_data"
    },
    {
     "name": "stdout",
     "output_type": "stream",
     "text": [
      "Aggregated volume of torch.Size([1, 128, 1450, 1450])\n"
     ]
    },
    {
     "name": "stderr",
     "output_type": "stream",
     "text": [
      "\u001b[1mINFO - Launching (pass_through::float64) \u001b[0m\u001b[32m - survos2.improc.utils\u001b[0m:\u001b[36mmap_blocks\u001b[0m:\u001b[36m489\u001b[0m\n",
      "\u001b[34m\u001b[1mDEBUG - \n",
      "---\n",
      "blocks: {chunk: true, chunk_size: 10, pad: 0}\n",
      "misc: {timeit: false, uses_gpu: false}\n",
      "out: {dtype: float64, fill: 0}\n",
      "params: {}\n",
      "postprocess: {compute: true, relabel: false}\n",
      "preprocess: {scale: false, stretch: false}\n",
      "... \u001b[0m\u001b[32m - survos2.improc.utils\u001b[0m:\u001b[36mmap_blocks\u001b[0m:\u001b[36m490\u001b[0m\n",
      "\u001b[1mINFO - DatasetManager setting out to survos://default@vf_main2_oct06:annotations/010_train_3d_fcn \u001b[0m\u001b[32m - survos2.improc.utils\u001b[0m:\u001b[36m__init__\u001b[0m:\u001b[36m551\u001b[0m\n",
      "\u001b[1mINFO - running survos_from_uri on survos:// uri \u001b[0m\u001b[32m - survos2.io\u001b[0m:\u001b[36msurvos_from_uri\u001b[0m:\u001b[36m166\u001b[0m\n",
      "\u001b[34m\u001b[1mDEBUG - Calling Workspace() Init with workspace name: vf_main2_oct06 \u001b[0m\u001b[32m - survos2.io\u001b[0m:\u001b[36msurvos_from_uri\u001b[0m:\u001b[36m177\u001b[0m\n",
      "\u001b[1mINFO - Applying <function pass_through at 0x2ab75d833280> to datasets of shape [dask.array<array, shape=(128, 1450, 1450), dtype=float64, chunksize=(64, 145, 132), chunktype=numpy.ndarray>] with stack: False \u001b[0m\u001b[32m - survos2.improc.utils\u001b[0m:\u001b[36m_apply\u001b[0m:\u001b[36m336\u001b[0m\n",
      "\u001b[34m\u001b[1mDEBUG - Chunking dataset[0]: (128, 1450, 1450) \u001b[0m\u001b[32m - survos2.improc.utils\u001b[0m:\u001b[36m_apply\u001b[0m:\u001b[36m343\u001b[0m\n",
      "\u001b[34m\u001b[1mDEBUG - pad is None \u001b[0m\u001b[32m - survos2.improc.utils\u001b[0m:\u001b[36m_apply\u001b[0m:\u001b[36m346\u001b[0m\n",
      "\u001b[34m\u001b[1mDEBUG - Result of applying map blocks (128, 1450, 1450) \u001b[0m\u001b[32m - survos2.improc.utils\u001b[0m:\u001b[36m_apply\u001b[0m:\u001b[36m367\u001b[0m\n",
      "\u001b[34m\u001b[1mDEBUG - Storing dask.array<pass_through, shape=(128, 1450, 1450), dtype=float64, chunksize=(64, 145, 132), chunktype=numpy.ndarray> output in <survos2.model.dataset.Dataset object at 0x2ab770e67a00> \u001b[0m\u001b[32m - survos2.improc.utils\u001b[0m:\u001b[36m_apply\u001b[0m:\u001b[36m374\u001b[0m\n",
      "\u001b[34m\u001b[1mDEBUG - Computed result of (128, 1450, 1450) \u001b[0m\u001b[32m - survos2.improc.utils\u001b[0m:\u001b[36m_apply\u001b[0m:\u001b[36m378\u001b[0m\n",
      "\u001b[1mINFO - Closed: <survos2.model.dataset.Dataset object at 0x2ab770e67a00> \u001b[0m\u001b[32m - survos2.improc.utils\u001b[0m:\u001b[36m__exit__\u001b[0m:\u001b[36m568\u001b[0m\n",
      "\u001b[1mINFO - Creating dataset on /dls/science/groups/das/SuRVoS/s2/data/vf_main2_oct06/default/features/013_logit_map [128, 1450, 1450] float32 None [128, 182, 112] \u001b[0m\u001b[32m - survos2.model.dataset\u001b[0m:\u001b[36mcreate\u001b[0m:\u001b[36m246\u001b[0m\n",
      "\u001b[34m\u001b[1mDEBUG - Creating chunk (0, 0, 0) None None \u001b[0m\u001b[32m - survos2.model.dataset\u001b[0m:\u001b[36mcreate_chunk\u001b[0m:\u001b[36m328\u001b[0m\n",
      "\u001b[34m\u001b[1mDEBUG - Creating chunk (0, 0, 1) None None \u001b[0m\u001b[32m - survos2.model.dataset\u001b[0m:\u001b[36mcreate_chunk\u001b[0m:\u001b[36m328\u001b[0m\n",
      "\u001b[34m\u001b[1mDEBUG - Creating chunk (0, 0, 2) None None \u001b[0m\u001b[32m - survos2.model.dataset\u001b[0m:\u001b[36mcreate_chunk\u001b[0m:\u001b[36m328\u001b[0m\n",
      "\u001b[34m\u001b[1mDEBUG - Creating chunk (0, 0, 3) None None \u001b[0m\u001b[32m - survos2.model.dataset\u001b[0m:\u001b[36mcreate_chunk\u001b[0m:\u001b[36m328\u001b[0m\n",
      "\u001b[34m\u001b[1mDEBUG - Creating chunk (0, 0, 4) None None \u001b[0m\u001b[32m - survos2.model.dataset\u001b[0m:\u001b[36mcreate_chunk\u001b[0m:\u001b[36m328\u001b[0m\n",
      "\u001b[34m\u001b[1mDEBUG - Creating chunk (0, 0, 5) None None \u001b[0m\u001b[32m - survos2.model.dataset\u001b[0m:\u001b[36mcreate_chunk\u001b[0m:\u001b[36m328\u001b[0m\n",
      "\u001b[34m\u001b[1mDEBUG - Creating chunk (0, 0, 6) None None \u001b[0m\u001b[32m - survos2.model.dataset\u001b[0m:\u001b[36mcreate_chunk\u001b[0m:\u001b[36m328\u001b[0m\n",
      "\u001b[34m\u001b[1mDEBUG - Creating chunk (0, 0, 7) None None \u001b[0m\u001b[32m - survos2.model.dataset\u001b[0m:\u001b[36mcreate_chunk\u001b[0m:\u001b[36m328\u001b[0m\n",
      "\u001b[34m\u001b[1mDEBUG - Creating chunk (0, 0, 8) None None \u001b[0m\u001b[32m - survos2.model.dataset\u001b[0m:\u001b[36mcreate_chunk\u001b[0m:\u001b[36m328\u001b[0m\n",
      "\u001b[34m\u001b[1mDEBUG - Creating chunk (0, 0, 9) None None \u001b[0m\u001b[32m - survos2.model.dataset\u001b[0m:\u001b[36mcreate_chunk\u001b[0m:\u001b[36m328\u001b[0m\n",
      "\u001b[34m\u001b[1mDEBUG - Creating chunk (0, 0, 10) None None \u001b[0m\u001b[32m - survos2.model.dataset\u001b[0m:\u001b[36mcreate_chunk\u001b[0m:\u001b[36m328\u001b[0m\n",
      "\u001b[34m\u001b[1mDEBUG - Creating chunk (0, 0, 11) None None \u001b[0m\u001b[32m - survos2.model.dataset\u001b[0m:\u001b[36mcreate_chunk\u001b[0m:\u001b[36m328\u001b[0m\n",
      "\u001b[34m\u001b[1mDEBUG - Creating chunk (0, 0, 12) None None \u001b[0m\u001b[32m - survos2.model.dataset\u001b[0m:\u001b[36mcreate_chunk\u001b[0m:\u001b[36m328\u001b[0m\n",
      "\u001b[34m\u001b[1mDEBUG - Creating chunk (0, 1, 0) None None \u001b[0m\u001b[32m - survos2.model.dataset\u001b[0m:\u001b[36mcreate_chunk\u001b[0m:\u001b[36m328\u001b[0m\n",
      "\u001b[34m\u001b[1mDEBUG - Creating chunk (0, 1, 1) None None \u001b[0m\u001b[32m - survos2.model.dataset\u001b[0m:\u001b[36mcreate_chunk\u001b[0m:\u001b[36m328\u001b[0m\n",
      "\u001b[34m\u001b[1mDEBUG - Creating chunk (0, 1, 2) None None \u001b[0m\u001b[32m - survos2.model.dataset\u001b[0m:\u001b[36mcreate_chunk\u001b[0m:\u001b[36m328\u001b[0m\n",
      "\u001b[34m\u001b[1mDEBUG - Creating chunk (0, 1, 3) None None \u001b[0m\u001b[32m - survos2.model.dataset\u001b[0m:\u001b[36mcreate_chunk\u001b[0m:\u001b[36m328\u001b[0m\n",
      "\u001b[34m\u001b[1mDEBUG - Creating chunk (0, 1, 4) None None \u001b[0m\u001b[32m - survos2.model.dataset\u001b[0m:\u001b[36mcreate_chunk\u001b[0m:\u001b[36m328\u001b[0m\n",
      "\u001b[34m\u001b[1mDEBUG - Creating chunk (0, 1, 5) None None \u001b[0m\u001b[32m - survos2.model.dataset\u001b[0m:\u001b[36mcreate_chunk\u001b[0m:\u001b[36m328\u001b[0m\n",
      "\u001b[34m\u001b[1mDEBUG - Creating chunk (0, 1, 6) None None \u001b[0m\u001b[32m - survos2.model.dataset\u001b[0m:\u001b[36mcreate_chunk\u001b[0m:\u001b[36m328\u001b[0m\n",
      "\u001b[34m\u001b[1mDEBUG - Creating chunk (0, 1, 7) None None \u001b[0m\u001b[32m - survos2.model.dataset\u001b[0m:\u001b[36mcreate_chunk\u001b[0m:\u001b[36m328\u001b[0m\n",
      "\u001b[34m\u001b[1mDEBUG - Creating chunk (0, 1, 8) None None \u001b[0m\u001b[32m - survos2.model.dataset\u001b[0m:\u001b[36mcreate_chunk\u001b[0m:\u001b[36m328\u001b[0m\n",
      "\u001b[34m\u001b[1mDEBUG - Creating chunk (0, 1, 9) None None \u001b[0m\u001b[32m - survos2.model.dataset\u001b[0m:\u001b[36mcreate_chunk\u001b[0m:\u001b[36m328\u001b[0m\n",
      "\u001b[34m\u001b[1mDEBUG - Creating chunk (0, 1, 10) None None \u001b[0m\u001b[32m - survos2.model.dataset\u001b[0m:\u001b[36mcreate_chunk\u001b[0m:\u001b[36m328\u001b[0m\n",
      "\u001b[34m\u001b[1mDEBUG - Creating chunk (0, 1, 11) None None \u001b[0m\u001b[32m - survos2.model.dataset\u001b[0m:\u001b[36mcreate_chunk\u001b[0m:\u001b[36m328\u001b[0m\n",
      "\u001b[34m\u001b[1mDEBUG - Creating chunk (0, 1, 12) None None \u001b[0m\u001b[32m - survos2.model.dataset\u001b[0m:\u001b[36mcreate_chunk\u001b[0m:\u001b[36m328\u001b[0m\n",
      "\u001b[34m\u001b[1mDEBUG - Creating chunk (0, 2, 0) None None \u001b[0m\u001b[32m - survos2.model.dataset\u001b[0m:\u001b[36mcreate_chunk\u001b[0m:\u001b[36m328\u001b[0m\n",
      "\u001b[34m\u001b[1mDEBUG - Creating chunk (0, 2, 1) None None \u001b[0m\u001b[32m - survos2.model.dataset\u001b[0m:\u001b[36mcreate_chunk\u001b[0m:\u001b[36m328\u001b[0m\n",
      "\u001b[34m\u001b[1mDEBUG - Creating chunk (0, 2, 2) None None \u001b[0m\u001b[32m - survos2.model.dataset\u001b[0m:\u001b[36mcreate_chunk\u001b[0m:\u001b[36m328\u001b[0m\n",
      "\u001b[34m\u001b[1mDEBUG - Creating chunk (0, 2, 3) None None \u001b[0m\u001b[32m - survos2.model.dataset\u001b[0m:\u001b[36mcreate_chunk\u001b[0m:\u001b[36m328\u001b[0m\n",
      "\u001b[34m\u001b[1mDEBUG - Creating chunk (0, 2, 4) None None \u001b[0m\u001b[32m - survos2.model.dataset\u001b[0m:\u001b[36mcreate_chunk\u001b[0m:\u001b[36m328\u001b[0m\n",
      "\u001b[34m\u001b[1mDEBUG - Creating chunk (0, 2, 5) None None \u001b[0m\u001b[32m - survos2.model.dataset\u001b[0m:\u001b[36mcreate_chunk\u001b[0m:\u001b[36m328\u001b[0m\n",
      "\u001b[34m\u001b[1mDEBUG - Creating chunk (0, 2, 6) None None \u001b[0m\u001b[32m - survos2.model.dataset\u001b[0m:\u001b[36mcreate_chunk\u001b[0m:\u001b[36m328\u001b[0m\n",
      "\u001b[34m\u001b[1mDEBUG - Creating chunk (0, 2, 7) None None \u001b[0m\u001b[32m - survos2.model.dataset\u001b[0m:\u001b[36mcreate_chunk\u001b[0m:\u001b[36m328\u001b[0m\n",
      "\u001b[34m\u001b[1mDEBUG - Creating chunk (0, 2, 8) None None \u001b[0m\u001b[32m - survos2.model.dataset\u001b[0m:\u001b[36mcreate_chunk\u001b[0m:\u001b[36m328\u001b[0m\n",
      "\u001b[34m\u001b[1mDEBUG - Creating chunk (0, 2, 9) None None \u001b[0m\u001b[32m - survos2.model.dataset\u001b[0m:\u001b[36mcreate_chunk\u001b[0m:\u001b[36m328\u001b[0m\n",
      "\u001b[34m\u001b[1mDEBUG - Creating chunk (0, 2, 10) None None \u001b[0m\u001b[32m - survos2.model.dataset\u001b[0m:\u001b[36mcreate_chunk\u001b[0m:\u001b[36m328\u001b[0m\n",
      "\u001b[34m\u001b[1mDEBUG - Creating chunk (0, 2, 11) None None \u001b[0m\u001b[32m - survos2.model.dataset\u001b[0m:\u001b[36mcreate_chunk\u001b[0m:\u001b[36m328\u001b[0m\n",
      "\u001b[34m\u001b[1mDEBUG - Creating chunk (0, 2, 12) None None \u001b[0m\u001b[32m - survos2.model.dataset\u001b[0m:\u001b[36mcreate_chunk\u001b[0m:\u001b[36m328\u001b[0m\n",
      "\u001b[34m\u001b[1mDEBUG - Creating chunk (0, 3, 0) None None \u001b[0m\u001b[32m - survos2.model.dataset\u001b[0m:\u001b[36mcreate_chunk\u001b[0m:\u001b[36m328\u001b[0m\n",
      "\u001b[34m\u001b[1mDEBUG - Creating chunk (0, 3, 1) None None \u001b[0m\u001b[32m - survos2.model.dataset\u001b[0m:\u001b[36mcreate_chunk\u001b[0m:\u001b[36m328\u001b[0m\n",
      "\u001b[34m\u001b[1mDEBUG - Creating chunk (0, 3, 2) None None \u001b[0m\u001b[32m - survos2.model.dataset\u001b[0m:\u001b[36mcreate_chunk\u001b[0m:\u001b[36m328\u001b[0m\n",
      "\u001b[34m\u001b[1mDEBUG - Creating chunk (0, 3, 3) None None \u001b[0m\u001b[32m - survos2.model.dataset\u001b[0m:\u001b[36mcreate_chunk\u001b[0m:\u001b[36m328\u001b[0m\n",
      "\u001b[34m\u001b[1mDEBUG - Creating chunk (0, 3, 4) None None \u001b[0m\u001b[32m - survos2.model.dataset\u001b[0m:\u001b[36mcreate_chunk\u001b[0m:\u001b[36m328\u001b[0m\n",
      "\u001b[34m\u001b[1mDEBUG - Creating chunk (0, 3, 5) None None \u001b[0m\u001b[32m - survos2.model.dataset\u001b[0m:\u001b[36mcreate_chunk\u001b[0m:\u001b[36m328\u001b[0m\n",
      "\u001b[34m\u001b[1mDEBUG - Creating chunk (0, 3, 6) None None \u001b[0m\u001b[32m - survos2.model.dataset\u001b[0m:\u001b[36mcreate_chunk\u001b[0m:\u001b[36m328\u001b[0m\n",
      "\u001b[34m\u001b[1mDEBUG - Creating chunk (0, 3, 7) None None \u001b[0m\u001b[32m - survos2.model.dataset\u001b[0m:\u001b[36mcreate_chunk\u001b[0m:\u001b[36m328\u001b[0m\n",
      "\u001b[34m\u001b[1mDEBUG - Creating chunk (0, 3, 8) None None \u001b[0m\u001b[32m - survos2.model.dataset\u001b[0m:\u001b[36mcreate_chunk\u001b[0m:\u001b[36m328\u001b[0m\n",
      "\u001b[34m\u001b[1mDEBUG - Creating chunk (0, 3, 9) None None \u001b[0m\u001b[32m - survos2.model.dataset\u001b[0m:\u001b[36mcreate_chunk\u001b[0m:\u001b[36m328\u001b[0m\n",
      "\u001b[34m\u001b[1mDEBUG - Creating chunk (0, 3, 10) None None \u001b[0m\u001b[32m - survos2.model.dataset\u001b[0m:\u001b[36mcreate_chunk\u001b[0m:\u001b[36m328\u001b[0m\n",
      "\u001b[34m\u001b[1mDEBUG - Creating chunk (0, 3, 11) None None \u001b[0m\u001b[32m - survos2.model.dataset\u001b[0m:\u001b[36mcreate_chunk\u001b[0m:\u001b[36m328\u001b[0m\n",
      "\u001b[34m\u001b[1mDEBUG - Creating chunk (0, 3, 12) None None \u001b[0m\u001b[32m - survos2.model.dataset\u001b[0m:\u001b[36mcreate_chunk\u001b[0m:\u001b[36m328\u001b[0m\n",
      "\u001b[34m\u001b[1mDEBUG - Creating chunk (0, 4, 0) None None \u001b[0m\u001b[32m - survos2.model.dataset\u001b[0m:\u001b[36mcreate_chunk\u001b[0m:\u001b[36m328\u001b[0m\n",
      "\u001b[34m\u001b[1mDEBUG - Creating chunk (0, 4, 1) None None \u001b[0m\u001b[32m - survos2.model.dataset\u001b[0m:\u001b[36mcreate_chunk\u001b[0m:\u001b[36m328\u001b[0m\n",
      "\u001b[34m\u001b[1mDEBUG - Creating chunk (0, 4, 2) None None \u001b[0m\u001b[32m - survos2.model.dataset\u001b[0m:\u001b[36mcreate_chunk\u001b[0m:\u001b[36m328\u001b[0m\n",
      "\u001b[34m\u001b[1mDEBUG - Creating chunk (0, 4, 3) None None \u001b[0m\u001b[32m - survos2.model.dataset\u001b[0m:\u001b[36mcreate_chunk\u001b[0m:\u001b[36m328\u001b[0m\n",
      "\u001b[34m\u001b[1mDEBUG - Creating chunk (0, 4, 4) None None \u001b[0m\u001b[32m - survos2.model.dataset\u001b[0m:\u001b[36mcreate_chunk\u001b[0m:\u001b[36m328\u001b[0m\n",
      "\u001b[34m\u001b[1mDEBUG - Creating chunk (0, 4, 5) None None \u001b[0m\u001b[32m - survos2.model.dataset\u001b[0m:\u001b[36mcreate_chunk\u001b[0m:\u001b[36m328\u001b[0m\n",
      "\u001b[34m\u001b[1mDEBUG - Creating chunk (0, 4, 6) None None \u001b[0m\u001b[32m - survos2.model.dataset\u001b[0m:\u001b[36mcreate_chunk\u001b[0m:\u001b[36m328\u001b[0m\n",
      "\u001b[34m\u001b[1mDEBUG - Creating chunk (0, 4, 7) None None \u001b[0m\u001b[32m - survos2.model.dataset\u001b[0m:\u001b[36mcreate_chunk\u001b[0m:\u001b[36m328\u001b[0m\n",
      "\u001b[34m\u001b[1mDEBUG - Creating chunk (0, 4, 8) None None \u001b[0m\u001b[32m - survos2.model.dataset\u001b[0m:\u001b[36mcreate_chunk\u001b[0m:\u001b[36m328\u001b[0m\n",
      "\u001b[34m\u001b[1mDEBUG - Creating chunk (0, 4, 9) None None \u001b[0m\u001b[32m - survos2.model.dataset\u001b[0m:\u001b[36mcreate_chunk\u001b[0m:\u001b[36m328\u001b[0m\n",
      "\u001b[34m\u001b[1mDEBUG - Creating chunk (0, 4, 10) None None \u001b[0m\u001b[32m - survos2.model.dataset\u001b[0m:\u001b[36mcreate_chunk\u001b[0m:\u001b[36m328\u001b[0m\n",
      "\u001b[34m\u001b[1mDEBUG - Creating chunk (0, 4, 11) None None \u001b[0m\u001b[32m - survos2.model.dataset\u001b[0m:\u001b[36mcreate_chunk\u001b[0m:\u001b[36m328\u001b[0m\n",
      "\u001b[34m\u001b[1mDEBUG - Creating chunk (0, 4, 12) None None \u001b[0m\u001b[32m - survos2.model.dataset\u001b[0m:\u001b[36mcreate_chunk\u001b[0m:\u001b[36m328\u001b[0m\n",
      "\u001b[34m\u001b[1mDEBUG - Creating chunk (0, 5, 0) None None \u001b[0m\u001b[32m - survos2.model.dataset\u001b[0m:\u001b[36mcreate_chunk\u001b[0m:\u001b[36m328\u001b[0m\n",
      "\u001b[34m\u001b[1mDEBUG - Creating chunk (0, 5, 1) None None \u001b[0m\u001b[32m - survos2.model.dataset\u001b[0m:\u001b[36mcreate_chunk\u001b[0m:\u001b[36m328\u001b[0m\n",
      "\u001b[34m\u001b[1mDEBUG - Creating chunk (0, 5, 2) None None \u001b[0m\u001b[32m - survos2.model.dataset\u001b[0m:\u001b[36mcreate_chunk\u001b[0m:\u001b[36m328\u001b[0m\n",
      "\u001b[34m\u001b[1mDEBUG - Creating chunk (0, 5, 3) None None \u001b[0m\u001b[32m - survos2.model.dataset\u001b[0m:\u001b[36mcreate_chunk\u001b[0m:\u001b[36m328\u001b[0m\n",
      "\u001b[34m\u001b[1mDEBUG - Creating chunk (0, 5, 4) None None \u001b[0m\u001b[32m - survos2.model.dataset\u001b[0m:\u001b[36mcreate_chunk\u001b[0m:\u001b[36m328\u001b[0m\n",
      "\u001b[34m\u001b[1mDEBUG - Creating chunk (0, 5, 5) None None \u001b[0m\u001b[32m - survos2.model.dataset\u001b[0m:\u001b[36mcreate_chunk\u001b[0m:\u001b[36m328\u001b[0m\n",
      "\u001b[34m\u001b[1mDEBUG - Creating chunk (0, 5, 6) None None \u001b[0m\u001b[32m - survos2.model.dataset\u001b[0m:\u001b[36mcreate_chunk\u001b[0m:\u001b[36m328\u001b[0m\n",
      "\u001b[34m\u001b[1mDEBUG - Creating chunk (0, 5, 7) None None \u001b[0m\u001b[32m - survos2.model.dataset\u001b[0m:\u001b[36mcreate_chunk\u001b[0m:\u001b[36m328\u001b[0m\n",
      "\u001b[34m\u001b[1mDEBUG - Creating chunk (0, 5, 8) None None \u001b[0m\u001b[32m - survos2.model.dataset\u001b[0m:\u001b[36mcreate_chunk\u001b[0m:\u001b[36m328\u001b[0m\n",
      "\u001b[34m\u001b[1mDEBUG - Creating chunk (0, 5, 9) None None \u001b[0m\u001b[32m - survos2.model.dataset\u001b[0m:\u001b[36mcreate_chunk\u001b[0m:\u001b[36m328\u001b[0m\n",
      "\u001b[34m\u001b[1mDEBUG - Creating chunk (0, 5, 10) None None \u001b[0m\u001b[32m - survos2.model.dataset\u001b[0m:\u001b[36mcreate_chunk\u001b[0m:\u001b[36m328\u001b[0m\n",
      "\u001b[34m\u001b[1mDEBUG - Creating chunk (0, 5, 11) None None \u001b[0m\u001b[32m - survos2.model.dataset\u001b[0m:\u001b[36mcreate_chunk\u001b[0m:\u001b[36m328\u001b[0m\n",
      "\u001b[34m\u001b[1mDEBUG - Creating chunk (0, 5, 12) None None \u001b[0m\u001b[32m - survos2.model.dataset\u001b[0m:\u001b[36mcreate_chunk\u001b[0m:\u001b[36m328\u001b[0m\n",
      "\u001b[34m\u001b[1mDEBUG - Creating chunk (0, 6, 0) None None \u001b[0m\u001b[32m - survos2.model.dataset\u001b[0m:\u001b[36mcreate_chunk\u001b[0m:\u001b[36m328\u001b[0m\n",
      "\u001b[34m\u001b[1mDEBUG - Creating chunk (0, 6, 1) None None \u001b[0m\u001b[32m - survos2.model.dataset\u001b[0m:\u001b[36mcreate_chunk\u001b[0m:\u001b[36m328\u001b[0m\n",
      "\u001b[34m\u001b[1mDEBUG - Creating chunk (0, 6, 2) None None \u001b[0m\u001b[32m - survos2.model.dataset\u001b[0m:\u001b[36mcreate_chunk\u001b[0m:\u001b[36m328\u001b[0m\n",
      "\u001b[34m\u001b[1mDEBUG - Creating chunk (0, 6, 3) None None \u001b[0m\u001b[32m - survos2.model.dataset\u001b[0m:\u001b[36mcreate_chunk\u001b[0m:\u001b[36m328\u001b[0m\n",
      "\u001b[34m\u001b[1mDEBUG - Creating chunk (0, 6, 4) None None \u001b[0m\u001b[32m - survos2.model.dataset\u001b[0m:\u001b[36mcreate_chunk\u001b[0m:\u001b[36m328\u001b[0m\n",
      "\u001b[34m\u001b[1mDEBUG - Creating chunk (0, 6, 5) None None \u001b[0m\u001b[32m - survos2.model.dataset\u001b[0m:\u001b[36mcreate_chunk\u001b[0m:\u001b[36m328\u001b[0m\n",
      "\u001b[34m\u001b[1mDEBUG - Creating chunk (0, 6, 6) None None \u001b[0m\u001b[32m - survos2.model.dataset\u001b[0m:\u001b[36mcreate_chunk\u001b[0m:\u001b[36m328\u001b[0m\n",
      "\u001b[34m\u001b[1mDEBUG - Creating chunk (0, 6, 7) None None \u001b[0m\u001b[32m - survos2.model.dataset\u001b[0m:\u001b[36mcreate_chunk\u001b[0m:\u001b[36m328\u001b[0m\n",
      "\u001b[34m\u001b[1mDEBUG - Creating chunk (0, 6, 8) None None \u001b[0m\u001b[32m - survos2.model.dataset\u001b[0m:\u001b[36mcreate_chunk\u001b[0m:\u001b[36m328\u001b[0m\n",
      "\u001b[34m\u001b[1mDEBUG - Creating chunk (0, 6, 9) None None \u001b[0m\u001b[32m - survos2.model.dataset\u001b[0m:\u001b[36mcreate_chunk\u001b[0m:\u001b[36m328\u001b[0m\n",
      "\u001b[34m\u001b[1mDEBUG - Creating chunk (0, 6, 10) None None \u001b[0m\u001b[32m - survos2.model.dataset\u001b[0m:\u001b[36mcreate_chunk\u001b[0m:\u001b[36m328\u001b[0m\n",
      "\u001b[34m\u001b[1mDEBUG - Creating chunk (0, 6, 11) None None \u001b[0m\u001b[32m - survos2.model.dataset\u001b[0m:\u001b[36mcreate_chunk\u001b[0m:\u001b[36m328\u001b[0m\n",
      "\u001b[34m\u001b[1mDEBUG - Creating chunk (0, 6, 12) None None \u001b[0m\u001b[32m - survos2.model.dataset\u001b[0m:\u001b[36mcreate_chunk\u001b[0m:\u001b[36m328\u001b[0m\n",
      "\u001b[34m\u001b[1mDEBUG - Creating chunk (0, 7, 0) None None \u001b[0m\u001b[32m - survos2.model.dataset\u001b[0m:\u001b[36mcreate_chunk\u001b[0m:\u001b[36m328\u001b[0m\n",
      "\u001b[34m\u001b[1mDEBUG - Creating chunk (0, 7, 1) None None \u001b[0m\u001b[32m - survos2.model.dataset\u001b[0m:\u001b[36mcreate_chunk\u001b[0m:\u001b[36m328\u001b[0m\n",
      "\u001b[34m\u001b[1mDEBUG - Creating chunk (0, 7, 2) None None \u001b[0m\u001b[32m - survos2.model.dataset\u001b[0m:\u001b[36mcreate_chunk\u001b[0m:\u001b[36m328\u001b[0m\n",
      "\u001b[34m\u001b[1mDEBUG - Creating chunk (0, 7, 3) None None \u001b[0m\u001b[32m - survos2.model.dataset\u001b[0m:\u001b[36mcreate_chunk\u001b[0m:\u001b[36m328\u001b[0m\n",
      "\u001b[34m\u001b[1mDEBUG - Creating chunk (0, 7, 4) None None \u001b[0m\u001b[32m - survos2.model.dataset\u001b[0m:\u001b[36mcreate_chunk\u001b[0m:\u001b[36m328\u001b[0m\n",
      "\u001b[34m\u001b[1mDEBUG - Creating chunk (0, 7, 5) None None \u001b[0m\u001b[32m - survos2.model.dataset\u001b[0m:\u001b[36mcreate_chunk\u001b[0m:\u001b[36m328\u001b[0m\n",
      "\u001b[34m\u001b[1mDEBUG - Creating chunk (0, 7, 6) None None \u001b[0m\u001b[32m - survos2.model.dataset\u001b[0m:\u001b[36mcreate_chunk\u001b[0m:\u001b[36m328\u001b[0m\n",
      "\u001b[34m\u001b[1mDEBUG - Creating chunk (0, 7, 7) None None \u001b[0m\u001b[32m - survos2.model.dataset\u001b[0m:\u001b[36mcreate_chunk\u001b[0m:\u001b[36m328\u001b[0m\n",
      "\u001b[34m\u001b[1mDEBUG - Creating chunk (0, 7, 8) None None \u001b[0m\u001b[32m - survos2.model.dataset\u001b[0m:\u001b[36mcreate_chunk\u001b[0m:\u001b[36m328\u001b[0m\n",
      "\u001b[34m\u001b[1mDEBUG - Creating chunk (0, 7, 9) None None \u001b[0m\u001b[32m - survos2.model.dataset\u001b[0m:\u001b[36mcreate_chunk\u001b[0m:\u001b[36m328\u001b[0m\n",
      "\u001b[34m\u001b[1mDEBUG - Creating chunk (0, 7, 10) None None \u001b[0m\u001b[32m - survos2.model.dataset\u001b[0m:\u001b[36mcreate_chunk\u001b[0m:\u001b[36m328\u001b[0m\n",
      "\u001b[34m\u001b[1mDEBUG - Creating chunk (0, 7, 11) None None \u001b[0m\u001b[32m - survos2.model.dataset\u001b[0m:\u001b[36mcreate_chunk\u001b[0m:\u001b[36m328\u001b[0m\n",
      "\u001b[34m\u001b[1mDEBUG - Creating chunk (0, 7, 12) None None \u001b[0m\u001b[32m - survos2.model.dataset\u001b[0m:\u001b[36mcreate_chunk\u001b[0m:\u001b[36m328\u001b[0m\n",
      "\u001b[1mINFO - Closed: <survos2.model.dataset.Dataset object at 0x2ab771f88b20> \u001b[0m\u001b[32m - survos2.improc.utils\u001b[0m:\u001b[36m__exit__\u001b[0m:\u001b[36m568\u001b[0m\n",
      "\u001b[1mINFO - Closed: <survos2.model.dataset.Dataset object at 0x2ab771f88b20> \u001b[0m\u001b[32m - survos2.improc.utils\u001b[0m:\u001b[36m__exit__\u001b[0m:\u001b[36m568\u001b[0m\n",
      "\u001b[1mINFO - running survos_from_uri on survos:// uri \u001b[0m\u001b[32m - survos2.io\u001b[0m:\u001b[36msurvos_from_uri\u001b[0m:\u001b[36m166\u001b[0m\n",
      "\u001b[34m\u001b[1mDEBUG - Calling Workspace() Init with workspace name: vf_main2_oct06 \u001b[0m\u001b[32m - survos2.io\u001b[0m:\u001b[36msurvos_from_uri\u001b[0m:\u001b[36m177\u001b[0m\n",
      "\u001b[1mINFO - running survos_from_uri on survos:// uri \u001b[0m\u001b[32m - survos2.io\u001b[0m:\u001b[36msurvos_from_uri\u001b[0m:\u001b[36m166\u001b[0m\n",
      "\u001b[34m\u001b[1mDEBUG - Calling Workspace() Init with workspace name: vf_main2_oct06 \u001b[0m\u001b[32m - survos2.io\u001b[0m:\u001b[36msurvos_from_uri\u001b[0m:\u001b[36m177\u001b[0m\n",
      "\u001b[1mINFO - + Computed: train_3d_fcn \u001b[0m\u001b[32m - survos2.api.utils\u001b[0m:\u001b[36mwrapper\u001b[0m:\u001b[36m88\u001b[0m\n",
      "\u001b[34m\u001b[1mDEBUG - Local client gave response Response(data={'data': {'anno_id': '005_level', 'fcn_type': 'fpn3d', 'feature_id': '001_raw', 'fpn_train_params': {'context': {}}, 'kind': 'train_3d_fcn', 'name': 'train_3d_fcn', 'num_augs': 1, 'num_epochs': 10, 'num_samples': 400, 'objects_id': '001_points', 'padding': [32, 32, 32], 'patch_overlap': [32, 32, 32], 'patch_size': [64, 64, 64], 'source': '010_train_3d_fcn', 'threshold': 0.5, 'workspace': 'vf_main2_oct06', 'id': '010_train_3d_fcn'}, 'error': False}, status_code=200, headers={'content-type': 'application/json'}) \u001b[0m\u001b[32m - survos2.survos\u001b[0m:\u001b[36mrun_command\u001b[0m:\u001b[36m116\u001b[0m\n"
     ]
    },
    {
     "name": "stdout",
     "output_type": "stream",
     "text": [
      "Setting key value workspace, vf_main2_oct06\n",
      "Setting key value anno_id, 005_level\n",
      "Setting key value feature_id, 001_raw\n",
      "Setting key value objects_id, 001_points\n",
      "Setting key value fpn_train_params, {'context': {}}\n",
      "Setting key value num_samples, 400\n",
      "Setting key value num_epochs, 10\n",
      "Setting key value num_augs, 1\n",
      "Setting key value padding, [32, 32, 32]\n",
      "Setting key value patch_size, [64, 64, 64]\n",
      "Setting key value patch_overlap, [32, 32, 32]\n",
      "Setting key value fcn_type, fpn3d\n",
      "Setting key value threshold, 0.5\n"
     ]
    },
    {
     "data": {
      "text/plain": [
       "({'anno_id': '005_level',\n",
       "  'fcn_type': 'fpn3d',\n",
       "  'feature_id': '001_raw',\n",
       "  'fpn_train_params': {'context': {}},\n",
       "  'kind': 'train_3d_fcn',\n",
       "  'name': 'train_3d_fcn',\n",
       "  'num_augs': 1,\n",
       "  'num_epochs': 10,\n",
       "  'num_samples': 400,\n",
       "  'objects_id': '001_points',\n",
       "  'padding': [32, 32, 32],\n",
       "  'patch_overlap': [32, 32, 32],\n",
       "  'patch_size': [64, 64, 64],\n",
       "  'source': '010_train_3d_fcn',\n",
       "  'threshold': 0.5,\n",
       "  'workspace': 'vf_main2_oct06',\n",
       "  'id': '010_train_3d_fcn'},\n",
       " False)"
      ]
     },
     "execution_count": 18,
     "metadata": {},
     "output_type": "execute_result"
    }
   ],
   "source": [
    "params = { \"src\": DataModel.g.dataset_uri(\"010_train_3d_fcn\", group=\"annotations\"),\n",
    "          \"dst\": DataModel.g.dataset_uri(\"010_train_3d_fcn\", group=\"annotations\"),\n",
    "          'anno_id': \"005_level\",\n",
    "          'feature_id': \"001_raw\",\n",
    "          'objects_id': \"001_points\",\n",
    "          'fpn_train_params': {},\n",
    "          'num_samples': 400,\n",
    "          'num_epochs': 10,\n",
    "          'num_augs':1,\n",
    "          'padding': (32,32,32),\n",
    "          'patch_size': (64,64,64),\n",
    "          'patch_overlap': (32,32,32),\n",
    "          'fcn_type': 'fpn3d',\n",
    "          'threshold': 0.5\n",
    "          \n",
    "}\n",
    "survos.run_command('pipelines','train_3d_fcn',  uri=None, workspace=workspace_name, **params)"
   ]
  },
  {
   "cell_type": "code",
   "execution_count": null,
   "metadata": {},
   "outputs": [],
   "source": []
  },
  {
   "cell_type": "code",
   "execution_count": 16,
   "metadata": {},
   "outputs": [],
   "source": [
    "params = { \"src\": DataModel.g.dataset_uri(\"011_predict_3d_fcn\", group=\"annotations\"),\n",
    "          \"dst\": DataModel.g.dataset_uri(\"011_predict_3d_fcn\", group=\"annotations\"),\n",
    "          'anno_id': \"005_level\",\n",
    "          'feature_id': \"001_raw\",\n",
    "          'patch_size': (64,64,64),\n",
    "          'patch_overlap': (32,32,32),\n",
    "          'model_type': 'fpn3d',\n",
    "          'threshold': 0.5,\n",
    "          'model_fullname': \"/dls/science/groups/das/SuRVoS/s2/data/vf_main2_oct06/fcn/18072022_17_06_14_trained_fcn_model/fpn3d_fullblob1807_1729.pt\"\n",
    "          \n",
    "}"
   ]
  },
  {
   "cell_type": "code",
   "execution_count": 17,
   "metadata": {
    "tags": []
   },
   "outputs": [
    {
     "name": "stderr",
     "output_type": "stream",
     "text": [
      "\u001b[34m\u001b[1mDEBUG - Using client <hug.use.Local object at 0x2ab76d4822c0> \u001b[0m\u001b[32m - survos2.survos\u001b[0m:\u001b[36mrun_command\u001b[0m:\u001b[36m111\u001b[0m\n",
      "\u001b[34m\u001b[1mDEBUG - get request to client: predict_3d_fcn \u001b[0m\u001b[32m - survos2.survos\u001b[0m:\u001b[36mrun_command\u001b[0m:\u001b[36m114\u001b[0m\n",
      "\u001b[34m\u001b[1mDEBUG - save_metadata wrapper: src survos://default@vf_main2_oct06:annotations/011_predict_3d_fcn, dst survos://default@vf_main2_oct06:annotations/011_predict_3d_fcn \u001b[0m\u001b[32m - survos2.api.utils\u001b[0m:\u001b[36mwrapper\u001b[0m:\u001b[36m64\u001b[0m\n",
      "\u001b[1mINFO - running survos_from_uri on survos:// uri \u001b[0m\u001b[32m - survos2.io\u001b[0m:\u001b[36msurvos_from_uri\u001b[0m:\u001b[36m166\u001b[0m\n",
      "\u001b[34m\u001b[1mDEBUG - Calling Workspace() Init with workspace name: vf_main2_oct06 \u001b[0m\u001b[32m - survos2.io\u001b[0m:\u001b[36msurvos_from_uri\u001b[0m:\u001b[36m177\u001b[0m\n",
      "\u001b[34m\u001b[1mDEBUG - Adding feature of shape (128, 1450, 1450) \u001b[0m\u001b[32m - survos2.api.pipelines\u001b[0m:\u001b[36mpredict_3d_fcn\u001b[0m:\u001b[36m776\u001b[0m\n",
      "\u001b[1mINFO - Closed: <survos2.model.dataset.Dataset object at 0x2ab823d6e070> \u001b[0m\u001b[32m - survos2.improc.utils\u001b[0m:\u001b[36m__exit__\u001b[0m:\u001b[36m568\u001b[0m\n"
     ]
    },
    {
     "name": "stdout",
     "output_type": "stream",
     "text": [
      "()\n",
      "{'anno_id': '005_level',\n",
      " 'feature_id': '001_raw',\n",
      " 'model_fullname': '/dls/science/groups/das/SuRVoS/s2/data/vf_main2_oct06/fcn/18072022_17_06_14_trained_fcn_model/fpn3d_fullblob1807_1729.pt',\n",
      " 'model_type': 'fpn3d',\n",
      " 'patch_overlap': [16, 16, 16],\n",
      " 'patch_size': [64, 64, 64],\n",
      " 'threshold': 0.5,\n",
      " 'workspace': 'vf_main2_oct06'}\n",
      "Using fpn3d\n",
      "Device cuda:0\n",
      "Dim: 3 2\n",
      "n_input_channels:36 \n",
      "n_output_channels: 2 with number of classes: 2\n",
      "Predicting segmentation on volume of shape (128, 1450, 1450)\n",
      "Loaded model from /dls/science/groups/das/SuRVoS/s2/data/vf_main2_oct06/fcn/18072022_17_06_14_trained_fcn_model/fpn3d_fullblob1807_1729.pt\n",
      "(128, 1450, 1450)\n",
      "Predict and aggregate on volume of torch.Size([1, 128, 1450, 1450])\n"
     ]
    },
    {
     "data": {
      "application/vnd.jupyter.widget-view+json": {
       "model_id": "a74c8feae7a8475bab0dfedc07618a35",
       "version_major": 2,
       "version_minor": 0
      },
      "text/plain": [
       "  0%|          | 0/2700 [00:00<?, ?it/s]"
      ]
     },
     "metadata": {},
     "output_type": "display_data"
    },
    {
     "name": "stdout",
     "output_type": "stream",
     "text": [
      "Aggregated volume of torch.Size([1, 128, 1450, 1450])\n"
     ]
    },
    {
     "name": "stderr",
     "output_type": "stream",
     "text": [
      "\u001b[1mINFO - Creating dataset on /dls/science/groups/das/SuRVoS/s2/data/vf_main2_oct06/default/features/012_confidence_map [128, 1450, 1450] float32 None [128, 182, 112] \u001b[0m\u001b[32m - survos2.model.dataset\u001b[0m:\u001b[36mcreate\u001b[0m:\u001b[36m246\u001b[0m\n",
      "\u001b[34m\u001b[1mDEBUG - Creating chunk (0, 0, 0) None None \u001b[0m\u001b[32m - survos2.model.dataset\u001b[0m:\u001b[36mcreate_chunk\u001b[0m:\u001b[36m328\u001b[0m\n",
      "\u001b[34m\u001b[1mDEBUG - Creating chunk (0, 0, 1) None None \u001b[0m\u001b[32m - survos2.model.dataset\u001b[0m:\u001b[36mcreate_chunk\u001b[0m:\u001b[36m328\u001b[0m\n",
      "\u001b[34m\u001b[1mDEBUG - Creating chunk (0, 0, 2) None None \u001b[0m\u001b[32m - survos2.model.dataset\u001b[0m:\u001b[36mcreate_chunk\u001b[0m:\u001b[36m328\u001b[0m\n",
      "\u001b[34m\u001b[1mDEBUG - Creating chunk (0, 0, 3) None None \u001b[0m\u001b[32m - survos2.model.dataset\u001b[0m:\u001b[36mcreate_chunk\u001b[0m:\u001b[36m328\u001b[0m\n",
      "\u001b[34m\u001b[1mDEBUG - Creating chunk (0, 0, 4) None None \u001b[0m\u001b[32m - survos2.model.dataset\u001b[0m:\u001b[36mcreate_chunk\u001b[0m:\u001b[36m328\u001b[0m\n",
      "\u001b[34m\u001b[1mDEBUG - Creating chunk (0, 0, 5) None None \u001b[0m\u001b[32m - survos2.model.dataset\u001b[0m:\u001b[36mcreate_chunk\u001b[0m:\u001b[36m328\u001b[0m\n",
      "\u001b[34m\u001b[1mDEBUG - Creating chunk (0, 0, 6) None None \u001b[0m\u001b[32m - survos2.model.dataset\u001b[0m:\u001b[36mcreate_chunk\u001b[0m:\u001b[36m328\u001b[0m\n",
      "\u001b[34m\u001b[1mDEBUG - Creating chunk (0, 0, 7) None None \u001b[0m\u001b[32m - survos2.model.dataset\u001b[0m:\u001b[36mcreate_chunk\u001b[0m:\u001b[36m328\u001b[0m\n",
      "\u001b[34m\u001b[1mDEBUG - Creating chunk (0, 0, 8) None None \u001b[0m\u001b[32m - survos2.model.dataset\u001b[0m:\u001b[36mcreate_chunk\u001b[0m:\u001b[36m328\u001b[0m\n",
      "\u001b[34m\u001b[1mDEBUG - Creating chunk (0, 0, 9) None None \u001b[0m\u001b[32m - survos2.model.dataset\u001b[0m:\u001b[36mcreate_chunk\u001b[0m:\u001b[36m328\u001b[0m\n",
      "\u001b[34m\u001b[1mDEBUG - Creating chunk (0, 0, 10) None None \u001b[0m\u001b[32m - survos2.model.dataset\u001b[0m:\u001b[36mcreate_chunk\u001b[0m:\u001b[36m328\u001b[0m\n",
      "\u001b[34m\u001b[1mDEBUG - Creating chunk (0, 0, 11) None None \u001b[0m\u001b[32m - survos2.model.dataset\u001b[0m:\u001b[36mcreate_chunk\u001b[0m:\u001b[36m328\u001b[0m\n",
      "\u001b[34m\u001b[1mDEBUG - Creating chunk (0, 0, 12) None None \u001b[0m\u001b[32m - survos2.model.dataset\u001b[0m:\u001b[36mcreate_chunk\u001b[0m:\u001b[36m328\u001b[0m\n",
      "\u001b[34m\u001b[1mDEBUG - Creating chunk (0, 1, 0) None None \u001b[0m\u001b[32m - survos2.model.dataset\u001b[0m:\u001b[36mcreate_chunk\u001b[0m:\u001b[36m328\u001b[0m\n",
      "\u001b[34m\u001b[1mDEBUG - Creating chunk (0, 1, 1) None None \u001b[0m\u001b[32m - survos2.model.dataset\u001b[0m:\u001b[36mcreate_chunk\u001b[0m:\u001b[36m328\u001b[0m\n",
      "\u001b[34m\u001b[1mDEBUG - Creating chunk (0, 1, 2) None None \u001b[0m\u001b[32m - survos2.model.dataset\u001b[0m:\u001b[36mcreate_chunk\u001b[0m:\u001b[36m328\u001b[0m\n",
      "\u001b[34m\u001b[1mDEBUG - Creating chunk (0, 1, 3) None None \u001b[0m\u001b[32m - survos2.model.dataset\u001b[0m:\u001b[36mcreate_chunk\u001b[0m:\u001b[36m328\u001b[0m\n",
      "\u001b[34m\u001b[1mDEBUG - Creating chunk (0, 1, 4) None None \u001b[0m\u001b[32m - survos2.model.dataset\u001b[0m:\u001b[36mcreate_chunk\u001b[0m:\u001b[36m328\u001b[0m\n",
      "\u001b[34m\u001b[1mDEBUG - Creating chunk (0, 1, 5) None None \u001b[0m\u001b[32m - survos2.model.dataset\u001b[0m:\u001b[36mcreate_chunk\u001b[0m:\u001b[36m328\u001b[0m\n",
      "\u001b[34m\u001b[1mDEBUG - Creating chunk (0, 1, 6) None None \u001b[0m\u001b[32m - survos2.model.dataset\u001b[0m:\u001b[36mcreate_chunk\u001b[0m:\u001b[36m328\u001b[0m\n",
      "\u001b[34m\u001b[1mDEBUG - Creating chunk (0, 1, 7) None None \u001b[0m\u001b[32m - survos2.model.dataset\u001b[0m:\u001b[36mcreate_chunk\u001b[0m:\u001b[36m328\u001b[0m\n",
      "\u001b[34m\u001b[1mDEBUG - Creating chunk (0, 1, 8) None None \u001b[0m\u001b[32m - survos2.model.dataset\u001b[0m:\u001b[36mcreate_chunk\u001b[0m:\u001b[36m328\u001b[0m\n",
      "\u001b[34m\u001b[1mDEBUG - Creating chunk (0, 1, 9) None None \u001b[0m\u001b[32m - survos2.model.dataset\u001b[0m:\u001b[36mcreate_chunk\u001b[0m:\u001b[36m328\u001b[0m\n",
      "\u001b[34m\u001b[1mDEBUG - Creating chunk (0, 1, 10) None None \u001b[0m\u001b[32m - survos2.model.dataset\u001b[0m:\u001b[36mcreate_chunk\u001b[0m:\u001b[36m328\u001b[0m\n",
      "\u001b[34m\u001b[1mDEBUG - Creating chunk (0, 1, 11) None None \u001b[0m\u001b[32m - survos2.model.dataset\u001b[0m:\u001b[36mcreate_chunk\u001b[0m:\u001b[36m328\u001b[0m\n",
      "\u001b[34m\u001b[1mDEBUG - Creating chunk (0, 1, 12) None None \u001b[0m\u001b[32m - survos2.model.dataset\u001b[0m:\u001b[36mcreate_chunk\u001b[0m:\u001b[36m328\u001b[0m\n",
      "\u001b[34m\u001b[1mDEBUG - Creating chunk (0, 2, 0) None None \u001b[0m\u001b[32m - survos2.model.dataset\u001b[0m:\u001b[36mcreate_chunk\u001b[0m:\u001b[36m328\u001b[0m\n",
      "\u001b[34m\u001b[1mDEBUG - Creating chunk (0, 2, 1) None None \u001b[0m\u001b[32m - survos2.model.dataset\u001b[0m:\u001b[36mcreate_chunk\u001b[0m:\u001b[36m328\u001b[0m\n",
      "\u001b[34m\u001b[1mDEBUG - Creating chunk (0, 2, 2) None None \u001b[0m\u001b[32m - survos2.model.dataset\u001b[0m:\u001b[36mcreate_chunk\u001b[0m:\u001b[36m328\u001b[0m\n",
      "\u001b[34m\u001b[1mDEBUG - Creating chunk (0, 2, 3) None None \u001b[0m\u001b[32m - survos2.model.dataset\u001b[0m:\u001b[36mcreate_chunk\u001b[0m:\u001b[36m328\u001b[0m\n",
      "\u001b[34m\u001b[1mDEBUG - Creating chunk (0, 2, 4) None None \u001b[0m\u001b[32m - survos2.model.dataset\u001b[0m:\u001b[36mcreate_chunk\u001b[0m:\u001b[36m328\u001b[0m\n",
      "\u001b[34m\u001b[1mDEBUG - Creating chunk (0, 2, 5) None None \u001b[0m\u001b[32m - survos2.model.dataset\u001b[0m:\u001b[36mcreate_chunk\u001b[0m:\u001b[36m328\u001b[0m\n",
      "\u001b[34m\u001b[1mDEBUG - Creating chunk (0, 2, 6) None None \u001b[0m\u001b[32m - survos2.model.dataset\u001b[0m:\u001b[36mcreate_chunk\u001b[0m:\u001b[36m328\u001b[0m\n",
      "\u001b[34m\u001b[1mDEBUG - Creating chunk (0, 2, 7) None None \u001b[0m\u001b[32m - survos2.model.dataset\u001b[0m:\u001b[36mcreate_chunk\u001b[0m:\u001b[36m328\u001b[0m\n",
      "\u001b[34m\u001b[1mDEBUG - Creating chunk (0, 2, 8) None None \u001b[0m\u001b[32m - survos2.model.dataset\u001b[0m:\u001b[36mcreate_chunk\u001b[0m:\u001b[36m328\u001b[0m\n",
      "\u001b[34m\u001b[1mDEBUG - Creating chunk (0, 2, 9) None None \u001b[0m\u001b[32m - survos2.model.dataset\u001b[0m:\u001b[36mcreate_chunk\u001b[0m:\u001b[36m328\u001b[0m\n",
      "\u001b[34m\u001b[1mDEBUG - Creating chunk (0, 2, 10) None None \u001b[0m\u001b[32m - survos2.model.dataset\u001b[0m:\u001b[36mcreate_chunk\u001b[0m:\u001b[36m328\u001b[0m\n",
      "\u001b[34m\u001b[1mDEBUG - Creating chunk (0, 2, 11) None None \u001b[0m\u001b[32m - survos2.model.dataset\u001b[0m:\u001b[36mcreate_chunk\u001b[0m:\u001b[36m328\u001b[0m\n",
      "\u001b[34m\u001b[1mDEBUG - Creating chunk (0, 2, 12) None None \u001b[0m\u001b[32m - survos2.model.dataset\u001b[0m:\u001b[36mcreate_chunk\u001b[0m:\u001b[36m328\u001b[0m\n",
      "\u001b[34m\u001b[1mDEBUG - Creating chunk (0, 3, 0) None None \u001b[0m\u001b[32m - survos2.model.dataset\u001b[0m:\u001b[36mcreate_chunk\u001b[0m:\u001b[36m328\u001b[0m\n",
      "\u001b[34m\u001b[1mDEBUG - Creating chunk (0, 3, 1) None None \u001b[0m\u001b[32m - survos2.model.dataset\u001b[0m:\u001b[36mcreate_chunk\u001b[0m:\u001b[36m328\u001b[0m\n",
      "\u001b[34m\u001b[1mDEBUG - Creating chunk (0, 3, 2) None None \u001b[0m\u001b[32m - survos2.model.dataset\u001b[0m:\u001b[36mcreate_chunk\u001b[0m:\u001b[36m328\u001b[0m\n",
      "\u001b[34m\u001b[1mDEBUG - Creating chunk (0, 3, 3) None None \u001b[0m\u001b[32m - survos2.model.dataset\u001b[0m:\u001b[36mcreate_chunk\u001b[0m:\u001b[36m328\u001b[0m\n",
      "\u001b[34m\u001b[1mDEBUG - Creating chunk (0, 3, 4) None None \u001b[0m\u001b[32m - survos2.model.dataset\u001b[0m:\u001b[36mcreate_chunk\u001b[0m:\u001b[36m328\u001b[0m\n",
      "\u001b[34m\u001b[1mDEBUG - Creating chunk (0, 3, 5) None None \u001b[0m\u001b[32m - survos2.model.dataset\u001b[0m:\u001b[36mcreate_chunk\u001b[0m:\u001b[36m328\u001b[0m\n",
      "\u001b[34m\u001b[1mDEBUG - Creating chunk (0, 3, 6) None None \u001b[0m\u001b[32m - survos2.model.dataset\u001b[0m:\u001b[36mcreate_chunk\u001b[0m:\u001b[36m328\u001b[0m\n",
      "\u001b[34m\u001b[1mDEBUG - Creating chunk (0, 3, 7) None None \u001b[0m\u001b[32m - survos2.model.dataset\u001b[0m:\u001b[36mcreate_chunk\u001b[0m:\u001b[36m328\u001b[0m\n",
      "\u001b[34m\u001b[1mDEBUG - Creating chunk (0, 3, 8) None None \u001b[0m\u001b[32m - survos2.model.dataset\u001b[0m:\u001b[36mcreate_chunk\u001b[0m:\u001b[36m328\u001b[0m\n",
      "\u001b[34m\u001b[1mDEBUG - Creating chunk (0, 3, 9) None None \u001b[0m\u001b[32m - survos2.model.dataset\u001b[0m:\u001b[36mcreate_chunk\u001b[0m:\u001b[36m328\u001b[0m\n",
      "\u001b[34m\u001b[1mDEBUG - Creating chunk (0, 3, 10) None None \u001b[0m\u001b[32m - survos2.model.dataset\u001b[0m:\u001b[36mcreate_chunk\u001b[0m:\u001b[36m328\u001b[0m\n",
      "\u001b[34m\u001b[1mDEBUG - Creating chunk (0, 3, 11) None None \u001b[0m\u001b[32m - survos2.model.dataset\u001b[0m:\u001b[36mcreate_chunk\u001b[0m:\u001b[36m328\u001b[0m\n",
      "\u001b[34m\u001b[1mDEBUG - Creating chunk (0, 3, 12) None None \u001b[0m\u001b[32m - survos2.model.dataset\u001b[0m:\u001b[36mcreate_chunk\u001b[0m:\u001b[36m328\u001b[0m\n",
      "\u001b[34m\u001b[1mDEBUG - Creating chunk (0, 4, 0) None None \u001b[0m\u001b[32m - survos2.model.dataset\u001b[0m:\u001b[36mcreate_chunk\u001b[0m:\u001b[36m328\u001b[0m\n",
      "\u001b[34m\u001b[1mDEBUG - Creating chunk (0, 4, 1) None None \u001b[0m\u001b[32m - survos2.model.dataset\u001b[0m:\u001b[36mcreate_chunk\u001b[0m:\u001b[36m328\u001b[0m\n",
      "\u001b[34m\u001b[1mDEBUG - Creating chunk (0, 4, 2) None None \u001b[0m\u001b[32m - survos2.model.dataset\u001b[0m:\u001b[36mcreate_chunk\u001b[0m:\u001b[36m328\u001b[0m\n",
      "\u001b[34m\u001b[1mDEBUG - Creating chunk (0, 4, 3) None None \u001b[0m\u001b[32m - survos2.model.dataset\u001b[0m:\u001b[36mcreate_chunk\u001b[0m:\u001b[36m328\u001b[0m\n",
      "\u001b[34m\u001b[1mDEBUG - Creating chunk (0, 4, 4) None None \u001b[0m\u001b[32m - survos2.model.dataset\u001b[0m:\u001b[36mcreate_chunk\u001b[0m:\u001b[36m328\u001b[0m\n",
      "\u001b[34m\u001b[1mDEBUG - Creating chunk (0, 4, 5) None None \u001b[0m\u001b[32m - survos2.model.dataset\u001b[0m:\u001b[36mcreate_chunk\u001b[0m:\u001b[36m328\u001b[0m\n",
      "\u001b[34m\u001b[1mDEBUG - Creating chunk (0, 4, 6) None None \u001b[0m\u001b[32m - survos2.model.dataset\u001b[0m:\u001b[36mcreate_chunk\u001b[0m:\u001b[36m328\u001b[0m\n",
      "\u001b[34m\u001b[1mDEBUG - Creating chunk (0, 4, 7) None None \u001b[0m\u001b[32m - survos2.model.dataset\u001b[0m:\u001b[36mcreate_chunk\u001b[0m:\u001b[36m328\u001b[0m\n",
      "\u001b[34m\u001b[1mDEBUG - Creating chunk (0, 4, 8) None None \u001b[0m\u001b[32m - survos2.model.dataset\u001b[0m:\u001b[36mcreate_chunk\u001b[0m:\u001b[36m328\u001b[0m\n",
      "\u001b[34m\u001b[1mDEBUG - Creating chunk (0, 4, 9) None None \u001b[0m\u001b[32m - survos2.model.dataset\u001b[0m:\u001b[36mcreate_chunk\u001b[0m:\u001b[36m328\u001b[0m\n",
      "\u001b[34m\u001b[1mDEBUG - Creating chunk (0, 4, 10) None None \u001b[0m\u001b[32m - survos2.model.dataset\u001b[0m:\u001b[36mcreate_chunk\u001b[0m:\u001b[36m328\u001b[0m\n",
      "\u001b[34m\u001b[1mDEBUG - Creating chunk (0, 4, 11) None None \u001b[0m\u001b[32m - survos2.model.dataset\u001b[0m:\u001b[36mcreate_chunk\u001b[0m:\u001b[36m328\u001b[0m\n",
      "\u001b[34m\u001b[1mDEBUG - Creating chunk (0, 4, 12) None None \u001b[0m\u001b[32m - survos2.model.dataset\u001b[0m:\u001b[36mcreate_chunk\u001b[0m:\u001b[36m328\u001b[0m\n",
      "\u001b[34m\u001b[1mDEBUG - Creating chunk (0, 5, 0) None None \u001b[0m\u001b[32m - survos2.model.dataset\u001b[0m:\u001b[36mcreate_chunk\u001b[0m:\u001b[36m328\u001b[0m\n",
      "\u001b[34m\u001b[1mDEBUG - Creating chunk (0, 5, 1) None None \u001b[0m\u001b[32m - survos2.model.dataset\u001b[0m:\u001b[36mcreate_chunk\u001b[0m:\u001b[36m328\u001b[0m\n",
      "\u001b[34m\u001b[1mDEBUG - Creating chunk (0, 5, 2) None None \u001b[0m\u001b[32m - survos2.model.dataset\u001b[0m:\u001b[36mcreate_chunk\u001b[0m:\u001b[36m328\u001b[0m\n",
      "\u001b[34m\u001b[1mDEBUG - Creating chunk (0, 5, 3) None None \u001b[0m\u001b[32m - survos2.model.dataset\u001b[0m:\u001b[36mcreate_chunk\u001b[0m:\u001b[36m328\u001b[0m\n",
      "\u001b[34m\u001b[1mDEBUG - Creating chunk (0, 5, 4) None None \u001b[0m\u001b[32m - survos2.model.dataset\u001b[0m:\u001b[36mcreate_chunk\u001b[0m:\u001b[36m328\u001b[0m\n",
      "\u001b[34m\u001b[1mDEBUG - Creating chunk (0, 5, 5) None None \u001b[0m\u001b[32m - survos2.model.dataset\u001b[0m:\u001b[36mcreate_chunk\u001b[0m:\u001b[36m328\u001b[0m\n",
      "\u001b[34m\u001b[1mDEBUG - Creating chunk (0, 5, 6) None None \u001b[0m\u001b[32m - survos2.model.dataset\u001b[0m:\u001b[36mcreate_chunk\u001b[0m:\u001b[36m328\u001b[0m\n",
      "\u001b[34m\u001b[1mDEBUG - Creating chunk (0, 5, 7) None None \u001b[0m\u001b[32m - survos2.model.dataset\u001b[0m:\u001b[36mcreate_chunk\u001b[0m:\u001b[36m328\u001b[0m\n",
      "\u001b[34m\u001b[1mDEBUG - Creating chunk (0, 5, 8) None None \u001b[0m\u001b[32m - survos2.model.dataset\u001b[0m:\u001b[36mcreate_chunk\u001b[0m:\u001b[36m328\u001b[0m\n",
      "\u001b[34m\u001b[1mDEBUG - Creating chunk (0, 5, 9) None None \u001b[0m\u001b[32m - survos2.model.dataset\u001b[0m:\u001b[36mcreate_chunk\u001b[0m:\u001b[36m328\u001b[0m\n",
      "\u001b[34m\u001b[1mDEBUG - Creating chunk (0, 5, 10) None None \u001b[0m\u001b[32m - survos2.model.dataset\u001b[0m:\u001b[36mcreate_chunk\u001b[0m:\u001b[36m328\u001b[0m\n",
      "\u001b[34m\u001b[1mDEBUG - Creating chunk (0, 5, 11) None None \u001b[0m\u001b[32m - survos2.model.dataset\u001b[0m:\u001b[36mcreate_chunk\u001b[0m:\u001b[36m328\u001b[0m\n",
      "\u001b[34m\u001b[1mDEBUG - Creating chunk (0, 5, 12) None None \u001b[0m\u001b[32m - survos2.model.dataset\u001b[0m:\u001b[36mcreate_chunk\u001b[0m:\u001b[36m328\u001b[0m\n",
      "\u001b[34m\u001b[1mDEBUG - Creating chunk (0, 6, 0) None None \u001b[0m\u001b[32m - survos2.model.dataset\u001b[0m:\u001b[36mcreate_chunk\u001b[0m:\u001b[36m328\u001b[0m\n",
      "\u001b[34m\u001b[1mDEBUG - Creating chunk (0, 6, 1) None None \u001b[0m\u001b[32m - survos2.model.dataset\u001b[0m:\u001b[36mcreate_chunk\u001b[0m:\u001b[36m328\u001b[0m\n",
      "\u001b[34m\u001b[1mDEBUG - Creating chunk (0, 6, 2) None None \u001b[0m\u001b[32m - survos2.model.dataset\u001b[0m:\u001b[36mcreate_chunk\u001b[0m:\u001b[36m328\u001b[0m\n",
      "\u001b[34m\u001b[1mDEBUG - Creating chunk (0, 6, 3) None None \u001b[0m\u001b[32m - survos2.model.dataset\u001b[0m:\u001b[36mcreate_chunk\u001b[0m:\u001b[36m328\u001b[0m\n",
      "\u001b[34m\u001b[1mDEBUG - Creating chunk (0, 6, 4) None None \u001b[0m\u001b[32m - survos2.model.dataset\u001b[0m:\u001b[36mcreate_chunk\u001b[0m:\u001b[36m328\u001b[0m\n",
      "\u001b[34m\u001b[1mDEBUG - Creating chunk (0, 6, 5) None None \u001b[0m\u001b[32m - survos2.model.dataset\u001b[0m:\u001b[36mcreate_chunk\u001b[0m:\u001b[36m328\u001b[0m\n",
      "\u001b[34m\u001b[1mDEBUG - Creating chunk (0, 6, 6) None None \u001b[0m\u001b[32m - survos2.model.dataset\u001b[0m:\u001b[36mcreate_chunk\u001b[0m:\u001b[36m328\u001b[0m\n",
      "\u001b[34m\u001b[1mDEBUG - Creating chunk (0, 6, 7) None None \u001b[0m\u001b[32m - survos2.model.dataset\u001b[0m:\u001b[36mcreate_chunk\u001b[0m:\u001b[36m328\u001b[0m\n",
      "\u001b[34m\u001b[1mDEBUG - Creating chunk (0, 6, 8) None None \u001b[0m\u001b[32m - survos2.model.dataset\u001b[0m:\u001b[36mcreate_chunk\u001b[0m:\u001b[36m328\u001b[0m\n",
      "\u001b[34m\u001b[1mDEBUG - Creating chunk (0, 6, 9) None None \u001b[0m\u001b[32m - survos2.model.dataset\u001b[0m:\u001b[36mcreate_chunk\u001b[0m:\u001b[36m328\u001b[0m\n",
      "\u001b[34m\u001b[1mDEBUG - Creating chunk (0, 6, 10) None None \u001b[0m\u001b[32m - survos2.model.dataset\u001b[0m:\u001b[36mcreate_chunk\u001b[0m:\u001b[36m328\u001b[0m\n",
      "\u001b[34m\u001b[1mDEBUG - Creating chunk (0, 6, 11) None None \u001b[0m\u001b[32m - survos2.model.dataset\u001b[0m:\u001b[36mcreate_chunk\u001b[0m:\u001b[36m328\u001b[0m\n",
      "\u001b[34m\u001b[1mDEBUG - Creating chunk (0, 6, 12) None None \u001b[0m\u001b[32m - survos2.model.dataset\u001b[0m:\u001b[36mcreate_chunk\u001b[0m:\u001b[36m328\u001b[0m\n",
      "\u001b[34m\u001b[1mDEBUG - Creating chunk (0, 7, 0) None None \u001b[0m\u001b[32m - survos2.model.dataset\u001b[0m:\u001b[36mcreate_chunk\u001b[0m:\u001b[36m328\u001b[0m\n",
      "\u001b[34m\u001b[1mDEBUG - Creating chunk (0, 7, 1) None None \u001b[0m\u001b[32m - survos2.model.dataset\u001b[0m:\u001b[36mcreate_chunk\u001b[0m:\u001b[36m328\u001b[0m\n",
      "\u001b[34m\u001b[1mDEBUG - Creating chunk (0, 7, 2) None None \u001b[0m\u001b[32m - survos2.model.dataset\u001b[0m:\u001b[36mcreate_chunk\u001b[0m:\u001b[36m328\u001b[0m\n",
      "\u001b[34m\u001b[1mDEBUG - Creating chunk (0, 7, 3) None None \u001b[0m\u001b[32m - survos2.model.dataset\u001b[0m:\u001b[36mcreate_chunk\u001b[0m:\u001b[36m328\u001b[0m\n",
      "\u001b[34m\u001b[1mDEBUG - Creating chunk (0, 7, 4) None None \u001b[0m\u001b[32m - survos2.model.dataset\u001b[0m:\u001b[36mcreate_chunk\u001b[0m:\u001b[36m328\u001b[0m\n",
      "\u001b[34m\u001b[1mDEBUG - Creating chunk (0, 7, 5) None None \u001b[0m\u001b[32m - survos2.model.dataset\u001b[0m:\u001b[36mcreate_chunk\u001b[0m:\u001b[36m328\u001b[0m\n",
      "\u001b[34m\u001b[1mDEBUG - Creating chunk (0, 7, 6) None None \u001b[0m\u001b[32m - survos2.model.dataset\u001b[0m:\u001b[36mcreate_chunk\u001b[0m:\u001b[36m328\u001b[0m\n",
      "\u001b[34m\u001b[1mDEBUG - Creating chunk (0, 7, 7) None None \u001b[0m\u001b[32m - survos2.model.dataset\u001b[0m:\u001b[36mcreate_chunk\u001b[0m:\u001b[36m328\u001b[0m\n",
      "\u001b[34m\u001b[1mDEBUG - Creating chunk (0, 7, 8) None None \u001b[0m\u001b[32m - survos2.model.dataset\u001b[0m:\u001b[36mcreate_chunk\u001b[0m:\u001b[36m328\u001b[0m\n",
      "\u001b[34m\u001b[1mDEBUG - Creating chunk (0, 7, 9) None None \u001b[0m\u001b[32m - survos2.model.dataset\u001b[0m:\u001b[36mcreate_chunk\u001b[0m:\u001b[36m328\u001b[0m\n",
      "\u001b[34m\u001b[1mDEBUG - Creating chunk (0, 7, 10) None None \u001b[0m\u001b[32m - survos2.model.dataset\u001b[0m:\u001b[36mcreate_chunk\u001b[0m:\u001b[36m328\u001b[0m\n",
      "\u001b[34m\u001b[1mDEBUG - Creating chunk (0, 7, 11) None None \u001b[0m\u001b[32m - survos2.model.dataset\u001b[0m:\u001b[36mcreate_chunk\u001b[0m:\u001b[36m328\u001b[0m\n",
      "\u001b[34m\u001b[1mDEBUG - Creating chunk (0, 7, 12) None None \u001b[0m\u001b[32m - survos2.model.dataset\u001b[0m:\u001b[36mcreate_chunk\u001b[0m:\u001b[36m328\u001b[0m\n",
      "\u001b[1mINFO - Closed: <survos2.model.dataset.Dataset object at 0x2ab77013baf0> \u001b[0m\u001b[32m - survos2.improc.utils\u001b[0m:\u001b[36m__exit__\u001b[0m:\u001b[36m568\u001b[0m\n",
      "\u001b[1mINFO - Closed: <survos2.model.dataset.Dataset object at 0x2ab77013baf0> \u001b[0m\u001b[32m - survos2.improc.utils\u001b[0m:\u001b[36m__exit__\u001b[0m:\u001b[36m568\u001b[0m\n",
      "\u001b[1mINFO - Launching (pass_through::float64) \u001b[0m\u001b[32m - survos2.improc.utils\u001b[0m:\u001b[36mmap_blocks\u001b[0m:\u001b[36m489\u001b[0m\n",
      "\u001b[34m\u001b[1mDEBUG - \n",
      "---\n",
      "blocks: {chunk: true, chunk_size: 10, pad: 0}\n",
      "misc: {timeit: false, uses_gpu: false}\n",
      "out: {dtype: float64, fill: 0}\n",
      "params: {}\n",
      "postprocess: {compute: true, relabel: false}\n",
      "preprocess: {scale: false, stretch: false}\n",
      "... \u001b[0m\u001b[32m - survos2.improc.utils\u001b[0m:\u001b[36mmap_blocks\u001b[0m:\u001b[36m490\u001b[0m\n",
      "\u001b[1mINFO - Applying <function pass_through at 0x2ab75d833280> to datasets of shape [dask.array<array, shape=(128, 1450, 1450), dtype=float64, chunksize=(64, 145, 132), chunktype=numpy.ndarray>] with stack: False \u001b[0m\u001b[32m - survos2.improc.utils\u001b[0m:\u001b[36m_apply\u001b[0m:\u001b[36m336\u001b[0m\n",
      "\u001b[34m\u001b[1mDEBUG - Chunking dataset[0]: (128, 1450, 1450) \u001b[0m\u001b[32m - survos2.improc.utils\u001b[0m:\u001b[36m_apply\u001b[0m:\u001b[36m343\u001b[0m\n",
      "\u001b[34m\u001b[1mDEBUG - pad is None \u001b[0m\u001b[32m - survos2.improc.utils\u001b[0m:\u001b[36m_apply\u001b[0m:\u001b[36m346\u001b[0m\n",
      "\u001b[34m\u001b[1mDEBUG - Result of applying map blocks (128, 1450, 1450) \u001b[0m\u001b[32m - survos2.improc.utils\u001b[0m:\u001b[36m_apply\u001b[0m:\u001b[36m367\u001b[0m\n",
      "\u001b[34m\u001b[1mDEBUG - Storing dask.array<pass_through, shape=(128, 1450, 1450), dtype=float64, chunksize=(64, 145, 132), chunktype=numpy.ndarray> output in <survos2.model.dataset.Dataset object at 0x2ab77013baf0> \u001b[0m\u001b[32m - survos2.improc.utils\u001b[0m:\u001b[36m_apply\u001b[0m:\u001b[36m374\u001b[0m\n",
      "\u001b[34m\u001b[1mDEBUG - Computed result of (128, 1450, 1450) \u001b[0m\u001b[32m - survos2.improc.utils\u001b[0m:\u001b[36m_apply\u001b[0m:\u001b[36m378\u001b[0m\n",
      " WARNING | Performing automatic data casting from 'float64' to 'float32'\n",
      "\u001b[1mINFO - Closed: <survos2.model.dataset.Dataset object at 0x2ab77013baf0> \u001b[0m\u001b[32m - survos2.improc.utils\u001b[0m:\u001b[36m__exit__\u001b[0m:\u001b[36m568\u001b[0m\n",
      "\u001b[1mINFO - running survos_from_uri on survos:// uri \u001b[0m\u001b[32m - survos2.io\u001b[0m:\u001b[36msurvos_from_uri\u001b[0m:\u001b[36m166\u001b[0m\n",
      "\u001b[34m\u001b[1mDEBUG - Calling Workspace() Init with workspace name: vf_main2_oct06 \u001b[0m\u001b[32m - survos2.io\u001b[0m:\u001b[36msurvos_from_uri\u001b[0m:\u001b[36m177\u001b[0m\n"
     ]
    },
    {
     "ename": "ValueError",
     "evalue": "Workspace has no dataset: survos://default@vf_main2_oct06:annotations/011_predict_3d_fcn",
     "output_type": "error",
     "traceback": [
      "\u001b[0;31m---------------------------------------------------------------------------\u001b[0m",
      "\u001b[0;31mValueError\u001b[0m                                Traceback (most recent call last)",
      "\u001b[0;32m/tmp/ipykernel_3013699/3626859174.py\u001b[0m in \u001b[0;36m<module>\u001b[0;34m\u001b[0m\n\u001b[0;32m----> 1\u001b[0;31m \u001b[0msurvos\u001b[0m\u001b[0;34m.\u001b[0m\u001b[0mrun_command\u001b[0m\u001b[0;34m(\u001b[0m\u001b[0;34m'pipelines'\u001b[0m\u001b[0;34m,\u001b[0m\u001b[0;34m'predict_3d_fcn'\u001b[0m\u001b[0;34m,\u001b[0m  \u001b[0muri\u001b[0m\u001b[0;34m=\u001b[0m\u001b[0;32mNone\u001b[0m\u001b[0;34m,\u001b[0m \u001b[0mworkspace\u001b[0m\u001b[0;34m=\u001b[0m\u001b[0mworkspace_name\u001b[0m\u001b[0;34m,\u001b[0m \u001b[0;34m**\u001b[0m\u001b[0mparams\u001b[0m\u001b[0;34m)\u001b[0m\u001b[0;34m\u001b[0m\u001b[0;34m\u001b[0m\u001b[0m\n\u001b[0m",
      "\u001b[0;32m/dls/science/users/xsy37748/jul14/SuRVoS2/survos2/survos.py\u001b[0m in \u001b[0;36mrun_command\u001b[0;34m(plugin, command, uri, **kwargs)\u001b[0m\n\u001b[1;32m    113\u001b[0m         \u001b[0;32mtry\u001b[0m\u001b[0;34m:\u001b[0m\u001b[0;34m\u001b[0m\u001b[0;34m\u001b[0m\u001b[0m\n\u001b[1;32m    114\u001b[0m             \u001b[0mlogger\u001b[0m\u001b[0;34m.\u001b[0m\u001b[0mdebug\u001b[0m\u001b[0;34m(\u001b[0m\u001b[0;34mf\"get request to client: {command}\"\u001b[0m\u001b[0;34m)\u001b[0m\u001b[0;34m\u001b[0m\u001b[0;34m\u001b[0m\u001b[0m\n\u001b[0;32m--> 115\u001b[0;31m             \u001b[0mresponse\u001b[0m \u001b[0;34m=\u001b[0m \u001b[0mclient\u001b[0m\u001b[0;34m.\u001b[0m\u001b[0mget\u001b[0m\u001b[0;34m(\u001b[0m\u001b[0mcommand\u001b[0m\u001b[0;34m,\u001b[0m \u001b[0;34m**\u001b[0m\u001b[0mkwargs\u001b[0m\u001b[0;34m)\u001b[0m\u001b[0;34m\u001b[0m\u001b[0;34m\u001b[0m\u001b[0m\n\u001b[0m\u001b[1;32m    116\u001b[0m             \u001b[0mlogger\u001b[0m\u001b[0;34m.\u001b[0m\u001b[0mdebug\u001b[0m\u001b[0;34m(\u001b[0m\u001b[0;34mf\"Local client gave response {response}\"\u001b[0m\u001b[0;34m)\u001b[0m\u001b[0;34m\u001b[0m\u001b[0;34m\u001b[0m\u001b[0m\n\u001b[1;32m    117\u001b[0m \u001b[0;34m\u001b[0m\u001b[0m\n",
      "\u001b[0;32m/dls/science/users/xsy37748/miniconda3/envs/survos2_env_j/lib/python3.8/site-packages/hug/use.py\u001b[0m in \u001b[0;36mget\u001b[0;34m(self, url, url_params, headers, timeout, **params)\u001b[0m\n\u001b[1;32m     60\u001b[0m     \u001b[0;32mdef\u001b[0m \u001b[0mget\u001b[0m\u001b[0;34m(\u001b[0m\u001b[0mself\u001b[0m\u001b[0;34m,\u001b[0m \u001b[0murl\u001b[0m\u001b[0;34m,\u001b[0m \u001b[0murl_params\u001b[0m\u001b[0;34m=\u001b[0m\u001b[0mempty\u001b[0m\u001b[0;34m.\u001b[0m\u001b[0mdict\u001b[0m\u001b[0;34m,\u001b[0m \u001b[0mheaders\u001b[0m\u001b[0;34m=\u001b[0m\u001b[0mempty\u001b[0m\u001b[0;34m.\u001b[0m\u001b[0mdict\u001b[0m\u001b[0;34m,\u001b[0m \u001b[0mtimeout\u001b[0m\u001b[0;34m=\u001b[0m\u001b[0;32mNone\u001b[0m\u001b[0;34m,\u001b[0m \u001b[0;34m**\u001b[0m\u001b[0mparams\u001b[0m\u001b[0;34m)\u001b[0m\u001b[0;34m:\u001b[0m\u001b[0;34m\u001b[0m\u001b[0;34m\u001b[0m\u001b[0m\n\u001b[1;32m     61\u001b[0m         \u001b[0;34m\"\"\"Calls the service at the specified URL using the \"GET\" method\"\"\"\u001b[0m\u001b[0;34m\u001b[0m\u001b[0;34m\u001b[0m\u001b[0m\n\u001b[0;32m---> 62\u001b[0;31m         \u001b[0;32mreturn\u001b[0m \u001b[0mself\u001b[0m\u001b[0;34m.\u001b[0m\u001b[0mrequest\u001b[0m\u001b[0;34m(\u001b[0m\u001b[0;34m\"GET\"\u001b[0m\u001b[0;34m,\u001b[0m \u001b[0murl\u001b[0m\u001b[0;34m=\u001b[0m\u001b[0murl\u001b[0m\u001b[0;34m,\u001b[0m \u001b[0mheaders\u001b[0m\u001b[0;34m=\u001b[0m\u001b[0mheaders\u001b[0m\u001b[0;34m,\u001b[0m \u001b[0mtimeout\u001b[0m\u001b[0;34m=\u001b[0m\u001b[0mtimeout\u001b[0m\u001b[0;34m,\u001b[0m \u001b[0;34m**\u001b[0m\u001b[0mparams\u001b[0m\u001b[0;34m)\u001b[0m\u001b[0;34m\u001b[0m\u001b[0;34m\u001b[0m\u001b[0m\n\u001b[0m\u001b[1;32m     63\u001b[0m \u001b[0;34m\u001b[0m\u001b[0m\n\u001b[1;32m     64\u001b[0m     \u001b[0;32mdef\u001b[0m \u001b[0mpost\u001b[0m\u001b[0;34m(\u001b[0m\u001b[0mself\u001b[0m\u001b[0;34m,\u001b[0m \u001b[0murl\u001b[0m\u001b[0;34m,\u001b[0m \u001b[0murl_params\u001b[0m\u001b[0;34m=\u001b[0m\u001b[0mempty\u001b[0m\u001b[0;34m.\u001b[0m\u001b[0mdict\u001b[0m\u001b[0;34m,\u001b[0m \u001b[0mheaders\u001b[0m\u001b[0;34m=\u001b[0m\u001b[0mempty\u001b[0m\u001b[0;34m.\u001b[0m\u001b[0mdict\u001b[0m\u001b[0;34m,\u001b[0m \u001b[0mtimeout\u001b[0m\u001b[0;34m=\u001b[0m\u001b[0;32mNone\u001b[0m\u001b[0;34m,\u001b[0m \u001b[0;34m**\u001b[0m\u001b[0mparams\u001b[0m\u001b[0;34m)\u001b[0m\u001b[0;34m:\u001b[0m\u001b[0;34m\u001b[0m\u001b[0;34m\u001b[0m\u001b[0m\n",
      "\u001b[0;32m/dls/science/users/xsy37748/miniconda3/envs/survos2_env_j/lib/python3.8/site-packages/hug/use.py\u001b[0m in \u001b[0;36mrequest\u001b[0;34m(self, method, url, url_params, headers, timeout, **params)\u001b[0m\n\u001b[1;32m    176\u001b[0m             \u001b[0minterface\u001b[0m\u001b[0;34m.\u001b[0m\u001b[0mrender_errors\u001b[0m\u001b[0;34m(\u001b[0m\u001b[0merrors\u001b[0m\u001b[0;34m,\u001b[0m \u001b[0mrequest\u001b[0m\u001b[0;34m,\u001b[0m \u001b[0mresponse\u001b[0m\u001b[0;34m)\u001b[0m\u001b[0;34m\u001b[0m\u001b[0;34m\u001b[0m\u001b[0m\n\u001b[1;32m    177\u001b[0m         \u001b[0;32melse\u001b[0m\u001b[0;34m:\u001b[0m\u001b[0;34m\u001b[0m\u001b[0;34m\u001b[0m\u001b[0m\n\u001b[0;32m--> 178\u001b[0;31m             \u001b[0minterface\u001b[0m\u001b[0;34m.\u001b[0m\u001b[0mrender_content\u001b[0m\u001b[0;34m(\u001b[0m\u001b[0minterface\u001b[0m\u001b[0;34m.\u001b[0m\u001b[0mcall_function\u001b[0m\u001b[0;34m(\u001b[0m\u001b[0mparams\u001b[0m\u001b[0;34m)\u001b[0m\u001b[0;34m,\u001b[0m \u001b[0mcontext\u001b[0m\u001b[0;34m,\u001b[0m \u001b[0mrequest\u001b[0m\u001b[0;34m,\u001b[0m \u001b[0mresponse\u001b[0m\u001b[0;34m)\u001b[0m\u001b[0;34m\u001b[0m\u001b[0;34m\u001b[0m\u001b[0m\n\u001b[0m\u001b[1;32m    179\u001b[0m \u001b[0;34m\u001b[0m\u001b[0m\n\u001b[1;32m    180\u001b[0m         \u001b[0mdata\u001b[0m \u001b[0;34m=\u001b[0m \u001b[0mBytesIO\u001b[0m\u001b[0;34m(\u001b[0m\u001b[0mresponse\u001b[0m\u001b[0;34m.\u001b[0m\u001b[0mdata\u001b[0m\u001b[0;34m)\u001b[0m\u001b[0;34m\u001b[0m\u001b[0;34m\u001b[0m\u001b[0m\n",
      "\u001b[0;32m/dls/science/users/xsy37748/miniconda3/envs/survos2_env_j/lib/python3.8/site-packages/hug/interface.py\u001b[0m in \u001b[0;36mcall_function\u001b[0;34m(self, parameters)\u001b[0m\n\u001b[1;32m    838\u001b[0m         \u001b[0mself\u001b[0m\u001b[0;34m.\u001b[0m\u001b[0m_rewrite_params\u001b[0m\u001b[0;34m(\u001b[0m\u001b[0mparameters\u001b[0m\u001b[0;34m)\u001b[0m\u001b[0;34m\u001b[0m\u001b[0;34m\u001b[0m\u001b[0m\n\u001b[1;32m    839\u001b[0m \u001b[0;34m\u001b[0m\u001b[0m\n\u001b[0;32m--> 840\u001b[0;31m         \u001b[0;32mreturn\u001b[0m \u001b[0mself\u001b[0m\u001b[0;34m.\u001b[0m\u001b[0minterface\u001b[0m\u001b[0;34m(\u001b[0m\u001b[0;34m**\u001b[0m\u001b[0mparameters\u001b[0m\u001b[0;34m)\u001b[0m\u001b[0;34m\u001b[0m\u001b[0;34m\u001b[0m\u001b[0m\n\u001b[0m\u001b[1;32m    841\u001b[0m \u001b[0;34m\u001b[0m\u001b[0m\n\u001b[1;32m    842\u001b[0m     \u001b[0;32mdef\u001b[0m \u001b[0mrender_content\u001b[0m\u001b[0;34m(\u001b[0m\u001b[0mself\u001b[0m\u001b[0;34m,\u001b[0m \u001b[0mcontent\u001b[0m\u001b[0;34m,\u001b[0m \u001b[0mcontext\u001b[0m\u001b[0;34m,\u001b[0m \u001b[0mrequest\u001b[0m\u001b[0;34m,\u001b[0m \u001b[0mresponse\u001b[0m\u001b[0;34m,\u001b[0m \u001b[0;34m**\u001b[0m\u001b[0mkwargs\u001b[0m\u001b[0;34m)\u001b[0m\u001b[0;34m:\u001b[0m\u001b[0;34m\u001b[0m\u001b[0;34m\u001b[0m\u001b[0m\n",
      "\u001b[0;32m/dls/science/users/xsy37748/miniconda3/envs/survos2_env_j/lib/python3.8/site-packages/hug/interface.py\u001b[0m in \u001b[0;36m__call__\u001b[0;34m(_Interfaces__hug_internal_self, *args, **kwargs)\u001b[0m\n\u001b[1;32m    127\u001b[0m         \u001b[0;34m\"\"\"\"Calls the wrapped function, uses __hug_internal_self incase self is passed in as a kwarg from the wrapper\"\"\"\u001b[0m\u001b[0;34m\u001b[0m\u001b[0;34m\u001b[0m\u001b[0m\n\u001b[1;32m    128\u001b[0m         \u001b[0;32mif\u001b[0m \u001b[0;32mnot\u001b[0m \u001b[0m__hug_internal_self\u001b[0m\u001b[0;34m.\u001b[0m\u001b[0mis_coroutine\u001b[0m\u001b[0;34m:\u001b[0m\u001b[0;34m\u001b[0m\u001b[0;34m\u001b[0m\u001b[0m\n\u001b[0;32m--> 129\u001b[0;31m             \u001b[0;32mreturn\u001b[0m \u001b[0m__hug_internal_self\u001b[0m\u001b[0;34m.\u001b[0m\u001b[0m_function\u001b[0m\u001b[0;34m(\u001b[0m\u001b[0;34m*\u001b[0m\u001b[0margs\u001b[0m\u001b[0;34m,\u001b[0m \u001b[0;34m**\u001b[0m\u001b[0mkwargs\u001b[0m\u001b[0;34m)\u001b[0m\u001b[0;34m\u001b[0m\u001b[0;34m\u001b[0m\u001b[0m\n\u001b[0m\u001b[1;32m    130\u001b[0m \u001b[0;34m\u001b[0m\u001b[0m\n\u001b[1;32m    131\u001b[0m         \u001b[0;32mreturn\u001b[0m \u001b[0masyncio_call\u001b[0m\u001b[0;34m(\u001b[0m\u001b[0m__hug_internal_self\u001b[0m\u001b[0;34m.\u001b[0m\u001b[0m_function\u001b[0m\u001b[0;34m,\u001b[0m \u001b[0;34m*\u001b[0m\u001b[0margs\u001b[0m\u001b[0;34m,\u001b[0m \u001b[0;34m**\u001b[0m\u001b[0mkwargs\u001b[0m\u001b[0;34m)\u001b[0m\u001b[0;34m\u001b[0m\u001b[0;34m\u001b[0m\u001b[0m\n",
      "\u001b[0;32m/dls/science/users/xsy37748/jul14/SuRVoS2/survos2/api/utils.py\u001b[0m in \u001b[0;36mwrapper\u001b[0;34m(src, dst, *args, **kwargs)\u001b[0m\n\u001b[1;32m     68\u001b[0m         \u001b[0mpprint\u001b[0m\u001b[0;34m(\u001b[0m\u001b[0mkwargs\u001b[0m\u001b[0;34m)\u001b[0m\u001b[0;34m\u001b[0m\u001b[0;34m\u001b[0m\u001b[0m\n\u001b[1;32m     69\u001b[0m         \u001b[0mresult\u001b[0m \u001b[0;34m=\u001b[0m \u001b[0mfunc\u001b[0m\u001b[0;34m(\u001b[0m\u001b[0msrc\u001b[0m\u001b[0;34m,\u001b[0m \u001b[0mdst\u001b[0m\u001b[0;34m,\u001b[0m \u001b[0;34m*\u001b[0m\u001b[0margs\u001b[0m\u001b[0;34m,\u001b[0m \u001b[0;34m**\u001b[0m\u001b[0mkwargs\u001b[0m\u001b[0;34m)\u001b[0m\u001b[0;34m\u001b[0m\u001b[0;34m\u001b[0m\u001b[0m\n\u001b[0;32m---> 70\u001b[0;31m         \u001b[0mds\u001b[0m \u001b[0;34m=\u001b[0m \u001b[0mdataset_from_uri\u001b[0m\u001b[0;34m(\u001b[0m\u001b[0mdst\u001b[0m\u001b[0;34m,\u001b[0m \u001b[0mmode\u001b[0m\u001b[0;34m=\u001b[0m\u001b[0;34m\"r+\"\u001b[0m\u001b[0;34m)\u001b[0m\u001b[0;34m\u001b[0m\u001b[0;34m\u001b[0m\u001b[0m\n\u001b[0m\u001b[1;32m     71\u001b[0m         \u001b[0;32mif\u001b[0m \u001b[0mds\u001b[0m\u001b[0;34m.\u001b[0m\u001b[0msupports_metadata\u001b[0m\u001b[0;34m(\u001b[0m\u001b[0;34m)\u001b[0m\u001b[0;34m:\u001b[0m\u001b[0;34m\u001b[0m\u001b[0;34m\u001b[0m\u001b[0m\n\u001b[1;32m     72\u001b[0m             \u001b[0;32mfor\u001b[0m \u001b[0mparam\u001b[0m \u001b[0;32min\u001b[0m \u001b[0;34m[\u001b[0m\u001b[0;34m\"kind\"\u001b[0m\u001b[0;34m,\u001b[0m \u001b[0;34m\"name\"\u001b[0m\u001b[0;34m]\u001b[0m\u001b[0;34m:\u001b[0m\u001b[0;34m\u001b[0m\u001b[0;34m\u001b[0m\u001b[0m\n",
      "\u001b[0;32m/dls/science/users/xsy37748/jul14/SuRVoS2/survos2/io.py\u001b[0m in \u001b[0;36mdataset_from_uri\u001b[0;34m(uri, mode, shape, dtype, fill)\u001b[0m\n\u001b[1;32m     77\u001b[0m     \u001b[0mloader\u001b[0m \u001b[0;34m=\u001b[0m \u001b[0mdataset_loader\u001b[0m\u001b[0;34m(\u001b[0m\u001b[0muri\u001b[0m\u001b[0;34m)\u001b[0m\u001b[0;34m\u001b[0m\u001b[0;34m\u001b[0m\u001b[0m\n\u001b[1;32m     78\u001b[0m     \u001b[0;32mif\u001b[0m \u001b[0mloader\u001b[0m \u001b[0;32mis\u001b[0m \u001b[0;32mnot\u001b[0m \u001b[0;32mNone\u001b[0m\u001b[0;34m:\u001b[0m\u001b[0;34m\u001b[0m\u001b[0;34m\u001b[0m\u001b[0m\n\u001b[0;32m---> 79\u001b[0;31m         \u001b[0;32mreturn\u001b[0m \u001b[0mloader\u001b[0m\u001b[0;34m(\u001b[0m\u001b[0muri\u001b[0m\u001b[0;34m,\u001b[0m \u001b[0mmode\u001b[0m\u001b[0;34m=\u001b[0m\u001b[0mmode\u001b[0m\u001b[0;34m,\u001b[0m \u001b[0mshape\u001b[0m\u001b[0;34m=\u001b[0m\u001b[0mshape\u001b[0m\u001b[0;34m,\u001b[0m \u001b[0mdtype\u001b[0m\u001b[0;34m=\u001b[0m\u001b[0mdtype\u001b[0m\u001b[0;34m,\u001b[0m \u001b[0mfill\u001b[0m\u001b[0;34m=\u001b[0m\u001b[0mfill\u001b[0m\u001b[0;34m)\u001b[0m\u001b[0;34m\u001b[0m\u001b[0;34m\u001b[0m\u001b[0m\n\u001b[0m\u001b[1;32m     80\u001b[0m     \u001b[0;32melse\u001b[0m\u001b[0;34m:\u001b[0m\u001b[0;34m\u001b[0m\u001b[0;34m\u001b[0m\u001b[0m\n\u001b[1;32m     81\u001b[0m         \u001b[0;32mraise\u001b[0m \u001b[0mValueError\u001b[0m\u001b[0;34m(\u001b[0m\u001b[0;34m\"Wrong URI. Only hdf5:// and survos:// uris are supported.\"\u001b[0m\u001b[0;34m)\u001b[0m\u001b[0;34m\u001b[0m\u001b[0;34m\u001b[0m\u001b[0m\n",
      "\u001b[0;32m/dls/science/users/xsy37748/jul14/SuRVoS2/survos2/io.py\u001b[0m in \u001b[0;36msurvos_from_uri\u001b[0;34m(uri, mode, shape, dtype, fill)\u001b[0m\n\u001b[1;32m    193\u001b[0m                 \u001b[0mds\u001b[0m \u001b[0;34m=\u001b[0m \u001b[0mws\u001b[0m\u001b[0;34m.\u001b[0m\u001b[0madd_dataset\u001b[0m\u001b[0;34m(\u001b[0m\u001b[0mdataset\u001b[0m\u001b[0;34m,\u001b[0m \u001b[0mdtype\u001b[0m\u001b[0;34m,\u001b[0m \u001b[0msession\u001b[0m\u001b[0;34m=\u001b[0m\u001b[0msession\u001b[0m\u001b[0;34m,\u001b[0m \u001b[0mfillvalue\u001b[0m\u001b[0;34m=\u001b[0m\u001b[0mfill\u001b[0m\u001b[0;34m)\u001b[0m\u001b[0;34m\u001b[0m\u001b[0;34m\u001b[0m\u001b[0m\n\u001b[1;32m    194\u001b[0m             \u001b[0;32melse\u001b[0m\u001b[0;34m:\u001b[0m\u001b[0;34m\u001b[0m\u001b[0;34m\u001b[0m\u001b[0m\n\u001b[0;32m--> 195\u001b[0;31m                 \u001b[0;32mraise\u001b[0m \u001b[0mValueError\u001b[0m\u001b[0;34m(\u001b[0m\u001b[0;34m\"Workspace has no dataset: {}\"\u001b[0m\u001b[0;34m.\u001b[0m\u001b[0mformat\u001b[0m\u001b[0;34m(\u001b[0m\u001b[0muri\u001b[0m\u001b[0;34m)\u001b[0m\u001b[0;34m)\u001b[0m\u001b[0;34m\u001b[0m\u001b[0;34m\u001b[0m\u001b[0m\n\u001b[0m\u001b[1;32m    196\u001b[0m     \u001b[0;32melse\u001b[0m\u001b[0;34m:\u001b[0m\u001b[0;34m\u001b[0m\u001b[0;34m\u001b[0m\u001b[0m\n\u001b[1;32m    197\u001b[0m         \u001b[0;32mif\u001b[0m \u001b[0mmode\u001b[0m \u001b[0;34m!=\u001b[0m \u001b[0;34m\"r\"\u001b[0m\u001b[0;34m:\u001b[0m\u001b[0;34m\u001b[0m\u001b[0;34m\u001b[0m\u001b[0m\n",
      "\u001b[0;31mValueError\u001b[0m: Workspace has no dataset: survos://default@vf_main2_oct06:annotations/011_predict_3d_fcn"
     ]
    }
   ],
   "source": [
    "survos.run_command('pipelines','predict_3d_fcn',  uri=None, workspace=workspace_name, **params)"
   ]
  },
  {
   "cell_type": "code",
   "execution_count": null,
   "metadata": {},
   "outputs": [],
   "source": []
  }
 ],
 "metadata": {
  "kernelspec": {
   "display_name": "Python 3 (ipykernel)",
   "language": "python",
   "name": "python3"
  },
  "language_info": {
   "codemirror_mode": {
    "name": "ipython",
    "version": 3
   },
   "file_extension": ".py",
   "mimetype": "text/x-python",
   "name": "python",
   "nbconvert_exporter": "python",
   "pygments_lexer": "ipython3",
   "version": "3.8.5"
  },
  "widgets": {
   "application/vnd.jupyter.widget-state+json": {
    "state": {},
    "version_major": 2,
    "version_minor": 0
   }
  }
 },
 "nbformat": 4,
 "nbformat_minor": 4
}
