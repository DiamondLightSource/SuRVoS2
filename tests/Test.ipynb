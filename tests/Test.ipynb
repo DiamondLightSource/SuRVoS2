{
 "cells": [
  {
   "cell_type": "code",
   "execution_count": null,
   "metadata": {},
   "outputs": [],
   "source": []
  },
  {
   "cell_type": "markdown",
   "metadata": {},
   "source": [
    "# Example Notebook"
   ]
  },
  {
   "cell_type": "code",
   "execution_count": 1,
   "metadata": {},
   "outputs": [],
   "source": [
    "%matplotlib inline\n",
    "%load_ext autoreload\n",
    "%autoreload 2\n"
   ]
  },
  {
   "cell_type": "code",
   "execution_count": 2,
   "metadata": {},
   "outputs": [],
   "source": [
    "import os\n",
    "\n",
    "import numpy as np\n",
    "import pandas as pd\n",
    "import json\n",
    "import os\n",
    "import yaml\n",
    "from loguru import logger\n",
    "from matplotlib import pyplot as plt\n",
    "from survos2 import survos\n",
    "\n",
    "from survos2.frontend.control import Launcher\n",
    "from survos2.model import DataModel\n",
    "from survos2.improc.utils import DatasetManager\n",
    "from survos2.server.pipeline import run_workflow\n",
    "from survos2.server.state import cfg\n",
    "from survos2.server.pipeline import view_dataset\n",
    "from survos2.frontend.nb_utils import start_server, stop_server"
   ]
  },
  {
   "cell_type": "markdown",
   "metadata": {},
   "source": [
    "# Start Server"
   ]
  },
  {
   "cell_type": "code",
   "execution_count": 3,
   "metadata": {},
   "outputs": [],
   "source": [
    "port = 8779"
   ]
  },
  {
   "cell_type": "code",
   "execution_count": 4,
   "metadata": {},
   "outputs": [],
   "source": [
    "\n",
    "server_process = start_server(port)"
   ]
  },
  {
   "cell_type": "code",
   "execution_count": 5,
   "metadata": {},
   "outputs": [],
   "source": [
    "#server_process"
   ]
  },
  {
   "cell_type": "markdown",
   "metadata": {},
   "source": [
    "# Set workspace\n",
    "Alternatively if you want to initialize a new workspace, use the section at the bottom of the notebook."
   ]
  },
  {
   "cell_type": "code",
   "execution_count": 6,
   "metadata": {},
   "outputs": [],
   "source": [
    "workspace_name = 'epfl512'\n",
    "workspace_name = 'huntcrop2' # set workspace here\n",
    "workspace_name = 'testroi2'\n",
    "DataModel.g.current_workspace = workspace_name\n",
    "DataModel.g.current_session = 'default'"
   ]
  },
  {
   "cell_type": "code",
   "execution_count": 7,
   "metadata": {},
   "outputs": [],
   "source": [
    "server_uri = '127.0.0.1:' + str(port)"
   ]
  },
  {
   "cell_type": "code",
   "execution_count": 8,
   "metadata": {},
   "outputs": [
    {
     "name": "stderr",
     "output_type": "stream",
     "text": [
      "\u001b[1mINFO - Launcher setting remote to 127.0.0.1:8779 \u001b[0m\u001b[32m - survos2.frontend.control.launcher\u001b[0m:\u001b[36mset_remote\u001b[0m:\u001b[36m85\u001b[0m\n"
     ]
    }
   ],
   "source": [
    "Launcher.g.set_remote(server_uri)\n",
    "DataModel.g.server_uri = server_uri"
   ]
  },
  {
   "cell_type": "code",
   "execution_count": 13,
   "metadata": {},
   "outputs": [],
   "source": [
    "Launcher.g.run('workspace', 'set_workspace', workspace=workspace_name)"
   ]
  },
  {
   "cell_type": "code",
   "execution_count": 10,
   "metadata": {},
   "outputs": [],
   "source": [
    "#DataModel.g.server_uri"
   ]
  },
  {
   "cell_type": "code",
   "execution_count": 9,
   "metadata": {},
   "outputs": [],
   "source": [
    "#stop_server(server_process)"
   ]
  },
  {
   "cell_type": "markdown",
   "metadata": {},
   "source": [
    "# Inspect workspace"
   ]
  },
  {
   "cell_type": "code",
   "execution_count": 14,
   "metadata": {},
   "outputs": [
    {
     "data": {
      "text/plain": [
       "(['testroi2_dataset'], False)"
      ]
     },
     "execution_count": 14,
     "metadata": {},
     "output_type": "execute_result"
    }
   ],
   "source": [
    "survos.run_command('workspace', 'list_datasets',  workspace=workspace_name)"
   ]
  },
  {
   "cell_type": "code",
   "execution_count": null,
   "metadata": {
    "tags": []
   },
   "outputs": [],
   "source": [
    "Launcher.g.run('workspace', 'metadata',  workspace=workspace_name, dataset=\"data\", json_transport=True)"
   ]
  },
  {
   "cell_type": "code",
   "execution_count": 9,
   "metadata": {},
   "outputs": [
    {
     "data": {
      "text/plain": [
       "{'001_raw': {'kind': 'raw', 'name': '001 Raw', 'id': '001_raw'},\n",
       " '002_tvdenoise': {'kind': 'tvdenoise',\n",
       "  'max_iter': 100,\n",
       "  'name': 'tvdenoise',\n",
       "  'pad': 8,\n",
       "  'regularization_amount': 0.0005,\n",
       "  'source': '001_raw',\n",
       "  'id': '002_tvdenoise'},\n",
       " '003_gaussian_blur': {'kind': 'gaussian_blur',\n",
       "  'name': 'gaussian_blur',\n",
       "  'sigma': [6, 6, 6],\n",
       "  'source': '001_raw',\n",
       "  'id': '003_gaussian_blur'},\n",
       " '004_laplacian': {'kind': 'laplacian',\n",
       "  'name': 'laplacian',\n",
       "  'sigma': [3, 3, 3],\n",
       "  'source': '001_raw',\n",
       "  'id': '004_laplacian'},\n",
       " '005_spatial_gradient_3d': {'dim': 0,\n",
       "  'kind': 'spatial_gradient_3d',\n",
       "  'name': 'spatial_gradient_3d',\n",
       "  'source': '001_raw',\n",
       "  'id': '005_spatial_gradient_3d'},\n",
       " '006_hessian': {'kind': 'hessian_eigenvalues',\n",
       "  'name': 'hessian_eigenvalues',\n",
       "  'sigma': [3, 3, 3],\n",
       "  'source': '001_raw',\n",
       "  'id': '006_hessian'},\n",
       " '007_gamma_correct': {'gamma': 1.5,\n",
       "  'kind': 'gamma_correct',\n",
       "  'name': 'gamma_correct',\n",
       "  'source': '003_gaussian_blur',\n",
       "  'id': '007_gamma_correct'},\n",
       " '008_threshold': {'kind': 'threshold',\n",
       "  'name': 'threshold',\n",
       "  'source': '007_gamma_correct',\n",
       "  'threshold': 0.5,\n",
       "  'id': '008_threshold'},\n",
       " '009_dilation': {'kind': 'dilation',\n",
       "  'name': 'dilation',\n",
       "  'num_iter': 1,\n",
       "  'source': '008_threshold',\n",
       "  'id': '009_dilation'}}"
      ]
     },
     "execution_count": 9,
     "metadata": {},
     "output_type": "execute_result"
    }
   ],
   "source": [
    "Launcher.g.run('features', 'existing', workspace=workspace_name)"
   ]
  },
  {
   "cell_type": "code",
   "execution_count": 14,
   "metadata": {
    "tags": []
   },
   "outputs": [
    {
     "data": {
      "text/plain": [
       "[{'kind': 'level', 'modified': [0], 'name': '001 Level', 'id': '001_level'}]"
      ]
     },
     "execution_count": 14,
     "metadata": {},
     "output_type": "execute_result"
    }
   ],
   "source": [
    "Launcher.g.run('annotations', 'get_levels', workspace=workspace_name)"
   ]
  },
  {
   "cell_type": "code",
   "execution_count": 20,
   "metadata": {},
   "outputs": [
    {
     "data": {
      "text/plain": [
       "{}"
      ]
     },
     "execution_count": 20,
     "metadata": {},
     "output_type": "execute_result"
    }
   ],
   "source": [
    "Launcher.g.run('superregions', 'existing', uri=server_uri, workspace=workspace_name)"
   ]
  },
  {
   "cell_type": "code",
   "execution_count": 46,
   "metadata": {},
   "outputs": [
    {
     "data": {
      "text/plain": [
       "{}"
      ]
     },
     "execution_count": 46,
     "metadata": {},
     "output_type": "execute_result"
    }
   ],
   "source": [
    "Launcher.g.run('pipelines', 'existing', uri=server_uri, workspace=workspace_name)"
   ]
  },
  {
   "cell_type": "code",
   "execution_count": 54,
   "metadata": {
    "tags": []
   },
   "outputs": [
    {
     "data": {
      "image/png": "[encoded data removed]",
      "text/plain": [
       "<Figure size 640x480 with 1 Axes>"
      ]
     },
     "metadata": {},
     "output_type": "display_data"
    }
   ],
   "source": [
    "feature_array = view_dataset('001_raw', 'features', 50)"
   ]
  },
  {
   "cell_type": "code",
   "execution_count": 55,
   "metadata": {},
   "outputs": [
    {
     "data": {
      "text/plain": [
       "(186, 58, 62)"
      ]
     },
     "execution_count": 55,
     "metadata": {},
     "output_type": "execute_result"
    }
   ],
   "source": [
    "feature_array.shape"
   ]
  },
  {
   "cell_type": "code",
   "execution_count": 15,
   "metadata": {},
   "outputs": [
    {
     "name": "stderr",
     "output_type": "stream",
     "text": [
      "\u001b[1mINFO - Executing workflow {'src': 'survos://default@testroi2:features/001_raw', 'dst': 'survos://default@testroi2:features/002_tvdenoise', 'modal': True, 'regularization_amount': 0.0005, 'pad': 8, 'max_iter': 100} \u001b[0m\u001b[32m - survos2.server.pipeline\u001b[0m:\u001b[36mrun_workflow\u001b[0m:\u001b[36m104\u001b[0m\n"
     ]
    },
    {
     "name": "stdout",
     "output_type": "stream",
     "text": [
      "{2: {'action': 'features.tvdenoise', 'src': '001_raw', 'dst': '002_tvdenoise', 'params': {'regularization_amount': 0.0005, 'pad': 8, 'max_iter': 100}}, 3: {'action': 'features.gaussian_blur', 'src': '001_raw', 'dst': '003_gaussian_blur', 'params': {'sigma': [6, 6, 6]}}, 4: {'action': 'features.laplacian', 'src': '001_raw', 'dst': '004_laplacian', 'params': {'sigma': [3, 3, 3]}}, 5: {'action': 'features.spatial_gradient_3d', 'src': '001_raw', 'dst': '005_spatial_gradient_3d', 'params': {'dim': 0}}, 6: {'action': 'features.hessian_eigenvalues', 'src': '001_raw', 'dst': '006_hessian', 'params': {'sigma': [3, 3, 3]}}, 7: {'action': 'features.gamma_correct', 'src': '003_gaussian_blur', 'dst': '007_gamma_correct', 'params': {'gamma': 2.0}}, 8: {'action': 'features.threshold', 'src': '007_gamma_correct', 'dst': '008_threshold', 'params': {'num_iter': 1}}, 9: {'action': 'features.dilation', 'src': '008_threshold', 'dst': '009_dilation', 'params': {'num_iter': 1}}}\n",
      "+ Running 2, with features, tvdenoise on survos://default@testroi2:features/001_raw\n",
      " to dst survos://default@testroi2:features/002_tvdenoise {'src': 'survos://default@testroi2:features/001_raw', 'dst': 'survos://default@testroi2:features/002_tvdenoise', 'modal': True, 'regularization_amount': 0.0005, 'pad': 8, 'max_iter': 100}\n",
      "\n"
     ]
    },
    {
     "name": "stderr",
     "output_type": "stream",
     "text": [
      "\u001b[1mINFO - Executing workflow {'src': 'survos://default@testroi2:features/001_raw', 'dst': 'survos://default@testroi2:features/003_gaussian_blur', 'modal': True, 'sigma': [6, 6, 6]} \u001b[0m\u001b[32m - survos2.server.pipeline\u001b[0m:\u001b[36mrun_workflow\u001b[0m:\u001b[36m104\u001b[0m\n"
     ]
    },
    {
     "name": "stdout",
     "output_type": "stream",
     "text": [
      "+ Running 3, with features, gaussian_blur on survos://default@testroi2:features/001_raw\n",
      " to dst survos://default@testroi2:features/003_gaussian_blur {'src': 'survos://default@testroi2:features/001_raw', 'dst': 'survos://default@testroi2:features/003_gaussian_blur', 'modal': True, 'sigma': [6, 6, 6]}\n",
      "\n"
     ]
    },
    {
     "name": "stderr",
     "output_type": "stream",
     "text": [
      "\u001b[1mINFO - Executing workflow {'src': 'survos://default@testroi2:features/001_raw', 'dst': 'survos://default@testroi2:features/004_laplacian', 'modal': True, 'sigma': [3, 3, 3]} \u001b[0m\u001b[32m - survos2.server.pipeline\u001b[0m:\u001b[36mrun_workflow\u001b[0m:\u001b[36m104\u001b[0m\n"
     ]
    },
    {
     "name": "stdout",
     "output_type": "stream",
     "text": [
      "+ Running 4, with features, laplacian on survos://default@testroi2:features/001_raw\n",
      " to dst survos://default@testroi2:features/004_laplacian {'src': 'survos://default@testroi2:features/001_raw', 'dst': 'survos://default@testroi2:features/004_laplacian', 'modal': True, 'sigma': [3, 3, 3]}\n",
      "\n"
     ]
    },
    {
     "name": "stderr",
     "output_type": "stream",
     "text": [
      "\u001b[1mINFO - Executing workflow {'src': 'survos://default@testroi2:features/001_raw', 'dst': 'survos://default@testroi2:features/005_spatial_gradient_3d', 'modal': True, 'dim': 0} \u001b[0m\u001b[32m - survos2.server.pipeline\u001b[0m:\u001b[36mrun_workflow\u001b[0m:\u001b[36m104\u001b[0m\n"
     ]
    },
    {
     "name": "stdout",
     "output_type": "stream",
     "text": [
      "+ Running 5, with features, spatial_gradient_3d on survos://default@testroi2:features/001_raw\n",
      " to dst survos://default@testroi2:features/005_spatial_gradient_3d {'src': 'survos://default@testroi2:features/001_raw', 'dst': 'survos://default@testroi2:features/005_spatial_gradient_3d', 'modal': True, 'dim': 0}\n",
      "\n"
     ]
    },
    {
     "name": "stderr",
     "output_type": "stream",
     "text": [
      "\u001b[1mINFO - Executing workflow {'src': 'survos://default@testroi2:features/001_raw', 'dst': 'survos://default@testroi2:features/006_hessian', 'modal': True, 'sigma': [3, 3, 3]} \u001b[0m\u001b[32m - survos2.server.pipeline\u001b[0m:\u001b[36mrun_workflow\u001b[0m:\u001b[36m104\u001b[0m\n"
     ]
    },
    {
     "name": "stdout",
     "output_type": "stream",
     "text": [
      "+ Running 6, with features, hessian_eigenvalues on survos://default@testroi2:features/001_raw\n",
      " to dst survos://default@testroi2:features/006_hessian {'src': 'survos://default@testroi2:features/001_raw', 'dst': 'survos://default@testroi2:features/006_hessian', 'modal': True, 'sigma': [3, 3, 3]}\n",
      "\n"
     ]
    },
    {
     "name": "stderr",
     "output_type": "stream",
     "text": [
      "\u001b[1mINFO - Executing workflow {'src': 'survos://default@testroi2:features/003_gaussian_blur', 'dst': 'survos://default@testroi2:features/007_gamma_correct', 'modal': True, 'gamma': 2.0} \u001b[0m\u001b[32m - survos2.server.pipeline\u001b[0m:\u001b[36mrun_workflow\u001b[0m:\u001b[36m104\u001b[0m\n"
     ]
    },
    {
     "name": "stdout",
     "output_type": "stream",
     "text": [
      "+ Running 7, with features, gamma_correct on survos://default@testroi2:features/003_gaussian_blur\n",
      " to dst survos://default@testroi2:features/007_gamma_correct {'src': 'survos://default@testroi2:features/003_gaussian_blur', 'dst': 'survos://default@testroi2:features/007_gamma_correct', 'modal': True, 'gamma': 2.0}\n",
      "\n"
     ]
    },
    {
     "name": "stderr",
     "output_type": "stream",
     "text": [
      "\u001b[1mINFO - Executing workflow {'src': 'survos://default@testroi2:features/007_gamma_correct', 'dst': 'survos://default@testroi2:features/008_threshold', 'modal': True, 'num_iter': 1} \u001b[0m\u001b[32m - survos2.server.pipeline\u001b[0m:\u001b[36mrun_workflow\u001b[0m:\u001b[36m104\u001b[0m\n"
     ]
    },
    {
     "name": "stdout",
     "output_type": "stream",
     "text": [
      "+ Running 8, with features, threshold on survos://default@testroi2:features/007_gamma_correct\n",
      " to dst survos://default@testroi2:features/008_threshold {'src': 'survos://default@testroi2:features/007_gamma_correct', 'dst': 'survos://default@testroi2:features/008_threshold', 'modal': True, 'num_iter': 1}\n",
      "\n"
     ]
    },
    {
     "name": "stderr",
     "output_type": "stream",
     "text": [
      "\u001b[1mINFO - Executing workflow {'src': 'survos://default@testroi2:features/008_threshold', 'dst': 'survos://default@testroi2:features/009_dilation', 'modal': True, 'num_iter': 1} \u001b[0m\u001b[32m - survos2.server.pipeline\u001b[0m:\u001b[36mrun_workflow\u001b[0m:\u001b[36m104\u001b[0m\n"
     ]
    },
    {
     "name": "stdout",
     "output_type": "stream",
     "text": [
      "+ Running 9, with features, dilation on survos://default@testroi2:features/008_threshold\n",
      " to dst survos://default@testroi2:features/009_dilation {'src': 'survos://default@testroi2:features/008_threshold', 'dst': 'survos://default@testroi2:features/009_dilation', 'modal': True, 'num_iter': 1}\n",
      "\n"
     ]
    }
   ],
   "source": [
    "# needed for relative path to work\n",
    "import os\n",
    "os.chdir(\"..\\..\")\n",
    "os.getcwd()\n",
    "\n",
    "workflow_name = 'tests\\\\workflows\\\\feature_set.yaml'\n",
    "#workflow_name = 'tests/workflows/superegion.yaml'     \n",
    "all_params, params  = run_workflow(workflow_name)"
   ]
  },
  {
   "cell_type": "code",
   "execution_count": 55,
   "metadata": {},
   "outputs": [
    {
     "data": {
      "image/png": "[encoded data removed]",
      "text/plain": [
       "<Figure size 640x480 with 1 Axes>"
      ]
     },
     "metadata": {},
     "output_type": "display_data"
    }
   ],
   "source": [
    "arr = view_dataset('003_gaussian_blur', 'features', 50)"
   ]
  },
  {
   "cell_type": "markdown",
   "metadata": {},
   "source": [
    "# Superregions"
   ]
  },
  {
   "cell_type": "code",
   "execution_count": 26,
   "metadata": {},
   "outputs": [],
   "source": [
    "result = Launcher.g.run('superregions', 'create', workspace=workspace_name)"
   ]
  },
  {
   "cell_type": "code",
   "execution_count": 62,
   "metadata": {},
   "outputs": [],
   "source": []
  },
  {
   "cell_type": "code",
   "execution_count": 77,
   "metadata": {},
   "outputs": [],
   "source": [
    "dst = DataModel.g.dataset_uri('001_supervoxels', group=\"superregions\")\n",
    "params = {\n",
    " 'src' : dst,\n",
    " 'dst' : dst,\n",
    " 'compactness': 0.05,\n",
    " 'enforce_connectivity': False,\n",
    " 'mask_id': 'None',\n",
    " 'max_num_iter': 10,\n",
    " 'multichannel': False,\n",
    " 'n_segments': 10000,\n",
    " 'out_dtype': 'uint32',\n",
    " 'spacing': [1, 1, 1],\n",
    " 'zero_parameter': False}\n",
    "\n"
   ]
  },
  {
   "cell_type": "code",
   "execution_count": 78,
   "metadata": {},
   "outputs": [
    {
     "data": {
      "text/plain": [
       "{'compactness': 0.05,\n",
       " 'enforce_connectivity': False,\n",
       " 'kind': 'supervoxels',\n",
       " 'mask_id': 'None',\n",
       " 'max_num_iter': 10,\n",
       " 'multichannel': False,\n",
       " 'n_segments': 10000,\n",
       " 'name': '001 Supervoxels',\n",
       " 'out_dtype': 'uint32',\n",
       " 'source': '001_supervoxels',\n",
       " 'spacing': [1, 1, 1],\n",
       " 'zero_parameter': False,\n",
       " 'id': '001_supervoxels'}"
      ]
     },
     "execution_count": 78,
     "metadata": {},
     "output_type": "execute_result"
    }
   ],
   "source": [
    "Launcher.g.run('superregions', 'supervoxels', json_transport=False, **params)"
   ]
  },
  {
   "cell_type": "code",
   "execution_count": 79,
   "metadata": {},
   "outputs": [
    {
     "data": {
      "image/png": "[encoded data removed]",
      "text/plain": [
       "<Figure size 640x480 with 1 Axes>"
      ]
     },
     "metadata": {},
     "output_type": "display_data"
    }
   ],
   "source": [
    "superegion_array = view_dataset('001_supervoxels', 'superregions', 50)"
   ]
  },
  {
   "cell_type": "code",
   "execution_count": null,
   "metadata": {},
   "outputs": [],
   "source": []
  },
  {
   "cell_type": "markdown",
   "metadata": {},
   "source": [
    "# Annotations\n",
    "It's possible to add and edit annotations through the notebook interface, and to modify their labels."
   ]
  },
  {
   "cell_type": "code",
   "execution_count": null,
   "metadata": {},
   "outputs": [],
   "source": []
  },
  {
   "cell_type": "code",
   "execution_count": 47,
   "metadata": {},
   "outputs": [
    {
     "data": {
      "text/plain": [
       "[{'kind': 'level',\n",
       "  'labels': {'2': {'color': '#dc1d03',\n",
       "    'idx': 2,\n",
       "    'name': 'Label',\n",
       "    'visible': True},\n",
       "   '3': {'color': '#3c25ed', 'idx': 3, 'name': 'Label', 'visible': True}},\n",
       "  'modified': [1],\n",
       "  'name': '001 Level',\n",
       "  'id': '001_level'}]"
      ]
     },
     "execution_count": 47,
     "metadata": {},
     "output_type": "execute_result"
    }
   ],
   "source": [
    "Launcher.g.run('annotations', 'get_levels', uri=None, workspace=workspace_name)\n"
   ]
  },
  {
   "cell_type": "code",
   "execution_count": 48,
   "metadata": {},
   "outputs": [
    {
     "data": {
      "text/plain": [
       "{'name': '002 Level', 'kind': 'level', 'modified': [0], 'id': '002_level'}"
      ]
     },
     "execution_count": 48,
     "metadata": {},
     "output_type": "execute_result"
    }
   ],
   "source": [
    "\n",
    "result = Launcher.g.run('annotations', 'add_level', uri=None, workspace=workspace_name)\n",
    "result"
   ]
  },
  {
   "cell_type": "code",
   "execution_count": 49,
   "metadata": {},
   "outputs": [
    {
     "data": {
      "text/plain": [
       "{'idx': 2, 'name': 'Label', 'color': '#000000', 'visible': True}"
      ]
     },
     "execution_count": 49,
     "metadata": {},
     "output_type": "execute_result"
    }
   ],
   "source": [
    "params = dict(level=\"002_level\")\n",
    "result = Launcher.g.run('annotations', 'add_label', uri=None, workspace=workspace_name, **params)\n",
    "result"
   ]
  },
  {
   "cell_type": "code",
   "execution_count": 50,
   "metadata": {},
   "outputs": [
    {
     "data": {
      "text/plain": [
       "{'2': {'idx': 2, 'name': 'Label', 'color': '#000000', 'visible': True}}"
      ]
     },
     "execution_count": 50,
     "metadata": {},
     "output_type": "execute_result"
    }
   ],
   "source": [
    "Launcher.g.run('annotations', 'get_labels', uri=None, workspace=workspace_name, level='002_level')\n"
   ]
  },
  {
   "cell_type": "code",
   "execution_count": 51,
   "metadata": {},
   "outputs": [],
   "source": [
    "label = dict(\n",
    "            idx=2,\n",
    "            name=\"Stuff\",\n",
    "            color=\"#FA00FA\",\n",
    "            visible=True,\n",
    "        )\n",
    "params = dict(level=\"002_level\", )\n",
    "result = Launcher.g.run('annotations', 'update_label', uri=None, workspace=workspace_name, **params, **label)\n"
   ]
  },
  {
   "cell_type": "code",
   "execution_count": 52,
   "metadata": {},
   "outputs": [
    {
     "data": {
      "text/plain": [
       "{'2': {'idx': 2, 'name': 'Stuff', 'color': '#FA00FA', 'visible': True}}"
      ]
     },
     "execution_count": 52,
     "metadata": {},
     "output_type": "execute_result"
    }
   ],
   "source": [
    "Launcher.g.run('annotations', 'get_labels', uri=None, workspace=workspace_name, level='002_level')\n"
   ]
  },
  {
   "cell_type": "code",
   "execution_count": null,
   "metadata": {},
   "outputs": [],
   "source": [
    "#survos.run_command('annotations', 'set_label_parent', uri=None, workspace=workspace_name, level='002_level')\n"
   ]
  },
  {
   "cell_type": "code",
   "execution_count": null,
   "metadata": {},
   "outputs": [],
   "source": []
  },
  {
   "cell_type": "code",
   "execution_count": 53,
   "metadata": {},
   "outputs": [
    {
     "data": {
      "image/png": "[encoded data removed]",
      "text/plain": [
       "<Figure size 640x480 with 1 Axes>"
      ]
     },
     "metadata": {},
     "output_type": "display_data"
    }
   ],
   "source": [
    "annotation_array = view_dataset('001_level', 'annotations', 50)"
   ]
  },
  {
   "cell_type": "code",
   "execution_count": null,
   "metadata": {},
   "outputs": [],
   "source": [
    "# modify the labels directly\n",
    "annotation_array += 1"
   ]
  },
  {
   "cell_type": "code",
   "execution_count": null,
   "metadata": {},
   "outputs": [],
   "source": [
    "# add modified annotation back to the workspace\n"
   ]
  },
  {
   "cell_type": "markdown",
   "metadata": {},
   "source": [
    "# Superregion segment"
   ]
  },
  {
   "cell_type": "code",
   "execution_count": 40,
   "metadata": {},
   "outputs": [],
   "source": [
    "result = Launcher.g.run('pipelines', 'create', workspace=workspace_name, pipeline_type=\"superregion_segment\")"
   ]
  },
  {
   "cell_type": "code",
   "execution_count": 41,
   "metadata": {},
   "outputs": [
    {
     "data": {
      "text/plain": [
       "{'name': '001 Superregion Segment',\n",
       " 'kind': 'superregion_segment',\n",
       " 'id': '001_superregion_segment'}"
      ]
     },
     "execution_count": 41,
     "metadata": {},
     "output_type": "execute_result"
    }
   ],
   "source": [
    "result"
   ]
  },
  {
   "cell_type": "code",
   "execution_count": 42,
   "metadata": {
    "tags": []
   },
   "outputs": [],
   "source": [
    "src = DataModel.g.dataset_uri('001_level', group=\"annotations\")\n",
    "dst = DataModel.g.dataset_uri('001_superregion_segment', group=\"pipelines\")\n",
    "params= {'src': src,\n",
    " 'dst': dst,\n",
    " 'anno_id':'001_level',\n",
    " 'classifier_params': {'clf': 'ensemble',\n",
    "                       'learning_rate': 1.0,\n",
    "                       'max_depth': 15,\n",
    "                       'n_estimators': 100,\n",
    "                       'n_jobs': 10,\n",
    "                       'subsample': 1.0,\n",
    "                       'type': 'rf'},\n",
    " 'classifier_type': 'Ensemble',\n",
    " 'confidence': False,\n",
    " 'constrain_mask': 'None',\n",
    " 'feature_ids': ['001_raw', '002_tvdenoise', '003_gaussian_blur'],\n",
    " 'lam': 0.0,\n",
    " 'projection_type': 'None',\n",
    " 'refine': True,\n",
    " 'region_id': '001_supervoxels',\n",
    " 'workspace': 'testroi2'}"
   ]
  },
  {
   "cell_type": "code",
   "execution_count": 43,
   "metadata": {},
   "outputs": [
    {
     "data": {
      "text/plain": [
       "{'src': 'survos://default@testroi2:annotations/001_level',\n",
       " 'dst': 'survos://default@testroi2:pipelines/001_superregion_segment',\n",
       " 'anno_id': '001_level',\n",
       " 'classifier_params': {'clf': 'ensemble',\n",
       "  'learning_rate': 1.0,\n",
       "  'max_depth': 15,\n",
       "  'n_estimators': 100,\n",
       "  'n_jobs': 10,\n",
       "  'subsample': 1.0,\n",
       "  'type': 'rf'},\n",
       " 'classifier_type': 'Ensemble',\n",
       " 'confidence': False,\n",
       " 'constrain_mask': 'None',\n",
       " 'feature_ids': ['001_raw', '002_tvdenoise', '003_gaussian_blur'],\n",
       " 'lam': 0.0,\n",
       " 'projection_type': 'None',\n",
       " 'refine': True,\n",
       " 'region_id': '001_supervoxels',\n",
       " 'workspace': 'testroi2'}"
      ]
     },
     "execution_count": 43,
     "metadata": {},
     "output_type": "execute_result"
    }
   ],
   "source": [
    "params"
   ]
  },
  {
   "cell_type": "code",
   "execution_count": 44,
   "metadata": {},
   "outputs": [
    {
     "data": {
      "text/plain": [
       "{'kind': 'superregion_segment',\n",
       " 'name': '001 Superregion Segment',\n",
       " 'workspace': 'testroi2',\n",
       " 'anno_id': '001_level',\n",
       " 'constrain_mask': 'None',\n",
       " 'region_id': '001_supervoxels',\n",
       " 'lam': 0.0,\n",
       " 'refine': True,\n",
       " 'classifier_type': 'Ensemble',\n",
       " 'projection_type': 'None',\n",
       " 'confidence': False,\n",
       " 'classifier_params': {'clf': 'Ensemble',\n",
       "  'learning_rate': 1.0,\n",
       "  'max_depth': 15,\n",
       "  'n_estimators': 100,\n",
       "  'n_jobs': 10,\n",
       "  'subsample': 1.0,\n",
       "  'type': 'rf',\n",
       "  'proj': 'None'},\n",
       " 'feature_ids': ['001_raw', '002_tvdenoise', '003_gaussian_blur'],\n",
       " 'source': '001_level',\n",
       " 'id': '001_superregion_segment'}"
      ]
     },
     "execution_count": 44,
     "metadata": {},
     "output_type": "execute_result"
    }
   ],
   "source": [
    "Launcher.g.run('pipelines', 'superregion_segment', json_transport=True, **params)"
   ]
  },
  {
   "cell_type": "code",
   "execution_count": 46,
   "metadata": {},
   "outputs": [
    {
     "data": {
      "image/png": "[encoded data removed]",
      "text/plain": [
       "<Figure size 640x480 with 1 Axes>"
      ]
     },
     "metadata": {},
     "output_type": "display_data"
    }
   ],
   "source": [
    "segmentation_array = view_dataset('001_superregion_segment', 'pipelines', 30)"
   ]
  },
  {
   "cell_type": "markdown",
   "metadata": {},
   "source": [
    "# Multi-axis CNN"
   ]
  },
  {
   "cell_type": "code",
   "execution_count": 36,
   "metadata": {},
   "outputs": [
    {
     "data": {
      "text/plain": [
       "'survos://default@huntcrop2:pipelines/004_train_multi_axis_cnn'"
      ]
     },
     "execution_count": 36,
     "metadata": {},
     "output_type": "execute_result"
    }
   ],
   "source": [
    "src = DataModel.g.dataset_uri('004_train_multi_axis_cnn', group=\"pipelines\")\n",
    "src"
   ]
  },
  {
   "cell_type": "code",
   "execution_count": 37,
   "metadata": {},
   "outputs": [],
   "source": [
    "dst = src"
   ]
  },
  {
   "cell_type": "code",
   "execution_count": 49,
   "metadata": {},
   "outputs": [],
   "source": [
    "params = {\n",
    "  'src': src,\n",
    "  'dst': dst,  \n",
    "  'anno_id': [['003_level', '003 Level']],\n",
    "  'feature_id': [['001_raw', '001 Raw']],\n",
    "  'kind': 'train_multi_axis_cnn',\n",
    "  'multi_ax_train_params': {'bce_dice_alpha': '0.75',\n",
    "   'bce_dice_beta': '0.25',\n",
    "   'cyc_frozen': 1,\n",
    "   'cyc_unfrozen': 0,\n",
    "   'encoder_type': 'resnet34',\n",
    "   'loss_criterion': 'DiceLoss',\n",
    "   'model_type': 'U_Net',\n",
    "   'patience': '3'},\n",
    "  'name': '004 Train Multi Axis Cnn',\n",
    "  'source': '001_raw',\n",
    "  'workspace': 'hunt_crop2',\n",
    "  'id': '004_train_multi_axis_cnn'}"
   ]
  },
  {
   "cell_type": "code",
   "execution_count": null,
   "metadata": {
    "tags": []
   },
   "outputs": [],
   "source": [
    "Launcher.g.run('pipelines', 'train_multi_axis_cnn', json_transport=True, **params)"
   ]
  },
  {
   "cell_type": "code",
   "execution_count": null,
   "metadata": {},
   "outputs": [],
   "source": []
  },
  {
   "cell_type": "code",
   "execution_count": null,
   "metadata": {},
   "outputs": [],
   "source": []
  },
  {
   "cell_type": "code",
   "execution_count": 34,
   "metadata": {},
   "outputs": [],
   "source": [
    "params = {\n",
    "    \"src\" : \"survos://default@:annotations/002_level\", \n",
    "    \"slice_idx\" : 10,\n",
    "    \"order\" : (1,2,3),\n",
    "    \"workspace\": workspace_name,\n",
    "}"
   ]
  },
  {
   "cell_type": "code",
   "execution_count": 82,
   "metadata": {},
   "outputs": [],
   "source": [
    "r = Launcher.g.run('annotations', 'get_slice', src=\"survos://default@huntcrop2:annotations/002_level\", slice_idx=10, order=(0,1,2)) "
   ]
  },
  {
   "cell_type": "code",
   "execution_count": null,
   "metadata": {},
   "outputs": [],
   "source": []
  },
  {
   "cell_type": "markdown",
   "metadata": {},
   "source": [
    "# Segmentation analysis"
   ]
  },
  {
   "cell_type": "code",
   "execution_count": null,
   "metadata": {},
   "outputs": [],
   "source": []
  },
  {
   "cell_type": "code",
   "execution_count": 22,
   "metadata": {
    "collapsed": true,
    "jupyter": {
     "outputs_hidden": true
    },
    "tags": []
   },
   "outputs": [
    {
     "name": "stderr",
     "output_type": "stream",
     "text": [
      "\u001b[1mINFO - Contacting endpoint http://127.0.0.1:8000/ \u001b[0m\u001b[32m - survos2.survos\u001b[0m:\u001b[36mremote_client\u001b[0m:\u001b[36m104\u001b[0m\n"
     ]
    },
    {
     "data": {
      "text/plain": [
       "({'detail': [{'loc': ['body', 'src'],\n",
       "    'msg': 'field required',\n",
       "    'type': 'value_error.missing'},\n",
       "   {'loc': ['body', 'dst'],\n",
       "    'msg': 'field required',\n",
       "    'type': 'value_error.missing'},\n",
       "   {'loc': ['body', 'workspace'],\n",
       "    'msg': 'field required',\n",
       "    'type': 'value_error.missing'},\n",
       "   {'loc': ['body', 'mode'],\n",
       "    'msg': 'field required',\n",
       "    'type': 'value_error.missing'},\n",
       "   {'loc': ['body', 'pipelines_id'],\n",
       "    'msg': 'field required',\n",
       "    'type': 'value_error.missing'},\n",
       "   {'loc': ['body', 'analyzers_id'],\n",
       "    'msg': 'field required',\n",
       "    'type': 'value_error.missing'},\n",
       "   {'loc': ['body', 'annotations_id'],\n",
       "    'msg': 'field required',\n",
       "    'type': 'value_error.missing'},\n",
       "   {'loc': ['body', 'feature_id'],\n",
       "    'msg': 'field required',\n",
       "    'type': 'value_error.missing'},\n",
       "   {'loc': ['body', 'split_ops'],\n",
       "    'msg': 'field required',\n",
       "    'type': 'value_error.missing'},\n",
       "   {'loc': ['body', 'background_label'],\n",
       "    'msg': 'field required',\n",
       "    'type': 'value_error.missing'}]},\n",
       " False)"
      ]
     },
     "execution_count": 22,
     "metadata": {},
     "output_type": "execute_result"
    }
   ],
   "source": [
    "survos.run_command('analyzer', 'label_analyzer', uri='127.0.0.1:8000', workspace=workspace_name)"
   ]
  },
  {
   "cell_type": "code",
   "execution_count": null,
   "metadata": {},
   "outputs": [],
   "source": []
  },
  {
   "cell_type": "code",
   "execution_count": null,
   "metadata": {},
   "outputs": [],
   "source": []
  },
  {
   "cell_type": "markdown",
   "metadata": {},
   "source": [
    "# Perform custom processing"
   ]
  },
  {
   "cell_type": "code",
   "execution_count": 9,
   "metadata": {},
   "outputs": [],
   "source": [
    "import scipy"
   ]
  },
  {
   "cell_type": "code",
   "execution_count": 10,
   "metadata": {},
   "outputs": [],
   "source": [
    "processed_image = scipy.ndimage.gaussian_laplace(feature_array, sigma=3)"
   ]
  },
  {
   "cell_type": "code",
   "execution_count": 11,
   "metadata": {},
   "outputs": [
    {
     "data": {
      "text/plain": [
       "(128, 1450, 1450)"
      ]
     },
     "execution_count": 11,
     "metadata": {},
     "output_type": "execute_result"
    }
   ],
   "source": [
    "processed_image.shape"
   ]
  },
  {
   "cell_type": "code",
   "execution_count": 12,
   "metadata": {
    "collapsed": true,
    "jupyter": {
     "outputs_hidden": true
    },
    "tags": []
   },
   "outputs": [
    {
     "data": {
      "text/plain": [
       "array([[[ 1.09386491e-02,  9.62226000e-03,  6.89124595e-03, ...,\n",
       "         -6.54761028e-03, -8.90335348e-03, -1.02451630e-02],\n",
       "        [ 1.08007686e-02,  9.48126242e-03,  6.79443451e-03, ...,\n",
       "         -5.17859636e-03, -7.13202171e-03, -8.26590322e-03],\n",
       "        [ 1.03758536e-02,  9.06769931e-03,  6.49521127e-03, ...,\n",
       "         -2.85482896e-03, -4.15769871e-03, -4.96037677e-03],\n",
       "        ...,\n",
       "        [ 5.09587117e-05,  9.81304911e-04,  2.12428579e-03, ...,\n",
       "         -6.23097783e-03, -8.61929450e-03, -9.92689468e-03],\n",
       "        [ 5.20830741e-04,  1.44247245e-03,  2.53977906e-03, ...,\n",
       "         -4.87286691e-03, -7.00286776e-03, -8.18461739e-03],\n",
       "        [ 7.49568688e-04,  1.63736928e-03,  2.66417325e-03, ...,\n",
       "         -3.82052478e-03, -5.72856981e-03, -6.79557398e-03]],\n",
       "\n",
       "       [[ 1.13522429e-02,  9.81980655e-03,  6.79106079e-03, ...,\n",
       "         -6.72454294e-03, -8.64406675e-03, -9.72354598e-03],\n",
       "        [ 1.10512469e-02,  9.54690762e-03,  6.61666412e-03, ...,\n",
       "         -5.37819695e-03, -6.93625398e-03, -7.82851502e-03],\n",
       "        [ 1.03593012e-02,  8.91797803e-03,  6.19095750e-03, ...,\n",
       "         -3.08201136e-03, -4.05707816e-03, -4.65200748e-03],\n",
       "        ...,\n",
       "        [-8.75147060e-04,  2.33949395e-04,  1.70557119e-03, ...,\n",
       "         -6.67323032e-03, -8.74589756e-03, -9.84941423e-03],\n",
       "        [-4.10866225e-04,  6.79929741e-04,  2.08779075e-03, ...,\n",
       "         -5.36847301e-03, -7.18811899e-03, -8.16681795e-03],\n",
       "        [-1.79839088e-04,  8.69038515e-04,  2.19165022e-03, ...,\n",
       "         -4.33606096e-03, -5.94082149e-03, -6.80817943e-03]],\n",
       "\n",
       "       [[ 1.14450054e-02,  9.63698886e-03,  6.25558477e-03, ...,\n",
       "         -6.81319879e-03, -7.93320127e-03, -8.53632763e-03],\n",
       "        [ 1.08913276e-02,  9.16514546e-03,  5.97548764e-03, ...,\n",
       "         -5.53113036e-03, -6.36500120e-03, -6.81907171e-03],\n",
       "        [ 9.79231484e-03,  8.21693428e-03,  5.38106402e-03, ...,\n",
       "         -3.32992151e-03, -3.70610785e-03, -3.92557262e-03],\n",
       "        ...,\n",
       "        [-2.53634574e-03, -1.06518762e-03,  1.05828035e-03, ...,\n",
       "         -7.27209914e-03, -8.78730416e-03, -9.53317992e-03],\n",
       "        [-2.08318606e-03, -6.47017383e-04,  1.38089631e-03, ...,\n",
       "         -6.05229009e-03, -7.32724648e-03, -7.95236882e-03],\n",
       "        [-1.85005600e-03, -4.69978433e-04,  1.44673302e-03, ...,\n",
       "         -5.05294092e-03, -6.12829579e-03, -6.64981827e-03]],\n",
       "\n",
       "       ...,\n",
       "\n",
       "       [[-3.26021551e-03, -1.43718068e-03,  1.32100447e-03, ...,\n",
       "         -4.23919503e-03, -3.02787917e-03, -2.02148012e-03],\n",
       "        [-3.75272916e-03, -1.89554575e-03,  9.50468704e-04, ...,\n",
       "         -4.17338498e-03, -3.11552756e-03, -2.19252706e-03],\n",
       "        [-4.73766541e-03, -2.83262646e-03,  1.54925627e-04, ...,\n",
       "         -3.91601073e-03, -3.17556504e-03, -2.43185088e-03],\n",
       "        ...,\n",
       "        [-2.87879491e-03, -2.81368103e-03, -2.82101030e-03, ...,\n",
       "         -7.14740064e-03, -3.06520262e-03, -3.34674027e-04],\n",
       "        [-3.00729321e-03, -3.06316605e-03, -3.24386009e-03, ...,\n",
       "         -1.01778666e-02, -6.93410914e-03, -4.67411242e-03],\n",
       "        [-3.10015865e-03, -3.21156671e-03, -3.47013306e-03, ...,\n",
       "         -1.19076539e-02, -9.22872405e-03, -7.29345856e-03]],\n",
       "\n",
       "       [[-3.46138305e-03, -1.44095998e-03,  1.57019333e-03, ...,\n",
       "         -3.57770035e-03, -2.12994823e-03, -9.71844420e-04],\n",
       "        [-4.19859169e-03, -2.14345683e-03,  9.66406369e-04, ...,\n",
       "         -3.56211909e-03, -2.24622479e-03, -1.15918147e-03],\n",
       "        [-5.56426449e-03, -3.46112740e-03, -1.93090760e-04, ...,\n",
       "         -3.38472356e-03, -2.35772692e-03, -1.43331557e-03],\n",
       "        ...,\n",
       "        [-5.26652485e-03, -4.79991687e-03, -4.11664741e-03, ...,\n",
       "         -7.63211958e-03, -3.06366431e-03, -3.95644456e-05],\n",
       "        [-5.75656164e-03, -5.35316672e-03, -4.74291760e-03, ...,\n",
       "         -1.07064415e-02, -7.00815301e-03, -4.47065011e-03],\n",
       "        [-6.06231811e-03, -5.67894336e-03, -5.08573744e-03, ...,\n",
       "         -1.24781942e-02, -9.37104225e-03, -7.17198336e-03]],\n",
       "\n",
       "       [[-3.65927629e-03, -1.51306693e-03,  1.66426389e-03, ...,\n",
       "         -3.21537023e-03, -1.65204215e-03, -4.18738928e-04],\n",
       "        [-4.55427589e-03, -2.37103878e-03,  9.15314653e-04, ...,\n",
       "         -3.22129228e-03, -1.77610246e-03, -6.06170914e-04],\n",
       "        [-6.16063410e-03, -3.92690487e-03, -4.67692851e-04, ...,\n",
       "         -3.08066513e-03, -1.90635375e-03, -8.88776616e-04],\n",
       "        ...,\n",
       "        [-6.58045523e-03, -5.87252015e-03, -4.78101196e-03, ...,\n",
       "         -7.79629359e-03, -2.93414644e-03,  2.64463481e-04],\n",
       "        [-7.27897370e-03, -6.59951940e-03, -5.52117312e-03, ...,\n",
       "         -1.08743897e-02, -6.89304806e-03, -4.18623397e-03],\n",
       "        [-7.70667847e-03, -7.02613639e-03, -5.92890242e-03, ...,\n",
       "         -1.26582282e-02, -9.27793141e-03, -6.91460306e-03]]],\n",
       "      dtype=float32)"
      ]
     },
     "execution_count": 12,
     "metadata": {},
     "output_type": "execute_result"
    }
   ],
   "source": [
    "processed_image"
   ]
  },
  {
   "cell_type": "code",
   "execution_count": 19,
   "metadata": {},
   "outputs": [],
   "source": [
    "from survos2.frontend.nb_utils import add_feature"
   ]
  },
  {
   "cell_type": "markdown",
   "metadata": {},
   "source": [
    "### Add feature to workspace"
   ]
  },
  {
   "cell_type": "code",
   "execution_count": 20,
   "metadata": {
    "collapsed": true,
    "jupyter": {
     "outputs_hidden": true
    },
    "tags": []
   },
   "outputs": [
    {
     "name": "stderr",
     "output_type": "stream",
     "text": [
      "\u001b[34m\u001b[1mDEBUG - Using client <hug.use.Local object at 0x2b2dd946cb30> \u001b[0m\u001b[32m - survos2.survos\u001b[0m:\u001b[36mrun_command\u001b[0m:\u001b[36m111\u001b[0m\n",
      "\u001b[34m\u001b[1mDEBUG - get request to client: create \u001b[0m\u001b[32m - survos2.survos\u001b[0m:\u001b[36mrun_command\u001b[0m:\u001b[36m114\u001b[0m\n",
      "\u001b[34m\u001b[1mDEBUG - format '{:03d}_{}' -> ' *([-+ ]?\\\\d{1,3}|[-+ ]?0[xX][0-9a-fA-F]{1,3}|[-+ ]?0[bB][01]{1,3}|[-+ ]?0[oO][0-7]{1,3})_(.+?)' \u001b[0m\u001b[32m - parse\u001b[0m:\u001b[36m__init__\u001b[0m:\u001b[36m837\u001b[0m\n",
      "\u001b[34m\u001b[1mDEBUG - format '{:03d}_{}' -> ' *([-+ ]?\\\\d{1,3}|[-+ ]?0[xX][0-9a-fA-F]{1,3}|[-+ ]?0[bB][01]{1,3}|[-+ ]?0[oO][0-7]{1,3})_(.+?)' \u001b[0m\u001b[32m - parse\u001b[0m:\u001b[36m__init__\u001b[0m:\u001b[36m837\u001b[0m\n",
      "\u001b[34m\u001b[1mDEBUG - format '{:03d}_{}' -> ' *([-+ ]?\\\\d{1,3}|[-+ ]?0[xX][0-9a-fA-F]{1,3}|[-+ ]?0[bB][01]{1,3}|[-+ ]?0[oO][0-7]{1,3})_(.+?)' \u001b[0m\u001b[32m - parse\u001b[0m:\u001b[36m__init__\u001b[0m:\u001b[36m837\u001b[0m\n",
      "\u001b[34m\u001b[1mDEBUG - format '{:03d}_{}' -> ' *([-+ ]?\\\\d{1,3}|[-+ ]?0[xX][0-9a-fA-F]{1,3}|[-+ ]?0[bB][01]{1,3}|[-+ ]?0[oO][0-7]{1,3})_(.+?)' \u001b[0m\u001b[32m - parse\u001b[0m:\u001b[36m__init__\u001b[0m:\u001b[36m837\u001b[0m\n",
      "\u001b[34m\u001b[1mDEBUG - format '{:03d}_{}' -> ' *([-+ ]?\\\\d{1,3}|[-+ ]?0[xX][0-9a-fA-F]{1,3}|[-+ ]?0[bB][01]{1,3}|[-+ ]?0[oO][0-7]{1,3})_(.+?)' \u001b[0m\u001b[32m - parse\u001b[0m:\u001b[36m__init__\u001b[0m:\u001b[36m837\u001b[0m\n",
      "\u001b[34m\u001b[1mDEBUG - format '{:03d}_{}' -> ' *([-+ ]?\\\\d{1,3}|[-+ ]?0[xX][0-9a-fA-F]{1,3}|[-+ ]?0[bB][01]{1,3}|[-+ ]?0[oO][0-7]{1,3})_(.+?)' \u001b[0m\u001b[32m - parse\u001b[0m:\u001b[36m__init__\u001b[0m:\u001b[36m837\u001b[0m\n",
      "\u001b[34m\u001b[1mDEBUG - format '{:03d}_{}' -> ' *([-+ ]?\\\\d{1,3}|[-+ ]?0[xX][0-9a-fA-F]{1,3}|[-+ ]?0[bB][01]{1,3}|[-+ ]?0[oO][0-7]{1,3})_(.+?)' \u001b[0m\u001b[32m - parse\u001b[0m:\u001b[36m__init__\u001b[0m:\u001b[36m837\u001b[0m\n",
      "\u001b[34m\u001b[1mDEBUG - format '{:03d}_{}' -> ' *([-+ ]?\\\\d{1,3}|[-+ ]?0[xX][0-9a-fA-F]{1,3}|[-+ ]?0[bB][01]{1,3}|[-+ ]?0[oO][0-7]{1,3})_(.+?)' \u001b[0m\u001b[32m - parse\u001b[0m:\u001b[36m__init__\u001b[0m:\u001b[36m837\u001b[0m\n",
      "\u001b[34m\u001b[1mDEBUG - format '{:03d}_{}' -> ' *([-+ ]?\\\\d{1,3}|[-+ ]?0[xX][0-9a-fA-F]{1,3}|[-+ ]?0[bB][01]{1,3}|[-+ ]?0[oO][0-7]{1,3})_(.+?)' \u001b[0m\u001b[32m - parse\u001b[0m:\u001b[36m__init__\u001b[0m:\u001b[36m837\u001b[0m\n",
      "\u001b[1mINFO - Creating dataset on /dls/science/groups/das/SuRVoS/s2/data/avery/vf_3003_main/default/features/010_raw [128, 1450, 1450] float32 None [128, 242, 132] \u001b[0m\u001b[32m - survos2.model.dataset\u001b[0m:\u001b[36mcreate\u001b[0m:\u001b[36m246\u001b[0m\n",
      "\u001b[34m\u001b[1mDEBUG - Created (empty) feature of kind raw \u001b[0m\u001b[32m - survos2.api.features\u001b[0m:\u001b[36mcreate\u001b[0m:\u001b[36m528\u001b[0m\n",
      "\u001b[34m\u001b[1mDEBUG - Local client gave response Response(data={'data': {'name': '010 Raw', 'kind': 'raw', 'id': '010_raw'}, 'error': False}, status_code=200, headers={'content-type': 'application/json'}) \u001b[0m\u001b[32m - survos2.survos\u001b[0m:\u001b[36mrun_command\u001b[0m:\u001b[36m116\u001b[0m\n",
      "\u001b[34m\u001b[1mDEBUG - Using client <hug.use.Local object at 0x2b2dd946cb30> \u001b[0m\u001b[32m - survos2.survos\u001b[0m:\u001b[36mrun_command\u001b[0m:\u001b[36m111\u001b[0m\n",
      "\u001b[34m\u001b[1mDEBUG - get request to client: rename \u001b[0m\u001b[32m - survos2.survos\u001b[0m:\u001b[36mrun_command\u001b[0m:\u001b[36m114\u001b[0m\n",
      "\u001b[34m\u001b[1mDEBUG - Local client gave response Response(data={'data': {'done': True}, 'error': False}, status_code=200, headers={'content-type': 'application/json'}) \u001b[0m\u001b[32m - survos2.survos\u001b[0m:\u001b[36mrun_command\u001b[0m:\u001b[36m116\u001b[0m\n",
      "\u001b[1mINFO - running survos_from_uri on survos:// uri \u001b[0m\u001b[32m - survos2.io\u001b[0m:\u001b[36msurvos_from_uri\u001b[0m:\u001b[36m166\u001b[0m\n",
      "\u001b[34m\u001b[1mDEBUG - Calling Workspace() Init with workspace name: vf_3003_main \u001b[0m\u001b[32m - survos2.io\u001b[0m:\u001b[36msurvos_from_uri\u001b[0m:\u001b[36m177\u001b[0m\n",
      "\u001b[1mINFO - DatasetManager setting out to survos://default@vf_3003_main:features/010_raw \u001b[0m\u001b[32m - survos2.improc.utils\u001b[0m:\u001b[36m__init__\u001b[0m:\u001b[36m551\u001b[0m\n",
      "\u001b[1mINFO - running survos_from_uri on survos:// uri \u001b[0m\u001b[32m - survos2.io\u001b[0m:\u001b[36msurvos_from_uri\u001b[0m:\u001b[36m166\u001b[0m\n",
      "\u001b[34m\u001b[1mDEBUG - Calling Workspace() Init with workspace name: vf_3003_main \u001b[0m\u001b[32m - survos2.io\u001b[0m:\u001b[36msurvos_from_uri\u001b[0m:\u001b[36m177\u001b[0m\n",
      "\u001b[1mINFO - Closed: <survos2.model.dataset.Dataset object at 0x2b2d53f5af40> \u001b[0m\u001b[32m - survos2.improc.utils\u001b[0m:\u001b[36m__exit__\u001b[0m:\u001b[36m568\u001b[0m\n",
      "\u001b[1mINFO - Closed: <survos2.model.dataset.Dataset object at 0x2b2d53f5aeb0> \u001b[0m\u001b[32m - survos2.improc.utils\u001b[0m:\u001b[36m__exit__\u001b[0m:\u001b[36m568\u001b[0m\n"
     ]
    },
    {
     "name": "stdout",
     "output_type": "stream",
     "text": [
      "Created new feature with id: 010_raw\n"
     ]
    }
   ],
   "source": [
    "add_feature(processed_image, \"gaussian_laplace\", workspace_name)"
   ]
  },
  {
   "cell_type": "markdown",
   "metadata": {},
   "source": [
    "# Modify annotations"
   ]
  },
  {
   "cell_type": "code",
   "execution_count": 13,
   "metadata": {
    "collapsed": true,
    "jupyter": {
     "outputs_hidden": true
    },
    "tags": []
   },
   "outputs": [
    {
     "name": "stderr",
     "output_type": "stream",
     "text": [
      "\u001b[34m\u001b[1mDEBUG - Using client <hug.use.Local object at 0x2b2c708993b0> \u001b[0m\u001b[32m - survos2.survos\u001b[0m:\u001b[36mrun_command\u001b[0m:\u001b[36m111\u001b[0m\n",
      "\u001b[34m\u001b[1mDEBUG - get request to client: get_levels \u001b[0m\u001b[32m - survos2.survos\u001b[0m:\u001b[36mrun_command\u001b[0m:\u001b[36m114\u001b[0m\n",
      "\u001b[34m\u001b[1mDEBUG - Local client gave response Response(data={'data': [{'kind': 'level', 'labels': {'2': {'color': '#f57900', 'idx': 2, 'name': 'Label', 'visible': True}, '3': {'color': '#cc0000', 'idx': 3, 'name': 'Label', 'visible': True}}, 'modified': [1], 'name': '001 Level', 'id': '001_level'}, {'kind': 'level', 'labels': {'2': {'color': '#75507b', 'idx': 2, 'name': 'Label', 'visible': True}, '3': {'color': '#73d216', 'idx': 3, 'name': 'Label', 'visible': True}}, 'modified': [0, 0, 0, 0, 0, 0, 0, 0, 0, 0, 0, 0, 0, 0, 0, 0, 0, 0, 0, 0, 0, 0, 0, 0, 0, 0, 0, 0, 0, 0, 0, 0, 0, 0, 0, 0, 0, 0, 0, 0, 0, 0, 0, 0, 0, 0, 0, 0, 0, 0, 0, 0, 0, 0, 0, 0, 0, 0, 0, 0, 0, 0, 0, 0, 0, 0, 0, 0, 0, 0, 0, 0, 0, 0, 0, 0, 0, 0, 0, 0, 0, 0, 0, 0, 0, 0, 0, 0, 0, 0, 0, 0, 0, 0, 0, 0, 0, 0, 0, 0, 0, 0, 0, 0], 'name': '002 Level', 'id': '002_level'}, {'kind': 'level', 'labels': {'2': {'color': '#000000', 'idx': 2, 'name': 'Label', 'visible': True}, '3': {'color': '#000000', 'idx': 3, 'name': 'Label', 'visible': True}}, 'modified': [0, 0, 0, 0, 0, 0, 0, 0, 0, 0, 0, 0, 0, 0, 0, 0, 0, 0, 0, 0, 0, 0, 0, 0, 0, 0, 0, 0, 0, 0, 0, 0, 0, 0, 0, 0, 0, 0, 0, 0, 0, 0, 0, 0, 0, 0, 0, 0, 0, 0, 0, 0, 0, 0, 0, 0, 0, 0, 0, 0, 0, 0, 0, 0, 0, 0, 0, 0, 0, 0, 0, 0, 0, 0, 0, 0, 0, 0, 0, 0, 0, 0, 0, 0, 0, 0, 0, 0, 0, 0, 0, 0, 0, 0, 0, 0, 0, 0, 0, 0, 0, 0, 0, 0], 'name': '003 Level', 'id': '003_level'}], 'error': False}, status_code=200, headers={'content-type': 'application/json'}) \u001b[0m\u001b[32m - survos2.survos\u001b[0m:\u001b[36mrun_command\u001b[0m:\u001b[36m116\u001b[0m\n"
     ]
    },
    {
     "data": {
      "text/plain": [
       "([{'kind': 'level',\n",
       "   'labels': {'2': {'color': '#f57900',\n",
       "     'idx': 2,\n",
       "     'name': 'Label',\n",
       "     'visible': True},\n",
       "    '3': {'color': '#cc0000', 'idx': 3, 'name': 'Label', 'visible': True}},\n",
       "   'modified': [1],\n",
       "   'name': '001 Level',\n",
       "   'id': '001_level'},\n",
       "  {'kind': 'level',\n",
       "   'labels': {'2': {'color': '#75507b',\n",
       "     'idx': 2,\n",
       "     'name': 'Label',\n",
       "     'visible': True},\n",
       "    '3': {'color': '#73d216', 'idx': 3, 'name': 'Label', 'visible': True}},\n",
       "   'modified': [0,\n",
       "    0,\n",
       "    0,\n",
       "    0,\n",
       "    0,\n",
       "    0,\n",
       "    0,\n",
       "    0,\n",
       "    0,\n",
       "    0,\n",
       "    0,\n",
       "    0,\n",
       "    0,\n",
       "    0,\n",
       "    0,\n",
       "    0,\n",
       "    0,\n",
       "    0,\n",
       "    0,\n",
       "    0,\n",
       "    0,\n",
       "    0,\n",
       "    0,\n",
       "    0,\n",
       "    0,\n",
       "    0,\n",
       "    0,\n",
       "    0,\n",
       "    0,\n",
       "    0,\n",
       "    0,\n",
       "    0,\n",
       "    0,\n",
       "    0,\n",
       "    0,\n",
       "    0,\n",
       "    0,\n",
       "    0,\n",
       "    0,\n",
       "    0,\n",
       "    0,\n",
       "    0,\n",
       "    0,\n",
       "    0,\n",
       "    0,\n",
       "    0,\n",
       "    0,\n",
       "    0,\n",
       "    0,\n",
       "    0,\n",
       "    0,\n",
       "    0,\n",
       "    0,\n",
       "    0,\n",
       "    0,\n",
       "    0,\n",
       "    0,\n",
       "    0,\n",
       "    0,\n",
       "    0,\n",
       "    0,\n",
       "    0,\n",
       "    0,\n",
       "    0,\n",
       "    0,\n",
       "    0,\n",
       "    0,\n",
       "    0,\n",
       "    0,\n",
       "    0,\n",
       "    0,\n",
       "    0,\n",
       "    0,\n",
       "    0,\n",
       "    0,\n",
       "    0,\n",
       "    0,\n",
       "    0,\n",
       "    0,\n",
       "    0,\n",
       "    0,\n",
       "    0,\n",
       "    0,\n",
       "    0,\n",
       "    0,\n",
       "    0,\n",
       "    0,\n",
       "    0,\n",
       "    0,\n",
       "    0,\n",
       "    0,\n",
       "    0,\n",
       "    0,\n",
       "    0,\n",
       "    0,\n",
       "    0,\n",
       "    0,\n",
       "    0,\n",
       "    0,\n",
       "    0,\n",
       "    0,\n",
       "    0,\n",
       "    0,\n",
       "    0],\n",
       "   'name': '002 Level',\n",
       "   'id': '002_level'},\n",
       "  {'kind': 'level',\n",
       "   'labels': {'2': {'color': '#000000',\n",
       "     'idx': 2,\n",
       "     'name': 'Label',\n",
       "     'visible': True},\n",
       "    '3': {'color': '#000000', 'idx': 3, 'name': 'Label', 'visible': True}},\n",
       "   'modified': [0,\n",
       "    0,\n",
       "    0,\n",
       "    0,\n",
       "    0,\n",
       "    0,\n",
       "    0,\n",
       "    0,\n",
       "    0,\n",
       "    0,\n",
       "    0,\n",
       "    0,\n",
       "    0,\n",
       "    0,\n",
       "    0,\n",
       "    0,\n",
       "    0,\n",
       "    0,\n",
       "    0,\n",
       "    0,\n",
       "    0,\n",
       "    0,\n",
       "    0,\n",
       "    0,\n",
       "    0,\n",
       "    0,\n",
       "    0,\n",
       "    0,\n",
       "    0,\n",
       "    0,\n",
       "    0,\n",
       "    0,\n",
       "    0,\n",
       "    0,\n",
       "    0,\n",
       "    0,\n",
       "    0,\n",
       "    0,\n",
       "    0,\n",
       "    0,\n",
       "    0,\n",
       "    0,\n",
       "    0,\n",
       "    0,\n",
       "    0,\n",
       "    0,\n",
       "    0,\n",
       "    0,\n",
       "    0,\n",
       "    0,\n",
       "    0,\n",
       "    0,\n",
       "    0,\n",
       "    0,\n",
       "    0,\n",
       "    0,\n",
       "    0,\n",
       "    0,\n",
       "    0,\n",
       "    0,\n",
       "    0,\n",
       "    0,\n",
       "    0,\n",
       "    0,\n",
       "    0,\n",
       "    0,\n",
       "    0,\n",
       "    0,\n",
       "    0,\n",
       "    0,\n",
       "    0,\n",
       "    0,\n",
       "    0,\n",
       "    0,\n",
       "    0,\n",
       "    0,\n",
       "    0,\n",
       "    0,\n",
       "    0,\n",
       "    0,\n",
       "    0,\n",
       "    0,\n",
       "    0,\n",
       "    0,\n",
       "    0,\n",
       "    0,\n",
       "    0,\n",
       "    0,\n",
       "    0,\n",
       "    0,\n",
       "    0,\n",
       "    0,\n",
       "    0,\n",
       "    0,\n",
       "    0,\n",
       "    0,\n",
       "    0,\n",
       "    0,\n",
       "    0,\n",
       "    0,\n",
       "    0,\n",
       "    0,\n",
       "    0,\n",
       "    0],\n",
       "   'name': '003 Level',\n",
       "   'id': '003_level'}],\n",
       " False)"
      ]
     },
     "execution_count": 13,
     "metadata": {},
     "output_type": "execute_result"
    }
   ],
   "source": [
    "survos.run_command('annotations', 'get_levels', uri=None, workspace=workspace_name)"
   ]
  },
  {
   "cell_type": "code",
   "execution_count": 24,
   "metadata": {},
   "outputs": [
    {
     "name": "stderr",
     "output_type": "stream",
     "text": [
      "\u001b[1mINFO - running survos_from_uri on survos:// uri \u001b[0m\u001b[32m - survos2.io\u001b[0m:\u001b[36msurvos_from_uri\u001b[0m:\u001b[36m166\u001b[0m\n",
      "\u001b[34m\u001b[1mDEBUG - Calling Workspace() Init with workspace name: vf_3003_main \u001b[0m\u001b[32m - survos2.io\u001b[0m:\u001b[36msurvos_from_uri\u001b[0m:\u001b[36m177\u001b[0m\n",
      "\u001b[1mINFO - Closed: <survos2.model.dataset.Dataset object at 0x2b2dd94b0070> \u001b[0m\u001b[32m - survos2.improc.utils\u001b[0m:\u001b[36m__exit__\u001b[0m:\u001b[36m568\u001b[0m\n"
     ]
    },
    {
     "data": {
      "image/png": "[encoded data removed]",
      "text/plain": [
       "<Figure size 432x288 with 1 Axes>"
      ]
     },
     "metadata": {},
     "output_type": "display_data"
    }
   ],
   "source": [
    "anno_001_level = view_dataset('001_level', 'annotations',66)\n",
    "anno_001_level = anno_001_level & 15 # anno images have to be processed with this command (because of the way history works)"
   ]
  },
  {
   "cell_type": "code",
   "execution_count": 25,
   "metadata": {},
   "outputs": [
    {
     "data": {
      "text/plain": [
       "array([0, 1], dtype=uint32)"
      ]
     },
     "execution_count": 25,
     "metadata": {},
     "output_type": "execute_result"
    }
   ],
   "source": [
    "np.unique(anno_001_level)"
   ]
  },
  {
   "cell_type": "code",
   "execution_count": 27,
   "metadata": {},
   "outputs": [],
   "source": [
    "anno_001_level_mod = anno_001_level + 2 #shift all the labels by 1"
   ]
  },
  {
   "cell_type": "code",
   "execution_count": 28,
   "metadata": {},
   "outputs": [
    {
     "data": {
      "text/plain": [
       "array([2, 3], dtype=uint32)"
      ]
     },
     "execution_count": 28,
     "metadata": {},
     "output_type": "execute_result"
    }
   ],
   "source": [
    "np.unique(anno_001_level_mod)"
   ]
  },
  {
   "cell_type": "code",
   "execution_count": 26,
   "metadata": {},
   "outputs": [],
   "source": [
    "from survos2.frontend.nb_utils import add_anno"
   ]
  },
  {
   "cell_type": "code",
   "execution_count": 29,
   "metadata": {
    "collapsed": true,
    "jupyter": {
     "outputs_hidden": true
    },
    "tags": []
   },
   "outputs": [
    {
     "name": "stderr",
     "output_type": "stream",
     "text": [
      "\u001b[34m\u001b[1mDEBUG - Using client <hug.use.Local object at 0x2b2d53a71270> \u001b[0m\u001b[32m - survos2.survos\u001b[0m:\u001b[36mrun_command\u001b[0m:\u001b[36m111\u001b[0m\n",
      "\u001b[34m\u001b[1mDEBUG - get request to client: add_level \u001b[0m\u001b[32m - survos2.survos\u001b[0m:\u001b[36mrun_command\u001b[0m:\u001b[36m114\u001b[0m\n",
      "\u001b[34m\u001b[1mDEBUG - format '{:03d}_{}' -> ' *([-+ ]?\\\\d{1,3}|[-+ ]?0[xX][0-9a-fA-F]{1,3}|[-+ ]?0[bB][01]{1,3}|[-+ ]?0[oO][0-7]{1,3})_(.+?)' \u001b[0m\u001b[32m - parse\u001b[0m:\u001b[36m__init__\u001b[0m:\u001b[36m837\u001b[0m\n",
      "\u001b[34m\u001b[1mDEBUG - format '{:03d}_{}' -> ' *([-+ ]?\\\\d{1,3}|[-+ ]?0[xX][0-9a-fA-F]{1,3}|[-+ ]?0[bB][01]{1,3}|[-+ ]?0[oO][0-7]{1,3})_(.+?)' \u001b[0m\u001b[32m - parse\u001b[0m:\u001b[36m__init__\u001b[0m:\u001b[36m837\u001b[0m\n",
      "\u001b[34m\u001b[1mDEBUG - format '{:03d}_{}' -> ' *([-+ ]?\\\\d{1,3}|[-+ ]?0[xX][0-9a-fA-F]{1,3}|[-+ ]?0[bB][01]{1,3}|[-+ ]?0[oO][0-7]{1,3})_(.+?)' \u001b[0m\u001b[32m - parse\u001b[0m:\u001b[36m__init__\u001b[0m:\u001b[36m837\u001b[0m\n",
      "\u001b[34m\u001b[1mDEBUG - format '{:03d}_{}' -> ' *([-+ ]?\\\\d{1,3}|[-+ ]?0[xX][0-9a-fA-F]{1,3}|[-+ ]?0[bB][01]{1,3}|[-+ ]?0[oO][0-7]{1,3})_(.+?)' \u001b[0m\u001b[32m - parse\u001b[0m:\u001b[36m__init__\u001b[0m:\u001b[36m837\u001b[0m\n",
      "\u001b[1mINFO - Creating dataset on /dls/science/groups/das/SuRVoS/s2/data/avery/vf_3003_main/default/annotations/005_level [128, 1450, 1450] uint32 None 10 \u001b[0m\u001b[32m - survos2.model.dataset\u001b[0m:\u001b[36mcreate\u001b[0m:\u001b[36m246\u001b[0m\n",
      "\u001b[34m\u001b[1mDEBUG - <survos2.model.dataset.Dataset object at 0x2b2d53f0c700> \u001b[0m\u001b[32m - survos2.api.annotations\u001b[0m:\u001b[36madd_level\u001b[0m:\u001b[36m130\u001b[0m\n",
      "\u001b[34m\u001b[1mDEBUG - Local client gave response Response(data={'data': {'name': '005 Level', 'kind': 'level', 'modified': [0, 0, 0, 0, 0, 0, 0, 0, 0, 0, 0, 0, 0, 0, 0, 0, 0, 0, 0, 0, 0, 0, 0, 0, 0, 0, 0, 0, 0, 0, 0, 0, 0, 0, 0, 0, 0, 0, 0, 0, 0, 0, 0, 0, 0, 0, 0, 0, 0, 0, 0, 0, 0, 0, 0, 0, 0, 0, 0, 0, 0, 0, 0, 0, 0, 0, 0, 0, 0, 0, 0, 0, 0, 0, 0, 0, 0, 0, 0, 0, 0, 0, 0, 0, 0, 0, 0, 0, 0, 0, 0, 0, 0, 0, 0, 0, 0, 0, 0, 0, 0, 0, 0, 0], 'id': '005_level'}, 'error': False}, status_code=200, headers={'content-type': 'application/json'}) \u001b[0m\u001b[32m - survos2.survos\u001b[0m:\u001b[36mrun_command\u001b[0m:\u001b[36m116\u001b[0m\n",
      "\u001b[1mINFO - running survos_from_uri on survos:// uri \u001b[0m\u001b[32m - survos2.io\u001b[0m:\u001b[36msurvos_from_uri\u001b[0m:\u001b[36m166\u001b[0m\n",
      "\u001b[34m\u001b[1mDEBUG - Calling Workspace() Init with workspace name: vf_3003_main \u001b[0m\u001b[32m - survos2.io\u001b[0m:\u001b[36msurvos_from_uri\u001b[0m:\u001b[36m177\u001b[0m\n",
      "\u001b[1mINFO - DatasetManager setting out to survos://default@vf_3003_main:annotations/005_level \u001b[0m\u001b[32m - survos2.improc.utils\u001b[0m:\u001b[36m__init__\u001b[0m:\u001b[36m551\u001b[0m\n",
      "\u001b[1mINFO - running survos_from_uri on survos:// uri \u001b[0m\u001b[32m - survos2.io\u001b[0m:\u001b[36msurvos_from_uri\u001b[0m:\u001b[36m166\u001b[0m\n",
      "\u001b[34m\u001b[1mDEBUG - Calling Workspace() Init with workspace name: vf_3003_main \u001b[0m\u001b[32m - survos2.io\u001b[0m:\u001b[36msurvos_from_uri\u001b[0m:\u001b[36m177\u001b[0m\n",
      "\u001b[1mINFO - Closed: <survos2.model.dataset.Dataset object at 0x2b2dd925d8b0> \u001b[0m\u001b[32m - survos2.improc.utils\u001b[0m:\u001b[36m__exit__\u001b[0m:\u001b[36m568\u001b[0m\n",
      "\u001b[1mINFO - Closed: <survos2.model.dataset.Dataset object at 0x2b2dd946aa60> \u001b[0m\u001b[32m - survos2.improc.utils\u001b[0m:\u001b[36m__exit__\u001b[0m:\u001b[36m568\u001b[0m\n"
     ]
    },
    {
     "name": "stdout",
     "output_type": "stream",
     "text": [
      "Created new annotation with id: 005_level\n"
     ]
    }
   ],
   "source": [
    "add_anno(anno_001_level_mod, \"Modified Level\", workspace_name)"
   ]
  },
  {
   "cell_type": "code",
   "execution_count": null,
   "metadata": {},
   "outputs": [],
   "source": []
  },
  {
   "cell_type": "code",
   "execution_count": null,
   "metadata": {},
   "outputs": [],
   "source": []
  },
  {
   "cell_type": "markdown",
   "metadata": {},
   "source": [
    "# Dash VolumeSlicer"
   ]
  },
  {
   "cell_type": "markdown",
   "metadata": {},
   "source": [
    "To run the Dash VolumeSlicer in the notebook jupyter-dash and dash slicer need to be installed:\n",
    "\n",
    "pip install jupyter-dash\n",
    "\n",
    "pip install -U dash-slicer\n",
    "\n",
    "See https://github.com/plotly/jupyter-dash and https://dash.plotly.com/slicer"
   ]
  },
  {
   "cell_type": "markdown",
   "metadata": {},
   "source": [
    "### Set the volume to view"
   ]
  },
  {
   "cell_type": "code",
   "execution_count": 47,
   "metadata": {},
   "outputs": [],
   "source": [
    "vol = output_array"
   ]
  },
  {
   "cell_type": "code",
   "execution_count": null,
   "metadata": {},
   "outputs": [],
   "source": []
  },
  {
   "cell_type": "markdown",
   "metadata": {},
   "source": [
    "Run the following cells:"
   ]
  },
  {
   "cell_type": "code",
   "execution_count": 21,
   "metadata": {},
   "outputs": [],
   "source": [
    "from jupyter_dash import JupyterDash\n",
    "from dash import Dash, html\n",
    "import imageio\n",
    "from dash_slicer import VolumeSlicer\n",
    "app = JupyterDash(__name__, update_title=None)"
   ]
  },
  {
   "cell_type": "code",
   "execution_count": 22,
   "metadata": {},
   "outputs": [],
   "source": [
    "#vol = np.random.random((100,1000,1000))\n",
    "slicer = VolumeSlicer(app, vol)\n",
    "slicer.graph.config[\"scrollZoom\"] = False\n",
    "app.layout = html.Div([slicer.graph, slicer.slider, *slicer.stores])\n"
   ]
  },
  {
   "cell_type": "code",
   "execution_count": 24,
   "metadata": {
    "tags": []
   },
   "outputs": [
    {
     "data": {
      "text/html": [
       "\n",
       "        <iframe\n",
       "            width=\"100%\"\n",
       "            height=\"650\"\n",
       "            src=\"http://127.0.0.1:8062/\"\n",
       "            frameborder=\"0\"\n",
       "            allowfullscreen\n",
       "            \n",
       "        ></iframe>\n",
       "        "
      ],
      "text/plain": [
       "<IPython.lib.display.IFrame at 0x1b7be5b61c0>"
      ]
     },
     "metadata": {},
     "output_type": "display_data"
    }
   ],
   "source": [
    "app.run_server(mode=\"inline\", port=8062)"
   ]
  },
  {
   "cell_type": "markdown",
   "metadata": {},
   "source": [
    "# Use Napari in notebook"
   ]
  },
  {
   "cell_type": "code",
   "execution_count": 50,
   "metadata": {},
   "outputs": [],
   "source": [
    "import napari"
   ]
  },
  {
   "cell_type": "code",
   "execution_count": 69,
   "metadata": {
    "tags": []
   },
   "outputs": [
    {
     "name": "stderr",
     "output_type": "stream",
     "text": [
      "\u001b[1mINFO - Frontend loading workspace: huntcrop2_roi_0_186_16_74_8_70 \u001b[0m\u001b[32m - survos2.frontend.frontend\u001b[0m:\u001b[36mfrontend\u001b[0m:\u001b[36m42\u001b[0m\n",
      "WARNING: QLayout: Attempting to add QLayout \"\" to FeaturesPlugin \"features_plugin\", which already has a layout\n",
      "WARNING:vispy:QLayout: Attempting to add QLayout \"\" to FeaturesPlugin \"features_plugin\", which already has a layout\n"
     ]
    },
    {
     "name": "stdout",
     "output_type": "stream",
     "text": [
      "Name: median_size Parameter type: IntOrVector\n",
      "Name: dim Parameter type: type\n"
     ]
    },
    {
     "name": "stderr",
     "output_type": "stream",
     "text": [
      "WARNING: QLayout: Attempting to add QLayout \"\" to AnnotationPlugin \"annotation_plugin\", which already has a layout\n",
      "WARNING:vispy:QLayout: Attempting to add QLayout \"\" to AnnotationPlugin \"annotation_plugin\", which already has a layout\n",
      "WARNING: QLayout: Attempting to add QLayout \"\" to AnnotationPlugin \"annotation_plugin\", which already has a layout\n",
      "WARNING:vispy:QLayout: Attempting to add QLayout \"\" to AnnotationPlugin \"annotation_plugin\", which already has a layout\n",
      "WARNING: QLayout: Attempting to add QLayout \"\" to SuperregionSegment \"superregion_segment\", which already has a layout\n",
      "WARNING:vispy:QLayout: Attempting to add QLayout \"\" to SuperregionSegment \"superregion_segment\", which already has a layout\n",
      "WARNING: QLayout: Attempting to add QLayout \"\" to FindConnectedComponents \"find_connected_components\", which already has a layout\n",
      "WARNING:vispy:QLayout: Attempting to add QLayout \"\" to FindConnectedComponents \"find_connected_components\", which already has a layout\n",
      "WARNING: QLayout: Attempting to add QLayout \"\" to SegmentationStats \"segmentation_stats\", which already has a layout\n",
      "WARNING:vispy:QLayout: Attempting to add QLayout \"\" to SegmentationStats \"segmentation_stats\", which already has a layout\n",
      "WARNING: QLayout: Attempting to add QLayout \"\" to SegmentationStats \"segmentation_stats\", which already has a layout\n",
      "WARNING:vispy:QLayout: Attempting to add QLayout \"\" to SegmentationStats \"segmentation_stats\", which already has a layout\n",
      "WARNING: QLayout: Attempting to add QLayout \"\" to LabelSplitter \"label_splitter\", which already has a layout\n",
      "WARNING:vispy:QLayout: Attempting to add QLayout \"\" to LabelSplitter \"label_splitter\", which already has a layout\n",
      "WARNING: QLayout: Attempting to add QLayout \"\" to ButtonPanelWidget \"\", which already has a layout\n",
      "WARNING:vispy:QLayout: Attempting to add QLayout \"\" to ButtonPanelWidget \"\", which already has a layout\n"
     ]
    },
    {
     "name": "stdout",
     "output_type": "stream",
     "text": [
      "Name: sigma Parameter type: IntOrVector\n",
      "Name: level Parameter type: Int\n",
      "Name: sigma Parameter type: IntOrVector\n",
      "Name: sigma Parameter type: IntOrVector\n",
      "Name: sigma Parameter type: IntOrVector\n",
      "Name: sigma Parameter type: IntOrVector\n",
      "Name: sigma Parameter type: IntOrVector\n",
      "Name: workspace Parameter type: type\n",
      "Name: feature_A Parameter type: type\n",
      "Name: feature_B Parameter type: type\n",
      "Name: op Parameter type: type\n"
     ]
    },
    {
     "name": "stderr",
     "output_type": "stream",
     "text": [
      "WARNING: QLayout: Attempting to add QLayout \"\" to SuperregionSegment \"superregion_segment\", which already has a layout\n",
      "WARNING:vispy:QLayout: Attempting to add QLayout \"\" to SuperregionSegment \"superregion_segment\", which already has a layout\n",
      "WARNING: QLayout: Attempting to add QLayout \"\" to SuperregionSegment \"superregion_segment\", which already has a layout\n",
      "WARNING:vispy:QLayout: Attempting to add QLayout \"\" to SuperregionSegment \"superregion_segment\", which already has a layout\n",
      "WARNING: QLayout: Attempting to add QLayout \"\" to ObjectAnalyzer \"object_analyzer\", which already has a layout\n",
      "WARNING:vispy:QLayout: Attempting to add QLayout \"\" to ObjectAnalyzer \"object_analyzer\", which already has a layout\n",
      "WARNING: QLayout: Attempting to add QLayout \"\" to LabelSplitter \"label_splitter\", which already has a layout\n",
      "WARNING:vispy:QLayout: Attempting to add QLayout \"\" to LabelSplitter \"label_splitter\", which already has a layout\n"
     ]
    },
    {
     "name": "stdout",
     "output_type": "stream",
     "text": [
      "Name: median_size Parameter type: IntOrVector\n",
      "Name: dim Parameter type: type\n"
     ]
    },
    {
     "name": "stderr",
     "output_type": "stream",
     "text": [
      "WARNING: QLayout: Attempting to add QLayout \"\" to SuperregionSegment \"superregion_segment\", which already has a layout\n",
      "WARNING:vispy:QLayout: Attempting to add QLayout \"\" to SuperregionSegment \"superregion_segment\", which already has a layout\n",
      "WARNING: QLayout: Attempting to add QLayout \"\" to FindConnectedComponents \"find_connected_components\", which already has a layout\n",
      "WARNING:vispy:QLayout: Attempting to add QLayout \"\" to FindConnectedComponents \"find_connected_components\", which already has a layout\n",
      "WARNING: QLayout: Attempting to add QLayout \"\" to SegmentationStats \"segmentation_stats\", which already has a layout\n",
      "WARNING:vispy:QLayout: Attempting to add QLayout \"\" to SegmentationStats \"segmentation_stats\", which already has a layout\n",
      "WARNING: QLayout: Attempting to add QLayout \"\" to SegmentationStats \"segmentation_stats\", which already has a layout\n",
      "WARNING:vispy:QLayout: Attempting to add QLayout \"\" to SegmentationStats \"segmentation_stats\", which already has a layout\n",
      "WARNING: QLayout: Attempting to add QLayout \"\" to LabelSplitter \"label_splitter\", which already has a layout\n",
      "WARNING:vispy:QLayout: Attempting to add QLayout \"\" to LabelSplitter \"label_splitter\", which already has a layout\n"
     ]
    }
   ],
   "source": [
    "viewer = napari.view_image(feature_array)"
   ]
  },
  {
   "cell_type": "code",
   "execution_count": 53,
   "metadata": {},
   "outputs": [
    {
     "data": {
      "text/plain": [
       "[<Image layer '001_raw' at 0x1b7ddbd3df0>, <Image layer '001_supervoxels' at 0x1b7dd94d760>, <Labels layer '001_level' at 0x1b7dd6fc310>]"
      ]
     },
     "execution_count": 53,
     "metadata": {},
     "output_type": "execute_result"
    }
   ],
   "source": [
    "viewer.layers"
   ]
  },
  {
   "cell_type": "code",
   "execution_count": null,
   "metadata": {},
   "outputs": [],
   "source": []
  },
  {
   "cell_type": "markdown",
   "metadata": {},
   "source": [
    "# Initialize a workspace"
   ]
  },
  {
   "cell_type": "code",
   "execution_count": 33,
   "metadata": {},
   "outputs": [],
   "source": [
    "from survos2.frontend.main import init_ws, roi_ws"
   ]
  },
  {
   "cell_type": "code",
   "execution_count": 30,
   "metadata": {},
   "outputs": [],
   "source": [
    "import h5py\n",
    "\n",
    "original_data = h5py.File(\"C:\\\\datasets\\\\mcd_s10_Nuc_Cyt_r1.h5\", 'r')"
   ]
  },
  {
   "cell_type": "code",
   "execution_count": 31,
   "metadata": {},
   "outputs": [],
   "source": [
    "roi_data = original_data['data'][0:100,0:100,0:100]"
   ]
  },
  {
   "cell_type": "code",
   "execution_count": 35,
   "metadata": {},
   "outputs": [],
   "source": [
    "test_workspace_name = 'testroi2'"
   ]
  },
  {
   "cell_type": "code",
   "execution_count": 34,
   "metadata": {},
   "outputs": [
    {
     "name": "stderr",
     "output_type": "stream",
     "text": [
      "\u001b[1mINFO - Created workspace testroi2 \u001b[0m\u001b[32m - survos2.frontend.main\u001b[0m:\u001b[36mcreate_and_initialize_workspace\u001b[0m:\u001b[36m32\u001b[0m\n",
      "\u001b[1mINFO - Adding data to workspace <survos2.model.workspace.Workspace object at 0x000001B7BF468C10> \u001b[0m\u001b[32m - survos2.api.workspace\u001b[0m:\u001b[36madd_data\u001b[0m:\u001b[36m105\u001b[0m\n",
      "\u001b[1mINFO - Creating dataset on C:\\dls\\science\\groups\\das\\SuRVoS\\s2\\data\\testroi2\\__data__ None None dask.array<truediv, shape=(100, 100, 100), dtype=float32, chunksize=(100, 100, 100), chunktype=numpy.ndarray> 10 \u001b[0m\u001b[32m - survos2.model.dataset\u001b[0m:\u001b[36mcreate\u001b[0m:\u001b[36m241\u001b[0m\n",
      "\u001b[1mINFO - Creating dataset on C:\\dls\\science\\groups\\das\\SuRVoS\\s2\\data\\testroi2\\default\\testroi2_dataset [100, 100, 100] float32 None [100, 100, 100] \u001b[0m\u001b[32m - survos2.model.dataset\u001b[0m:\u001b[36mcreate\u001b[0m:\u001b[36m241\u001b[0m\n",
      "\u001b[1mINFO - Creating dataset on C:\\dls\\science\\groups\\das\\SuRVoS\\s2\\data\\testroi2\\default\\features\\001_raw [100, 100, 100] float32 None [100, 100, 100] \u001b[0m\u001b[32m - survos2.model.dataset\u001b[0m:\u001b[36mcreate\u001b[0m:\u001b[36m241\u001b[0m\n"
     ]
    },
    {
     "data": {
      "text/plain": [
       "<survos2.model.dataset.Dataset at 0x1b7c0345160>"
      ]
     },
     "execution_count": 34,
     "metadata": {},
     "output_type": "execute_result"
    }
   ],
   "source": [
    "roi_ws(roi_data, test_workspace_name)"
   ]
  },
  {
   "cell_type": "code",
   "execution_count": 36,
   "metadata": {},
   "outputs": [],
   "source": [
    "DataModel.g.current_workspace = test_workspace_name"
   ]
  },
  {
   "cell_type": "code",
   "execution_count": 39,
   "metadata": {},
   "outputs": [
    {
     "data": {
      "text/plain": [
       "'testroi2'"
      ]
     },
     "execution_count": 39,
     "metadata": {},
     "output_type": "execute_result"
    }
   ],
   "source": [
    "DataModel.g.current_workspace"
   ]
  },
  {
   "cell_type": "code",
   "execution_count": null,
   "metadata": {},
   "outputs": [],
   "source": []
  }
 ],
 "metadata": {
  "kernelspec": {
   "display_name": "Python 3 (ipykernel)",
   "language": "python",
   "name": "python3"
  },
  "language_info": {
   "codemirror_mode": {
    "name": "ipython",
    "version": 3
   },
   "file_extension": ".py",
   "mimetype": "text/x-python",
   "name": "python",
   "nbconvert_exporter": "python",
   "pygments_lexer": "ipython3",
   "version": "3.9.13"
  },
  "widgets": {
   "application/vnd.jupyter.widget-state+json": {
    "state": {},
    "version_major": 2,
    "version_minor": 0
   }
  }
 },
 "nbformat": 4,
 "nbformat_minor": 4
}
