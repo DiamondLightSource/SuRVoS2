{
 "cells": [
  {
   "cell_type": "markdown",
   "metadata": {},
   "source": [
    "# Generating test data"
   ]
  },
  {
   "cell_type": "code",
   "execution_count": 1,
   "metadata": {},
   "outputs": [],
   "source": [
    "import os\n",
    "os.getcwd()\n",
    "os.chdir(\"..\")\n",
    "#from survos2.frontend.utils import view_volume\n",
    "%load_ext autoreload\n",
    "%autoreload 2"
   ]
  },
  {
   "cell_type": "code",
   "execution_count": 2,
   "metadata": {},
   "outputs": [
    {
     "data": {
      "text/plain": [
       "'C:\\\\work\\\\diam\\\\b6\\\\SuRVoS2'"
      ]
     },
     "execution_count": 2,
     "metadata": {},
     "output_type": "execute_result"
    }
   ],
   "source": [
    "os.getcwd()"
   ]
  },
  {
   "cell_type": "code",
   "execution_count": 3,
   "metadata": {},
   "outputs": [
    {
     "name": "stderr",
     "output_type": "stream",
     "text": [
      "2020-09-16 11:02:40.019 | INFO     | survos2.model.workspace:<module>:25 - CHROOT is C:\\work\\diam\\data\n",
      "2020-09-16 11:02:40.974 | DEBUG    | survos2.survos:init_api:48 - API: <hug.api.API object at 0x00000258866A3C18>\n",
      "\n",
      "2020-09-16 11:02:40.975 | INFO     | survos2.survos:init_api:57 - Config plugins: ['workspace', 'annotations', 'features', 'regions', 'pipelines', 'entitys', 'render']\n",
      "2020-09-16 11:02:40.976 | INFO     | survos2.survos:init_api:60 - Configuring api plugins\n",
      "2020-09-16 11:02:40.977 | DEBUG    | survos2.survos:init_api:62 - Loading plugin workspace\n",
      "2020-09-16 11:02:40.983 | DEBUG    | survos2.survos:init_api:62 - Loading plugin annotations\n",
      "2020-09-16 11:02:40.986 | DEBUG    | survos2.survos:init_api:62 - Loading plugin features\n",
      "2020-09-16 11:02:40.988 | DEBUG    | survos2.survos:init_api:62 - Loading plugin regions\n",
      "2020-09-16 11:02:40.991 | DEBUG    | survos2.survos:init_api:62 - Loading plugin pipelines\n",
      "2020-09-16 11:02:42.252 | DEBUG    | survos2.survos:init_api:62 - Loading plugin entitys\n",
      "2020-09-16 11:02:42.254 | DEBUG    | survos2.survos:init_api:62 - Loading plugin render\n",
      "2020-09-16 11:02:42.260 | DEBUG    | survos2.survos:init_api:78 - Init api returned <hug.api.API object at 0x00000258866A3C18>\n"
     ]
    }
   ],
   "source": [
    "\n",
    "import numpy as np\n",
    "from survos2 import survos\n",
    "from napari import layers\n",
    "survos.init_api()\n",
    "import survos2.frontend.control\n",
    "from survos2.frontend.control import Launcher\n",
    "from survos2.model import DataModel\n",
    "from survos2.improc.utils import DatasetManager\n"
   ]
  },
  {
   "cell_type": "code",
   "execution_count": 4,
   "metadata": {},
   "outputs": [],
   "source": [
    "from survos2.server.config import cfg"
   ]
  },
  {
   "cell_type": "code",
   "execution_count": 5,
   "metadata": {},
   "outputs": [
    {
     "data": {
      "text/plain": [
       "{'proj': 'hunt',\n",
       " 'preprocessing': {},\n",
       " 'random_seed_main': 32,\n",
       " 'marker_size': 10,\n",
       " 'refine_lambda': 1.0,\n",
       " 'resample_amt': 0.5,\n",
       " 'save_output_files': False,\n",
       " 'mscale': 1.0,\n",
       " 'plot_all': False,\n",
       " 'roi_crop': [0, 2500, 0, 2500, 0, 2500],\n",
       " 'torch_models_fullpath': '../experiments',\n",
       " 'current_annotation': '001_level',\n",
       " 'filter_cfg': {'superregions1': {'plugin': 'superregions',\n",
       "   'feature': 'slic',\n",
       "   'params': {'slic_feat_idx': -1,\n",
       "    'compactness': 20,\n",
       "    'postprocess': False,\n",
       "    'sp_shape': [18, 18, 18]}},\n",
       "  'filter1': {'plugin': 'features',\n",
       "   'feature': 'gaussian',\n",
       "   'params': {'sigma': 2}},\n",
       "  'filter2': {'plugin': 'features',\n",
       "   'feature': 'gaussian',\n",
       "   'params': {'sigma': 2}},\n",
       "  'filter3': {'plugin': 'features',\n",
       "   'feature': 'tvdenoising3d',\n",
       "   'params': {'lamda': 3.7}},\n",
       "  'filter4': {'plugin': 'features',\n",
       "   'feature': 'simple_laplacian',\n",
       "   'params': {'sigma': 2.1}},\n",
       "  'filter5': {'plugin': 'features',\n",
       "   'feature': 'gradient',\n",
       "   'params': {'sigma': 3}}},\n",
       " 'pipeline': {'calculate_features': True,\n",
       "  'calculate_supervoxels': True,\n",
       "  'load_pretrained_classifier': True,\n",
       "  'load_annotation': False,\n",
       "  'predict_params': {'clf': 'ensemble',\n",
       "   'type': 'rf',\n",
       "   'n_estimators': 10,\n",
       "   'proj': False,\n",
       "   'max_depth': 20,\n",
       "   'n_jobs': 1},\n",
       "  'mask_params': {'mask_radius': 10}}}"
      ]
     },
     "execution_count": 5,
     "metadata": {},
     "output_type": "execute_result"
    }
   ],
   "source": [
    "cfg"
   ]
  },
  {
   "cell_type": "code",
   "execution_count": 4,
   "metadata": {},
   "outputs": [],
   "source": [
    "test_workspace_name = 'test_s4'"
   ]
  },
  {
   "cell_type": "code",
   "execution_count": 5,
   "metadata": {},
   "outputs": [],
   "source": [
    "DataModel.g.current_workspace = test_workspace_name"
   ]
  },
  {
   "cell_type": "code",
   "execution_count": 8,
   "metadata": {},
   "outputs": [
    {
     "name": "stderr",
     "output_type": "stream",
     "text": [
      "2020-09-08 11:02:20.569 | DEBUG    | survos2.survos:run_command:104 - Using client <hug.use.Local object at 0x0000025CBAD7BE08>\n",
      "2020-09-08 11:02:20.862 | DEBUG    | survos2.model.workspace:__init__:36 - INIT workspace at test_s2\n",
      "2020-09-08 11:02:20.864 | DEBUG    | survos2.model.workspace:__init__:36 - INIT workspace at test_s2\n"
     ]
    },
    {
     "name": "stdout",
     "output_type": "stream",
     "text": [
      "c:/work/diam/data/\n",
      "c:/work/diam/data/\n"
     ]
    },
    {
     "ename": "WorkspaceException",
     "evalue": "Dataset 'default::annotations\\001_level' does not exist.",
     "output_type": "error",
     "traceback": [
      "\u001b[1;31m---------------------------------------------------------------------------\u001b[0m",
      "\u001b[1;31mWorkspaceException\u001b[0m                        Traceback (most recent call last)",
      "\u001b[1;32m<ipython-input-8-94fa6d84baf9>\u001b[0m in \u001b[0;36m<module>\u001b[1;34m\u001b[0m\n\u001b[0;32m      1\u001b[0m \u001b[1;31m# add data to workspace\u001b[0m\u001b[1;33m\u001b[0m\u001b[1;33m\u001b[0m\u001b[1;33m\u001b[0m\u001b[0m\n\u001b[1;32m----> 2\u001b[1;33m \u001b[0msurvos\u001b[0m\u001b[1;33m.\u001b[0m\u001b[0mrun_command\u001b[0m\u001b[1;33m(\u001b[0m\u001b[1;34m'annotations'\u001b[0m\u001b[1;33m,\u001b[0m \u001b[1;34m'get_labels'\u001b[0m\u001b[1;33m,\u001b[0m \u001b[0muri\u001b[0m\u001b[1;33m=\u001b[0m\u001b[1;32mNone\u001b[0m\u001b[1;33m,\u001b[0m \u001b[0mworkspace\u001b[0m\u001b[1;33m=\u001b[0m\u001b[0mtest_workspace_name\u001b[0m\u001b[1;33m,\u001b[0m \u001b[0mlevel\u001b[0m\u001b[1;33m=\u001b[0m\u001b[1;34m'001_level'\u001b[0m\u001b[1;33m)\u001b[0m\u001b[1;33m\u001b[0m\u001b[1;33m\u001b[0m\u001b[0m\n\u001b[0m",
      "\u001b[1;32mC:\\work\\diam\\SuRVoS2\\survos2\\survos.py\u001b[0m in \u001b[0;36mrun_command\u001b[1;34m(plugin, command, uri, **kwargs)\u001b[0m\n\u001b[0;32m    105\u001b[0m \u001b[1;33m\u001b[0m\u001b[0m\n\u001b[0;32m    106\u001b[0m         \u001b[1;32mtry\u001b[0m\u001b[1;33m:\u001b[0m\u001b[1;33m\u001b[0m\u001b[1;33m\u001b[0m\u001b[0m\n\u001b[1;32m--> 107\u001b[1;33m             \u001b[0mresponse\u001b[0m \u001b[1;33m=\u001b[0m \u001b[0mclient\u001b[0m\u001b[1;33m.\u001b[0m\u001b[0mget\u001b[0m\u001b[1;33m(\u001b[0m\u001b[0mcommand\u001b[0m\u001b[1;33m,\u001b[0m \u001b[1;33m**\u001b[0m\u001b[0mkwargs\u001b[0m\u001b[1;33m)\u001b[0m\u001b[1;33m\u001b[0m\u001b[1;33m\u001b[0m\u001b[0m\n\u001b[0m\u001b[0;32m    108\u001b[0m             \u001b[0mlogger\u001b[0m\u001b[1;33m.\u001b[0m\u001b[0minfo\u001b[0m\u001b[1;33m(\u001b[0m\u001b[1;34mf\"Local client gave response {response}\"\u001b[0m\u001b[1;33m)\u001b[0m\u001b[1;33m\u001b[0m\u001b[1;33m\u001b[0m\u001b[0m\n\u001b[0;32m    109\u001b[0m \u001b[1;33m\u001b[0m\u001b[0m\n",
      "\u001b[1;32mC:\\ProgramData\\Anaconda3\\envs\\3dseg\\lib\\site-packages\\hug\\use.cp37-win_amd64.pyd\u001b[0m in \u001b[0;36mhug.use.Service.get\u001b[1;34m()\u001b[0m\n",
      "\u001b[1;32mC:\\ProgramData\\Anaconda3\\envs\\3dseg\\lib\\site-packages\\hug\\use.cp37-win_amd64.pyd\u001b[0m in \u001b[0;36mhug.use.Local.request\u001b[1;34m()\u001b[0m\n",
      "\u001b[1;32mC:\\ProgramData\\Anaconda3\\envs\\3dseg\\lib\\site-packages\\hug\\interface.cp37-win_amd64.pyd\u001b[0m in \u001b[0;36mhug.interface.HTTP.call_function\u001b[1;34m()\u001b[0m\n",
      "\u001b[1;32mC:\\ProgramData\\Anaconda3\\envs\\3dseg\\lib\\site-packages\\hug\\interface.cp37-win_amd64.pyd\u001b[0m in \u001b[0;36mhug.interface.Interfaces.__call__\u001b[1;34m()\u001b[0m\n",
      "\u001b[1;32mC:\\work\\diam\\SuRVoS2\\survos2\\api\\annotations.py\u001b[0m in \u001b[0;36mget_labels\u001b[1;34m(workspace, level, full)\u001b[0m\n\u001b[0;32m    105\u001b[0m \u001b[1;33m@\u001b[0m\u001b[0mhug\u001b[0m\u001b[1;33m.\u001b[0m\u001b[0mget\u001b[0m\u001b[1;33m(\u001b[0m\u001b[1;33m)\u001b[0m\u001b[1;33m\u001b[0m\u001b[1;33m\u001b[0m\u001b[0m\n\u001b[0;32m    106\u001b[0m \u001b[1;32mdef\u001b[0m \u001b[0mget_labels\u001b[0m\u001b[1;33m(\u001b[0m\u001b[0mworkspace\u001b[0m\u001b[1;33m:\u001b[0m\u001b[0mString\u001b[0m\u001b[1;33m,\u001b[0m \u001b[0mlevel\u001b[0m\u001b[1;33m:\u001b[0m\u001b[0mString\u001b[0m\u001b[1;33m,\u001b[0m \u001b[0mfull\u001b[0m\u001b[1;33m:\u001b[0m\u001b[0mSmartBoolean\u001b[0m\u001b[1;33m=\u001b[0m\u001b[1;32mFalse\u001b[0m\u001b[1;33m)\u001b[0m\u001b[1;33m:\u001b[0m\u001b[1;33m\u001b[0m\u001b[1;33m\u001b[0m\u001b[0m\n\u001b[1;32m--> 107\u001b[1;33m     \u001b[0mds\u001b[0m \u001b[1;33m=\u001b[0m \u001b[0mget_level\u001b[0m\u001b[1;33m(\u001b[0m\u001b[0mworkspace\u001b[0m\u001b[1;33m,\u001b[0m \u001b[0mlevel\u001b[0m\u001b[1;33m,\u001b[0m \u001b[0mfull\u001b[0m\u001b[1;33m)\u001b[0m\u001b[1;33m\u001b[0m\u001b[1;33m\u001b[0m\u001b[0m\n\u001b[0m\u001b[0;32m    108\u001b[0m     \u001b[0mlabels\u001b[0m \u001b[1;33m=\u001b[0m \u001b[0mds\u001b[0m\u001b[1;33m.\u001b[0m\u001b[0mget_metadata\u001b[0m\u001b[1;33m(\u001b[0m\u001b[1;34m'labels'\u001b[0m\u001b[1;33m,\u001b[0m \u001b[1;33m{\u001b[0m\u001b[1;33m}\u001b[0m\u001b[1;33m)\u001b[0m\u001b[1;33m\u001b[0m\u001b[1;33m\u001b[0m\u001b[0m\n\u001b[0;32m    109\u001b[0m     \u001b[1;32mreturn\u001b[0m \u001b[1;33m{\u001b[0m\u001b[0mk\u001b[0m\u001b[1;33m:\u001b[0m \u001b[0mto_label\u001b[0m\u001b[1;33m(\u001b[0m\u001b[1;33m**\u001b[0m\u001b[0mv\u001b[0m\u001b[1;33m)\u001b[0m \u001b[1;32mfor\u001b[0m \u001b[0mk\u001b[0m\u001b[1;33m,\u001b[0m \u001b[0mv\u001b[0m \u001b[1;32min\u001b[0m \u001b[0mlabels\u001b[0m\u001b[1;33m.\u001b[0m\u001b[0mitems\u001b[0m\u001b[1;33m(\u001b[0m\u001b[1;33m)\u001b[0m\u001b[1;33m}\u001b[0m\u001b[1;33m\u001b[0m\u001b[1;33m\u001b[0m\u001b[0m\n",
      "\u001b[1;32mC:\\ProgramData\\Anaconda3\\envs\\3dseg\\lib\\site-packages\\hug\\interface.cp37-win_amd64.pyd\u001b[0m in \u001b[0;36mhug.interface.Local.__call__\u001b[1;34m()\u001b[0m\n",
      "\u001b[1;32mC:\\ProgramData\\Anaconda3\\envs\\3dseg\\lib\\site-packages\\hug\\interface.cp37-win_amd64.pyd\u001b[0m in \u001b[0;36mhug.interface.Local.__call__\u001b[1;34m()\u001b[0m\n",
      "\u001b[1;32mC:\\ProgramData\\Anaconda3\\envs\\3dseg\\lib\\site-packages\\hug\\interface.cp37-win_amd64.pyd\u001b[0m in \u001b[0;36mhug.interface.Interfaces.__call__\u001b[1;34m()\u001b[0m\n",
      "\u001b[1;32mC:\\work\\diam\\SuRVoS2\\survos2\\api\\annotations.py\u001b[0m in \u001b[0;36mget_level\u001b[1;34m(workspace, level, full)\u001b[0m\n\u001b[0;32m     43\u001b[0m \u001b[1;33m\u001b[0m\u001b[0m\n\u001b[0;32m     44\u001b[0m     \u001b[1;32mif\u001b[0m \u001b[0mfull\u001b[0m \u001b[1;33m==\u001b[0m \u001b[1;32mFalse\u001b[0m\u001b[1;33m:\u001b[0m\u001b[1;33m\u001b[0m\u001b[1;33m\u001b[0m\u001b[0m\n\u001b[1;32m---> 45\u001b[1;33m         \u001b[1;32mreturn\u001b[0m \u001b[0mws\u001b[0m\u001b[1;33m.\u001b[0m\u001b[0mget_dataset\u001b[0m\u001b[1;33m(\u001b[0m\u001b[0mworkspace\u001b[0m\u001b[1;33m,\u001b[0m \u001b[0mlevel\u001b[0m\u001b[1;33m,\u001b[0m \u001b[0mgroup\u001b[0m\u001b[1;33m=\u001b[0m\u001b[0m__group_pattern__\u001b[0m\u001b[1;33m)\u001b[0m\u001b[1;33m\u001b[0m\u001b[1;33m\u001b[0m\u001b[0m\n\u001b[0m\u001b[0;32m     46\u001b[0m \u001b[1;33m\u001b[0m\u001b[0m\n\u001b[0;32m     47\u001b[0m     \u001b[1;32mreturn\u001b[0m \u001b[0mws\u001b[0m\u001b[1;33m.\u001b[0m\u001b[0mget_dataset\u001b[0m\u001b[1;33m(\u001b[0m\u001b[0mworkspace\u001b[0m\u001b[1;33m,\u001b[0m \u001b[0mlevel\u001b[0m\u001b[1;33m)\u001b[0m\u001b[1;33m\u001b[0m\u001b[1;33m\u001b[0m\u001b[0m\n",
      "\u001b[1;32mC:\\ProgramData\\Anaconda3\\envs\\3dseg\\lib\\site-packages\\hug\\interface.cp37-win_amd64.pyd\u001b[0m in \u001b[0;36mhug.interface.Local.__call__\u001b[1;34m()\u001b[0m\n",
      "\u001b[1;32mC:\\ProgramData\\Anaconda3\\envs\\3dseg\\lib\\site-packages\\hug\\interface.cp37-win_amd64.pyd\u001b[0m in \u001b[0;36mhug.interface.Local.__call__\u001b[1;34m()\u001b[0m\n",
      "\u001b[1;32mC:\\ProgramData\\Anaconda3\\envs\\3dseg\\lib\\site-packages\\hug\\interface.cp37-win_amd64.pyd\u001b[0m in \u001b[0;36mhug.interface.Interfaces.__call__\u001b[1;34m()\u001b[0m\n",
      "\u001b[1;32mC:\\work\\diam\\SuRVoS2\\survos2\\api\\workspace.py\u001b[0m in \u001b[0;36mget_dataset\u001b[1;34m(workspace, dataset, group)\u001b[0m\n\u001b[0;32m    124\u001b[0m     \u001b[1;32mif\u001b[0m \u001b[0mgroup\u001b[0m\u001b[1;33m:\u001b[0m\u001b[1;33m\u001b[0m\u001b[1;33m\u001b[0m\u001b[0m\n\u001b[0;32m    125\u001b[0m         \u001b[0mdataset\u001b[0m \u001b[1;33m=\u001b[0m \u001b[1;34m'{}/{}'\u001b[0m\u001b[1;33m.\u001b[0m\u001b[0mformat\u001b[0m\u001b[1;33m(\u001b[0m\u001b[0mgroup\u001b[0m\u001b[1;33m,\u001b[0m \u001b[0mdataset\u001b[0m\u001b[1;33m)\u001b[0m\u001b[1;33m\u001b[0m\u001b[1;33m\u001b[0m\u001b[0m\n\u001b[1;32m--> 126\u001b[1;33m     \u001b[1;32mreturn\u001b[0m \u001b[0mget\u001b[0m\u001b[1;33m(\u001b[0m\u001b[0mworkspace\u001b[0m\u001b[1;33m)\u001b[0m\u001b[1;33m.\u001b[0m\u001b[0mget_dataset\u001b[0m\u001b[1;33m(\u001b[0m\u001b[0mdataset\u001b[0m\u001b[1;33m,\u001b[0m \u001b[0msession\u001b[0m\u001b[1;33m=\u001b[0m\u001b[0msession\u001b[0m\u001b[1;33m)\u001b[0m\u001b[1;33m\u001b[0m\u001b[1;33m\u001b[0m\u001b[0m\n\u001b[0m\u001b[0;32m    127\u001b[0m \u001b[1;33m\u001b[0m\u001b[0m\n\u001b[0;32m    128\u001b[0m \u001b[1;31m### Get Metadata\u001b[0m\u001b[1;33m\u001b[0m\u001b[1;33m\u001b[0m\u001b[1;33m\u001b[0m\u001b[0m\n",
      "\u001b[1;32mC:\\work\\diam\\SuRVoS2\\survos2\\model\\workspace.py\u001b[0m in \u001b[0;36mget_dataset\u001b[1;34m(self, dataset_name, session, **kwargs)\u001b[0m\n\u001b[0;32m    242\u001b[0m         \u001b[1;32mif\u001b[0m \u001b[1;32mnot\u001b[0m \u001b[0mself\u001b[0m\u001b[1;33m.\u001b[0m\u001b[0mhas_dataset\u001b[0m\u001b[1;33m(\u001b[0m\u001b[0mdataset_name\u001b[0m\u001b[1;33m,\u001b[0m \u001b[0msession\u001b[0m\u001b[1;33m=\u001b[0m\u001b[0msession\u001b[0m\u001b[1;33m)\u001b[0m\u001b[1;33m:\u001b[0m\u001b[1;33m\u001b[0m\u001b[1;33m\u001b[0m\u001b[0m\n\u001b[0;32m    243\u001b[0m             raise WorkspaceException('Dataset \\'{}::{}\\' does not exist.'\n\u001b[1;32m--> 244\u001b[1;33m                                      .format(session, dataset_name))\n\u001b[0m\u001b[0;32m    245\u001b[0m \u001b[1;33m\u001b[0m\u001b[0m\n\u001b[0;32m    246\u001b[0m         \u001b[0mpath\u001b[0m \u001b[1;33m=\u001b[0m \u001b[0mself\u001b[0m\u001b[1;33m.\u001b[0m\u001b[0mgenpath\u001b[0m\u001b[1;33m(\u001b[0m\u001b[0msession\u001b[0m\u001b[1;33m,\u001b[0m \u001b[0mdataset_name\u001b[0m\u001b[1;33m)\u001b[0m\u001b[1;33m\u001b[0m\u001b[1;33m\u001b[0m\u001b[0m\n",
      "\u001b[1;31mWorkspaceException\u001b[0m: Dataset 'default::annotations\\001_level' does not exist."
     ]
    }
   ],
   "source": [
    "# add data to workspace\n",
    "survos.run_command('annotations', 'get_labels', uri=None, workspace=test_workspace_name, level='001_level')\n"
   ]
  },
  {
   "cell_type": "code",
   "execution_count": 16,
   "metadata": {},
   "outputs": [
    {
     "name": "stderr",
     "output_type": "stream",
     "text": [
      "2020-09-06 14:00:36.474 | DEBUG    | survos2.survos:run_command:104 - Using client <hug.use.Local object at 0x000001DA0F9624A8>\n",
      "2020-09-06 14:00:36.928 | DEBUG    | survos2.model.workspace:__init__:36 - INIT workspace at test_s2\n",
      "2020-09-06 14:00:36.928 | DEBUG    | survos2.model.workspace:__init__:36 - INIT workspace at test_s2\n",
      "2020-09-06 14:00:36.969 | INFO     | survos2.survos:run_command:108 - Local client gave response Response(data={'data': [{'kind': 'level', 'labels': {'1': {'color': '#5555ff', 'idx': 1, 'name': 'Label', 'visible': True}, '2': {'color': '#ff007f', 'idx': 2, 'name': 'one', 'visible': True}, '3': {'color': '#12e3cb', 'idx': 3, 'name': 'two', 'visible': True}}, 'modified': [3], 'name': '001 Level', 'id': '001_level'}], 'error': False}, status_code=200, headers={'content-type': 'application/json'})\n"
     ]
    },
    {
     "name": "stdout",
     "output_type": "stream",
     "text": [
      "c:/work/diam/data\n",
      "c:/work/diam/data\n"
     ]
    },
    {
     "data": {
      "text/plain": [
       "([{'kind': 'level',\n",
       "   'labels': {'1': {'color': '#5555ff',\n",
       "     'idx': 1,\n",
       "     'name': 'Label',\n",
       "     'visible': True},\n",
       "    '2': {'color': '#ff007f', 'idx': 2, 'name': 'one', 'visible': True},\n",
       "    '3': {'color': '#12e3cb', 'idx': 3, 'name': 'two', 'visible': True}},\n",
       "   'modified': [3],\n",
       "   'name': '001 Level',\n",
       "   'id': '001_level'}],\n",
       " False)"
      ]
     },
     "execution_count": 16,
     "metadata": {},
     "output_type": "execute_result"
    }
   ],
   "source": [
    "# add data to workspace\n",
    "survos.run_command('annotations', 'get_levels', uri=None, workspace=test_workspace_name)\n"
   ]
  },
  {
   "cell_type": "code",
   "execution_count": 19,
   "metadata": {},
   "outputs": [],
   "source": [
    "src = DataModel.g.dataset_uri('001_level', group='annotations')        "
   ]
  },
  {
   "cell_type": "code",
   "execution_count": 9,
   "metadata": {},
   "outputs": [],
   "source": [
    "dst = DataModel.g.dataset_uri('009_gaussian_blur', group='features')     "
   ]
  },
  {
   "cell_type": "code",
   "execution_count": 10,
   "metadata": {},
   "outputs": [
    {
     "data": {
      "text/plain": [
       "('survos://default@test_s2:features/006_gaussian',\n",
       " 'survos://default@test_s2:features/009_gaussian_blur')"
      ]
     },
     "execution_count": 10,
     "metadata": {},
     "output_type": "execute_result"
    }
   ],
   "source": [
    "src, dst"
   ]
  },
  {
   "cell_type": "code",
   "execution_count": 20,
   "metadata": {},
   "outputs": [
    {
     "name": "stderr",
     "output_type": "stream",
     "text": [
      "2020-09-06 14:04:26.902 | INFO     | survos2.io:survos_from_uri:174 - running survos_from_uri on survos:// uri\n",
      "2020-09-06 14:04:26.902 | DEBUG    | survos2.io:survos_from_uri:185 - Calling Workspace() Init with workspace name: test_s2\n",
      "2020-09-06 14:04:26.902 | DEBUG    | survos2.model.workspace:__init__:36 - INIT workspace at test_s2\n",
      "2020-09-06 14:04:26.926 | INFO     | survos2.improc.utils:__init__:495 - DatasetManager setting out to survos://default@test_s2:annotations/001_level\n",
      "2020-09-06 14:04:26.926 | INFO     | survos2.io:survos_from_uri:174 - running survos_from_uri on survos:// uri\n",
      "2020-09-06 14:04:26.926 | DEBUG    | survos2.io:survos_from_uri:185 - Calling Workspace() Init with workspace name: test_s2\n",
      "2020-09-06 14:04:26.926 | DEBUG    | survos2.model.workspace:__init__:36 - INIT workspace at test_s2\n",
      "2020-09-06 14:04:26.991 | INFO     | survos2.improc.utils:__exit__:511 - Closed: <survos2.model.dataset.Dataset object at 0x000001DA1BFD16C8>\n",
      "2020-09-06 14:04:26.991 | INFO     | survos2.improc.utils:__exit__:511 - Closed: <survos2.model.dataset.Dataset object at 0x000001DA0CFA7E08>\n"
     ]
    },
    {
     "name": "stdout",
     "output_type": "stream",
     "text": [
      "c:/work/diam/data\n",
      "c:/work/diam/data\n",
      "<survos2.model.dataset.Dataset object at 0x000001DA1BFD16C8>\n"
     ]
    }
   ],
   "source": [
    "with DatasetManager(src, out=src, dtype='uint16', fillvalue=0) as DM:\n",
    "    src_dataset = DM.sources[0]\n",
    "    src_arr = src_dataset[:]\n",
    "    print(src_dataset)\n",
    "    #DM.out[:] = testvol"
   ]
  },
  {
   "cell_type": "code",
   "execution_count": 30,
   "metadata": {},
   "outputs": [
    {
     "data": {
      "text/plain": [
       "{'__data__': {'chunk_grid': [1, 1, 1],\n",
       "  'chunk_size': [99, 256, 256],\n",
       "  'dtype': 'uint8',\n",
       "  'fillvalue': 0,\n",
       "  'shape': [99, 256, 256]},\n",
       " 'kind': 'level',\n",
       " 'labels': {1: {'color': '#5555ff',\n",
       "   'idx': 1,\n",
       "   'name': 'Label',\n",
       "   'visible': True},\n",
       "  2: {'color': '#ff007f', 'idx': 2, 'name': 'one', 'visible': True},\n",
       "  3: {'color': '#12e3cb', 'idx': 3, 'name': 'two', 'visible': True}},\n",
       " 'modified': [3],\n",
       " 'name': '001 Level',\n",
       " 'somethingelse': [1, 2, 3],\n",
       " 'geometry': array([1, 2, 3]),\n",
       " 'geometrydf':    0\n",
       " 0  1\n",
       " 1  2\n",
       " 2  3}"
      ]
     },
     "execution_count": 30,
     "metadata": {},
     "output_type": "execute_result"
    }
   ],
   "source": [
    "src_dataset.metadata()"
   ]
  },
  {
   "cell_type": "code",
   "execution_count": 24,
   "metadata": {},
   "outputs": [],
   "source": [
    "src_dataset.set_attr('somethingelse', [1,2,3])"
   ]
  },
  {
   "cell_type": "code",
   "execution_count": 26,
   "metadata": {},
   "outputs": [],
   "source": [
    "import pandas as pd"
   ]
  },
  {
   "cell_type": "code",
   "execution_count": null,
   "metadata": {},
   "outputs": [],
   "source": [
    "import numpy as np\n",
    "\n"
   ]
  },
  {
   "cell_type": "code",
   "execution_count": 29,
   "metadata": {},
   "outputs": [],
   "source": [
    "src_dataset.set_attr('geometrydf', pd.DataFrame(np.array([1,2,3])))"
   ]
  },
  {
   "cell_type": "code",
   "execution_count": 36,
   "metadata": {},
   "outputs": [
    {
     "name": "stdout",
     "output_type": "stream",
     "text": [
      "C:/work/diam/data\n",
      "C:/work/diam/data\n"
     ]
    },
    {
     "data": {
      "text/plain": [
       "({'006_gaussian': {'kind': 'gaussian',\n",
       "   'name': '006 Gaussian',\n",
       "   'sigma': [5.0, 6.0, 7.0],\n",
       "   'source': '__data__',\n",
       "   'id': '006_gaussian'},\n",
       "  '007_gaussian_blur': {'kind': 'gaussian_blur',\n",
       "   'name': '007 Gaussian Blur',\n",
       "   'sigma': [2.0, 3.0, 4.0],\n",
       "   'source': '006_gaussian',\n",
       "   'id': '007_gaussian_blur'},\n",
       "  '008_laplacian': {'kind': 'laplacian',\n",
       "   'name': '008 Laplacian',\n",
       "   'id': '008_laplacian'},\n",
       "  '009_gaussian_blur': {'kind': 'gaussian_blur',\n",
       "   'name': '009 Gaussian Blur',\n",
       "   'id': '009_gaussian_blur'},\n",
       "  '010_gaussian_blur': {'kind': 'gaussian_blur',\n",
       "   'name': '010 Gaussian Blur',\n",
       "   'id': '010_gaussian_blur'}},\n",
       " False)"
      ]
     },
     "execution_count": 36,
     "metadata": {},
     "output_type": "execute_result"
    }
   ],
   "source": [
    "# add data to workspace\n",
    "survos.run_command('features', 'existing', uri=None, workspace=test_workspace_name,\n",
    "                  dtype='float32')\n"
   ]
  },
  {
   "cell_type": "code",
   "execution_count": 33,
   "metadata": {},
   "outputs": [
    {
     "name": "stdout",
     "output_type": "stream",
     "text": [
      "C:/work/diam/data\n",
      "C:/work/diam/data\n",
      "C:/work/diam/data\n",
      "C:/work/diam/data\n"
     ]
    },
    {
     "data": {
      "text/plain": [
       "({'name': '010 Gaussian Blur',\n",
       "  'kind': 'gaussian_blur',\n",
       "  'id': '010_gaussian_blur'},\n",
       " False)"
      ]
     },
     "execution_count": 33,
     "metadata": {},
     "output_type": "execute_result"
    }
   ],
   "source": [
    "# add data to workspace\n",
    "survos.run_command('features', 'create', uri=None, workspace=test_workspace_name,\n",
    "                   \n",
    "                  feature_type='gaussian_blur')\n"
   ]
  },
  {
   "cell_type": "code",
   "execution_count": 8,
   "metadata": {},
   "outputs": [],
   "source": [
    "src = DataModel.g.dataset_uri('006_gaussian', group='features')        "
   ]
  },
  {
   "cell_type": "code",
   "execution_count": 9,
   "metadata": {},
   "outputs": [],
   "source": [
    "dst = DataModel.g.dataset_uri('009_gaussian_blur', group='features')     "
   ]
  },
  {
   "cell_type": "code",
   "execution_count": 10,
   "metadata": {},
   "outputs": [
    {
     "data": {
      "text/plain": [
       "('survos://default@test_s2:features/006_gaussian',\n",
       " 'survos://default@test_s2:features/009_gaussian_blur')"
      ]
     },
     "execution_count": 10,
     "metadata": {},
     "output_type": "execute_result"
    }
   ],
   "source": [
    "src, dst"
   ]
  },
  {
   "cell_type": "code",
   "execution_count": 14,
   "metadata": {},
   "outputs": [
    {
     "name": "stderr",
     "output_type": "stream",
     "text": [
      "2020-09-06 13:52:14.721 | INFO     | survos2.io:survos_from_uri:174 - running survos_from_uri on survos:// uri\n",
      "2020-09-06 13:52:14.721 | DEBUG    | survos2.io:survos_from_uri:185 - Calling Workspace() Init with workspace name: test_s2\n",
      "2020-09-06 13:52:14.721 | DEBUG    | survos2.model.workspace:__init__:36 - INIT workspace at test_s2\n",
      "2020-09-06 13:52:14.741 | INFO     | survos2.improc.utils:__init__:495 - DatasetManager setting out to survos://default@test_s2:features/009_gaussian_blur\n",
      "2020-09-06 13:52:14.741 | INFO     | survos2.io:survos_from_uri:174 - running survos_from_uri on survos:// uri\n",
      "2020-09-06 13:52:14.741 | DEBUG    | survos2.io:survos_from_uri:185 - Calling Workspace() Init with workspace name: test_s2\n",
      "2020-09-06 13:52:14.741 | DEBUG    | survos2.model.workspace:__init__:36 - INIT workspace at test_s2\n",
      "2020-09-06 13:52:14.796 | INFO     | survos2.improc.utils:__exit__:511 - Closed: <survos2.model.dataset.Dataset object at 0x000001DA1BCE7708>\n",
      "2020-09-06 13:52:14.796 | INFO     | survos2.improc.utils:__exit__:511 - Closed: <survos2.model.dataset.Dataset object at 0x000001DA1BD5F6C8>\n"
     ]
    },
    {
     "name": "stdout",
     "output_type": "stream",
     "text": [
      "c:/work/diam/data\n",
      "c:/work/diam/data\n",
      "<survos2.model.dataset.Dataset object at 0x000001DA1BCE7708>\n"
     ]
    }
   ],
   "source": [
    "with DatasetManager(src, out=dst, dtype='float32', fillvalue=0) as DM:\n",
    "    src_dataset = DM.sources[0]\n",
    "    src_arr = src_dataset[:]\n",
    "    print(src_dataset)\n",
    "    #DM.out[:] = testvol"
   ]
  },
  {
   "cell_type": "code",
   "execution_count": 31,
   "metadata": {},
   "outputs": [
    {
     "data": {
      "text/plain": [
       "{'__data__': {'chunk_grid': [1, 1, 1],\n",
       "  'chunk_size': [99, 256, 256],\n",
       "  'dtype': 'uint8',\n",
       "  'fillvalue': 0,\n",
       "  'shape': [99, 256, 256]},\n",
       " 'kind': 'level',\n",
       " 'labels': {1: {'color': '#5555ff',\n",
       "   'idx': 1,\n",
       "   'name': 'Label',\n",
       "   'visible': True},\n",
       "  2: {'color': '#ff007f', 'idx': 2, 'name': 'one', 'visible': True},\n",
       "  3: {'color': '#12e3cb', 'idx': 3, 'name': 'two', 'visible': True}},\n",
       " 'modified': [3],\n",
       " 'name': '001 Level',\n",
       " 'somethingelse': [1, 2, 3],\n",
       " 'geometry': array([1, 2, 3]),\n",
       " 'geometrydf':    0\n",
       " 0  1\n",
       " 1  2\n",
       " 2  3}"
      ]
     },
     "execution_count": 31,
     "metadata": {},
     "output_type": "execute_result"
    }
   ],
   "source": [
    "src_dataset.get_metadata()"
   ]
  },
  {
   "cell_type": "code",
   "execution_count": 2,
   "metadata": {},
   "outputs": [],
   "source": [
    "import numpy as np\n",
    "x = np.array([1,2,3])"
   ]
  },
  {
   "cell_type": "code",
   "execution_count": 7,
   "metadata": {},
   "outputs": [
    {
     "data": {
      "text/plain": [
       "array([1, 2, 3, 4])"
      ]
     },
     "execution_count": 7,
     "metadata": {},
     "output_type": "execute_result"
    }
   ],
   "source": [
    "np.append(x, 4)"
   ]
  },
  {
   "cell_type": "code",
   "execution_count": null,
   "metadata": {},
   "outputs": [],
   "source": []
  },
  {
   "cell_type": "code",
   "execution_count": null,
   "metadata": {},
   "outputs": [],
   "source": [
    "with DatasetManager(src, out=dst, dtype='uint32', fillvalue=0) as DM:\n",
    "    src_dataset = DM.sources[0]\n",
    "    src_arr = src_dataset[:]\n",
    "    DM.out[:] = testvol"
   ]
  },
  {
   "cell_type": "code",
   "execution_count": 22,
   "metadata": {
    "collapsed": true,
    "jupyter": {
     "outputs_hidden": true
    }
   },
   "outputs": [
    {
     "name": "stdout",
     "output_type": "stream",
     "text": [
      "C:/work/diam/data\n"
     ]
    },
    {
     "ename": "WorkspaceException",
     "evalue": "Dataset 'default::regions\\003_supervoxels' does not exist.",
     "output_type": "error",
     "traceback": [
      "\u001b[1;31m---------------------------------------------------------------------------\u001b[0m",
      "\u001b[1;31mWorkspaceException\u001b[0m                        Traceback (most recent call last)",
      "\u001b[1;32m<ipython-input-22-883d868f4c52>\u001b[0m in \u001b[0;36m<module>\u001b[1;34m\u001b[0m\n\u001b[1;32m----> 1\u001b[1;33m \u001b[1;32mwith\u001b[0m \u001b[0mDatasetManager\u001b[0m\u001b[1;33m(\u001b[0m\u001b[0mdst\u001b[0m\u001b[1;33m,\u001b[0m \u001b[0mout\u001b[0m\u001b[1;33m=\u001b[0m\u001b[0mdst\u001b[0m\u001b[1;33m,\u001b[0m \u001b[0mdtype\u001b[0m\u001b[1;33m=\u001b[0m\u001b[1;34m'uint32'\u001b[0m\u001b[1;33m,\u001b[0m \u001b[0mfillvalue\u001b[0m\u001b[1;33m=\u001b[0m\u001b[1;36m0\u001b[0m\u001b[1;33m)\u001b[0m \u001b[1;32mas\u001b[0m \u001b[0mDM\u001b[0m\u001b[1;33m:\u001b[0m\u001b[1;33m\u001b[0m\u001b[1;33m\u001b[0m\u001b[0m\n\u001b[0m\u001b[0;32m      2\u001b[0m     \u001b[0mout_dataset\u001b[0m \u001b[1;33m=\u001b[0m \u001b[0mDM\u001b[0m\u001b[1;33m.\u001b[0m\u001b[0mout\u001b[0m\u001b[1;33m\u001b[0m\u001b[1;33m\u001b[0m\u001b[0m\n\u001b[0;32m      3\u001b[0m     \u001b[0mout_dataset\u001b[0m\u001b[1;33m[\u001b[0m\u001b[1;33m:\u001b[0m\u001b[1;33m]\u001b[0m \u001b[1;33m=\u001b[0m \u001b[0msrc_arr\u001b[0m\u001b[1;33m\u001b[0m\u001b[1;33m\u001b[0m\u001b[0m\n",
      "\u001b[1;32mC:\\work\\diam\\SuRVoS2\\survos2\\improc\\utils.py\u001b[0m in \u001b[0;36m__init__\u001b[1;34m(self, out, dtype, fillvalue, src_mode, *args)\u001b[0m\n\u001b[0;32m    491\u001b[0m         \u001b[1;32mfor\u001b[0m \u001b[0msource\u001b[0m \u001b[1;32min\u001b[0m \u001b[0margs\u001b[0m\u001b[1;33m:\u001b[0m\u001b[1;33m\u001b[0m\u001b[1;33m\u001b[0m\u001b[0m\n\u001b[0;32m    492\u001b[0m             \u001b[1;32mif\u001b[0m \u001b[0mis_dataset_uri\u001b[0m\u001b[1;33m(\u001b[0m\u001b[0msource\u001b[0m\u001b[1;33m)\u001b[0m\u001b[1;33m:\u001b[0m\u001b[1;33m\u001b[0m\u001b[1;33m\u001b[0m\u001b[0m\n\u001b[1;32m--> 493\u001b[1;33m                 \u001b[0msource\u001b[0m \u001b[1;33m=\u001b[0m \u001b[0mdataset_from_uri\u001b[0m\u001b[1;33m(\u001b[0m\u001b[0msource\u001b[0m\u001b[1;33m,\u001b[0m \u001b[0mmode\u001b[0m\u001b[1;33m=\u001b[0m\u001b[0msrc_mode\u001b[0m\u001b[1;33m)\u001b[0m\u001b[1;33m\u001b[0m\u001b[1;33m\u001b[0m\u001b[0m\n\u001b[0m\u001b[0;32m    494\u001b[0m             \u001b[0mself\u001b[0m\u001b[1;33m.\u001b[0m\u001b[0m_sources\u001b[0m\u001b[1;33m.\u001b[0m\u001b[0mappend\u001b[0m\u001b[1;33m(\u001b[0m\u001b[0msource\u001b[0m\u001b[1;33m)\u001b[0m\u001b[1;33m\u001b[0m\u001b[1;33m\u001b[0m\u001b[0m\n\u001b[0;32m    495\u001b[0m \u001b[1;33m\u001b[0m\u001b[0m\n",
      "\u001b[1;32mC:\\work\\diam\\SuRVoS2\\survos2\\io.py\u001b[0m in \u001b[0;36mdataset_from_uri\u001b[1;34m(uri, mode, shape, dtype, fill)\u001b[0m\n\u001b[0;32m     86\u001b[0m     \u001b[0mloader\u001b[0m \u001b[1;33m=\u001b[0m \u001b[0mdataset_loader\u001b[0m\u001b[1;33m(\u001b[0m\u001b[0muri\u001b[0m\u001b[1;33m)\u001b[0m\u001b[1;33m\u001b[0m\u001b[1;33m\u001b[0m\u001b[0m\n\u001b[0;32m     87\u001b[0m     \u001b[1;32mif\u001b[0m \u001b[0mloader\u001b[0m \u001b[1;32mis\u001b[0m \u001b[1;32mnot\u001b[0m \u001b[1;32mNone\u001b[0m\u001b[1;33m:\u001b[0m\u001b[1;33m\u001b[0m\u001b[1;33m\u001b[0m\u001b[0m\n\u001b[1;32m---> 88\u001b[1;33m         \u001b[1;32mreturn\u001b[0m \u001b[0mloader\u001b[0m\u001b[1;33m(\u001b[0m\u001b[0muri\u001b[0m\u001b[1;33m,\u001b[0m \u001b[0mmode\u001b[0m\u001b[1;33m=\u001b[0m\u001b[0mmode\u001b[0m\u001b[1;33m,\u001b[0m \u001b[0mshape\u001b[0m\u001b[1;33m=\u001b[0m\u001b[0mshape\u001b[0m\u001b[1;33m,\u001b[0m \u001b[0mdtype\u001b[0m\u001b[1;33m=\u001b[0m\u001b[0mdtype\u001b[0m\u001b[1;33m,\u001b[0m \u001b[0mfill\u001b[0m\u001b[1;33m=\u001b[0m\u001b[0mfill\u001b[0m\u001b[1;33m)\u001b[0m\u001b[1;33m\u001b[0m\u001b[1;33m\u001b[0m\u001b[0m\n\u001b[0m\u001b[0;32m     89\u001b[0m     \u001b[1;32melse\u001b[0m\u001b[1;33m:\u001b[0m\u001b[1;33m\u001b[0m\u001b[1;33m\u001b[0m\u001b[0m\n\u001b[0;32m     90\u001b[0m         \u001b[1;32mraise\u001b[0m \u001b[0mValueError\u001b[0m\u001b[1;33m(\u001b[0m\u001b[1;34m'Wrong URI. Only hdf5:// and survos:// uris are supported.'\u001b[0m\u001b[1;33m)\u001b[0m\u001b[1;33m\u001b[0m\u001b[1;33m\u001b[0m\u001b[0m\n",
      "\u001b[1;32mC:\\work\\diam\\SuRVoS2\\survos2\\io.py\u001b[0m in \u001b[0;36msurvos_from_uri\u001b[1;34m(uri, mode, shape, dtype, fill)\u001b[0m\n\u001b[0;32m    191\u001b[0m             \u001b[0mds\u001b[0m \u001b[1;33m=\u001b[0m \u001b[0mws\u001b[0m\u001b[1;33m.\u001b[0m\u001b[0mget_data\u001b[0m\u001b[1;33m(\u001b[0m\u001b[0mreadonly\u001b[0m\u001b[1;33m=\u001b[0m\u001b[1;32mTrue\u001b[0m\u001b[1;33m)\u001b[0m\u001b[1;33m\u001b[0m\u001b[1;33m\u001b[0m\u001b[0m\n\u001b[0;32m    192\u001b[0m         \u001b[1;32melif\u001b[0m \u001b[0mmode\u001b[0m \u001b[1;33m==\u001b[0m \u001b[1;34m'r'\u001b[0m\u001b[1;33m:\u001b[0m\u001b[1;33m\u001b[0m\u001b[1;33m\u001b[0m\u001b[0m\n\u001b[1;32m--> 193\u001b[1;33m             \u001b[0mds\u001b[0m \u001b[1;33m=\u001b[0m \u001b[0mws\u001b[0m\u001b[1;33m.\u001b[0m\u001b[0mget_dataset\u001b[0m\u001b[1;33m(\u001b[0m\u001b[0mdataset\u001b[0m\u001b[1;33m,\u001b[0m \u001b[0msession\u001b[0m\u001b[1;33m=\u001b[0m\u001b[0msession\u001b[0m\u001b[1;33m,\u001b[0m \u001b[0mreadonly\u001b[0m\u001b[1;33m=\u001b[0m\u001b[1;32mTrue\u001b[0m\u001b[1;33m)\u001b[0m\u001b[1;33m\u001b[0m\u001b[1;33m\u001b[0m\u001b[0m\n\u001b[0m\u001b[0;32m    194\u001b[0m         \u001b[1;32melse\u001b[0m\u001b[1;33m:\u001b[0m\u001b[1;33m\u001b[0m\u001b[1;33m\u001b[0m\u001b[0m\n\u001b[0;32m    195\u001b[0m             \u001b[1;32mif\u001b[0m \u001b[0mws\u001b[0m\u001b[1;33m.\u001b[0m\u001b[0mhas_dataset\u001b[0m\u001b[1;33m(\u001b[0m\u001b[0mdataset\u001b[0m\u001b[1;33m,\u001b[0m \u001b[0msession\u001b[0m\u001b[1;33m=\u001b[0m\u001b[0msession\u001b[0m\u001b[1;33m)\u001b[0m\u001b[1;33m:\u001b[0m\u001b[1;33m\u001b[0m\u001b[1;33m\u001b[0m\u001b[0m\n",
      "\u001b[1;32mC:\\work\\diam\\SuRVoS2\\survos2\\model\\workspace.py\u001b[0m in \u001b[0;36mget_dataset\u001b[1;34m(self, dataset_name, session, **kwargs)\u001b[0m\n\u001b[0;32m    250\u001b[0m         \u001b[1;32mif\u001b[0m \u001b[1;32mnot\u001b[0m \u001b[0mself\u001b[0m\u001b[1;33m.\u001b[0m\u001b[0mhas_dataset\u001b[0m\u001b[1;33m(\u001b[0m\u001b[0mdataset_name\u001b[0m\u001b[1;33m,\u001b[0m \u001b[0msession\u001b[0m\u001b[1;33m=\u001b[0m\u001b[0msession\u001b[0m\u001b[1;33m)\u001b[0m\u001b[1;33m:\u001b[0m\u001b[1;33m\u001b[0m\u001b[1;33m\u001b[0m\u001b[0m\n\u001b[0;32m    251\u001b[0m             raise WorkspaceException('Dataset \\'{}::{}\\' does not exist.'\n\u001b[1;32m--> 252\u001b[1;33m                                      .format(session, dataset_name))\n\u001b[0m\u001b[0;32m    253\u001b[0m \u001b[1;33m\u001b[0m\u001b[0m\n\u001b[0;32m    254\u001b[0m         \u001b[0mpath\u001b[0m \u001b[1;33m=\u001b[0m \u001b[0mself\u001b[0m\u001b[1;33m.\u001b[0m\u001b[0mgenpath\u001b[0m\u001b[1;33m(\u001b[0m\u001b[0msession\u001b[0m\u001b[1;33m,\u001b[0m \u001b[0mdataset_name\u001b[0m\u001b[1;33m)\u001b[0m\u001b[1;33m\u001b[0m\u001b[1;33m\u001b[0m\u001b[0m\n",
      "\u001b[1;31mWorkspaceException\u001b[0m: Dataset 'default::regions\\003_supervoxels' does not exist."
     ]
    }
   ],
   "source": [
    "with DatasetManager(src, out=dst, dtype='uint32', fillvalue=0) as DM:\n",
    "    out_dataset = DM.out\n",
    "    out_dataset[:] = test"
   ]
  },
  {
   "cell_type": "code",
   "execution_count": null,
   "metadata": {},
   "outputs": [],
   "source": []
  },
  {
   "cell_type": "code",
   "execution_count": 4,
   "metadata": {},
   "outputs": [],
   "source": [
    "import h5py\n",
    "original_data = h5py.File(\"D:\\\\datasets\\\\mcd_s10_Nuc_Cyt_r1.h5\", 'r')\n",
    "    "
   ]
  },
  {
   "cell_type": "code",
   "execution_count": 5,
   "metadata": {},
   "outputs": [
    {
     "data": {
      "text/plain": [
       "<HDF5 dataset \"data\": shape (372, 946, 946), type \"<f4\">"
      ]
     },
     "execution_count": 5,
     "metadata": {},
     "output_type": "execute_result"
    }
   ],
   "source": [
    "original_data['data']"
   ]
  },
  {
   "cell_type": "code",
   "execution_count": 6,
   "metadata": {},
   "outputs": [],
   "source": [
    "workspace_config = {'dataset_name': \"data\",\n",
    "                        'datasets_dir': \"D:/datasets/\",\n",
    "                        'vol_fname': 'mcd_s10_Nuc_Cyt_r1.h5',\n",
    "                        'workspace_name' : 'test_hunt11'}"
   ]
  },
  {
   "cell_type": "code",
   "execution_count": 7,
   "metadata": {},
   "outputs": [
    {
     "name": "stderr",
     "output_type": "stream",
     "text": [
      "2020-09-11 12:38:12.189 | INFO     | survos2.frontend.main:init_ws:48 - Initialising workspace test_hunt11 with image volume D:/datasets/mcd_s10_Nuc_Cyt_r1.h5.\n",
      "2020-09-11 12:38:12.191 | INFO     | survos2.frontend.main:init_ws:53 - Loaded vol of size (372, 946, 946)\n",
      "2020-09-11 12:38:19.478 | DEBUG    | survos2.survos:run_command:101 - Using client <hug.use.Local object at 0x000001C1E8CC02C8>\n",
      "2020-09-11 12:38:19.784 | DEBUG    | survos2.model.workspace:__init__:36 - INIT workspace at C:\\work\\diam\\data\\test_hunt11\n",
      "2020-09-11 12:38:19.786 | DEBUG    | survos2.model.workspace:available_sessions:118 - available sessions: no data\n",
      "2020-09-11 12:38:19.787 | INFO     | survos2.survos:run_command:105 - Local client gave response Response(data={'data': {'path': 'C:\\\\work\\\\diam\\\\data\\\\test_hunt11', 'data': {}}, 'error': False}, status_code=200, headers={'content-type': 'application/json'})\n",
      "2020-09-11 12:38:19.788 | INFO     | survos2.frontend.main:init_ws:62 - Created workspace test_hunt11\n",
      "2020-09-11 12:38:19.789 | DEBUG    | survos2.survos:run_command:101 - Using client <hug.use.Local object at 0x000001C1E8CC02C8>\n"
     ]
    },
    {
     "name": "stdout",
     "output_type": "stream",
     "text": [
      "C:/work/diam/data\n",
      "C:/work/diam/data\n"
     ]
    },
    {
     "name": "stderr",
     "output_type": "stream",
     "text": [
      "2020-09-11 12:38:20.092 | DEBUG    | survos2.model.workspace:__init__:36 - INIT workspace at test_hunt11\n",
      "2020-09-11 12:38:20.093 | DEBUG    | survos2.model.workspace:__init__:36 - INIT workspace at test_hunt11\n",
      "2020-09-11 12:38:20.094 | INFO     | survos2.api.workspace:add_data:48 - Adding data to workspace {ws}\n",
      "2020-09-11 12:38:20.108 | DEBUG    | survos2.api.workspace:add_data:53 - Calculating optimal chunk size using chunk_size 100: (372, 473, 136)\n",
      "2020-09-11 12:38:20.115 | INFO     | survos2.model.dataset:create:239 - Creating dataset on C:\\work\\diam\\data\\test_hunt11\\__data__ None None dask.array<truediv, shape=(372, 946, 946), dtype=float32, chunksize=(372, 473, 136), chunktype=numpy.ndarray> 100\n",
      "2020-09-11 12:38:20.138 | INFO     | survos2.model.dataset:_load:113 - Loading dataset on C:\\work\\diam\\data\\test_hunt11\\__data__\n",
      "2020-09-11 12:38:20.143 | DEBUG    | survos2.model.dataset:load:421 - Loading dataset dask.array<truediv, shape=(372, 946, 946), dtype=float32, chunksize=(372, 473, 136), chunktype=numpy.ndarray>\n"
     ]
    },
    {
     "name": "stdout",
     "output_type": "stream",
     "text": [
      "C:/work/diam/data\n",
      "C:/work/diam/data\n"
     ]
    },
    {
     "name": "stderr",
     "output_type": "stream",
     "text": [
      "2020-09-11 12:38:23.634 | INFO     | survos2.model.dataset:_process_slices:460 - _process_slices (slice(0, 372, None), slice(0, 473, None), slice(408, 544, None))\n",
      "2020-09-11 12:38:23.677 | INFO     | survos2.model.dataset:create_chunk:321 - Creating chunk (0, 0, 3) None None\n",
      "2020-09-11 12:38:27.800 | INFO     | survos2.model.dataset:_process_slices:460 - _process_slices (slice(0, 372, None), slice(0, 473, None), slice(272, 408, None))\n",
      "2020-09-11 12:38:27.812 | INFO     | survos2.model.dataset:create_chunk:321 - Creating chunk (0, 0, 2) None None\n",
      "2020-09-11 12:38:31.965 | INFO     | survos2.model.dataset:_process_slices:460 - _process_slices (slice(0, 372, None), slice(0, 473, None), slice(816, 946, None))\n",
      "2020-09-11 12:38:31.968 | INFO     | survos2.model.dataset:create_chunk:321 - Creating chunk (0, 0, 6) None None\n",
      "2020-09-11 12:38:36.316 | INFO     | survos2.model.dataset:_process_slices:460 - _process_slices (slice(0, 372, None), slice(0, 473, None), slice(680, 816, None))\n",
      "2020-09-11 12:38:36.329 | INFO     | survos2.model.dataset:create_chunk:321 - Creating chunk (0, 0, 5) None None\n",
      "2020-09-11 12:38:40.670 | INFO     | survos2.model.dataset:_process_slices:460 - _process_slices (slice(0, 372, None), slice(0, 473, None), slice(0, 136, None))\n",
      "2020-09-11 12:38:40.681 | INFO     | survos2.model.dataset:create_chunk:321 - Creating chunk (0, 0, 0) None None\n",
      "2020-09-11 12:38:44.913 | INFO     | survos2.model.dataset:_process_slices:460 - _process_slices (slice(0, 372, None), slice(0, 473, None), slice(544, 680, None))\n",
      "2020-09-11 12:38:44.925 | INFO     | survos2.model.dataset:create_chunk:321 - Creating chunk (0, 0, 4) None None\n",
      "2020-09-11 12:38:49.097 | INFO     | survos2.model.dataset:_process_slices:460 - _process_slices (slice(0, 372, None), slice(473, 946, None), slice(0, 136, None))\n",
      "2020-09-11 12:38:49.100 | INFO     | survos2.model.dataset:create_chunk:321 - Creating chunk (0, 1, 0) None None\n",
      "2020-09-11 12:38:53.199 | INFO     | survos2.model.dataset:_process_slices:460 - _process_slices (slice(0, 372, None), slice(0, 473, None), slice(136, 272, None))\n",
      "2020-09-11 12:38:53.217 | INFO     | survos2.model.dataset:create_chunk:321 - Creating chunk (0, 0, 1) None None\n",
      "2020-09-11 12:38:57.298 | INFO     | survos2.model.dataset:_process_slices:460 - _process_slices (slice(0, 372, None), slice(473, 946, None), slice(136, 272, None))\n",
      "2020-09-11 12:38:57.308 | INFO     | survos2.model.dataset:create_chunk:321 - Creating chunk (0, 1, 1) None None\n",
      "2020-09-11 12:39:01.435 | INFO     | survos2.model.dataset:_process_slices:460 - _process_slices (slice(0, 372, None), slice(473, 946, None), slice(272, 408, None))\n",
      "2020-09-11 12:39:01.446 | INFO     | survos2.model.dataset:create_chunk:321 - Creating chunk (0, 1, 2) None None\n",
      "2020-09-11 12:39:05.785 | INFO     | survos2.model.dataset:_process_slices:460 - _process_slices (slice(0, 372, None), slice(473, 946, None), slice(408, 544, None))\n",
      "2020-09-11 12:39:05.796 | INFO     | survos2.model.dataset:create_chunk:321 - Creating chunk (0, 1, 3) None None\n",
      "2020-09-11 12:39:09.846 | INFO     | survos2.model.dataset:_process_slices:460 - _process_slices (slice(0, 372, None), slice(473, 946, None), slice(544, 680, None))\n",
      "2020-09-11 12:39:09.847 | INFO     | survos2.model.dataset:create_chunk:321 - Creating chunk (0, 1, 4) None None\n",
      "2020-09-11 12:39:13.950 | INFO     | survos2.model.dataset:_process_slices:460 - _process_slices (slice(0, 372, None), slice(473, 946, None), slice(680, 816, None))\n",
      "2020-09-11 12:39:13.952 | INFO     | survos2.model.dataset:create_chunk:321 - Creating chunk (0, 1, 5) None None\n",
      "2020-09-11 12:39:18.148 | INFO     | survos2.model.dataset:_process_slices:460 - _process_slices (slice(0, 372, None), slice(473, 946, None), slice(816, 946, None))\n",
      "2020-09-11 12:39:18.158 | INFO     | survos2.model.dataset:create_chunk:321 - Creating chunk (0, 1, 6) None None\n",
      "2020-09-11 12:39:22.261 | INFO     | survos2.model.dataset:_load:113 - Loading dataset on C:\\work\\diam\\data\\test_hunt11\\__data__\n",
      "2020-09-11 12:39:22.264 | INFO     | survos2.model.dataset:_load:113 - Loading dataset on C:\\work\\diam\\data\\test_hunt11\\__data__\n",
      "2020-09-11 12:39:22.268 | INFO     | survos2.api.workspace:add_data:61 - <class 'survos2.model.dataset.Dataset'>\n",
      "2020-09-11 12:39:22.269 | INFO     | survos2.survos:run_command:105 - Local client gave response Response(data={'data': {'chunk_grid': [1, 2, 7], 'chunk_size': [372, 473, 136], 'dtype': 'float32', 'fillvalue': 0, 'shape': [372, 946, 946], 'id': '__data__', 'path': 'C:\\\\work\\\\diam\\\\data\\\\test_hunt11\\\\__data__', 'name': '__data__'}, 'error': False}, status_code=200, headers={'content-type': 'application/json'})\n",
      "2020-09-11 12:39:22.270 | INFO     | survos2.frontend.main:init_ws:72 - Added data to workspace from D:/datasets/mcd_s10_Nuc_Cyt_r1.h5\n",
      "2020-09-11 12:39:22.271 | DEBUG    | survos2.survos:run_command:101 - Using client <hug.use.Local object at 0x000001C1E8CC02C8>\n",
      "2020-09-11 12:39:22.600 | DEBUG    | survos2.model.workspace:__init__:36 - INIT workspace at test_hunt11\n",
      "2020-09-11 12:39:22.602 | DEBUG    | survos2.model.workspace:__init__:36 - INIT workspace at test_hunt11\n",
      "2020-09-11 12:39:22.604 | INFO     | survos2.model.dataset:_load:113 - Loading dataset on C:\\work\\diam\\data\\test_hunt11\\__data__\n",
      "2020-09-11 12:39:22.607 | INFO     | survos2.model.dataset:_load:113 - Loading dataset on C:\\work\\diam\\data\\test_hunt11\\__data__\n",
      "2020-09-11 12:39:22.610 | INFO     | survos2.model.dataset:_load:113 - Loading dataset on C:\\work\\diam\\data\\test_hunt11\\__data__\n",
      "2020-09-11 12:39:22.613 | INFO     | survos2.model.dataset:create:239 - Creating dataset on C:\\work\\diam\\data\\test_hunt11\\default\\data [372, 946, 946] float32 None [372, 473, 136]\n",
      "2020-09-11 12:39:22.619 | INFO     | survos2.model.dataset:_load:113 - Loading dataset on C:\\work\\diam\\data\\test_hunt11\\default\\data\n",
      "2020-09-11 12:39:22.622 | INFO     | survos2.survos:run_command:105 - Local client gave response Response(data={'data': {'chunk_grid': [1, 2, 7], 'chunk_size': [372, 473, 136], 'dtype': 'float32', 'fillvalue': 0, 'shape': [372, 946, 946], 'id': 'data', 'path': 'C:\\\\work\\\\diam\\\\data\\\\test_hunt11\\\\default\\\\data', 'name': 'data'}, 'error': False}, status_code=200, headers={'content-type': 'application/json'})\n"
     ]
    },
    {
     "name": "stdout",
     "output_type": "stream",
     "text": [
      "C:/work/diam/data\n",
      "C:/work/diam/data\n"
     ]
    }
   ],
   "source": [
    "from survos2.frontend.main import init_ws\n",
    "init_ws(workspace_config)"
   ]
  },
  {
   "cell_type": "code",
   "execution_count": 9,
   "metadata": {},
   "outputs": [
    {
     "name": "stderr",
     "output_type": "stream",
     "text": [
      "2020-09-11 12:29:33.215 | INFO     | survos2.frontend.main:init_ws:48 - Initialising workspace test_hunt7 with image volume D:/datasets/mcd_s10_Nuc_Cyt_r1.h5.\n",
      "2020-09-11 12:29:33.217 | INFO     | survos2.frontend.main:init_ws:53 - Loaded vol of size (372, 946, 946)\n",
      "2020-09-11 12:29:41.502 | DEBUG    | survos2.survos:run_command:101 - Using client <hug.use.Local object at 0x000002617F9989A8>\n"
     ]
    },
    {
     "name": "stdout",
     "output_type": "stream",
     "text": [
      "C:/work/diam/data\n"
     ]
    },
    {
     "ename": "WorkspaceException",
     "evalue": "Directory 'C:\\work\\diam\\data\\test_hunt7' is not empty.",
     "output_type": "error",
     "traceback": [
      "\u001b[1;31m---------------------------------------------------------------------------\u001b[0m",
      "\u001b[1;31mWorkspaceException\u001b[0m                        Traceback (most recent call last)",
      "\u001b[1;32m<ipython-input-9-70bf8db85629>\u001b[0m in \u001b[0;36m<module>\u001b[1;34m\u001b[0m\n\u001b[1;32m----> 1\u001b[1;33m \u001b[0minit_ws\u001b[0m\u001b[1;33m(\u001b[0m\u001b[0mworkspace_config\u001b[0m\u001b[1;33m)\u001b[0m\u001b[1;33m\u001b[0m\u001b[1;33m\u001b[0m\u001b[0m\n\u001b[0m",
      "\u001b[1;32mC:\\work\\diam\\b5\\SuRVoS2\\survos2\\frontend\\main.py\u001b[0m in \u001b[0;36minit_ws\u001b[1;34m(wparams)\u001b[0m\n\u001b[0;32m     59\u001b[0m         \u001b[0mhf\u001b[0m\u001b[1;33m.\u001b[0m\u001b[0mcreate_dataset\u001b[0m\u001b[1;33m(\u001b[0m\u001b[1;34m\"data\"\u001b[0m\u001b[1;33m,\u001b[0m \u001b[0mdata\u001b[0m\u001b[1;33m=\u001b[0m\u001b[0mimg_volume\u001b[0m\u001b[1;33m)\u001b[0m\u001b[1;33m\u001b[0m\u001b[1;33m\u001b[0m\u001b[0m\n\u001b[0;32m     60\u001b[0m \u001b[1;33m\u001b[0m\u001b[0m\n\u001b[1;32m---> 61\u001b[1;33m     \u001b[0msurvos\u001b[0m\u001b[1;33m.\u001b[0m\u001b[0mrun_command\u001b[0m\u001b[1;33m(\u001b[0m\u001b[1;34m\"workspace\"\u001b[0m\u001b[1;33m,\u001b[0m \u001b[1;34m\"create\"\u001b[0m\u001b[1;33m,\u001b[0m \u001b[0mworkspace\u001b[0m\u001b[1;33m=\u001b[0m\u001b[0mws_name\u001b[0m\u001b[1;33m)\u001b[0m\u001b[1;33m\u001b[0m\u001b[1;33m\u001b[0m\u001b[0m\n\u001b[0m\u001b[0;32m     62\u001b[0m     \u001b[0mlogger\u001b[0m\u001b[1;33m.\u001b[0m\u001b[0minfo\u001b[0m\u001b[1;33m(\u001b[0m\u001b[1;34mf\"Created workspace {ws_name}\"\u001b[0m\u001b[1;33m)\u001b[0m\u001b[1;33m\u001b[0m\u001b[1;33m\u001b[0m\u001b[0m\n\u001b[0;32m     63\u001b[0m \u001b[1;33m\u001b[0m\u001b[0m\n",
      "\u001b[1;32mC:\\work\\diam\\b5\\SuRVoS2\\survos2\\survos.py\u001b[0m in \u001b[0;36mrun_command\u001b[1;34m(plugin, command, uri, **kwargs)\u001b[0m\n\u001b[0;32m    102\u001b[0m \u001b[1;33m\u001b[0m\u001b[0m\n\u001b[0;32m    103\u001b[0m         \u001b[1;32mtry\u001b[0m\u001b[1;33m:\u001b[0m\u001b[1;33m\u001b[0m\u001b[1;33m\u001b[0m\u001b[0m\n\u001b[1;32m--> 104\u001b[1;33m             \u001b[0mresponse\u001b[0m \u001b[1;33m=\u001b[0m \u001b[0mclient\u001b[0m\u001b[1;33m.\u001b[0m\u001b[0mget\u001b[0m\u001b[1;33m(\u001b[0m\u001b[0mcommand\u001b[0m\u001b[1;33m,\u001b[0m \u001b[1;33m**\u001b[0m\u001b[0mkwargs\u001b[0m\u001b[1;33m)\u001b[0m\u001b[1;33m\u001b[0m\u001b[1;33m\u001b[0m\u001b[0m\n\u001b[0m\u001b[0;32m    105\u001b[0m             \u001b[0mlogger\u001b[0m\u001b[1;33m.\u001b[0m\u001b[0minfo\u001b[0m\u001b[1;33m(\u001b[0m\u001b[1;34mf\"Local client gave response {response}\"\u001b[0m\u001b[1;33m)\u001b[0m\u001b[1;33m\u001b[0m\u001b[1;33m\u001b[0m\u001b[0m\n\u001b[0;32m    106\u001b[0m \u001b[1;33m\u001b[0m\u001b[0m\n",
      "\u001b[1;32mC:\\ProgramData\\Anaconda3\\envs\\3dseg\\lib\\site-packages\\hug\\use.cp37-win_amd64.pyd\u001b[0m in \u001b[0;36mhug.use.Service.get\u001b[1;34m()\u001b[0m\n",
      "\u001b[1;32mC:\\ProgramData\\Anaconda3\\envs\\3dseg\\lib\\site-packages\\hug\\use.cp37-win_amd64.pyd\u001b[0m in \u001b[0;36mhug.use.Local.request\u001b[1;34m()\u001b[0m\n",
      "\u001b[1;32mC:\\ProgramData\\Anaconda3\\envs\\3dseg\\lib\\site-packages\\hug\\interface.cp37-win_amd64.pyd\u001b[0m in \u001b[0;36mhug.interface.HTTP.call_function\u001b[1;34m()\u001b[0m\n",
      "\u001b[1;32mC:\\ProgramData\\Anaconda3\\envs\\3dseg\\lib\\site-packages\\hug\\interface.cp37-win_amd64.pyd\u001b[0m in \u001b[0;36mhug.interface.Interfaces.__call__\u001b[1;34m()\u001b[0m\n",
      "\u001b[1;32mC:\\work\\diam\\b5\\SuRVoS2\\survos2\\api\\workspace.py\u001b[0m in \u001b[0;36mcreate\u001b[1;34m(workspace)\u001b[0m\n\u001b[0;32m     20\u001b[0m \u001b[1;32mdef\u001b[0m \u001b[0mcreate\u001b[0m\u001b[1;33m(\u001b[0m\u001b[0mworkspace\u001b[0m\u001b[1;33m:\u001b[0m \u001b[0mString\u001b[0m\u001b[1;33m)\u001b[0m\u001b[1;33m:\u001b[0m\u001b[1;33m\u001b[0m\u001b[1;33m\u001b[0m\u001b[0m\n\u001b[0;32m     21\u001b[0m     \u001b[0mworkspace\u001b[0m\u001b[1;33m,\u001b[0m \u001b[0msession\u001b[0m \u001b[1;33m=\u001b[0m \u001b[0mparse_workspace\u001b[0m\u001b[1;33m(\u001b[0m\u001b[0mworkspace\u001b[0m\u001b[1;33m)\u001b[0m\u001b[1;33m\u001b[0m\u001b[1;33m\u001b[0m\u001b[0m\n\u001b[1;32m---> 22\u001b[1;33m     \u001b[1;32mreturn\u001b[0m \u001b[0mWorkspace\u001b[0m\u001b[1;33m.\u001b[0m\u001b[0mcreate\u001b[0m\u001b[1;33m(\u001b[0m\u001b[0mworkspace\u001b[0m\u001b[1;33m)\u001b[0m\u001b[1;33m\u001b[0m\u001b[1;33m\u001b[0m\u001b[0m\n\u001b[0m\u001b[0;32m     23\u001b[0m \u001b[1;33m\u001b[0m\u001b[0m\n\u001b[0;32m     24\u001b[0m \u001b[1;33m\u001b[0m\u001b[0m\n",
      "\u001b[1;32mC:\\work\\diam\\b5\\SuRVoS2\\survos2\\model\\workspace.py\u001b[0m in \u001b[0;36mcreate\u001b[1;34m(path)\u001b[0m\n\u001b[0;32m     77\u001b[0m         \u001b[0mpath\u001b[0m \u001b[1;33m=\u001b[0m \u001b[0mWorkspace\u001b[0m\u001b[1;33m.\u001b[0m\u001b[0m_validate_path\u001b[0m\u001b[1;33m(\u001b[0m\u001b[0mpath\u001b[0m\u001b[1;33m)\u001b[0m\u001b[1;33m\u001b[0m\u001b[1;33m\u001b[0m\u001b[0m\n\u001b[0;32m     78\u001b[0m         \u001b[1;32mif\u001b[0m \u001b[0mos\u001b[0m\u001b[1;33m.\u001b[0m\u001b[0mpath\u001b[0m\u001b[1;33m.\u001b[0m\u001b[0misdir\u001b[0m\u001b[1;33m(\u001b[0m\u001b[0mpath\u001b[0m\u001b[1;33m)\u001b[0m \u001b[1;32mand\u001b[0m \u001b[0mos\u001b[0m\u001b[1;33m.\u001b[0m\u001b[0mlistdir\u001b[0m\u001b[1;33m(\u001b[0m\u001b[0mpath\u001b[0m\u001b[1;33m)\u001b[0m\u001b[1;33m:\u001b[0m\u001b[1;33m\u001b[0m\u001b[1;33m\u001b[0m\u001b[0m\n\u001b[1;32m---> 79\u001b[1;33m             \u001b[1;32mraise\u001b[0m \u001b[0mWorkspaceException\u001b[0m\u001b[1;33m(\u001b[0m\u001b[1;34m\"Directory '%s' is not empty.\"\u001b[0m \u001b[1;33m%\u001b[0m \u001b[0mpath\u001b[0m\u001b[1;33m)\u001b[0m\u001b[1;33m\u001b[0m\u001b[1;33m\u001b[0m\u001b[0m\n\u001b[0m\u001b[0;32m     80\u001b[0m \u001b[1;33m\u001b[0m\u001b[0m\n\u001b[0;32m     81\u001b[0m         \u001b[1;32melif\u001b[0m \u001b[1;32mnot\u001b[0m \u001b[0mos\u001b[0m\u001b[1;33m.\u001b[0m\u001b[0mpath\u001b[0m\u001b[1;33m.\u001b[0m\u001b[0misdir\u001b[0m\u001b[1;33m(\u001b[0m\u001b[0mpath\u001b[0m\u001b[1;33m)\u001b[0m\u001b[1;33m:\u001b[0m\u001b[1;33m\u001b[0m\u001b[1;33m\u001b[0m\u001b[0m\n",
      "\u001b[1;31mWorkspaceException\u001b[0m: Directory 'C:\\work\\diam\\data\\test_hunt7' is not empty."
     ]
    }
   ],
   "source": []
  },
  {
   "cell_type": "code",
   "execution_count": null,
   "metadata": {},
   "outputs": [],
   "source": []
  },
  {
   "cell_type": "code",
   "execution_count": null,
   "metadata": {},
   "outputs": [],
   "source": []
  },
  {
   "cell_type": "code",
   "execution_count": null,
   "metadata": {},
   "outputs": [],
   "source": []
  },
  {
   "cell_type": "code",
   "execution_count": null,
   "metadata": {},
   "outputs": [],
   "source": []
  },
  {
   "cell_type": "code",
   "execution_count": null,
   "metadata": {},
   "outputs": [],
   "source": [
    "with DatasetManager(src, out=dst, dtype='uint32', fillvalue=0) as DM:\n",
    "    src_dataset = DM.sources[0]\n",
    "    src_arr = src_dataset[:]\n",
    "    DM.out[:] = testvol"
   ]
  },
  {
   "cell_type": "code",
   "execution_count": null,
   "metadata": {},
   "outputs": [],
   "source": []
  },
  {
   "cell_type": "code",
   "execution_count": null,
   "metadata": {},
   "outputs": [],
   "source": []
  },
  {
   "cell_type": "code",
   "execution_count": null,
   "metadata": {},
   "outputs": [],
   "source": []
  },
  {
   "cell_type": "code",
   "execution_count": 8,
   "metadata": {},
   "outputs": [],
   "source": [
    "testvol = np.random.random((99,256,256))# astype(np.uint8)\n"
   ]
  },
  {
   "cell_type": "code",
   "execution_count": 6,
   "metadata": {},
   "outputs": [
    {
     "ename": "NameError",
     "evalue": "name 'testvol' is not defined",
     "output_type": "error",
     "traceback": [
      "\u001b[1;31m---------------------------------------------------------------------------\u001b[0m",
      "\u001b[1;31mNameError\u001b[0m                                 Traceback (most recent call last)",
      "\u001b[1;32m<ipython-input-6-a52f68fa4dfe>\u001b[0m in \u001b[0;36m<module>\u001b[1;34m\u001b[0m\n\u001b[1;32m----> 1\u001b[1;33m \u001b[0mtestvol\u001b[0m\u001b[1;33m\u001b[0m\u001b[1;33m\u001b[0m\u001b[0m\n\u001b[0m",
      "\u001b[1;31mNameError\u001b[0m: name 'testvol' is not defined"
     ]
    }
   ],
   "source": [
    "testvol"
   ]
  },
  {
   "cell_type": "code",
   "execution_count": 7,
   "metadata": {},
   "outputs": [],
   "source": [
    "testvol = np.array([[[0.1761602 , 0.6701295 , 0.13151232, 0.95726678],\n",
    "        [0.4795476 , 0.48114134, 0.0410548 , 0.29893265],\n",
    "        [0.49127266, 0.70298447, 0.42751211, 0.08101552],\n",
    "        [0.73805652, 0.83111601, 0.36852477, 0.38732476]],\n",
    "\n",
    "       [[0.2847222 , 0.96054574, 0.25430756, 0.35403861],\n",
    "        [0.54439093, 0.65897414, 0.1959487 , 0.90714872],\n",
    "        [0.84462152, 0.90754182, 0.02455657, 0.26180662],\n",
    "        [0.1711208 , 0.40122666, 0.54562598, 0.01419861]],\n",
    "\n",
    "       [[0.59280376, 0.42706895, 0.86637913, 0.87831645],\n",
    "        [0.57991401, 0.31989204, 0.85869799, 0.6333411 ],\n",
    "        [0.21539274, 0.63780214, 0.64204493, 0.74425482],\n",
    "        [0.1903691 , 0.81962537, 0.31774673, 0.34812628]],\n",
    "\n",
    "       [[0.40880077, 0.595773  , 0.28856063, 0.19316746],\n",
    "        [0.03195766, 0.62475541, 0.50762591, 0.34700798],\n",
    "        [0.98913461, 0.07883111, 0.96534233, 0.57697606],\n",
    "        [0.71496714, 0.70764578, 0.92294417, 0.91300531]]])"
   ]
  },
  {
   "cell_type": "code",
   "execution_count": 8,
   "metadata": {},
   "outputs": [],
   "source": [
    "import h5py\n",
    "test_datadir = \"C:\\\\work\\\\diam\\\\b6\\\\SuRVoS2\\\\tmp\\\\\"\n",
    "\n",
    "# add dataset to workspace from file, so save array to file\n",
    "map_fullpath = os.path.join(test_datadir,\"testvol_4x4x4e.h5\")\n",
    "\n",
    "\n",
    "with h5py.File(map_fullpath,  'w') as hf:\n",
    "    hf.create_dataset(\"data\",  data=testvol)\n"
   ]
  },
  {
   "cell_type": "code",
   "execution_count": 9,
   "metadata": {},
   "outputs": [
    {
     "data": {
      "text/plain": [
       "array([[[0.1761602 , 0.6701295 , 0.13151231, 0.9572668 ],\n",
       "        [0.4795476 , 0.48114133, 0.0410548 , 0.29893264],\n",
       "        [0.49127266, 0.70298445, 0.4275121 , 0.08101552],\n",
       "        [0.73805654, 0.831116  , 0.36852476, 0.38732475]],\n",
       "\n",
       "       [[0.2847222 , 0.9605457 , 0.25430757, 0.3540386 ],\n",
       "        [0.5443909 , 0.6589741 , 0.1959487 , 0.9071487 ],\n",
       "        [0.84462154, 0.9075418 , 0.02455657, 0.2618066 ],\n",
       "        [0.1711208 , 0.40122667, 0.545626  , 0.01419861]],\n",
       "\n",
       "       [[0.5928038 , 0.42706895, 0.86637914, 0.87831646],\n",
       "        [0.57991403, 0.31989205, 0.858698  , 0.6333411 ],\n",
       "        [0.21539274, 0.6378021 , 0.6420449 , 0.7442548 ],\n",
       "        [0.1903691 , 0.8196254 , 0.31774673, 0.3481263 ]],\n",
       "\n",
       "       [[0.40880078, 0.595773  , 0.28856063, 0.19316746],\n",
       "        [0.03195766, 0.6247554 , 0.50762594, 0.347008  ],\n",
       "        [0.9891346 , 0.07883111, 0.96534234, 0.57697606],\n",
       "        [0.71496713, 0.7076458 , 0.9229442 , 0.9130053 ]]], dtype=float32)"
      ]
     },
     "execution_count": 9,
     "metadata": {},
     "output_type": "execute_result"
    }
   ],
   "source": [
    "testvol.astype(np.float32)"
   ]
  },
  {
   "cell_type": "code",
   "execution_count": 15,
   "metadata": {},
   "outputs": [],
   "source": [
    "testvol = testvol - np.min(testvol)"
   ]
  },
  {
   "cell_type": "code",
   "execution_count": 17,
   "metadata": {},
   "outputs": [
    {
     "data": {
      "text/plain": [
       "array([[[0.16612536, 0.67279379, 0.12032965, 0.9673129 ],\n",
       "        [0.47731235, 0.47894706, 0.02754662, 0.29205408],\n",
       "        [0.48933884, 0.70649341, 0.42393911, 0.06853466],\n",
       "        [0.74246711, 0.837919  , 0.3634353 , 0.38271861]],\n",
       "\n",
       "       [[0.27747831, 0.97067616, 0.24628176, 0.34857673],\n",
       "        [0.54382269, 0.66135165, 0.18642259, 0.91590639],\n",
       "        [0.85177172, 0.91630959, 0.01062425, 0.2539736 ],\n",
       "        [0.1609564 , 0.3969779 , 0.54508949, 0.        ]],\n",
       "\n",
       "       [[0.59348014, 0.42348456, 0.87408868, 0.88633289],\n",
       "        [0.58025901, 0.3135523 , 0.86621007, 0.63505962],\n",
       "        [0.2063665 , 0.63963535, 0.64398722, 0.74882475],\n",
       "        [0.18069954, 0.82613296, 0.31135184, 0.3425124 ]],\n",
       "\n",
       "       [[0.40474673, 0.59652571, 0.28141542, 0.18356984],\n",
       "        [0.01821561, 0.62625321, 0.5061125 , 0.34136535],\n",
       "        [1.        , 0.0662941 , 0.97559606, 0.57724553],\n",
       "        [0.71878414, 0.71127456, 0.93210791, 0.92191354]]])"
      ]
     },
     "execution_count": 17,
     "metadata": {},
     "output_type": "execute_result"
    }
   ],
   "source": [
    "testvol / np.max(testvol)"
   ]
  },
  {
   "cell_type": "code",
   "execution_count": 10,
   "metadata": {},
   "outputs": [
    {
     "data": {
      "text/plain": [
       "'C:\\\\work\\\\diam\\\\b6\\\\SuRVoS2\\\\tmp\\\\testvol_4x4x4e.h5'"
      ]
     },
     "execution_count": 10,
     "metadata": {},
     "output_type": "execute_result"
    }
   ],
   "source": [
    "map_fullpath"
   ]
  },
  {
   "cell_type": "markdown",
   "metadata": {},
   "source": [
    "# Gaussian blur"
   ]
  },
  {
   "cell_type": "code",
   "execution_count": 11,
   "metadata": {},
   "outputs": [
    {
     "name": "stderr",
     "output_type": "stream",
     "text": [
      "2020-09-16 11:03:24.799 | DEBUG    | survos2.survos:run_command:101 - Using client <hug.use.Local object at 0x0000025892D614A8>\n",
      "2020-09-16 11:03:25.099 | DEBUG    | survos2.model.workspace:__init__:36 - INIT workspace at C:\\work\\diam\\data\\testing123e\n",
      "2020-09-16 11:03:25.100 | DEBUG    | survos2.model.workspace:available_sessions:118 - available sessions: no data\n",
      "2020-09-16 11:03:25.101 | INFO     | survos2.survos:run_command:105 - Local client gave response Response(data={'data': {'path': 'C:\\\\work\\\\diam\\\\data\\\\testing123e', 'data': {}}, 'error': False}, status_code=200, headers={'content-type': 'application/json'})\n",
      "2020-09-16 11:03:25.102 | DEBUG    | survos2.survos:run_command:101 - Using client <hug.use.Local object at 0x0000025892D614A8>\n",
      "2020-09-16 11:03:25.380 | DEBUG    | survos2.model.workspace:__init__:36 - INIT workspace at testing123e\n",
      "2020-09-16 11:03:25.381 | DEBUG    | survos2.model.workspace:__init__:36 - INIT workspace at testing123e\n",
      "2020-09-16 11:03:25.382 | INFO     | survos2.api.workspace:add_data:48 - Adding data to workspace <survos2.model.workspace.Workspace object at 0x0000025887ED6C88>\n",
      "2020-09-16 11:03:25.385 | DEBUG    | survos2.api.workspace:add_data:54 - Calculating optimal chunk size using chunk_size 16: (4, 4, 4)\n",
      "2020-09-16 11:03:25.392 | INFO     | survos2.model.dataset:create:239 - Creating dataset on C:\\work\\diam\\data\\testing123e\\__data__ None None dask.array<truediv, shape=(4, 4, 4), dtype=float64, chunksize=(4, 4, 4), chunktype=numpy.ndarray> 16\n",
      "2020-09-16 11:03:25.397 | INFO     | survos2.model.dataset:_load:113 - Loading dataset on C:\\work\\diam\\data\\testing123e\\__data__\n",
      "2020-09-16 11:03:25.400 | DEBUG    | survos2.model.dataset:load:421 - Loading dataset dask.array<truediv, shape=(4, 4, 4), dtype=float64, chunksize=(4, 4, 4), chunktype=numpy.ndarray>\n",
      "2020-09-16 11:03:25.423 | INFO     | survos2.model.dataset:_process_slices:460 - _process_slices (slice(0, 4, None), slice(0, 4, None), slice(0, 4, None))\n",
      "2020-09-16 11:03:25.426 | INFO     | survos2.model.dataset:create_chunk:321 - Creating chunk (0, 0, 0) None None\n",
      "2020-09-16 11:03:25.433 | INFO     | survos2.model.dataset:_load:113 - Loading dataset on C:\\work\\diam\\data\\testing123e\\__data__\n",
      "2020-09-16 11:03:25.436 | INFO     | survos2.model.dataset:_load:113 - Loading dataset on C:\\work\\diam\\data\\testing123e\\__data__\n",
      "2020-09-16 11:03:25.441 | INFO     | survos2.survos:run_command:105 - Local client gave response Response(data={'data': {'chunk_grid': [1, 1, 1], 'chunk_size': [4, 4, 4], 'dtype': 'float64', 'fillvalue': 0, 'shape': [4, 4, 4], 'id': '__data__', 'path': 'C:\\\\work\\\\diam\\\\data\\\\testing123e\\\\__data__', 'name': '__data__'}, 'error': False}, status_code=200, headers={'content-type': 'application/json'})\n",
      "2020-09-16 11:03:25.442 | DEBUG    | survos2.survos:run_command:101 - Using client <hug.use.Local object at 0x0000025892C82D68>\n",
      "2020-09-16 11:03:26.374 | INFO     | survos2.improc.utils:map_blocks:483 - Launching (gaussian_blur::float64)\n",
      "2020-09-16 11:03:26.376 | DEBUG    | survos2.improc.utils:map_blocks:484 - \n",
      "---\n",
      "blocks: {chunk: true, chunk_size: 16, pad: 4}\n",
      "misc: {timeit: false, uses_gpu: false}\n",
      "out: {dtype: float64, fill: 0}\n",
      "params: {sigma: 1}\n",
      "postprocess: {compute: true, relabel: false}\n",
      "preprocess: {scale: false, stretch: false}\n",
      "...\n",
      "2020-09-16 11:03:26.378 | INFO     | survos2.io:survos_from_uri:170 - running survos_from_uri on survos:// uri\n",
      "2020-09-16 11:03:26.380 | DEBUG    | survos2.io:survos_from_uri:181 - Calling Workspace() Init with workspace name: testing123e\n",
      "2020-09-16 11:03:26.381 | DEBUG    | survos2.model.workspace:__init__:36 - INIT workspace at testing123e\n",
      "2020-09-16 11:03:26.382 | INFO     | survos2.model.dataset:_load:113 - Loading dataset on C:\\work\\diam\\data\\testing123e\\__data__\n",
      "2020-09-16 11:03:26.385 | INFO     | survos2.model.dataset:_load:113 - Loading dataset on C:\\work\\diam\\data\\testing123e\\__data__\n",
      "2020-09-16 11:03:26.389 | INFO     | survos2.improc.utils:__init__:545 - DatasetManager setting out to survos://default@testing123e:features/001_gaussian_blur\n",
      "2020-09-16 11:03:26.390 | INFO     | survos2.io:survos_from_uri:170 - running survos_from_uri on survos:// uri\n",
      "2020-09-16 11:03:26.391 | DEBUG    | survos2.io:survos_from_uri:181 - Calling Workspace() Init with workspace name: testing123e\n",
      "2020-09-16 11:03:26.392 | DEBUG    | survos2.model.workspace:__init__:36 - INIT workspace at testing123e\n",
      "2020-09-16 11:03:26.394 | INFO     | survos2.model.dataset:_load:113 - Loading dataset on C:\\work\\diam\\data\\testing123e\\__data__\n",
      "2020-09-16 11:03:26.397 | INFO     | survos2.model.dataset:_load:113 - Loading dataset on C:\\work\\diam\\data\\testing123e\\__data__\n",
      "2020-09-16 11:03:26.403 | INFO     | survos2.model.dataset:_load:113 - Loading dataset on C:\\work\\diam\\data\\testing123e\\__data__\n",
      "2020-09-16 11:03:26.407 | INFO     | survos2.model.dataset:_load:113 - Loading dataset on C:\\work\\diam\\data\\testing123e\\__data__\n",
      "2020-09-16 11:03:26.411 | INFO     | survos2.model.dataset:create:239 - Creating dataset on C:\\work\\diam\\data\\testing123e\\default\\features\\001_gaussian_blur [4, 4, 4] float64 None [4, 4, 4]\n",
      "2020-09-16 11:03:26.416 | INFO     | survos2.model.dataset:_load:113 - Loading dataset on C:\\work\\diam\\data\\testing123e\\default\\features\\001_gaussian_blur\n",
      "2020-09-16 11:03:26.421 | INFO     | survos2.model.dataset:_process_slices:460 - _process_slices (slice(0, 0, None), slice(0, 0, None), slice(0, 0, None))\n",
      "2020-09-16 11:03:26.424 | INFO     | survos2.improc.utils:_apply:332 - Applying <function gaussian_blur at 0x0000025892E7A288> to datasets of shape [dask.array<array, shape=(4, 4, 4), dtype=float64, chunksize=(4, 4, 4), chunktype=numpy.ndarray>] with stack: False\n",
      "2020-09-16 11:03:26.425 | DEBUG    | survos2.improc.utils:_apply:337 - Chunking dataset[0]: (4, 4, 4)\n",
      "2020-09-16 11:03:26.436 | DEBUG    | survos2.server.filtering.blur:gaussian_blur:72 - Pytorch gblur returns torch.Size([1, 1, 0, 0, 0])\n",
      "2020-09-16 11:03:26.440 | DEBUG    | survos2.improc.utils:_apply:355 - Result of applying map blocks before trim (12, 12, 12)\n",
      "2020-09-16 11:03:26.441 | DEBUG    | survos2.improc.utils:_apply:356 - Trimming with trim {0: 4, 1: 4, 2: 4}\n",
      "2020-09-16 11:03:26.444 | DEBUG    | survos2.improc.utils:_apply:361 - Result of applying map blocks (4, 4, 4)\n",
      "2020-09-16 11:03:26.447 | DEBUG    | survos2.improc.utils:_apply:368 - Storing dask.array<truediv, shape=(4, 4, 4), dtype=float64, chunksize=(4, 4, 4), chunktype=numpy.ndarray> output in <survos2.model.dataset.Dataset object at 0x00000258951417C8>\n",
      "2020-09-16 11:03:26.453 | INFO     | survos2.model.dataset:_process_slices:460 - _process_slices (slice(0, 4, None), slice(0, 4, None), slice(0, 4, None))\n",
      "2020-09-16 11:03:26.469 | DEBUG    | survos2.server.filtering.blur:gaussian_blur:72 - Pytorch gblur returns torch.Size([1, 1, 12, 12, 12])\n",
      "2020-09-16 11:03:26.474 | DEBUG    | survos2.server.filtering.blur:gaussian_blur:78 - Pytorch gblur returns torch.Size([1, 1, 12, 12, 12])\n",
      "2020-09-16 11:03:26.476 | DEBUG    | survos2.improc.utils:_apply:372 - Computed result of (4, 4, 4)\n",
      "2020-09-16 11:03:26.477 | INFO     | survos2.model.dataset:_process_slices:460 - _process_slices Ellipsis\n",
      "2020-09-16 11:03:26.479 | INFO     | survos2.model.dataset:create_chunk:321 - Creating chunk (0, 0, 0) None None\n",
      "2020-09-16 11:03:26.486 | INFO     | survos2.improc.utils:__exit__:562 - Closed: <survos2.model.dataset.Dataset object at 0x00000258959B6C08>\n",
      "2020-09-16 11:03:26.488 | INFO     | survos2.improc.utils:__exit__:562 - Closed: <survos2.model.dataset.Dataset object at 0x00000258951417C8>\n",
      "2020-09-16 11:03:26.490 | INFO     | survos2.io:survos_from_uri:170 - running survos_from_uri on survos:// uri\n",
      "2020-09-16 11:03:26.491 | DEBUG    | survos2.io:survos_from_uri:181 - Calling Workspace() Init with workspace name: testing123e\n",
      "2020-09-16 11:03:26.492 | DEBUG    | survos2.model.workspace:__init__:36 - INIT workspace at testing123e\n",
      "2020-09-16 11:03:26.493 | INFO     | survos2.model.dataset:_load:113 - Loading dataset on C:\\work\\diam\\data\\testing123e\\__data__\n",
      "2020-09-16 11:03:26.497 | INFO     | survos2.model.dataset:_load:113 - Loading dataset on C:\\work\\diam\\data\\testing123e\\default\\features\\001_gaussian_blur\n",
      "2020-09-16 11:03:26.500 | INFO     | survos2.model.dataset:_load:113 - Loading dataset on C:\\work\\diam\\data\\testing123e\\__data__\n",
      "2020-09-16 11:03:26.505 | INFO     | survos2.model.dataset:_load:113 - Loading dataset on C:\\work\\diam\\data\\testing123e\\default\\features\\001_gaussian_blur\n",
      "2020-09-16 11:03:26.508 | INFO     | survos2.model.dataset:_load:113 - Loading dataset on C:\\work\\diam\\data\\testing123e\\default\\features\\001_gaussian_blur\n",
      "2020-09-16 11:03:26.511 | INFO     | survos2.model.dataset:_load:113 - Loading dataset on C:\\work\\diam\\data\\testing123e\\__data__\n",
      "2020-09-16 11:03:26.514 | INFO     | survos2.model.dataset:_load:113 - Loading dataset on C:\\work\\diam\\data\\testing123e\\__data__\n",
      "2020-09-16 11:03:26.524 | INFO     | survos2.io:survos_from_uri:170 - running survos_from_uri on survos:// uri\n",
      "2020-09-16 11:03:26.525 | DEBUG    | survos2.io:survos_from_uri:181 - Calling Workspace() Init with workspace name: testing123e\n",
      "2020-09-16 11:03:26.525 | DEBUG    | survos2.model.workspace:__init__:36 - INIT workspace at testing123e\n",
      "2020-09-16 11:03:26.527 | INFO     | survos2.model.dataset:_load:113 - Loading dataset on C:\\work\\diam\\data\\testing123e\\__data__\n",
      "2020-09-16 11:03:26.530 | INFO     | survos2.model.dataset:_load:113 - Loading dataset on C:\\work\\diam\\data\\testing123e\\__data__\n",
      "2020-09-16 11:03:26.535 | INFO     | survos2.survos:run_command:105 - Local client gave response Response(data={'data': {'kind': 'gaussian_blur', 'name': 'gaussian_blur', 'source': '__data__', 'id': '001_gaussian_blur'}, 'error': False}, status_code=200, headers={'content-type': 'application/json'})\n"
     ]
    },
    {
     "data": {
      "text/plain": [
       "({'kind': 'gaussian_blur',\n",
       "  'name': 'gaussian_blur',\n",
       "  'source': '__data__',\n",
       "  'id': '001_gaussian_blur'},\n",
       " False)"
      ]
     },
     "execution_count": 11,
     "metadata": {},
     "output_type": "execute_result"
    }
   ],
   "source": [
    "test_workspace_name = \"testing123e\"\n",
    "# create new workspace\n",
    "survos.run_command(\"workspace\", \"create\", uri=None, workspace=test_workspace_name)\n",
    "    \n",
    "# add data to workspace\n",
    "survos.run_command('workspace', 'add_data', uri=None, workspace=test_workspace_name,\n",
    "                 data_fname=map_fullpath,\n",
    "                  dtype='float32')\n",
    "\n",
    "# run gaussian_blur    \n",
    "DataModel.g.current_workspace = test_workspace_name\n",
    "\n",
    "src = DataModel.g.dataset_uri('__data__', None)\n",
    "dst = DataModel.g.dataset_uri('001_gaussian_blur', group='features')\n",
    "\n",
    "survos.run_command('features', 'gaussian_blur', uri=None, \n",
    "                  src=src,\n",
    "                  dst=dst)\n"
   ]
  },
  {
   "cell_type": "code",
   "execution_count": 12,
   "metadata": {},
   "outputs": [
    {
     "name": "stderr",
     "output_type": "stream",
     "text": [
      "2020-09-16 11:03:36.104 | INFO     | survos2.io:survos_from_uri:170 - running survos_from_uri on survos:// uri\n",
      "2020-09-16 11:03:36.105 | DEBUG    | survos2.io:survos_from_uri:181 - Calling Workspace() Init with workspace name: testing123e\n",
      "2020-09-16 11:03:36.106 | DEBUG    | survos2.model.workspace:__init__:36 - INIT workspace at testing123e\n",
      "2020-09-16 11:03:36.108 | INFO     | survos2.model.dataset:_load:113 - Loading dataset on C:\\work\\diam\\data\\testing123e\\__data__\n",
      "2020-09-16 11:03:36.111 | INFO     | survos2.model.dataset:_load:113 - Loading dataset on C:\\work\\diam\\data\\testing123e\\__data__\n",
      "2020-09-16 11:03:36.114 | INFO     | survos2.improc.utils:__init__:545 - DatasetManager setting out to survos://default@testing123e:features/001_gaussian_blur\n",
      "2020-09-16 11:03:36.115 | INFO     | survos2.io:survos_from_uri:170 - running survos_from_uri on survos:// uri\n",
      "2020-09-16 11:03:36.116 | DEBUG    | survos2.io:survos_from_uri:181 - Calling Workspace() Init with workspace name: testing123e\n",
      "2020-09-16 11:03:36.117 | DEBUG    | survos2.model.workspace:__init__:36 - INIT workspace at testing123e\n",
      "2020-09-16 11:03:36.119 | INFO     | survos2.model.dataset:_load:113 - Loading dataset on C:\\work\\diam\\data\\testing123e\\__data__\n",
      "2020-09-16 11:03:36.123 | INFO     | survos2.model.dataset:_load:113 - Loading dataset on C:\\work\\diam\\data\\testing123e\\default\\features\\001_gaussian_blur\n",
      "2020-09-16 11:03:36.127 | INFO     | survos2.model.dataset:_load:113 - Loading dataset on C:\\work\\diam\\data\\testing123e\\__data__\n",
      "2020-09-16 11:03:36.130 | INFO     | survos2.model.dataset:_load:113 - Loading dataset on C:\\work\\diam\\data\\testing123e\\default\\features\\001_gaussian_blur\n",
      "2020-09-16 11:03:36.134 | INFO     | survos2.model.dataset:_load:113 - Loading dataset on C:\\work\\diam\\data\\testing123e\\default\\features\\001_gaussian_blur\n",
      "2020-09-16 11:03:36.138 | INFO     | survos2.model.dataset:_load:113 - Loading dataset on C:\\work\\diam\\data\\testing123e\\__data__\n",
      "2020-09-16 11:03:36.141 | INFO     | survos2.model.dataset:_load:113 - Loading dataset on C:\\work\\diam\\data\\testing123e\\__data__\n",
      "2020-09-16 11:03:36.146 | INFO     | survos2.model.dataset:_process_slices:460 - _process_slices slice(None, None, None)\n",
      "2020-09-16 11:03:36.148 | INFO     | survos2.model.dataset:_process_slices:460 - _process_slices slice(None, None, None)\n",
      "2020-09-16 11:03:36.151 | INFO     | survos2.improc.utils:__exit__:562 - Closed: <survos2.model.dataset.Dataset object at 0x0000025896AA8EC8>\n",
      "2020-09-16 11:03:36.152 | INFO     | survos2.improc.utils:__exit__:562 - Closed: <survos2.model.dataset.Dataset object at 0x0000025896A8EF48>\n"
     ]
    },
    {
     "name": "stdout",
     "output_type": "stream",
     "text": [
      "(4, 4, 4)\n"
     ]
    }
   ],
   "source": [
    "with DatasetManager(src, out=dst, dtype='float32', fillvalue=0) as DM:\n",
    "    print(DM.sources[0].shape)\n",
    "    src_dataset = DM.sources[0]\n",
    "    dst_dataset = DM.out\n",
    "    src_arr = src_dataset[:]\n",
    "    dst_arr = dst_dataset[:]"
   ]
  },
  {
   "cell_type": "code",
   "execution_count": 13,
   "metadata": {},
   "outputs": [
    {
     "data": {
      "text/plain": [
       "array([[[0.16612536, 0.67279379, 0.12032965, 0.9673129 ],\n",
       "        [0.47731235, 0.47894706, 0.02754662, 0.29205408],\n",
       "        [0.48933884, 0.70649341, 0.42393911, 0.06853466],\n",
       "        [0.74246711, 0.837919  , 0.3634353 , 0.38271861]],\n",
       "\n",
       "       [[0.27747831, 0.97067616, 0.24628176, 0.34857673],\n",
       "        [0.54382269, 0.66135165, 0.18642259, 0.91590639],\n",
       "        [0.85177172, 0.91630959, 0.01062425, 0.2539736 ],\n",
       "        [0.1609564 , 0.3969779 , 0.54508949, 0.        ]],\n",
       "\n",
       "       [[0.59348014, 0.42348456, 0.87408868, 0.88633289],\n",
       "        [0.58025901, 0.3135523 , 0.86621007, 0.63505962],\n",
       "        [0.2063665 , 0.63963535, 0.64398722, 0.74882475],\n",
       "        [0.18069954, 0.82613296, 0.31135184, 0.3425124 ]],\n",
       "\n",
       "       [[0.40474673, 0.59652571, 0.28141542, 0.18356984],\n",
       "        [0.01821561, 0.62625321, 0.5061125 , 0.34136535],\n",
       "        [1.        , 0.0662941 , 0.97559606, 0.57724553],\n",
       "        [0.71878414, 0.71127456, 0.93210791, 0.92191354]]])"
      ]
     },
     "execution_count": 13,
     "metadata": {},
     "output_type": "execute_result"
    }
   ],
   "source": [
    "src_arr"
   ]
  },
  {
   "cell_type": "code",
   "execution_count": 14,
   "metadata": {},
   "outputs": [
    {
     "data": {
      "text/plain": [
       "array([[[0.74038231, 0.73159289, 0.77275133, 0.77576953],\n",
       "        [0.79589951, 0.75562441, 0.73596132, 0.69552565],\n",
       "        [0.85513246, 0.78190953, 0.69272739, 0.6023525 ],\n",
       "        [0.89412093, 0.80390519, 0.67238283, 0.54834819]],\n",
       "\n",
       "       [[0.76133442, 0.76884651, 0.81162232, 0.82221597],\n",
       "        [0.80070102, 0.78692716, 0.78844988, 0.76941949],\n",
       "        [0.83953571, 0.80411625, 0.75864875, 0.70402271],\n",
       "        [0.86765569, 0.8197667 , 0.74367511, 0.66316062]],\n",
       "\n",
       "       [[0.76932758, 0.78753561, 0.81773269, 0.82297021],\n",
       "        [0.80375987, 0.8157894 , 0.83207965, 0.83083189],\n",
       "        [0.8386035 , 0.84762281, 0.85133541, 0.84130776],\n",
       "        [0.87149698, 0.87588441, 0.8668381 , 0.84665996]],\n",
       "\n",
       "       [[0.75553131, 0.78530908, 0.81172532, 0.81834841],\n",
       "        [0.79445744, 0.82855892, 0.85924077, 0.8747862 ],\n",
       "        [0.84409612, 0.88603979, 0.92568022, 0.94928974],\n",
       "        [0.89486092, 0.93642706, 0.97544533, 1.        ]]])"
      ]
     },
     "execution_count": 14,
     "metadata": {},
     "output_type": "execute_result"
    }
   ],
   "source": [
    "dst_arr"
   ]
  },
  {
   "cell_type": "code",
   "execution_count": null,
   "metadata": {},
   "outputs": [],
   "source": []
  },
  {
   "cell_type": "code",
   "execution_count": null,
   "metadata": {},
   "outputs": [],
   "source": [
    "%%run_pytest[clean] -qq\n",
    "\n",
    "test_datadir = \"D:\\\\datasets\"\n",
    "test_workspace_name = \"testvol_24\"\n",
    "# make test vol\n",
    "map_fullpath = os.path.join(test_datadir,\"testvol_4x4x4b.h5\")\n",
    "#testvol = np.random.random((4,4,4))# astype(np.uint8)\n",
    "#with h5py.File(map_fullpath,  'w') as hf:\n",
    "#    hf.create_dataset(\"data\",  data=testvol)\n",
    "\n",
    "# create new workspace\n",
    "survos.run_command(\"workspace\", \"create\", uri=None, workspace=test_workspace_name)\n",
    "    \n",
    "# add data to workspace\n",
    "survos.run_command('workspace', 'add_data', uri=None, workspace=test_workspace_name,\n",
    "                 data_fname=map_fullpath,\n",
    "                  dtype='float32')\n",
    "\n",
    "## add dataset to workspace\n",
    "\n",
    "# run gaussian_blur    \n",
    "DataModel.g.current_workspace = test_workspace_name\n",
    "\n",
    "src = DataModel.g.dataset_uri('__data__', None)\n",
    "dst = DataModel.g.dataset_uri('001_gaussian_blur', group='features')\n",
    "\n",
    "survos.run_command('features', 'gaussian_blur', uri=None, \n",
    "                  src=src,\n",
    "                  dst=dst)\n",
    "\n",
    "with DatasetManager(src, out=dst, dtype='float32', fillvalue=0) as DM:\n",
    "    print(DM.sources[0].shape)\n",
    "    src_dataset = DM.sources[0]\n",
    "    dst_dataset = DM.out\n",
    "    src_arr = src_dataset[:]\n",
    "    dst_arr = dst_dataset[:]\n",
    "    \n",
    "def test_feature_shape():\n",
    "    assert dst_arr.shape == (4,4,4)\n",
    "    \n",
    "def test_feature_src():    \n",
    "    assert_allclose(src_arr, np.array([[[0.41955446, 0.65139688, 0.50626089, 0.47356243],\n",
    "                            [0.5397072 , 0.88715651, 0.57358875, 0.17841908],\n",
    "                            [0.84062367, 0.42927081, 1.        , 0.601415  ],\n",
    "                            [0.22624536, 0.61382118, 0.81198787, 0.45563817]],\n",
    "\n",
    "                           [[0.26604622, 0.98411002, 0.9910637 , 0.04614431],\n",
    "                            [0.91235452, 0.50873271, 0.9090851 , 0.55183262],\n",
    "                            [0.69766631, 0.34353716, 0.79863059, 0.81746442],\n",
    "                            [0.69540008, 0.25363482, 0.        , 0.98832664]],\n",
    "\n",
    "                           [[0.41824034, 0.2947538 , 0.823542  , 0.02814557],\n",
    "                            [0.22670235, 0.86729335, 0.28522538, 0.31510756],\n",
    "                            [0.25549214, 0.1451409 , 0.30383666, 0.74032794],\n",
    "                            [0.50077333, 0.51566668, 0.30102867, 0.72429019]],\n",
    "\n",
    "                           [[0.6533611 , 0.66302082, 0.55634748, 0.71185593],\n",
    "                            [0.94052145, 0.61666328, 0.9143069 , 0.12840489],\n",
    "                            [0.12144252, 0.84725333, 0.92758133, 0.49322578],\n",
    "                            [0.54037618, 0.051214  , 0.25104931, 0.87874488]]]))\n",
    "    \n",
    "def test_feature_dst():    \n",
    "    assert_allclose(dst_arr, np.array([[[0.1666268 , 0.2257143 , 0.21892974, 0.14923   ],\n",
    "                                        [0.22236633, 0.30317545, 0.29989442, 0.21237083],\n",
    "                                        [0.21442178, 0.29576921, 0.29921022, 0.22003345],\n",
    "                                        [0.14868982, 0.20833325, 0.21602006, 0.16522714]],\n",
    "\n",
    "                                       [[0.22320336, 0.30302912, 0.29496408, 0.20176643],\n",
    "                                        [0.29272896, 0.40102041, 0.39890146, 0.28483036],\n",
    "                                        [0.27765584, 0.38559583, 0.39318019, 0.2930665 ],\n",
    "                                        [0.18990593, 0.26771539, 0.2803525 , 0.21866953]],\n",
    "\n",
    "                                       [[0.21965253, 0.29812005, 0.29064476, 0.19943923],\n",
    "                                        [0.28396353, 0.39044347, 0.38968769, 0.27962744],\n",
    "                                        [0.26546711, 0.37147775, 0.38107473, 0.28643546],\n",
    "                                        [0.17921498, 0.25512561, 0.26955697, 0.21300924]],\n",
    "\n",
    "                                       [[0.16236468, 0.21962528, 0.21409421, 0.14734329],\n",
    "                                        [0.20654736, 0.28440154, 0.28422096, 0.20433155],\n",
    "                                        [0.18955445, 0.26714209, 0.27526605, 0.20778845],\n",
    "                                        [0.12524115, 0.18044972, 0.19238257, 0.15347627]]]))\n"
   ]
  },
  {
   "cell_type": "code",
   "execution_count": null,
   "metadata": {},
   "outputs": [],
   "source": []
  },
  {
   "cell_type": "code",
   "execution_count": null,
   "metadata": {},
   "outputs": [],
   "source": []
  },
  {
   "cell_type": "code",
   "execution_count": 8,
   "metadata": {},
   "outputs": [
    {
     "data": {
      "text/plain": [
       "array([[[4.89214115e-01, 4.88751237e-02, 3.94843333e-01, 6.14048171e-01],\n",
       "        [3.92100031e-01, 6.81171935e-01, 1.81597195e-01, 8.00303290e-01],\n",
       "        [5.01298600e-01, 5.71608870e-01, 1.22835539e-01, 5.01740551e-01],\n",
       "        [1.12990600e-01, 7.46636931e-01, 5.20574562e-01, 8.55714714e-01]],\n",
       "\n",
       "       [[8.12483800e-03, 3.01362385e-03, 4.38506096e-01, 1.93867574e-02],\n",
       "        [2.56053374e-01, 7.88485971e-01, 3.96912904e-01, 4.79070101e-01],\n",
       "        [7.29253366e-01, 9.78596473e-01, 4.51489531e-01, 6.20425318e-01],\n",
       "        [8.67330197e-01, 1.24240882e-01, 7.99268773e-01, 2.08207312e-01]],\n",
       "\n",
       "       [[9.74542099e-01, 2.74473133e-01, 4.25815244e-01, 1.49041921e-01],\n",
       "        [1.83750375e-01, 8.15605562e-01, 9.85184681e-01, 2.51071510e-01],\n",
       "        [8.75301005e-02, 5.27213367e-01, 2.21638196e-01, 6.06119378e-01],\n",
       "        [5.02913560e-01, 9.94965983e-01, 1.46799760e-01, 3.69431563e-01]],\n",
       "\n",
       "       [[3.38063000e-01, 2.36308478e-01, 7.47581840e-01, 3.89268267e-02],\n",
       "        [6.61555719e-01, 9.67296259e-02, 6.77034416e-01, 3.64751986e-04],\n",
       "        [3.86287172e-01, 2.79072286e-01, 1.10532005e-03, 2.92933098e-01],\n",
       "        [8.73301029e-01, 6.67028273e-01, 7.72942551e-01, 1.89942629e-01]]])"
      ]
     },
     "execution_count": 8,
     "metadata": {},
     "output_type": "execute_result"
    }
   ],
   "source": [
    "import h5py\n",
    "#from survos2.improc.utils import DatasetManager\n",
    "from torch.testing import assert_allclose\n",
    "import numpy as np\n",
    "testvol = np.random.random((4,4,4))# astype(np.uint8)\n",
    "testvol"
   ]
  },
  {
   "cell_type": "code",
   "execution_count": null,
   "metadata": {},
   "outputs": [],
   "source": []
  },
  {
   "cell_type": "markdown",
   "metadata": {},
   "source": [
    "# Test brain"
   ]
  },
  {
   "cell_type": "code",
   "execution_count": null,
   "metadata": {},
   "outputs": [],
   "source": [
    "#brain\n",
    "tmpvol_fullpath = \"/dls/science/users/xsy37748/data/data.h5\"\n",
    "import h5py\n",
    "original_data = h5py.File(tmpvol_fullpath, 'r')\n",
    "    "
   ]
  },
  {
   "cell_type": "code",
   "execution_count": 12,
   "metadata": {},
   "outputs": [
    {
     "name": "stdout",
     "output_type": "stream",
     "text": [
      "/dls/science/groups/das/SuRVoS/s2/\n",
      "/dls/science/groups/das/SuRVoS/s2/\n"
     ]
    },
    {
     "data": {
      "text/plain": [
       "({'path': '/dls/science/groups/das/SuRVoS/s2/test_s1', 'data': {}}, False)"
      ]
     },
     "execution_count": 12,
     "metadata": {},
     "output_type": "execute_result"
    }
   ],
   "source": [
    "survos.run_command(\"workspace\", \"create\", uri=None, workspace='test_s1')"
   ]
  },
  {
   "cell_type": "code",
   "execution_count": 14,
   "metadata": {},
   "outputs": [
    {
     "name": "stdout",
     "output_type": "stream",
     "text": [
      "/dls/science/groups/das/SuRVoS/s2/\n",
      "/dls/science/groups/das/SuRVoS/s2/\n"
     ]
    },
    {
     "data": {
      "text/plain": [
       "({'chunk_grid': [1, 1, 1],\n",
       "  'chunk_size': [99, 256, 256],\n",
       "  'dtype': 'float32',\n",
       "  'fillvalue': 0,\n",
       "  'shape': [99, 256, 256],\n",
       "  'id': '__data__',\n",
       "  'path': '/dls/science/groups/das/SuRVoS/s2/test_s1/__data__',\n",
       "  'name': '__data__'},\n",
       " False)"
      ]
     },
     "execution_count": 14,
     "metadata": {},
     "output_type": "execute_result"
    }
   ],
   "source": [
    "survos.run_command('workspace', 'add_data', uri=None, workspace='test_s1',\n",
    "                 data_fname=tmpvol_fullpath, dtype='float32')"
   ]
  },
  {
   "cell_type": "code",
   "execution_count": null,
   "metadata": {},
   "outputs": [],
   "source": []
  },
  {
   "cell_type": "code",
   "execution_count": null,
   "metadata": {},
   "outputs": [],
   "source": []
  },
  {
   "cell_type": "code",
   "execution_count": null,
   "metadata": {},
   "outputs": [],
   "source": []
  },
  {
   "cell_type": "code",
   "execution_count": 15,
   "metadata": {},
   "outputs": [],
   "source": [
    "import yaml"
   ]
  },
  {
   "cell_type": "code",
   "execution_count": 16,
   "metadata": {},
   "outputs": [],
   "source": [
    "pfile=\"tests/workflows/test.yaml\"\n",
    "if not os.path.isabs(pfile):\n",
    "    fworkflows = os.path.join(os.getcwd(), pfile)\n",
    "else:\n",
    "    fworkflows = pfile\n"
   ]
  },
  {
   "cell_type": "code",
   "execution_count": 17,
   "metadata": {},
   "outputs": [
    {
     "data": {
      "text/plain": [
       "'C:\\\\work\\\\diam\\\\b5\\\\SuRVoS2\\\\tests/workflows/test.yaml'"
      ]
     },
     "execution_count": 17,
     "metadata": {},
     "output_type": "execute_result"
    }
   ],
   "source": [
    "fworkflows"
   ]
  },
  {
   "cell_type": "code",
   "execution_count": null,
   "metadata": {},
   "outputs": [],
   "source": []
  },
  {
   "cell_type": "code",
   "execution_count": 19,
   "metadata": {},
   "outputs": [
    {
     "name": "stdout",
     "output_type": "stream",
     "text": [
      "Running features, gaussian on 001_level\n",
      " {'sigma': 1, 'lamda': 2}\n",
      "\n",
      "Running features, gaussian on 001_gblur\n",
      " {'sigma': 1, 'lamda': 2}\n",
      "\n",
      "Running regions, supervoxels on 001_gblur\n",
      " {'slic_feat_idx': -1, 'compactness': 20, 'postprocess': False, 'sp_shape': [18, 18, 18]}\n",
      "\n",
      "Running pipeline, superregion_segment on {'features': ['001_gblur', '002_gblur'], 'region': '001_regions', 'annotation': '001_level'}\n",
      " {'clf': 'ensemble', 'type': 'rf', 'n_estimators': 10, 'proj': False, 'max_depth': 20, 'n_jobs': 1}\n",
      "\n"
     ]
    }
   ],
   "source": [
    "with open(fworkflows) as f:\n",
    "    workflows = yaml.safe_load(f.read())\n",
    "\n",
    "for k in workflows.keys():\n",
    "    workflow = workflows[k]\n",
    "    command = workflow.pop(\"action\")\n",
    "    plugin, command = command.split(\".\")\n",
    "    params = workflow.pop(\"params\")\n",
    "    src = workflow.pop(\"src\")\n",
    "    print(f\"Running {plugin}, {command} on {src}\\n {params}\\n\")\n",
    "    #run_command(plugin, command, workflow)"
   ]
  },
  {
   "cell_type": "code",
   "execution_count": 14,
   "metadata": {},
   "outputs": [
    {
     "ename": "AttributeError",
     "evalue": "'str' object has no attribute 'pop'",
     "output_type": "error",
     "traceback": [
      "\u001b[1;31m---------------------------------------------------------------------------\u001b[0m",
      "\u001b[1;31mAttributeError\u001b[0m                            Traceback (most recent call last)",
      "\u001b[1;32m<ipython-input-14-cb5f4656cc7f>\u001b[0m in \u001b[0;36m<module>\u001b[1;34m\u001b[0m\n\u001b[0;32m      1\u001b[0m \u001b[1;32mfor\u001b[0m \u001b[0mworkflow\u001b[0m \u001b[1;32min\u001b[0m \u001b[0mworkflows\u001b[0m\u001b[1;33m:\u001b[0m\u001b[1;33m\u001b[0m\u001b[1;33m\u001b[0m\u001b[0m\n\u001b[1;32m----> 2\u001b[1;33m     \u001b[0mname\u001b[0m \u001b[1;33m=\u001b[0m \u001b[0mworkflow\u001b[0m\u001b[1;33m.\u001b[0m\u001b[0mpop\u001b[0m\u001b[1;33m(\u001b[0m\u001b[1;34m\"name\"\u001b[0m\u001b[1;33m,\u001b[0m \u001b[1;34m\"Workflow\"\u001b[0m\u001b[1;33m)\u001b[0m\u001b[1;33m\u001b[0m\u001b[1;33m\u001b[0m\u001b[0m\n\u001b[0m\u001b[0;32m      3\u001b[0m     \u001b[0mplugin\u001b[0m \u001b[1;33m=\u001b[0m \u001b[0mworkflow\u001b[0m\u001b[1;33m.\u001b[0m\u001b[0mpop\u001b[0m\u001b[1;33m(\u001b[0m\u001b[1;34m\"plugin\"\u001b[0m\u001b[1;33m)\u001b[0m\u001b[1;33m\u001b[0m\u001b[1;33m\u001b[0m\u001b[0m\n\u001b[0;32m      4\u001b[0m     \u001b[0mcommand\u001b[0m \u001b[1;33m=\u001b[0m \u001b[0mworkflow\u001b[0m\u001b[1;33m.\u001b[0m\u001b[0mpop\u001b[0m\u001b[1;33m(\u001b[0m\u001b[1;34m\"command\"\u001b[0m\u001b[1;33m)\u001b[0m\u001b[1;33m\u001b[0m\u001b[1;33m\u001b[0m\u001b[0m\n\u001b[0;32m      5\u001b[0m     \u001b[0mprint\u001b[0m\u001b[1;33m(\u001b[0m\u001b[1;34m\"Running workflow:\"\u001b[0m\u001b[1;33m,\u001b[0m \u001b[0mname\u001b[0m\u001b[1;33m)\u001b[0m\u001b[1;33m\u001b[0m\u001b[1;33m\u001b[0m\u001b[0m\n",
      "\u001b[1;31mAttributeError\u001b[0m: 'str' object has no attribute 'pop'"
     ]
    }
   ],
   "source": [
    "for workflow in workflows:\n",
    "    name = workflow.pop(\"name\", \"Workflow\")\n",
    "    plugin = workflow.pop(\"plugin\")\n",
    "    command = workflow.pop(\"command\")\n",
    "    print(\"Running workflow:\", name)\n",
    "\n",
    "    run_command(plugin, command, workflow, remote=args.remote)"
   ]
  },
  {
   "cell_type": "code",
   "execution_count": null,
   "metadata": {},
   "outputs": [],
   "source": []
  }
 ],
 "metadata": {
  "kernelspec": {
   "display_name": "Python 3",
   "language": "python",
   "name": "python3"
  },
  "language_info": {
   "codemirror_mode": {
    "name": "ipython",
    "version": 3
   },
   "file_extension": ".py",
   "mimetype": "text/x-python",
   "name": "python",
   "nbconvert_exporter": "python",
   "pygments_lexer": "ipython3",
   "version": "3.7.6"
  }
 },
 "nbformat": 4,
 "nbformat_minor": 4
}
